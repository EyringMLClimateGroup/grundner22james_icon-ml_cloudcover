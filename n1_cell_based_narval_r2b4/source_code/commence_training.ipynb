{
 "cells": [
  {
   "cell_type": "markdown",
   "metadata": {},
   "source": [
    "## Commence training"
   ]
  },
  {
   "cell_type": "code",
   "execution_count": null,
   "metadata": {},
   "outputs": [],
   "source": [
    "import sys\n",
    "import time\n",
    "import pandas as pd\n",
    "import numpy as np\n",
    "import tensorflow as tf\n",
    "import matplotlib.pyplot as plt\n",
    "# import importlib\n",
    "import os\n",
    "from tensorflow.keras.models import load_model\n",
    "from tensorflow.keras.optimizers import Nadam\n",
    "from tensorflow.keras.models import Sequential\n",
    "from tensorflow.keras.layers import Dense\n",
    "\n",
    "# Reloading custom file to incorporate changes dynamically\n",
    "# importlib.reload(my_classes)\n",
    "\n",
    "t0 = time.time()\n",
    "path = '/pf/b/b309170'\n",
    "path_data = path + '/my_work/icon-ml_data/cloud_cover_parameterization/grid_cell_based_v3/based_on_var_interpolated_data'\n",
    "path_model = path + '/workspace_icon-ml/cloud_cover_parameterization/grid_cell_based_v3/saved_models'\n",
    "# Add path with my_classes to sys.path\n",
    "sys.path.insert(0, path + '/workspace_icon-ml/cloud_cover_parameterization/')\n",
    "\n",
    "from my_classes import TimeOut\n",
    "\n",
    "NUM = 1 \n",
    "timeout = 2120 #Stop after how many minutes\n",
    "filename = \"model_grid_cell_based_v3_final_%d\"%NUM\n",
    "\n",
    "tf.random.set_seed(NUM)\n",
    "gpus = tf.config.experimental.list_physical_devices('GPU')\n",
    "# tf.config.experimental.set_visible_devices(gpus[3], 'GPU')\n",
    "gpus"
   ]
  },
  {
   "cell_type": "code",
   "execution_count": null,
   "metadata": {},
   "outputs": [],
   "source": [
    "input_train = np.load(path_data + '/cloud_cover_all_days_input_train_%d.npy'%NUM, mmap_mode='r')\n",
    "input_valid = np.load(path_data + '/cloud_cover_all_days_input_valid_%d.npy'%NUM)\n",
    "input_test = np.load(path_data + '/cloud_cover_all_days_input_test_%d.npy'%NUM)\n",
    "output_train = np.load(path_data + '/cloud_cover_all_days_output_train_%d.npy'%NUM)\n",
    "output_valid = np.load(path_data + '/cloud_cover_all_days_output_valid_%d.npy'%NUM)\n",
    "output_test = np.load(path_data + '/cloud_cover_all_days_output_test_%d.npy'%NUM)"
   ]
  },
  {
   "cell_type": "code",
   "execution_count": null,
   "metadata": {},
   "outputs": [],
   "source": [
    "model = Sequential()\n",
    "model.add(Dense(256, activation='relu', input_dim = 6))\n",
    "model.add(Dense(256, activation='relu'))\n",
    "model.add(Dense(1, activation='linear'))"
   ]
  },
  {
   "cell_type": "code",
   "execution_count": null,
   "metadata": {},
   "outputs": [],
   "source": [
    "model.compile(loss='mse', optimizer=Nadam())\n",
    "time_callback = TimeOut(t0, timeout)\n",
    "history = model.fit(input_train, output_train, batch_size=32, epochs=70, verbose=2,\n",
    "                    validation_data=(input_valid, output_valid), callbacks=[time_callback])"
   ]
  },
  {
   "cell_type": "code",
   "execution_count": null,
   "metadata": {},
   "outputs": [],
   "source": [
    "#Serialize model to YAML\n",
    "model_yaml = model.to_yaml()\n",
    "with open(filename+\".yaml\", \"w\") as yaml_file:\n",
    "    yaml_file.write(model_yaml)\n",
    "\n",
    "#Serialize model and weights to a single HDF5-file\n",
    "model.save(filename+'.h5')\n",
    "print('Saved model to disk')"
   ]
  },
  {
   "cell_type": "code",
   "execution_count": null,
   "metadata": {},
   "outputs": [],
   "source": [
    "#Plotting the training progress\n",
    "if len(history.history['loss']) > len(history.history['val_loss']):\n",
    "    del history.history['loss'][-1]\n",
    "pd.DataFrame(history.history).plot(figsize=(8,5))\n",
    "plt.grid(True)\n",
    "plt.ylabel('Mean Squared Error')\n",
    "plt.xlabel('Number of epochs')\n",
    "plt.savefig(filename+'.pdf')\n",
    "plt.show()"
   ]
  },
  {
   "cell_type": "code",
   "execution_count": null,
   "metadata": {},
   "outputs": [],
   "source": [
    "train_loss = model.evaluate(input_train, output_train, verbose=2, batch_size=2000)\n",
    "valid_loss = model.evaluate(input_valid, output_valid, verbose=2, batch_size=1000)\n",
    "test_loss = model.evaluate(input_test, output_test, verbose=2, batch_size=1000)\n",
    "with open(os.path.join(path_model, filename), 'a') as file:\n",
    "        file.write('\\nTraining loss: %.4f\\n'%(train_loss))\n",
    "        file.write('Validation loss: %.4f\\n'%(valid_loss))\n",
    "        file.write('Test loss: %.4f\\n'%(test_loss))\n",
    "        file.write('Training epochs: %d'%(len(history.history['val_loss'])))"
   ]
  }
 ],
 "metadata": {
  "kernelspec": {
   "display_name": "clouds113_kernel",
   "language": "python",
   "name": "clouds113_kernel"
  },
  "language_info": {
   "codemirror_mode": {
    "name": "ipython",
    "version": 3
   },
   "file_extension": ".py",
   "mimetype": "text/x-python",
   "name": "python",
   "nbconvert_exporter": "python",
   "pygments_lexer": "ipython3",
   "version": "3.7.10"
  }
 },
 "nbformat": 4,
 "nbformat_minor": 4
}
