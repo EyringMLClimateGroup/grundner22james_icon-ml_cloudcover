{
 "cells": [
  {
   "cell_type": "markdown",
   "metadata": {},
   "source": [
    "### Testing the cell-based model on QUBICC data\n",
    "\n",
    "**The figures for the paper were created in /additional_content/plots_offline_paper**"
   ]
  },
  {
   "cell_type": "markdown",
   "metadata": {},
   "source": [
    "<a id='import_cell_1'></a>"
   ]
  },
  {
   "cell_type": "code",
   "execution_count": 1,
   "metadata": {},
   "outputs": [],
   "source": [
    "import os\n",
    "import sys\n",
    "import numpy as np\n",
    "import pandas as pd\n",
    "import xarray as xr\n",
    "import matplotlib.pyplot as plt\n",
    "import importlib\n",
    "\n",
    "import tensorflow as tf\n",
    "from tensorflow.keras.models import load_model\n",
    "# Add path with my_classes to sys.path\n",
    "sys.path.insert(0, '/home/b/b309170/workspace_icon-ml/iconml_clc/')\n",
    "\n",
    "from my_classes import load_data"
   ]
  },
  {
   "cell_type": "code",
   "execution_count": 2,
   "metadata": {},
   "outputs": [],
   "source": [
    "root_path = '/home/b/b309170'\n",
    "model_path = os.path.join(root_path,\n",
    "                          'workspace_icon-ml/cloud_cover_parameterization/grid_cell_based_v3/saved_models')"
   ]
  },
  {
   "cell_type": "markdown",
   "metadata": {},
   "source": [
    "*Load models*"
   ]
  },
  {
   "cell_type": "code",
   "execution_count": 3,
   "metadata": {},
   "outputs": [],
   "source": [
    "model = load_model(os.path.join(model_path, 'model_grid_cell_based_v3_final_1.h5'))\n",
    "model_2 = load_model(os.path.join(model_path, 'model_grid_cell_based_v3_final_2.h5'))\n",
    "model_3 = load_model(os.path.join(model_path, 'model_grid_cell_based_v3_final_3.h5'))\n",
    "model_4 = load_model(os.path.join(model_path, 'model_grid_cell_based_v3_final_4.h5'))"
   ]
  },
  {
   "cell_type": "markdown",
   "metadata": {},
   "source": [
    "*Load data*"
   ]
  },
  {
   "cell_type": "code",
   "execution_count": 4,
   "metadata": {},
   "outputs": [
    {
     "name": "stdout",
     "output_type": "stream",
     "text": [
      "hus\n",
      "cli\n",
      "ta\n",
      "pfull\n",
      "cl\n"
     ]
    }
   ],
   "source": [
    "order_of_vars = ['hus', 'cli', 'ta', 'pfull', 'zg', 'fr_land', 'cl']\n",
    "\n",
    "# Loads the NARVAL data into the data_dict dictionary (only November 20-29)\n",
    "# data_dict = load_data(source='qubicc', days='nov_2nd', order_of_vars=order_of_vars)\n",
    "data_dict = load_data(source='qubicc', days='nov_20s', order_of_vars=order_of_vars)"
   ]
  },
  {
   "cell_type": "code",
   "execution_count": 5,
   "metadata": {},
   "outputs": [],
   "source": [
    "(TIME_STEPS, VERT_LAYERS, HORIZ_FIELDS) = data_dict['cl'].shape\n",
    "\n",
    "#Reshaping into nd-arrays of equaling shapes (have timesteps x vert x hor)\n",
    "data_dict['zg'] = np.repeat(np.expand_dims(data_dict['zg'], 0), data_dict['hus'].shape[0], axis=0)\n",
    "data_dict['fr_land'] = np.repeat(np.expand_dims(data_dict['fr_land'], 0), data_dict['hus'].shape[0], axis=0)\n",
    "data_dict['fr_land'] = np.repeat(np.expand_dims(data_dict['fr_land'], 1), data_dict['hus'].shape[1], axis=1)\n",
    "\n",
    "assert data_dict['fr_land'].shape == data_dict['hus'].shape == data_dict['zg'].shape"
   ]
  },
  {
   "cell_type": "code",
   "execution_count": 6,
   "metadata": {},
   "outputs": [],
   "source": [
    "#Convert cl-information from [0, 1] to [0, 100]\n",
    "data_dict['cl'] = data_dict['cl']*100"
   ]
  },
  {
   "cell_type": "code",
   "execution_count": 7,
   "metadata": {},
   "outputs": [
    {
     "data": {
      "text/html": [
       "<div>\n",
       "<style scoped>\n",
       "    .dataframe tbody tr th:only-of-type {\n",
       "        vertical-align: middle;\n",
       "    }\n",
       "\n",
       "    .dataframe tbody tr th {\n",
       "        vertical-align: top;\n",
       "    }\n",
       "\n",
       "    .dataframe thead th {\n",
       "        text-align: right;\n",
       "    }\n",
       "</style>\n",
       "<table border=\"1\" class=\"dataframe\">\n",
       "  <thead>\n",
       "    <tr style=\"text-align: right;\">\n",
       "      <th></th>\n",
       "      <th>hus</th>\n",
       "      <th>cli</th>\n",
       "      <th>ta</th>\n",
       "      <th>pfull</th>\n",
       "      <th>zg</th>\n",
       "      <th>fr_land</th>\n",
       "      <th>cl</th>\n",
       "    </tr>\n",
       "  </thead>\n",
       "  <tbody>\n",
       "    <tr>\n",
       "      <th>0</th>\n",
       "      <td>0.000003</td>\n",
       "      <td>NaN</td>\n",
       "      <td>212.353090</td>\n",
       "      <td>1317.135167</td>\n",
       "      <td>28193.783559</td>\n",
       "      <td>0.962171</td>\n",
       "      <td>NaN</td>\n",
       "    </tr>\n",
       "    <tr>\n",
       "      <th>1</th>\n",
       "      <td>0.000003</td>\n",
       "      <td>NaN</td>\n",
       "      <td>210.387287</td>\n",
       "      <td>1297.793932</td>\n",
       "      <td>28193.783559</td>\n",
       "      <td>0.951717</td>\n",
       "      <td>NaN</td>\n",
       "    </tr>\n",
       "    <tr>\n",
       "      <th>2</th>\n",
       "      <td>0.000003</td>\n",
       "      <td>NaN</td>\n",
       "      <td>211.042658</td>\n",
       "      <td>1300.559399</td>\n",
       "      <td>28193.783559</td>\n",
       "      <td>0.935673</td>\n",
       "      <td>NaN</td>\n",
       "    </tr>\n",
       "    <tr>\n",
       "      <th>3</th>\n",
       "      <td>0.000003</td>\n",
       "      <td>NaN</td>\n",
       "      <td>212.524111</td>\n",
       "      <td>1319.868143</td>\n",
       "      <td>28193.783559</td>\n",
       "      <td>0.978353</td>\n",
       "      <td>NaN</td>\n",
       "    </tr>\n",
       "    <tr>\n",
       "      <th>4</th>\n",
       "      <td>0.000003</td>\n",
       "      <td>NaN</td>\n",
       "      <td>210.386940</td>\n",
       "      <td>1293.293409</td>\n",
       "      <td>28193.783559</td>\n",
       "      <td>0.873864</td>\n",
       "      <td>NaN</td>\n",
       "    </tr>\n",
       "  </tbody>\n",
       "</table>\n",
       "</div>"
      ],
      "text/plain": [
       "        hus  cli          ta        pfull            zg   fr_land  cl\n",
       "0  0.000003  NaN  212.353090  1317.135167  28193.783559  0.962171 NaN\n",
       "1  0.000003  NaN  210.387287  1297.793932  28193.783559  0.951717 NaN\n",
       "2  0.000003  NaN  211.042658  1300.559399  28193.783559  0.935673 NaN\n",
       "3  0.000003  NaN  212.524111  1319.868143  28193.783559  0.978353 NaN\n",
       "4  0.000003  NaN  210.386940  1293.293409  28193.783559  0.873864 NaN"
      ]
     },
     "execution_count": 7,
     "metadata": {},
     "output_type": "execute_result"
    }
   ],
   "source": [
    "# Reshaping into 1D-arrays and converting dict into a DataFrame-object (the following is based on Aurelien Geron)\n",
    "for key in order_of_vars:\n",
    "    data_dict[key] = np.reshape(data_dict[key], -1)\n",
    "\n",
    "df = pd.DataFrame.from_dict(data_dict)\n",
    "df.head()"
   ]
  },
  {
   "cell_type": "markdown",
   "metadata": {},
   "source": [
    "<a id='df'></a>"
   ]
  },
  {
   "cell_type": "markdown",
   "metadata": {},
   "source": [
    "Scaling the input (as Dataframes)"
   ]
  },
  {
   "cell_type": "code",
   "execution_count": 30,
   "metadata": {},
   "outputs": [],
   "source": [
    "mean_1 = np.array([5.37518440e-03, 4.65389731e-07, 2.59635412e+02, 5.52329389e+04,\n",
    " 6.79260772e+03, 2.58097095e-01])\n",
    "std_1 = np.array([6.01943993e-03, 3.95009930e-06, 3.55940285e+01, 3.26642242e+04,\n",
    " 6.20726361e+03, 4.28313535e-01])\n",
    "mean_2 = np.array([5.37610303e-03, 4.66308203e-07, 2.59638223e+02, 5.52356240e+04,\n",
    " 6.79210873e+03, 2.58209529e-01])\n",
    "std_2 = np.array([6.01992404e-03, 3.97009561e-06, 3.55942162e+01, 3.26643948e+04,\n",
    " 6.20707739e+03, 4.28369264e-01])\n",
    "mean_3 = np.array([5.37583902e-03, 4.66074476e-07, 2.59638431e+02, 5.52355186e+04,\n",
    " 6.79205353e+03, 2.58202179e-01])\n",
    "std_3 = np.array([6.01948591e-03, 3.95929476e-06, 3.55926320e+01, 3.26636321e+04,\n",
    " 6.20697197e+03, 4.28360743e-01])\n",
    "mean_4 = np.array([5.37588425e-03, 4.64950307e-07, 2.59637648e+02, 5.52343099e+04,\n",
    " 6.79192465e+03, 2.58183961e-01])\n",
    "std_4 = np.array([6.01996561e-03, 3.95040241e-06, 3.55910392e+01, 3.26622989e+04,\n",
    " 6.20628503e+03, 4.28359352e-01])"
   ]
  },
  {
   "cell_type": "code",
   "execution_count": 31,
   "metadata": {},
   "outputs": [],
   "source": [
    "# We add a clc entry in the means and stds\n",
    "ind_clc = np.where(df.columns=='cl')[0][0]\n",
    "mean_1 = np.insert(mean_1, ind_clc, values=0)\n",
    "mean_2 = np.insert(mean_2, ind_clc, values=0)\n",
    "mean_3 = np.insert(mean_3, ind_clc, values=0)\n",
    "mean_4 = np.insert(mean_4, ind_clc, values=0)\n",
    "std_1 = np.insert(std_1, ind_clc, values=1)\n",
    "std_2 = np.insert(std_2, ind_clc, values=1)\n",
    "std_3 = np.insert(std_3, ind_clc, values=1)\n",
    "std_4 = np.insert(std_4, ind_clc, values=1)"
   ]
  },
  {
   "cell_type": "code",
   "execution_count": 32,
   "metadata": {},
   "outputs": [],
   "source": [
    "# Note that after standardization the mean and variance are not 0 and 1 respectively \n",
    "# as the data values above 21km are still in the data\n",
    "df_1 = ((df - mean_1)/std_1).to_numpy()\n",
    "df_2 = ((df - mean_2)/std_2).to_numpy()\n",
    "df_3 = ((df - mean_3)/std_3).to_numpy()\n",
    "df_4 = ((df - mean_4)/std_4).to_numpy()"
   ]
  },
  {
   "cell_type": "markdown",
   "metadata": {},
   "source": [
    "<a id='df_1234'></a>"
   ]
  },
  {
   "cell_type": "code",
   "execution_count": null,
   "metadata": {},
   "outputs": [],
   "source": [
    "# Note that there are still nans in the dataset as I have not removed data above 21km yet!\n",
    "np.std(df_1, axis=0) #Note that deviations from 1 are most likely due to the data above 21km still being in the dataset!"
   ]
  },
  {
   "cell_type": "markdown",
   "metadata": {},
   "source": [
    "### Mean Cloud Cover per vertical layer\n",
    "Mean profile of Cloud Cover on x-axis with Vertical Layer on y-axis <br>"
   ]
  },
  {
   "cell_type": "markdown",
   "metadata": {},
   "source": [
    "Define the indices of the j-th vertical layer"
   ]
  },
  {
   "cell_type": "markdown",
   "metadata": {},
   "source": [
    "<a id='preparing_to_plot'></a>"
   ]
  },
  {
   "cell_type": "code",
   "execution_count": 33,
   "metadata": {},
   "outputs": [],
   "source": [
    "# --- The number of horizontal fields is different\n",
    "# (1635, 31, 1024) was the original shape of the data (= timesteps x vertical x horizontal)\n",
    "def add_two_arrays(a, b):\n",
    "    '''\n",
    "    Adding all elements of two arrays with each other, creating a new array.\n",
    "    Thus: len(add_two_arrays(a,b)) = len(a)*len(b)\n",
    "    '''\n",
    "    c = []\n",
    "    for i in range(len(a)):\n",
    "        for j in range(len(b)):\n",
    "            c.append(a[i]+b[j])\n",
    "    return np.array(c)"
   ]
  },
  {
   "cell_type": "markdown",
   "metadata": {},
   "source": [
    "Computing the vertical-layer mean of the predictions for cloud cover"
   ]
  },
  {
   "cell_type": "code",
   "execution_count": 26,
   "metadata": {},
   "outputs": [],
   "source": [
    "# We are not interested in the output of layers above 21km (therefore the range starts at 4)\n",
    "clc_mean = []\n",
    "r2_values = []\n",
    "n_features = df_1.shape[1]-1\n",
    "ind_features = np.delete(np.arange(n_features+1), ind_clc) #We remove the output-class from the feature-indices\n",
    "df_1_features = df_1[:, ind_features]\n",
    "\n",
    "for v_layer in range(4, VERT_LAYERS):\n",
    "    # The indices corresponding to a specific v_layer:\n",
    "    ind = v_layer*HORIZ_FIELDS + add_two_arrays(VERT_LAYERS*HORIZ_FIELDS*np.arange(TIME_STEPS), \n",
    "                                                np.arange(HORIZ_FIELDS))\n",
    "    assert np.sum(np.isnan(df_1_features[ind,:])) == 0 # Actually no nans go into the model\n",
    "    pred = model.predict(df_1_features[ind,:])\n",
    "    pred_adj = np.minimum(np.maximum(pred, 0), 100)  #Cloud Cover is enforced between 0 and 100. \n",
    "                                                     #This should also be done in practice\n",
    "        \n",
    "    ## ADD CODE TO COMPUTE R2 PER VERTICAL LAYER FOR MODEL\n",
    "    mse = np.mean((pred_adj - ...)**2) \n",
    "    r2_values = \n",
    "    clc_mean.append(np.mean(pred_adj))  #Contains the mean predictions per vertical layer\n"
   ]
  },
  {
   "cell_type": "markdown",
   "metadata": {},
   "source": [
    "The vertical-layer mean cloud cover given by the data"
   ]
  },
  {
   "cell_type": "code",
   "execution_count": 27,
   "metadata": {},
   "outputs": [],
   "source": [
    "# We are not interested in the output of layers above 21km (therefore the range starts at 4)\n",
    "clc_data_mean = []\n",
    "for v_layer in range(4, VERT_LAYERS):\n",
    "    # The indices corresponding to a specific v_layer:\n",
    "    ind = v_layer*HORIZ_FIELDS + add_two_arrays(VERT_LAYERS*HORIZ_FIELDS*np.arange(TIME_STEPS), \n",
    "                                                np.arange(HORIZ_FIELDS))\n",
    "    clc_data_mean.append(np.mean(df_1[ind,ind_clc]))"
   ]
  },
  {
   "cell_type": "markdown",
   "metadata": {},
   "source": [
    "The vertical-layer mean cloud cover predicted by the other models"
   ]
  },
  {
   "cell_type": "code",
   "execution_count": 30,
   "metadata": {},
   "outputs": [],
   "source": [
    "clc_mean_2 = []\n",
    "clc_mean_3 = []\n",
    "clc_mean_4 = []\n",
    "\n",
    "df_2_features = df_2[:, ind_features]\n",
    "df_3_features = df_3[:, ind_features]\n",
    "df_4_features = df_4[:, ind_features]\n",
    "\n",
    "for v_layer in range(4, VERT_LAYERS):\n",
    "    ind = v_layer*HORIZ_FIELDS + add_two_arrays(VERT_LAYERS*HORIZ_FIELDS*np.arange(TIME_STEPS), \n",
    "                                                np.arange(HORIZ_FIELDS))\n",
    "    assert np.sum(np.isnan(df_2_features[ind,:])) == 0 # Actually no nans go into the model\n",
    "    pred = model_2.predict(df_2_features[ind,:])\n",
    "    pred_adj = np.minimum(np.maximum(pred, 0), 100)\n",
    "    clc_mean_2.append(np.mean(pred_adj))\n",
    "for v_layer in range(4, VERT_LAYERS):\n",
    "    ind = v_layer*HORIZ_FIELDS + add_two_arrays(VERT_LAYERS*HORIZ_FIELDS*np.arange(TIME_STEPS), \n",
    "                                                np.arange(HORIZ_FIELDS))\n",
    "    assert np.sum(np.isnan(df_3_features[ind,:])) == 0 # Actually no nans go into the model\n",
    "    pred = model_3.predict(df_3_features[ind,:])\n",
    "    pred_adj = np.minimum(np.maximum(pred, 0), 100)\n",
    "    clc_mean_3.append(np.mean(pred_adj))\n",
    "for v_layer in range(4, VERT_LAYERS):\n",
    "    ind = v_layer*HORIZ_FIELDS + add_two_arrays(VERT_LAYERS*HORIZ_FIELDS*np.arange(TIME_STEPS), \n",
    "                                                np.arange(HORIZ_FIELDS))\n",
    "    assert np.sum(np.isnan(df_4_features[ind,:])) == 0 # Actually no nans go into the model\n",
    "    pred = model_4.predict(df_4_features[ind,:])\n",
    "    pred_adj = np.minimum(np.maximum(pred, 0), 100)\n",
    "    clc_mean_4.append(np.mean(pred_adj))\n",
    "    \n",
    "## ADD CODE TO COMPUTE R2 PER VERTICAL LAYER FOR MODEL2, MODEL3, MODEL4"
   ]
  },
  {
   "cell_type": "markdown",
   "metadata": {},
   "source": [
    "<a id='preparations_end'></a>"
   ]
  },
  {
   "cell_type": "markdown",
   "metadata": {},
   "source": [
    "Plotting"
   ]
  },
  {
   "cell_type": "code",
   "execution_count": 16,
   "metadata": {},
   "outputs": [
    {
     "data": {
      "image/png": "[encoded data removed]",
      "text/plain": [
       "<Figure size 504x288 with 1 Axes>"
      ]
     },
     "metadata": {
      "needs_background": "light"
     },
     "output_type": "display_data"
    }
   ],
   "source": [
    "a = np.linspace(4, VERT_LAYERS-1, 27)\n",
    "fig = plt.figure(figsize=(7,4))\n",
    "ax = fig.add_subplot(111, xlabel='Mean Cloud Cover', ylabel='Vertical layer', \n",
    "                     title='Mean cloud cover in different NN parameterizations')\n",
    "ax.plot(clc_mean, a)\n",
    "ax.plot(clc_mean_2, a)\n",
    "ax.plot(clc_mean_3, a)\n",
    "ax.plot(clc_mean_4, a)\n",
    "ax.plot(clc_data_mean, a)\n",
    "plt.gca().invert_yaxis()\n",
    "ax.legend(['Predictions_1', 'Predictions_2', 'Predictions_3', 'Predictions_4', 'Truth'])\n",
    "fig.savefig('../figures/qubicc_offline_testing_mean_cloud_cover_NNs.pdf')"
   ]
  },
  {
   "cell_type": "markdown",
   "metadata": {},
   "source": [
    "Mean height of a vertical layer as y-axis"
   ]
  },
  {
   "cell_type": "code",
   "execution_count": 17,
   "metadata": {},
   "outputs": [],
   "source": [
    "zg_mean = []\n",
    "ind_zg = np.where(df.columns=='zg')[0][0]\n",
    "for v_layer in range(4, VERT_LAYERS):\n",
    "    ind = v_layer*HORIZ_FIELDS + add_two_arrays(VERT_LAYERS*HORIZ_FIELDS*np.arange(TIME_STEPS), \n",
    "                                                np.arange(HORIZ_FIELDS))\n",
    "    zg_mean.append(np.mean(df_1[ind, ind_zg])*std_1[ind_zg]+mean_1[ind_zg])"
   ]
  },
  {
   "cell_type": "code",
   "execution_count": 18,
   "metadata": {},
   "outputs": [
    {
     "data": {
      "image/png": "[encoded data removed]",
      "text/plain": [
       "<Figure size 504x288 with 1 Axes>"
      ]
     },
     "metadata": {
      "needs_background": "light"
     },
     "output_type": "display_data"
    }
   ],
   "source": [
    "clc_mm_mean = 1/4*(np.array(clc_mean)+np.array(clc_mean_2)+np.array(clc_mean_3)+np.array(clc_mean_4))\n",
    "\n",
    "fig = plt.figure(figsize=(7,4))\n",
    "ax = fig.add_subplot(111, xlabel='Mean Cloud Cover', ylabel='Mean height of a vertical layer', \n",
    "                     title='NN Cloud Cover parameterization')\n",
    "ax.plot(clc_mm_mean, zg_mean)\n",
    "ax.plot(clc_data_mean, zg_mean)\n",
    "ax.legend(['Multi-model prediction', 'Truth'])\n",
    "fig.savefig('../figures/qubicc_offline_testing_mean_cloud_cover.pdf')\n",
    "# plt.gca().invert_yaxis()"
   ]
  },
  {
   "cell_type": "code",
   "execution_count": 19,
   "metadata": {},
   "outputs": [
    {
     "data": {
      "image/png": "[encoded data removed]",
      "text/plain": [
       "<Figure size 504x360 with 1 Axes>"
      ]
     },
     "metadata": {
      "needs_background": "light"
     },
     "output_type": "display_data"
    }
   ],
   "source": [
    "fig = plt.figure(figsize=(7,5))\n",
    "ax = fig.add_subplot(111, xlabel='Mean Cloud Cover', ylabel='Mean height of a vertical layer', \n",
    "                     title='NN Cloud Cover parameterization absolute difference')\n",
    "ax.plot(clc_mm_mean - np.array(clc_data_mean), zg_mean, 'bo')\n",
    "ax.legend(['Prediction - Truth'])\n",
    "fig.savefig('../figures/qubicc_offline_testing_mean_cloud_cover_absolute_difference.pdf')\n",
    "# plt.gca().invert_yaxis()\n",
    "# NN Cloud Cover parameterization absolute difference"
   ]
  },
  {
   "cell_type": "markdown",
   "metadata": {},
   "source": [
    "### Hovmöller diagrams\n",
    "Hovmöller diagram (time on x-axis with vertical layers on y-axis and NN ensemble mean clc in color) <br>\n",
    "Looking at November, 2nd here."
   ]
  },
  {
   "cell_type": "code",
   "execution_count": null,
   "metadata": {},
   "outputs": [],
   "source": [
    "# All vertical layers from first time step\n",
    "pred_clc_mat = np.zeros((24, VERT_LAYERS))\n",
    "for i in range(24):\n",
    "    for j in range(VERT_LAYERS):\n",
    "        # Mean prediction for a specific time step and vertical layer\n",
    "        df_1_features = np.delete(df_1, ind_clc, axis=1)\n",
    "        pred_1 = model.predict(df_1_features[HORIZ_FIELDS*(VERT_LAYERS*i+j):HORIZ_FIELDS*(VERT_LAYERS*i+j+1),:]) \n",
    "        pred_adj_1 = np.mean(np.minimum(np.maximum(pred_1, 0), 100))\n",
    "        df_2_features = np.delete(df_2, ind_clc, axis=1)\n",
    "        pred_2 = model_2.predict(df_2_features[HORIZ_FIELDS*(VERT_LAYERS*i+j):HORIZ_FIELDS*(VERT_LAYERS*i+j+1),:]) \n",
    "        pred_adj_2 = np.mean(np.minimum(np.maximum(pred_2, 0), 100))\n",
    "        df_3_features = np.delete(df_3, ind_clc, axis=1)\n",
    "        pred_3 = model_3.predict(df_3_features[HORIZ_FIELDS*(VERT_LAYERS*i+j):HORIZ_FIELDS*(VERT_LAYERS*i+j+1),:]) \n",
    "        pred_adj_3 = np.mean(np.minimum(np.maximum(pred_3, 0), 100))\n",
    "        df_4_features = np.delete(df_4, ind_clc, axis=1)\n",
    "        pred_4 = model_4.predict(df_4_features[HORIZ_FIELDS*(VERT_LAYERS*i+j):HORIZ_FIELDS*(VERT_LAYERS*i+j+1),:]) \n",
    "        pred_adj_4 = np.mean(np.minimum(np.maximum(pred_4, 0), 100))\n",
    "        pred_clc_mat[i,j] = 1/4*(pred_adj_1+pred_adj_2+pred_adj_3+pred_adj_4)       "
   ]
  },
  {
   "cell_type": "code",
   "execution_count": null,
   "metadata": {},
   "outputs": [],
   "source": [
    "data_clc_mat = np.zeros((24, VERT_LAYERS))\n",
    "for i in range(24):\n",
    "    for j in range(VERT_LAYERS):\n",
    "        # Mean cloud cover for a specific time step and vertical layer\n",
    "        data_clc_1 = np.mean(df_1[HORIZ_FIELDS*(VERT_LAYERS*i+j):HORIZ_FIELDS*(VERT_LAYERS*i+j+1), ind_clc])\n",
    "        data_clc_2 = np.mean(df_2[HORIZ_FIELDS*(VERT_LAYERS*i+j):HORIZ_FIELDS*(VERT_LAYERS*i+j+1), ind_clc])\n",
    "        data_clc_3 = np.mean(df_3[HORIZ_FIELDS*(VERT_LAYERS*i+j):HORIZ_FIELDS*(VERT_LAYERS*i+j+1), ind_clc])\n",
    "        data_clc_4 = np.mean(df_4[HORIZ_FIELDS*(VERT_LAYERS*i+j):HORIZ_FIELDS*(VERT_LAYERS*i+j+1), ind_clc])\n",
    "        data_clc_mat[i,j] = 1/4*(data_clc_1+data_clc_2+data_clc_3+data_clc_4)"
   ]
  },
  {
   "cell_type": "code",
   "execution_count": null,
   "metadata": {},
   "outputs": [],
   "source": [
    "import matplotlib.cm as cm\n",
    "from mpl_toolkits.axes_grid1.inset_locator import inset_axes\n",
    "from mpl_toolkits.axes_grid1 import make_axes_locatable\n",
    "\n",
    "capped_matrix = np.zeros((pred_clc_mat.shape[0], pred_clc_mat.shape[1]))\n",
    "capped_matrix_data = np.zeros((pred_clc_mat.shape[0], pred_clc_mat.shape[1]))\n",
    "capped_matrix[:, 4:] = pred_clc_mat[:, 4:]\n",
    "capped_matrix_data[:, 4:] = data_clc_mat[:, 4:]\n",
    "\n",
    "# Crucial so that the colorbar will actually match both plots\n",
    "vmax = np.maximum(np.max(capped_matrix), np.max(capped_matrix_data))\n",
    "vmin = np.minimum(np.min(capped_matrix), np.min(capped_matrix_data))\n",
    "# t = np.linspace(1, 25, 25)\n",
    "# v = np.linspace(9, 75)\n",
    "# T, V = np.meshgrid(t, v)\n",
    "fig = plt.figure(figsize=(12,8))\n",
    "ax_2 = fig.add_subplot(122, xlabel='Hours', ylim=[VERT_LAYERS-1, 4], title='True mean cloud cover (One day)')\n",
    "ims_2 = ax_2.imshow(np.transpose(capped_matrix_data), vmin=vmin, vmax=vmax)\n",
    "# Colorbar axes\n",
    "divider = make_axes_locatable(ax_2)\n",
    "cax_2 = divider.append_axes(\"right\", size=\"5%\", pad=0.05)\n",
    "fig.colorbar(ims_2, cax=cax_2)\n",
    "\n",
    "ax_1 = fig.add_subplot(121, xlabel='Hours', ylim=[VERT_LAYERS-1, 4], ylabel='Vertical layers', title='NN ensemble mean cloud cover (One day)')\n",
    "ims_1 = ax_1.imshow(np.transpose(capped_matrix), vmin=vmin, vmax=vmax)\n",
    "# Colorbar axes\n",
    "divider = make_axes_locatable(ax_1)\n",
    "cax_1 = divider.append_axes(\"right\", size=\"5%\", pad=0.05)\n",
    "fig.colorbar(ims_1, cax=cax_1)\n",
    "fig.savefig('../figures/qubicc_offline_testing_hovmoeller.pdf')"
   ]
  },
  {
   "cell_type": "code",
   "execution_count": null,
   "metadata": {},
   "outputs": [],
   "source": [
    "from matplotlib.colors import DivergingNorm\n",
    "\n",
    "capped_matrix = np.zeros((pred_clc_mat.shape[0], pred_clc_mat.shape[1]))\n",
    "capped_matrix_data = np.zeros((pred_clc_mat.shape[0], pred_clc_mat.shape[1]))\n",
    "capped_matrix[:, 4:] = pred_clc_mat[:, 4:]\n",
    "capped_matrix_data[:, 4:] = data_clc_mat[:, 4:]\n",
    "# t = np.linspace(1, 24, 24)\n",
    "# v = np.linspace(4, VERT_LAYERS)\n",
    "# T, V = np.meshgrid(t, v)\n",
    "fig = plt.figure(figsize=(8,8))\n",
    "\n",
    "ax_1 = fig.add_subplot(111, xlabel='Hours', ylim=[VERT_LAYERS-1, 4], ylabel='Vertical layers', title='Deviation of grid cell based NN ensemble mean cloud cover (One day)')\n",
    "ims_1 = ax_1.imshow(np.transpose(capped_matrix) - np.transpose(capped_matrix_data), norm=DivergingNorm(0), cmap='bwr')\n",
    "# Colorbar axes\n",
    "divider = make_axes_locatable(ax_1)\n",
    "cax_1 = divider.append_axes(\"right\", size=\"5%\", pad=0.05)\n",
    "fig.colorbar(ims_1, cax=cax_1)\n",
    "fig.savefig('../figures/qubicc_offline_testing_hovmoeller_diff.pdf')"
   ]
  },
  {
   "cell_type": "markdown",
   "metadata": {},
   "source": [
    "### In NARVAL region only\n",
    "Interpret NN parameterizations on QUBICC data in NARVAL region"
   ]
  },
  {
   "cell_type": "markdown",
   "metadata": {},
   "source": [
    "Run cells 1-7 first: [import_cell_1](#import_cell_1) to [df](#df)."
   ]
  },
  {
   "cell_type": "code",
   "execution_count": 9,
   "metadata": {},
   "outputs": [],
   "source": [
    "# We reshape data_dict back into 3D. \n",
    "for key in data_dict.keys():\n",
    "    data_dict[key] = np.reshape(data_dict[key], (TIME_STEPS, VERT_LAYERS, HORIZ_FIELDS)) "
   ]
  },
  {
   "cell_type": "code",
   "execution_count": 10,
   "metadata": {},
   "outputs": [
    {
     "name": "stdout",
     "output_type": "stream",
     "text": [
      "(240, 31, 14826)\n",
      "(240, 31, 14826)\n",
      "(240, 31, 14826)\n",
      "(240, 31, 14826)\n",
      "(240, 31, 14826)\n",
      "(240, 31, 14826)\n",
      "(240, 31, 14826)\n"
     ]
    }
   ],
   "source": [
    "for keys in data_dict.keys():\n",
    "    print(data_dict[keys].shape)"
   ]
  },
  {
   "cell_type": "markdown",
   "metadata": {},
   "source": [
    "We need to:\n",
    "1) Reinsert nans that arose through overlapping topography during vertical interpolation into the QUBICC data\n",
    "2) Set fields from outside the NARVAL region to nan\n",
    "3) We select the fields where the lowermost levels are not nan\n",
    "\n",
    "Step 1): So that we have 20480 horizontal fields and can compare that directly to the R02B04-grid. <br>\n",
    "Note that data_dict.shape[2] != data_dict_new.shape[2]\n",
    "\n",
    "Step 3) should leave us with only those grid columns that are in the NARVAL region and that have been coarse-grained without producing nans in QUBICC "
   ]
  },
  {
   "cell_type": "markdown",
   "metadata": {},
   "source": [
    "*1. Overlapping nans*"
   ]
  },
  {
   "cell_type": "code",
   "execution_count": 13,
   "metadata": {},
   "outputs": [],
   "source": [
    "path = '/home/b/b309170/my_work/QUBICC/data_var_vertinterp/cli'\n",
    "file_name = 'int_var_hc2_02_p1m_cli_ml_20041112T200000Z_R02B04.nc'"
   ]
  },
  {
   "cell_type": "code",
   "execution_count": 14,
   "metadata": {},
   "outputs": [
    {
     "data": {
      "text/plain": [
       "(20480,)"
      ]
     },
     "execution_count": 14,
     "metadata": {},
     "output_type": "execute_result"
    }
   ],
   "source": [
    "DS = xr.open_dataset(os.path.join(path, file_name))\n",
    "da_cli = DS.cli.values\n",
    "overlap_nans = np.isnan(da_cli[0,30,:])\n",
    "overlap_nans.shape"
   ]
  },
  {
   "cell_type": "code",
   "execution_count": 15,
   "metadata": {},
   "outputs": [],
   "source": [
    "# Create new data_dict with correct dimensionality\n",
    "data_dict_new = {}\n",
    "for key in data_dict.keys():\n",
    "    data_dict_new[key] = np.zeros((TIME_STEPS, VERT_LAYERS, len(overlap_nans)))"
   ]
  },
  {
   "cell_type": "code",
   "execution_count": 16,
   "metadata": {},
   "outputs": [],
   "source": [
    "# ov_f is a temporary array that is adjusted depending on the key, time step and vertical layer\n",
    "ov_f = np.array(overlap_nans, dtype=float)\n",
    "ov_f[np.where(ov_f == 1)] = np.nan # Every True in overlap_nans will be a nan\n",
    "ov_f_copy = ov_f.copy() # Need this otherwise ov_f == 0 will never be true anymore when beginning the loop\n",
    "\n",
    "for key in data_dict.keys():\n",
    "    for i in range(TIME_STEPS):\n",
    "        for j in range(VERT_LAYERS):\n",
    "            ov_f_copy[np.where(ov_f == 0)] = data_dict[key][i,j,:] \n",
    "            data_dict_new[key][i,j,:] = ov_f_copy    "
   ]
  },
  {
   "cell_type": "code",
   "execution_count": 17,
   "metadata": {},
   "outputs": [
    {
     "name": "stdout",
     "output_type": "stream",
     "text": [
      "(240, 31, 20480)\n",
      "(240, 31, 20480)\n",
      "(240, 31, 20480)\n",
      "(240, 31, 20480)\n",
      "(240, 31, 20480)\n",
      "(240, 31, 20480)\n",
      "(240, 31, 20480)\n"
     ]
    }
   ],
   "source": [
    "for keys in data_dict_new.keys():\n",
    "    print(data_dict_new[keys].shape)"
   ]
  },
  {
   "cell_type": "markdown",
   "metadata": {},
   "source": [
    "*2. Which of these entries are from the NARVAL region?*"
   ]
  },
  {
   "cell_type": "code",
   "execution_count": 18,
   "metadata": {},
   "outputs": [],
   "source": [
    "# path = '/pf/b/b309170/my_work/NARVAL/data/temp'\n",
    "# file_name = 'temp_R02B04_NARVALI_2013121600_fg_DOM01_0012.nc'"
   ]
  },
  {
   "cell_type": "code",
   "execution_count": 19,
   "metadata": {},
   "outputs": [],
   "source": [
    "# DS = xr.open_dataset(os.path.join(path, file_name))\n",
    "# da_temp = DS.temp.values\n",
    "# narval_nans = np.isnan(da_temp[0,0,:])\n",
    "# narval_nans.shape"
   ]
  },
  {
   "cell_type": "code",
   "execution_count": 20,
   "metadata": {},
   "outputs": [],
   "source": [
    "# # Keep only the narval region\n",
    "# for key in data_dict.keys():\n",
    "#     for i in range(TIME_STEPS):\n",
    "#         for k in range(20480): # Horizontal fields\n",
    "#             if narval_nans[k]:\n",
    "#                 for j in range(VERT_LAYERS):\n",
    "#                     data_dict_new[key][i,j,k] = np.nan "
   ]
  },
  {
   "cell_type": "code",
   "execution_count": 21,
   "metadata": {},
   "outputs": [],
   "source": [
    "# Entire tropical zone or NARVAL region?\n",
    "\n",
    "region = 'tropical_zone' # 'NARVAL_region' or 'tropical_zone'\n",
    "\n",
    "if region == 'NARVAL_region':\n",
    "    # Narval region: 68W-15E, 10S-20N\n",
    "    lat_lower_bound = -10/90*np.pi/2\n",
    "    lat_upper_bound = 20/90*np.pi/2\n",
    "    lon_lower_bound = -68/180*np.pi\n",
    "    lon_upper_bound = 15/180*np.pi\n",
    "elif region == 'tropical_zone':\n",
    "    # Tropical zone: 23.4365S-23.4365N (Narval region: 68W-15E, 10S-20N)\n",
    "    lat_lower_bound = -23.4365/90*np.pi/2\n",
    "    lat_upper_bound = 23.4365/90*np.pi/2\n",
    "    lon_lower_bound = -np.pi #Basically unbounded\n",
    "    lon_upper_bound = np.pi #Basically unbounded"
   ]
  },
  {
   "cell_type": "code",
   "execution_count": 23,
   "metadata": {},
   "outputs": [],
   "source": [
    "#Load native grid\n",
    "qubicc_r02b04_path = '/home/b/b309170/my_work/QUBICC/grids/icon_grid_0013_R02B04_G.nc'\n",
    "qubicc_r02b04 = xr.open_dataset(qubicc_r02b04_path)\n",
    "\n",
    "qubicc_lat = qubicc_r02b04.lat_cell_centre.values\n",
    "qubicc_lon = qubicc_r02b04.lon_cell_centre.values"
   ]
  },
  {
   "cell_type": "code",
   "execution_count": 24,
   "metadata": {},
   "outputs": [],
   "source": [
    "# Keep only the narval region\n",
    "for key in data_dict.keys():\n",
    "    for i in range(TIME_STEPS):\n",
    "        for k in range(20480): # Horizontal fields\n",
    "            # If k-th entry of the qubicc r02b04 grid is in narval region\n",
    "            if not (lat_lower_bound <= qubicc_lat[k] <= lat_upper_bound and lon_lower_bound <= qubicc_lon[k] <= lon_upper_bound):\n",
    "                if key != 'fr_lake':\n",
    "                    data_dict_new[key][i,:,k] = np.full(VERT_LAYERS, np.nan)\n",
    "                else:\n",
    "                    data_dict_new[key][i,k] = np.nan "
   ]
  },
  {
   "cell_type": "markdown",
   "metadata": {},
   "source": [
    "*3. We select the fields where the lowermost levels are not nan*"
   ]
  },
  {
   "cell_type": "code",
   "execution_count": 25,
   "metadata": {},
   "outputs": [],
   "source": [
    "not_nan = ~np.isnan(data_dict_new['cli'][0,30,:])"
   ]
  },
  {
   "cell_type": "code",
   "execution_count": 26,
   "metadata": {},
   "outputs": [],
   "source": [
    "# Create new data_dict with correct dimensionality\n",
    "data_dict_selected_fields = {}\n",
    "for key in data_dict.keys():\n",
    "    data_dict_selected_fields[key] = data_dict_new[key][:,:,not_nan]"
   ]
  },
  {
   "cell_type": "code",
   "execution_count": 27,
   "metadata": {},
   "outputs": [
    {
     "data": {
      "text/plain": [
       "5924"
      ]
     },
     "execution_count": 27,
     "metadata": {},
     "output_type": "execute_result"
    }
   ],
   "source": [
    "# Update the number of horizontal fields\n",
    "HORIZ_FIELDS = np.sum(not_nan)\n",
    "HORIZ_FIELDS"
   ]
  },
  {
   "cell_type": "code",
   "execution_count": 28,
   "metadata": {},
   "outputs": [],
   "source": [
    "# for keys in data_dict_nan_free.keys():\n",
    "#     print(data_dict_nan_free[keys].shape)\n",
    "#     assert np.sum(np.isnan(data_dict_nan_free[keys])) == 0"
   ]
  },
  {
   "cell_type": "markdown",
   "metadata": {},
   "source": [
    "Now we can reshape back:"
   ]
  },
  {
   "cell_type": "code",
   "execution_count": 29,
   "metadata": {},
   "outputs": [
    {
     "data": {
      "text/html": [
       "<div>\n",
       "<style scoped>\n",
       "    .dataframe tbody tr th:only-of-type {\n",
       "        vertical-align: middle;\n",
       "    }\n",
       "\n",
       "    .dataframe tbody tr th {\n",
       "        vertical-align: top;\n",
       "    }\n",
       "\n",
       "    .dataframe thead th {\n",
       "        text-align: right;\n",
       "    }\n",
       "</style>\n",
       "<table border=\"1\" class=\"dataframe\">\n",
       "  <thead>\n",
       "    <tr style=\"text-align: right;\">\n",
       "      <th></th>\n",
       "      <th>hus</th>\n",
       "      <th>cli</th>\n",
       "      <th>ta</th>\n",
       "      <th>pfull</th>\n",
       "      <th>zg</th>\n",
       "      <th>fr_land</th>\n",
       "      <th>cl</th>\n",
       "    </tr>\n",
       "  </thead>\n",
       "  <tbody>\n",
       "    <tr>\n",
       "      <th>0</th>\n",
       "      <td>0.000002</td>\n",
       "      <td>NaN</td>\n",
       "      <td>225.831369</td>\n",
       "      <td>1510.237356</td>\n",
       "      <td>28193.783559</td>\n",
       "      <td>0.000000</td>\n",
       "      <td>NaN</td>\n",
       "    </tr>\n",
       "    <tr>\n",
       "      <th>1</th>\n",
       "      <td>0.000002</td>\n",
       "      <td>NaN</td>\n",
       "      <td>225.952429</td>\n",
       "      <td>1509.318380</td>\n",
       "      <td>28193.783559</td>\n",
       "      <td>0.000000</td>\n",
       "      <td>NaN</td>\n",
       "    </tr>\n",
       "    <tr>\n",
       "      <th>2</th>\n",
       "      <td>0.000002</td>\n",
       "      <td>NaN</td>\n",
       "      <td>225.755507</td>\n",
       "      <td>1511.066808</td>\n",
       "      <td>28193.783559</td>\n",
       "      <td>0.000201</td>\n",
       "      <td>NaN</td>\n",
       "    </tr>\n",
       "    <tr>\n",
       "      <th>3</th>\n",
       "      <td>0.000002</td>\n",
       "      <td>NaN</td>\n",
       "      <td>225.726365</td>\n",
       "      <td>1512.730028</td>\n",
       "      <td>28193.783559</td>\n",
       "      <td>0.000000</td>\n",
       "      <td>NaN</td>\n",
       "    </tr>\n",
       "    <tr>\n",
       "      <th>4</th>\n",
       "      <td>0.000002</td>\n",
       "      <td>NaN</td>\n",
       "      <td>225.998721</td>\n",
       "      <td>1512.610258</td>\n",
       "      <td>28193.783559</td>\n",
       "      <td>0.000000</td>\n",
       "      <td>NaN</td>\n",
       "    </tr>\n",
       "  </tbody>\n",
       "</table>\n",
       "</div>"
      ],
      "text/plain": [
       "        hus  cli          ta        pfull            zg   fr_land  cl\n",
       "0  0.000002  NaN  225.831369  1510.237356  28193.783559  0.000000 NaN\n",
       "1  0.000002  NaN  225.952429  1509.318380  28193.783559  0.000000 NaN\n",
       "2  0.000002  NaN  225.755507  1511.066808  28193.783559  0.000201 NaN\n",
       "3  0.000002  NaN  225.726365  1512.730028  28193.783559  0.000000 NaN\n",
       "4  0.000002  NaN  225.998721  1512.610258  28193.783559  0.000000 NaN"
      ]
     },
     "execution_count": 29,
     "metadata": {},
     "output_type": "execute_result"
    }
   ],
   "source": [
    "#Reshaping into 1D-arrays and converting dict into a DataFrame-object (the following is based on Aurelien Geron)\n",
    "for key in data_dict_selected_fields.keys():\n",
    "    data_dict_selected_fields[key] = np.reshape(data_dict_selected_fields[key], -1) \n",
    "\n",
    "df = pd.DataFrame.from_dict(data_dict_selected_fields)\n",
    "df.head() "
   ]
  },
  {
   "cell_type": "markdown",
   "metadata": {},
   "source": [
    "Run cells 17-20 ([df](#df) to [df_1234](#df_1234)), 22-25 ([preparing_to_plot](#preparing_to_plot) to [preparations_end](#preparations_end))"
   ]
  },
  {
   "cell_type": "markdown",
   "metadata": {},
   "source": [
    "Plotting"
   ]
  },
  {
   "cell_type": "code",
   "execution_count": 67,
   "metadata": {},
   "outputs": [
    {
     "data": {
      "image/png": "[encoded data removed]",
      "text/plain": [
       "<Figure size 504x288 with 1 Axes>"
      ]
     },
     "metadata": {
      "needs_background": "light"
     },
     "output_type": "display_data"
    }
   ],
   "source": [
    "a = np.linspace(4, VERT_LAYERS-1, 27)\n",
    "fig = plt.figure(figsize=(7,4))\n",
    "ax = fig.add_subplot(111, xlabel='Mean Cloud Cover', ylabel='Vertical layer', \n",
    "                     title='Mean cloud cover in different NN parameterizations')\n",
    "ax.plot(clc_mean, a)\n",
    "ax.plot(clc_mean_2, a)\n",
    "ax.plot(clc_mean_3, a)\n",
    "ax.plot(clc_mean_4, a)\n",
    "ax.plot(clc_data_mean, a)\n",
    "plt.gca().invert_yaxis()\n",
    "ax.legend(['Predictions_1', 'Predictions_2', 'Predictions_3', 'Predictions_4', 'Truth'])\n",
    "fig.savefig('../figures/qubicc_offline_testing_mean_cloud_cover_NNs_%s.pdf'%region)"
   ]
  },
  {
   "cell_type": "markdown",
   "metadata": {},
   "source": [
    "Mean height of a vertical layer as y-axis"
   ]
  },
  {
   "cell_type": "code",
   "execution_count": 68,
   "metadata": {},
   "outputs": [],
   "source": [
    "zg_mean = []\n",
    "ind_zg = np.where(df.columns=='zg')[0][0]\n",
    "for v_layer in range(4, VERT_LAYERS):\n",
    "    ind = v_layer*HORIZ_FIELDS + add_two_arrays(VERT_LAYERS*HORIZ_FIELDS*np.arange(TIME_STEPS), \n",
    "                                                np.arange(HORIZ_FIELDS))\n",
    "    zg_mean.append(np.mean(df_1[ind, ind_zg])*std_1[ind_zg]+mean_1[ind_zg])"
   ]
  },
  {
   "cell_type": "code",
   "execution_count": 69,
   "metadata": {},
   "outputs": [
    {
     "data": {
      "image/png": "[encoded data removed]",
      "text/plain": [
       "<Figure size 504x288 with 1 Axes>"
      ]
     },
     "metadata": {
      "needs_background": "light"
     },
     "output_type": "display_data"
    }
   ],
   "source": [
    "clc_mm_mean = 1/4*(np.array(clc_mean)+np.array(clc_mean_2)+np.array(clc_mean_3)+np.array(clc_mean_4))\n",
    "\n",
    "fig = plt.figure(figsize=(7,4))\n",
    "ax = fig.add_subplot(111, xlabel='Mean Cloud Cover', ylabel='Mean height of a vertical layer', \n",
    "                     title='NN Cloud Cover parameterization (NARVAL region)')\n",
    "ax.plot(clc_mm_mean, zg_mean)\n",
    "ax.plot(clc_data_mean, zg_mean)\n",
    "ax.legend(['Multi-model prediction', 'Truth'])\n",
    "fig.savefig('../figures/qubicc_offline_testing_mean_cloud_cover_NARVAL_region.pdf')\n",
    "# plt.gca().invert_yaxis()"
   ]
  },
  {
   "cell_type": "code",
   "execution_count": 31,
   "metadata": {},
   "outputs": [
    {
     "name": "stdout",
     "output_type": "stream",
     "text": [
      "tropical_zone\n",
      "[0.15736295, 0.15274493, 0.06565799, 4.176406, 20.910957, 29.254648, 23.316257, 15.156468, 11.761119, 10.1261835, 7.0172415, 4.6615605, 5.005597, 5.6094112, 6.104761, 2.878184, 1.9090832, 1.8492719, 2.6939914, 4.2556667, 6.0831566, 7.248291, 6.129422, 4.2516294, 1.7357204, 1.2261177, 1.0574754]\n",
      "[0.00017305734, 2.8148223e-05, 0.0046518496, 4.0609317, 20.651888, 28.432058, 23.636719, 16.245956, 11.946389, 10.328751, 6.7022767, 4.658968, 5.6041265, 5.937484, 5.8609, 3.1938555, 2.2170613, 2.191171, 3.1945727, 4.824811, 7.0514216, 8.384941, 7.0139537, 5.198739, 2.0905154, 1.376609, 1.17824]\n",
      "[0.00015054007, 0.0374156, 0.009418714, 4.380656, 21.32772, 28.866224, 23.873734, 15.252654, 11.239496, 10.357843, 6.9255853, 4.5894456, 5.2216663, 5.6148124, 5.833749, 3.200389, 2.1620767, 2.2620413, 3.2071805, 5.006263, 7.0676866, 8.070071, 6.462448, 4.4225936, 1.6102619, 1.050646, 0.8796077]\n",
      "[0.08999668, 0.079954915, 0.06318151, 4.569084, 20.078367, 28.357086, 23.558226, 15.327372, 11.939316, 10.012644, 6.66355, 4.39317, 5.2763867, 6.4100065, 6.6505437, 3.5592146, 1.9786309, 1.9228956, 2.8475835, 4.377732, 6.4022274, 7.789728, 5.969459, 4.155276, 1.5823843, 1.0037388, 0.8603727]\n",
      "[4.1146270133245254e-08, 1.1454347739332849e-05, 0.0008787377048260461, 0.7018365674514352, 9.093122613222596, 20.811720657294902, 21.308662579780243, 16.309228670323286, 12.799764612059871, 11.936130301132959, 9.270457168635234, 4.887311912322771, 2.709611858241172, 2.1625269037151047, 2.0852971463010825, 1.4426236638538807, 1.2152209043481799, 1.344845087069636, 1.6736569298949755, 2.1793370739163094, 2.7954045728771217, 2.950703574410408, 1.8810279700451213, 0.7465174422858805, 0.383964788063811, 0.32092803072459913, 0.3423620304183509]\n"
     ]
    }
   ],
   "source": [
    "print(region)\n",
    "print(clc_mean)\n",
    "print(clc_mean_2)\n",
    "print(clc_mean_3)\n",
    "print(clc_mean_4)\n",
    "print(clc_data_mean)"
   ]
  }
 ],
 "metadata": {
  "kernelspec": {
   "display_name": "clouds_kernel",
   "language": "python",
   "name": "clouds_kernel"
  },
  "language_info": {
   "codemirror_mode": {
    "name": "ipython",
    "version": 3
   },
   "file_extension": ".py",
   "mimetype": "text/x-python",
   "name": "python",
   "nbconvert_exporter": "python",
   "pygments_lexer": "ipython3",
   "version": "3.7.10"
  },
  "toc-autonumbering": false
 },
 "nbformat": 4,
 "nbformat_minor": 4
}
