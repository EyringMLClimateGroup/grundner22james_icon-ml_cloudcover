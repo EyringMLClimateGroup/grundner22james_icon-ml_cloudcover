{
 "cells": [
  {
   "cell_type": "markdown",
   "metadata": {},
   "source": [
    "**We want to figure out the best learning rate for a batch size of 128**"
   ]
  },
  {
   "cell_type": "code",
   "execution_count": 1,
   "metadata": {},
   "outputs": [],
   "source": [
    "# Ran with 800GB (750GB should also be fine)\n",
    "\n",
    "import sys\n",
    "import numpy as np\n",
    "import time\n",
    "import pandas as pd\n",
    "import matplotlib.pyplot as plt\n",
    "import os\n",
    "import copy\n",
    "import gc\n",
    "\n",
    "#Import sklearn before tensorflow (static Thread-local storage)\n",
    "from sklearn.preprocessing import StandardScaler\n",
    "\n",
    "import tensorflow as tf\n",
    "from tensorflow.keras.models import load_model\n",
    "from tensorflow.keras.optimizers import Adam\n",
    "from tensorflow.keras.models import Sequential\n",
    "from tensorflow.keras.layers import Dense\n",
    "\n",
    "from tensorflow.keras import backend as K\n",
    "from tensorflow.keras.layers import Activation\n",
    "\n",
    "t0 = time.time()\n",
    "path = '/pf/b/b309170'\n",
    "path_figures = path + '/workspace_icon-ml/cloud_cover_parameterization/grid_column_based_QUBICC_R02B05/figures'\n",
    "path_model = path + '/workspace_icon-ml/cloud_cover_parameterization/grid_column_based_QUBICC_R02B05/saved_models'\n",
    "path_data = path + '/my_work/icon-ml_data/cloud_cover_parameterization/grid_column_based_QUBICC_R02B05/based_on_var_interpolated_data'\n",
    "\n",
    "# Add path with my_classes to sys.path\n",
    "sys.path.insert(0, path + '/workspace_icon-ml/cloud_cover_parameterization/')\n",
    "\n",
    "# Reloading custom file to incorporate changes dynamically\n",
    "import importlib\n",
    "import my_classes\n",
    "importlib.reload(my_classes)\n",
    "\n",
    "from my_classes import read_mean_and_std\n",
    "from my_classes import TimeOut\n",
    "\n",
    "# Minutes per fold\n",
    "# timeout = 710 ####\n",
    "timeout = 100 ##\n",
    "\n",
    "# For logging purposes\n",
    "days = 'all_days'\n",
    "\n",
    "# Maximum amount of epochs for each model\n",
    "epochs = 50\n",
    "\n",
    "# Set seed for reproducibility\n",
    "seed = 10\n",
    "tf.random.set_seed(seed)\n",
    "\n",
    "# For store_mean_model_biases\n",
    "VERT_LAYERS = 31\n",
    "\n",
    "gpus = tf.config.experimental.list_physical_devices('GPU')\n",
    "# tf.config.experimental.set_visible_devices(gpus[3], 'GPU')"
   ]
  },
  {
   "cell_type": "code",
   "execution_count": 2,
   "metadata": {},
   "outputs": [],
   "source": [
    "# Prevents crashes of the code\n",
    "physical_devices = tf.config.list_physical_devices('GPU')\n",
    "tf.config.set_visible_devices(physical_devices[0], 'GPU')"
   ]
  },
  {
   "cell_type": "code",
   "execution_count": 3,
   "metadata": {},
   "outputs": [],
   "source": [
    "# # Allow the growth of memory Tensorflow allocates (limits memory usage overall)\n",
    "# for gpu in gpus:\n",
    "#     tf.config.experimental.set_memory_growth(gpu, True)"
   ]
  },
  {
   "cell_type": "code",
   "execution_count": 4,
   "metadata": {},
   "outputs": [],
   "source": [
    "scaler = StandardScaler()"
   ]
  },
  {
   "cell_type": "markdown",
   "metadata": {},
   "source": [
    "### Load the data"
   ]
  },
  {
   "cell_type": "code",
   "execution_count": 5,
   "metadata": {},
   "outputs": [],
   "source": [
    "# input_narval = np.load(path_data + '/cloud_cover_input_narval.npy')\n",
    "# input_qubicc = np.transpose(np.load(path_data + '/cloud_cover_input_qubicc.npy'))\n",
    "# output_narval = np.load(path_data + '/cloud_cover_output_narval.npy')\n",
    "# output_qubicc = np.transpose(np.load(path_data + '/cloud_cover_output_qubicc.npy'))"
   ]
  },
  {
   "cell_type": "code",
   "execution_count": 6,
   "metadata": {},
   "outputs": [],
   "source": [
    "# input_data = np.concatenate(input_narval, input_qubicc)\n",
    "# output_data = np.concatenate(output_narval, output_qubicc)\n",
    "\n",
    "input_data = np.concatenate((np.load(path_data + '/cloud_cover_input_narval.npy'), \n",
    "                             np.load(path_data + '/cloud_cover_input_qubicc.npy')), axis=0)\n",
    "output_data = np.concatenate((np.load(path_data + '/cloud_cover_output_narval.npy'), \n",
    "                              np.load(path_data + '/cloud_cover_output_qubicc.npy')), axis=0)"
   ]
  },
  {
   "cell_type": "code",
   "execution_count": 7,
   "metadata": {},
   "outputs": [
    {
     "data": {
      "text/plain": [
       "(176291940, 163)"
      ]
     },
     "execution_count": 7,
     "metadata": {},
     "output_type": "execute_result"
    }
   ],
   "source": [
    "(samples_total, no_of_features) = input_data.shape\n",
    "(samples_total, no_of_features)"
   ]
  },
  {
   "cell_type": "markdown",
   "metadata": {},
   "source": [
    "*Temporal cross-validation*\n",
    "\n",
    "Split into 2-weeks increments (when working with 3 months of data). It's 25 day increments with 5 months of data. <br>\n",
    "1.: Validate on increments 1 and 4 <br>\n",
    "2.: Validate on increments 2 and 5 <br>\n",
    "3.: Validate on increments 3 and 6\n",
    "\n",
    "--> 2/3 training data, 1/3 validation data"
   ]
  },
  {
   "cell_type": "code",
   "execution_count": 8,
   "metadata": {},
   "outputs": [],
   "source": [
    "training_folds = []\n",
    "validation_folds = []\n",
    "two_week_incr = samples_total//6\n",
    "\n",
    "for i in range(3):\n",
    "    # Note that this is a temporal split since time was the first dimension in the original tensor\n",
    "    first_incr = np.arange(samples_total//6*i, samples_total//6*(i+1))\n",
    "    second_incr = np.arange(samples_total//6*(i+3), samples_total//6*(i+4))\n",
    "\n",
    "    validation_folds.append(np.append(first_incr, second_incr))\n",
    "    training_folds.append(np.arange(samples_total))\n",
    "    training_folds[i] = np.delete(training_folds[i], validation_folds[i])"
   ]
  },
  {
   "cell_type": "markdown",
   "metadata": {},
   "source": [
    "Remove columns that are constant in at least one of the training folds"
   ]
  },
  {
   "cell_type": "code",
   "execution_count": 9,
   "metadata": {
    "scrolled": true
   },
   "outputs": [
    {
     "name": "stdout",
     "output_type": "stream",
     "text": [
      "27\n",
      "28\n",
      "29\n",
      "30\n",
      "31\n",
      "32\n"
     ]
    }
   ],
   "source": [
    "# This takes a bit of time\n",
    "remove_fields = []\n",
    "std_0 = np.std(input_data[training_folds[0]], axis=0)\n",
    "std_1 = np.std(input_data[training_folds[1]], axis=0)\n",
    "std_2 = np.std(input_data[training_folds[2]], axis=0)\n",
    "for i in range(no_of_features):\n",
    "    if std_0[i] == 0 or std_1[i] == 0 or std_2[i] == 0:\n",
    "        print(i)\n",
    "        remove_fields.append(i)\n",
    "\n",
    "# These features correspond to qc_4, qc_5, qc_6, qc_7, qc_8, qc_9, zg_4, zg_5, zg_6\n",
    "# remove_fields = [27, 28, 29, 30, 31, 32, 135, 136, 137]\n",
    "assert no_of_features == 163\n",
    "input_data = np.delete(input_data, remove_fields, axis=1)\n",
    "no_of_features = no_of_features - len(remove_fields)"
   ]
  },
  {
   "cell_type": "markdown",
   "metadata": {},
   "source": [
    "*Useful functions to plot results*"
   ]
  },
  {
   "cell_type": "code",
   "execution_count": 10,
   "metadata": {},
   "outputs": [],
   "source": [
    "def store_mean_model_biases(input_valid, output_valid):\n",
    "    '''\n",
    "        Model prediction minus Ground Truth\n",
    "    '''\n",
    "    # Cloud cover means for first model\n",
    "    clc_data_mean = []\n",
    "    for i in range(VERT_LAYERS-4):\n",
    "        clc_data_mean.append(np.mean(output_valid[:, i]))\n",
    "    # Predicted cloud cover means\n",
    "    pred_adj = np.minimum(np.maximum(model.predict(input_valid, batch_size=10**5), 0), 100)\n",
    "    return (np.mean(pred_adj, axis=0) - clc_data_mean)"
   ]
  },
  {
   "cell_type": "code",
   "execution_count": 11,
   "metadata": {},
   "outputs": [],
   "source": [
    "def save_figure(fig_name, model_biases):\n",
    "    '''\n",
    "        Note that this figure truly is a different performance measure than the validation error.\n",
    "        The reason is that the mean can in principle be good even when the model is really bad.\n",
    "        \n",
    "        model_bias: Array of length 3, covers biases from all three folds for a given TL setup\n",
    "    '''\n",
    "#     assert len(model_biases) == 3\n",
    "    \n",
    "    # Vertical layers\n",
    "    a = np.linspace(5, 31, 27)\n",
    "    fig = plt.figure(figsize=(7,4))\n",
    "    # For model\n",
    "    ax = fig.add_subplot(111, xlabel='Mean Cloud Cover', ylabel='Vertical layer', \n",
    "                           title='Cloud cover bias of the transfer-learned model on the validation set')\n",
    "    for i in range(len(model_biases)):\n",
    "        ax.plot(model_biases[i], a)\n",
    "    ax.plot(0*a, a, 'g--')\n",
    "    # ax_1.plot(clc_data_mean, a)\n",
    "    plt.gca().invert_yaxis()\n",
    "    ax.legend(['Fold 1', 'Fold 2', 'Fold 3'])\n",
    "    fig.savefig(os.path.join(path_figures, fig_name+'.pdf'))"
   ]
  },
  {
   "cell_type": "markdown",
   "metadata": {},
   "source": [
    "### Define the model"
   ]
  },
  {
   "cell_type": "markdown",
   "metadata": {},
   "source": [
    "Activation function for the last layer"
   ]
  },
  {
   "cell_type": "code",
   "execution_count": 12,
   "metadata": {},
   "outputs": [],
   "source": [
    "# Activation function for the last layer\n",
    "def my_act_fct(x):\n",
    "    return K.minimum(K.maximum(x, 0), 100)"
   ]
  },
  {
   "cell_type": "code",
   "execution_count": 13,
   "metadata": {},
   "outputs": [],
   "source": [
    "model_structure = tf.keras.Sequential(\n",
    "            [\n",
    "                tf.keras.layers.Dense(256, activation='relu', input_dim = no_of_features),\n",
    "                tf.keras.layers.Dense(256, activation='relu'),\n",
    "                tf.keras.layers.Dense(27, activation=my_act_fct, dtype='float32'),\n",
    "            ],\n",
    "            name=\"column_based_model\",\n",
    "        )"
   ]
  },
  {
   "cell_type": "code",
   "execution_count": 14,
   "metadata": {},
   "outputs": [],
   "source": [
    "# Stepping down on the ladder of complexity\n",
    "class CustomModel(tf.keras.Model):\n",
    "    \n",
    "    def __init__(self, model):\n",
    "        super(CustomModel, self).__init__()\n",
    "        self.model = model\n",
    "    \n",
    "    def compile(self, optimizer, loss_fn):\n",
    "        super(CustomModel, self).compile()\n",
    "        self.optimizer = optimizer\n",
    "        self.loss_fn = loss_fn\n",
    "    \n",
    "    # Call accepts only tf.tensors\n",
    "    def call(self, x):\n",
    "        return self.model(x)  \n",
    "    \n",
    "    # Compile with XLA (throws an error)\n",
    "    # @tf.function(experimental_compile=True)\n",
    "#     @tf.function\n",
    "    def train_step(self, data):\n",
    "        # Unpack the data. Its structure depends on your model and\n",
    "        # on what you pass to `fit()`.\n",
    "        x,y = data\n",
    "\n",
    "        with tf.GradientTape() as tape:\n",
    "            y_pred = self(x, training=True)  # Forward pass\n",
    "            # Compute the loss value\n",
    "            # (the loss function is configured in `compile()`)\n",
    "            loss = self.loss_fn(y, y_pred)\n",
    "\n",
    "        # Compute gradients\n",
    "        trainable_vars = self.trainable_variables\n",
    "        gradients = tape.gradient(loss, trainable_vars)\n",
    "        # Update weights\n",
    "        self.optimizer.apply_gradients(zip(gradients, trainable_vars))\n",
    "        # Update metrics (includes the metric that tracks the loss)\n",
    "        self.compiled_metrics.update_state(y, y_pred)\n",
    "        # Return a dict mapping metric names to current value\n",
    "        return {'loss': loss}\n",
    "    \n",
    "    # Without the test step, our model would yield 0 in every kind of evaluation outside training itself\n",
    "    def test_step(self, data):\n",
    "        # Unpack the data\n",
    "        x, y = data\n",
    "        # Compute predictions\n",
    "        y_pred = self(x, training=False)\n",
    "        # Updates the metrics tracking the loss\n",
    "        loss = self.loss_fn(y, y_pred)\n",
    "        # Update the metrics.\n",
    "#         self.compiled_metrics.update_state(y, y_pred)\n",
    "        # Return a dict mapping metric names to current value.\n",
    "        # Note that it will include the loss (tracked in self.metrics).\n",
    "        return {'loss': loss}"
   ]
  },
  {
   "cell_type": "markdown",
   "metadata": {},
   "source": [
    "Load the data, set batchsize to 128"
   ]
  },
  {
   "cell_type": "code",
   "execution_count": 15,
   "metadata": {},
   "outputs": [],
   "source": [
    "#Standardize according to the fold\n",
    "i = 0\n",
    "scaler.fit(input_data[training_folds[i],:])\n",
    "\n",
    "#Load the data for the respective fold and convert it to tf data\n",
    "input_train = scaler.transform(input_data[training_folds[i],:])    \n",
    "# Use a batchsize of 64 or 128\n",
    "train_ds = tf.data.Dataset.zip((tf.data.Dataset.from_tensor_slices(input_train), \n",
    "                            tf.data.Dataset.from_tensor_slices(output_data[training_folds[i]]))) \\\n",
    "            .batch(batch_size=128, drop_remainder=True).prefetch(1)\n",
    "\n",
    "# Possibly better to use .apply(tf.data.experimental.copy_to_device(\"/gpu:0\")) before prefetch\n",
    "\n",
    "input_valid = scaler.transform(input_data[validation_folds[i],:])\n",
    "\n",
    "output_train = output_data[training_folds[i],:]\n",
    "output_valid = output_data[validation_folds[i],:]"
   ]
  },
  {
   "cell_type": "markdown",
   "metadata": {
    "jupyter": {
     "outputs_hidden": true
    }
   },
   "source": [
    "### Testing different learning rates\n",
    "How about we take a random subset of the data. We assume a high spatio-temporal correlation between data samples anyways."
   ]
  },
  {
   "cell_type": "code",
   "execution_count": null,
   "metadata": {},
   "outputs": [],
   "source": [
    "def take_subset(df, df_out, test_ratio):\n",
    "    shuffled_indices = np.random.permutation(len(df))\n",
    "    test_set_size = int(len(df)*test_ratio)\n",
    "    test_indices = shuffled_indices[:test_set_size]\n",
    "    train_indices = shuffled_indices[test_set_size:]\n",
    "    return df[test_indices], df_out[test_indices]\n",
    "    \n",
    "input_train_subset, output_train_subset = take_subset(input_train, output_train, 0.2)\n",
    "input_valid_subset, output_valid_subset = take_subset(input_valid, output_valid, 0.2)"
   ]
  },
  {
   "cell_type": "code",
   "execution_count": null,
   "metadata": {},
   "outputs": [],
   "source": [
    "train_ds_subset = tf.data.Dataset.zip((tf.data.Dataset.from_tensor_slices(input_train_subset), \n",
    "                            tf.data.Dataset.from_tensor_slices(output_train_subset))) \\\n",
    "            .batch(batch_size=128, drop_remainder=True).prefetch(1)"
   ]
  },
  {
   "cell_type": "code",
   "execution_count": 16,
   "metadata": {},
   "outputs": [
    {
     "name": "stdout",
     "output_type": "stream",
     "text": [
      "Epoch 1/2\n",
      "918187/918187 - 3714s - loss: 47.8648 - val_loss: 2.7655\n",
      "Epoch 2/2\n",
      "918187/918187 - 3667s - loss: 38.2740 - val_loss: 4.2590\n"
     ]
    },
    {
     "data": {
      "image/png": "[encoded data removed]",
      "text/plain": [
       "<Figure size 576x360 with 1 Axes>"
      ]
     },
     "metadata": {
      "needs_background": "light"
     },
     "output_type": "display_data"
    }
   ],
   "source": [
    "learning_rate=0.002\n",
    "\n",
    "model = CustomModel(model_structure)\n",
    "\n",
    "#Feed the model\n",
    "model.compile(\n",
    "    optimizer=tf.keras.optimizers.Adam(),\n",
    "    loss_fn=tf.keras.losses.MeanSquaredError()\n",
    ")\n",
    "\n",
    "# Batch size is specified by the tf dataset\n",
    "history = model.fit(train_ds_subset, epochs=50, verbose=2,\n",
    "                    validation_data=(input_valid_subset, output_valid_subset)) ##\n",
    "#     history = model.fit(train_ds, epochs=epochs, validation_data=valid_ds, callbacks=[time_callback])\n",
    "\n",
    "# #Save the output\n",
    "# train_loss = model.evaluate(input_train, output_train, verbose=2, batch_size=2000)\n",
    "# valid_loss = model.evaluate(input_valid, output_valid, verbose=2, batch_size=1000)\n",
    "# (train_loss, valid_loss)\n",
    "\n",
    "# with open(os.path.join(path_model, filename+'.txt'), 'a') as file:\n",
    "#         file.write('Results from the %d-th fold\\n'%(i+1))\n",
    "#         file.write('Training loss: %.4f\\n'%(train_loss))\n",
    "#         file.write('Validation loss: %.4f\\n'%(valid_loss))\n",
    "#         file.write('Training epochs: %d\\n'%(len(history.history['val_loss'])))\n",
    "#         file.write('Weights restored from epoch: %d\\n\\n'%(1+np.argmin(history.history['val_loss'])))\n",
    "# model_bias.append(store_mean_model_biases(input_valid, output_valid))\n",
    "\n",
    "# # Save bias plot\n",
    "# save_figure(fig_name='cross_validation_results_%s'%days, model_biases=model_bias)\n",
    "\n",
    "#Plotting the training progress\n",
    "if len(history.history['loss']) > len(history.history['val_loss']):\n",
    "    del history.history['loss'][-1]\n",
    "pd.DataFrame(history.history).plot(figsize=(8,5))\n",
    "plt.grid(True)\n",
    "plt.ylabel('Mean Squared Error')\n",
    "plt.xlabel('Number of epochs')\n",
    "plt.savefig(os.path.join(path_figures, \n",
    "                         'test_learning_rate_%.4f.pdf'%(learning_rate)))\n",
    "# plt.show()"
   ]
  },
  {
   "cell_type": "code",
   "execution_count": null,
   "metadata": {},
   "outputs": [],
   "source": [
    "learning_rate=0.00005\n",
    "\n",
    "model = CustomModel(model_structure)\n",
    "\n",
    "#Feed the model\n",
    "model.compile(\n",
    "    optimizer=tf.keras.optimizers.Adam(),\n",
    "    loss_fn=tf.keras.losses.MeanSquaredError()\n",
    ")\n",
    "\n",
    "# Batch size is specified by the tf dataset\n",
    "history = model.fit(train_ds, epochs=30, verbose=2,\n",
    "                    validation_data=(input_valid, output_valid))\n",
    "#     history = model.fit(train_ds, epochs=epochs, validation_data=valid_ds, callbacks=[time_callback])\n",
    "\n",
    "# #Save the output\n",
    "# train_loss = model.evaluate(input_train, output_train, verbose=2, batch_size=2000)\n",
    "# valid_loss = model.evaluate(input_valid, output_valid, verbose=2, batch_size=1000)\n",
    "# (train_loss, valid_loss)\n",
    "\n",
    "# with open(os.path.join(path_model, filename+'.txt'), 'a') as file:\n",
    "#         file.write('Results from the %d-th fold\\n'%(i+1))\n",
    "#         file.write('Training loss: %.4f\\n'%(train_loss))\n",
    "#         file.write('Validation loss: %.4f\\n'%(valid_loss))\n",
    "#         file.write('Training epochs: %d\\n'%(len(history.history['val_loss'])))\n",
    "#         file.write('Weights restored from epoch: %d\\n\\n'%(1+np.argmin(history.history['val_loss'])))\n",
    "# model_bias.append(store_mean_model_biases(input_valid, output_valid))\n",
    "\n",
    "# # Save bias plot\n",
    "# save_figure(fig_name='cross_validation_results_%s'%days, model_biases=model_bias)\n",
    "\n",
    "#Plotting the training progress\n",
    "if len(history.history['loss']) > len(history.history['val_loss']):\n",
    "    del history.history['loss'][-1]\n",
    "pd.DataFrame(history.history).plot(figsize=(8,5))\n",
    "plt.grid(True)\n",
    "plt.ylabel('Mean Squared Error')\n",
    "plt.xlabel('Number of epochs')\n",
    "# plt.savefig(os.path.join(path_figures, \n",
    "#                          'cross_validation_column_based_training_%s_fold_%d.pdf'%(days,i)))\n",
    "plt.show()"
   ]
  },
  {
   "cell_type": "code",
   "execution_count": null,
   "metadata": {},
   "outputs": [],
   "source": [
    "learning_rate=0.001\n",
    "\n",
    "model = CustomModel(model_structure)\n",
    "\n",
    "#Feed the model\n",
    "model.compile(\n",
    "    optimizer=tf.keras.optimizers.Adam(),\n",
    "    loss_fn=tf.keras.losses.MeanSquaredError()\n",
    ")\n",
    "\n",
    "# Batch size is specified by the tf dataset\n",
    "history = model.fit(train_ds, epochs=30, verbose=2,\n",
    "                    validation_data=(input_valid, output_valid))\n",
    "#     history = model.fit(train_ds, epochs=epochs, validation_data=valid_ds, callbacks=[time_callback])\n",
    "\n",
    "# #Save the output\n",
    "# train_loss = model.evaluate(input_train, output_train, verbose=2, batch_size=2000)\n",
    "# valid_loss = model.evaluate(input_valid, output_valid, verbose=2, batch_size=1000)\n",
    "# (train_loss, valid_loss)\n",
    "\n",
    "# with open(os.path.join(path_model, filename+'.txt'), 'a') as file:\n",
    "#         file.write('Results from the %d-th fold\\n'%(i+1))\n",
    "#         file.write('Training loss: %.4f\\n'%(train_loss))\n",
    "#         file.write('Validation loss: %.4f\\n'%(valid_loss))\n",
    "#         file.write('Training epochs: %d\\n'%(len(history.history['val_loss'])))\n",
    "#         file.write('Weights restored from epoch: %d\\n\\n'%(1+np.argmin(history.history['val_loss'])))\n",
    "# model_bias.append(store_mean_model_biases(input_valid, output_valid))\n",
    "\n",
    "# # Save bias plot\n",
    "# save_figure(fig_name='cross_validation_results_%s'%days, model_biases=model_bias)\n",
    "\n",
    "#Plotting the training progress\n",
    "if len(history.history['loss']) > len(history.history['val_loss']):\n",
    "    del history.history['loss'][-1]\n",
    "pd.DataFrame(history.history).plot(figsize=(8,5))\n",
    "plt.grid(True)\n",
    "plt.ylabel('Mean Squared Error')\n",
    "plt.xlabel('Number of epochs')\n",
    "# plt.savefig(os.path.join(path_figures, \n",
    "#                          'cross_validation_column_based_training_%s_fold_%d.pdf'%(days,i)))\n",
    "plt.show()"
   ]
  },
  {
   "cell_type": "code",
   "execution_count": null,
   "metadata": {},
   "outputs": [],
   "source": []
  }
 ],
 "metadata": {
  "kernelspec": {
   "display_name": "clouds113_kernel",
   "language": "python",
   "name": "clouds113_kernel"
  },
  "language_info": {
   "codemirror_mode": {
    "name": "ipython",
    "version": 3
   },
   "file_extension": ".py",
   "mimetype": "text/x-python",
   "name": "python",
   "nbconvert_exporter": "python",
   "pygments_lexer": "ipython3",
   "version": "3.7.10"
  }
 },
 "nbformat": 4,
 "nbformat_minor": 4
}
