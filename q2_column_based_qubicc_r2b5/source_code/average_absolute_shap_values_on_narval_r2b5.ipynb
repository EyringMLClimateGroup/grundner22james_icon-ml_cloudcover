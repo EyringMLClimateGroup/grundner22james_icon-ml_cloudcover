{
 "cells": [
  {
   "cell_type": "markdown",
   "metadata": {},
   "source": [
    "## SHAP on R2B5 NARVAL data"
   ]
  },
  {
   "cell_type": "code",
   "execution_count": 1,
   "metadata": {},
   "outputs": [],
   "source": [
    "import os\n",
    "import sys\n",
    "import gc\n",
    "import time\n",
    "import numpy as np\n",
    "import pandas as pd\n",
    "import xarray as xr\n",
    "import matplotlib.pyplot as plt\n",
    "import shap\n",
    "\n",
    "from tensorflow.keras.models import load_model\n",
    "from tensorflow import nn \n",
    "\n",
    "# Add path with my_classes to sys.path\n",
    "sys.path.insert(0, '/pf/b/b309170/workspace_icon-ml/cloud_cover_parameterization/')\n",
    "\n",
    "import importlib\n",
    "import my_classes\n",
    "importlib.reload(my_classes)\n",
    "\n",
    "from my_classes import load_data\n",
    "from my_classes import read_mean_and_std\n",
    "\n",
    "# np.random.seed(10)\n",
    "np.random.seed(100)"
   ]
  },
  {
   "cell_type": "code",
   "execution_count": 2,
   "metadata": {},
   "outputs": [],
   "source": [
    "root_path = '/pf/b/b309170'\n",
    "# data_path = os.path.join(root_path,\n",
    "#                          'my_work/NARVAL/data_var_vertinterp_R02B05')\n",
    "model_path = os.path.join(root_path,\n",
    "                          'workspace_icon-ml/cloud_cover_parameterization/grid_column_based_QUBICC_R02B05/saved_models')"
   ]
  },
  {
   "cell_type": "markdown",
   "metadata": {},
   "source": [
    "### We use SHAP on the R2B5 NARVAL data (Key Point 3)"
   ]
  },
  {
   "cell_type": "code",
   "execution_count": 3,
   "metadata": {},
   "outputs": [
    {
     "name": "stdout",
     "output_type": "stream",
     "text": [
      "qv\n",
      "qc\n",
      "qi\n",
      "temp\n",
      "pres\n"
     ]
    }
   ],
   "source": [
    "# Load data\n",
    "ORDER_OF_VARS_NARVAL = ['qv', 'qc', 'qi', 'temp', 'pres', 'zg', 'fr_land', 'clc']\n",
    "# data_dict = load_data(source='narval', days='all', vert_interp=True, resolution='R02B05', \n",
    "#                     order_of_vars=ORDER_OF_VARS_NARVAL)\n",
    "data_dict = load_data(source='narval', days='all', vert_interp=True, resolution='R02B05', \n",
    "                    order_of_vars=ORDER_OF_VARS_NARVAL)"
   ]
  },
  {
   "cell_type": "code",
   "execution_count": 4,
   "metadata": {},
   "outputs": [
    {
     "data": {
      "text/plain": [
       "2923"
      ]
     },
     "execution_count": 4,
     "metadata": {},
     "output_type": "execute_result"
    }
   ],
   "source": [
    "# Are there any bad data points\n",
    "ta_is_0 = np.where(data_dict['temp'] == 0)\n",
    "for i in range(3):\n",
    "    assert ta_is_0[i].size == 0\n",
    "\n",
    "del ta_is_0\n",
    "gc.collect()"
   ]
  },
  {
   "cell_type": "code",
   "execution_count": 5,
   "metadata": {},
   "outputs": [],
   "source": [
    "(TIME_STEPS, VERT_LAYERS, HORIZ_FIELDS) = data_dict['clc'].shape"
   ]
  },
  {
   "cell_type": "code",
   "execution_count": 6,
   "metadata": {},
   "outputs": [],
   "source": [
    "try:\n",
    "    #Reshaping into nd-arrays of equaling shapes (don't reshape in the vertical)\n",
    "    data_dict['zg'] = np.repeat(np.expand_dims(data_dict['zg'], 0), TIME_STEPS, axis=0)\n",
    "    data_dict['fr_land'] = np.repeat(np.expand_dims(data_dict['fr_land'], 0), TIME_STEPS, axis=0)\n",
    "except:\n",
    "    pass"
   ]
  },
  {
   "cell_type": "code",
   "execution_count": 7,
   "metadata": {},
   "outputs": [],
   "source": [
    "# One sample should contain a column of information\n",
    "data_dict_reshaped = {}\n",
    "\n",
    "for key in data_dict.keys():\n",
    "    if data_dict[key].shape[1] == VERT_LAYERS:  \n",
    "        # Removing data above 21kms\n",
    "        for i in range(4, VERT_LAYERS):\n",
    "            new_key = '{}{}{:d}'.format(key,'_',(i+17)) # Should start at 21\n",
    "            data_dict_reshaped[new_key] = np.reshape(data_dict[key][:,i,:], -1)\n",
    "    else:\n",
    "        data_dict_reshaped[key] = np.reshape(data_dict[key], -1)"
   ]
  },
  {
   "cell_type": "code",
   "execution_count": 8,
   "metadata": {},
   "outputs": [
    {
     "data": {
      "text/html": [
       "<div>\n",
       "<style scoped>\n",
       "    .dataframe tbody tr th:only-of-type {\n",
       "        vertical-align: middle;\n",
       "    }\n",
       "\n",
       "    .dataframe tbody tr th {\n",
       "        vertical-align: top;\n",
       "    }\n",
       "\n",
       "    .dataframe thead th {\n",
       "        text-align: right;\n",
       "    }\n",
       "</style>\n",
       "<table border=\"1\" class=\"dataframe\">\n",
       "  <thead>\n",
       "    <tr style=\"text-align: right;\">\n",
       "      <th></th>\n",
       "      <th>qv_21</th>\n",
       "      <th>qv_22</th>\n",
       "      <th>qv_23</th>\n",
       "      <th>qv_24</th>\n",
       "      <th>qv_25</th>\n",
       "      <th>qv_26</th>\n",
       "      <th>qv_27</th>\n",
       "      <th>qv_28</th>\n",
       "      <th>qv_29</th>\n",
       "      <th>qv_30</th>\n",
       "      <th>...</th>\n",
       "      <th>clc_38</th>\n",
       "      <th>clc_39</th>\n",
       "      <th>clc_40</th>\n",
       "      <th>clc_41</th>\n",
       "      <th>clc_42</th>\n",
       "      <th>clc_43</th>\n",
       "      <th>clc_44</th>\n",
       "      <th>clc_45</th>\n",
       "      <th>clc_46</th>\n",
       "      <th>clc_47</th>\n",
       "    </tr>\n",
       "  </thead>\n",
       "  <tbody>\n",
       "    <tr>\n",
       "      <th>0</th>\n",
       "      <td>0.000003</td>\n",
       "      <td>0.000003</td>\n",
       "      <td>0.000003</td>\n",
       "      <td>0.000003</td>\n",
       "      <td>0.000006</td>\n",
       "      <td>0.000024</td>\n",
       "      <td>0.000089</td>\n",
       "      <td>0.000198</td>\n",
       "      <td>0.000254</td>\n",
       "      <td>0.000111</td>\n",
       "      <td>...</td>\n",
       "      <td>0.0</td>\n",
       "      <td>0.000000</td>\n",
       "      <td>0.000000</td>\n",
       "      <td>0.000000</td>\n",
       "      <td>0.0</td>\n",
       "      <td>0.0</td>\n",
       "      <td>0.0</td>\n",
       "      <td>0.0</td>\n",
       "      <td>0.0</td>\n",
       "      <td>0.0</td>\n",
       "    </tr>\n",
       "    <tr>\n",
       "      <th>1</th>\n",
       "      <td>0.000003</td>\n",
       "      <td>0.000003</td>\n",
       "      <td>0.000003</td>\n",
       "      <td>0.000003</td>\n",
       "      <td>0.000005</td>\n",
       "      <td>0.000020</td>\n",
       "      <td>0.000099</td>\n",
       "      <td>0.000155</td>\n",
       "      <td>0.000234</td>\n",
       "      <td>0.000091</td>\n",
       "      <td>...</td>\n",
       "      <td>0.0</td>\n",
       "      <td>0.000827</td>\n",
       "      <td>0.001540</td>\n",
       "      <td>0.068071</td>\n",
       "      <td>0.0</td>\n",
       "      <td>0.0</td>\n",
       "      <td>0.0</td>\n",
       "      <td>0.0</td>\n",
       "      <td>0.0</td>\n",
       "      <td>0.0</td>\n",
       "    </tr>\n",
       "    <tr>\n",
       "      <th>2</th>\n",
       "      <td>0.000003</td>\n",
       "      <td>0.000003</td>\n",
       "      <td>0.000003</td>\n",
       "      <td>0.000003</td>\n",
       "      <td>0.000006</td>\n",
       "      <td>0.000027</td>\n",
       "      <td>0.000031</td>\n",
       "      <td>0.000106</td>\n",
       "      <td>0.000218</td>\n",
       "      <td>0.000140</td>\n",
       "      <td>...</td>\n",
       "      <td>0.0</td>\n",
       "      <td>0.729135</td>\n",
       "      <td>0.202046</td>\n",
       "      <td>0.000000</td>\n",
       "      <td>0.0</td>\n",
       "      <td>0.0</td>\n",
       "      <td>0.0</td>\n",
       "      <td>0.0</td>\n",
       "      <td>0.0</td>\n",
       "      <td>0.0</td>\n",
       "    </tr>\n",
       "    <tr>\n",
       "      <th>3</th>\n",
       "      <td>0.000003</td>\n",
       "      <td>0.000003</td>\n",
       "      <td>0.000003</td>\n",
       "      <td>0.000002</td>\n",
       "      <td>0.000007</td>\n",
       "      <td>0.000023</td>\n",
       "      <td>0.000085</td>\n",
       "      <td>0.000273</td>\n",
       "      <td>0.000234</td>\n",
       "      <td>0.000278</td>\n",
       "      <td>...</td>\n",
       "      <td>0.0</td>\n",
       "      <td>0.000000</td>\n",
       "      <td>0.000000</td>\n",
       "      <td>0.000000</td>\n",
       "      <td>0.0</td>\n",
       "      <td>0.0</td>\n",
       "      <td>0.0</td>\n",
       "      <td>0.0</td>\n",
       "      <td>0.0</td>\n",
       "      <td>0.0</td>\n",
       "    </tr>\n",
       "    <tr>\n",
       "      <th>4</th>\n",
       "      <td>0.000003</td>\n",
       "      <td>0.000003</td>\n",
       "      <td>0.000003</td>\n",
       "      <td>0.000003</td>\n",
       "      <td>0.000006</td>\n",
       "      <td>0.000027</td>\n",
       "      <td>0.000085</td>\n",
       "      <td>0.000277</td>\n",
       "      <td>0.000229</td>\n",
       "      <td>0.000292</td>\n",
       "      <td>...</td>\n",
       "      <td>0.0</td>\n",
       "      <td>0.000000</td>\n",
       "      <td>0.000000</td>\n",
       "      <td>0.000000</td>\n",
       "      <td>0.0</td>\n",
       "      <td>0.0</td>\n",
       "      <td>0.0</td>\n",
       "      <td>0.0</td>\n",
       "      <td>0.0</td>\n",
       "      <td>0.0</td>\n",
       "    </tr>\n",
       "  </tbody>\n",
       "</table>\n",
       "<p>5 rows × 190 columns</p>\n",
       "</div>"
      ],
      "text/plain": [
       "      qv_21     qv_22     qv_23     qv_24     qv_25     qv_26     qv_27  \\\n",
       "0  0.000003  0.000003  0.000003  0.000003  0.000006  0.000024  0.000089   \n",
       "1  0.000003  0.000003  0.000003  0.000003  0.000005  0.000020  0.000099   \n",
       "2  0.000003  0.000003  0.000003  0.000003  0.000006  0.000027  0.000031   \n",
       "3  0.000003  0.000003  0.000003  0.000002  0.000007  0.000023  0.000085   \n",
       "4  0.000003  0.000003  0.000003  0.000003  0.000006  0.000027  0.000085   \n",
       "\n",
       "      qv_28     qv_29     qv_30  ...  clc_38    clc_39    clc_40    clc_41  \\\n",
       "0  0.000198  0.000254  0.000111  ...     0.0  0.000000  0.000000  0.000000   \n",
       "1  0.000155  0.000234  0.000091  ...     0.0  0.000827  0.001540  0.068071   \n",
       "2  0.000106  0.000218  0.000140  ...     0.0  0.729135  0.202046  0.000000   \n",
       "3  0.000273  0.000234  0.000278  ...     0.0  0.000000  0.000000  0.000000   \n",
       "4  0.000277  0.000229  0.000292  ...     0.0  0.000000  0.000000  0.000000   \n",
       "\n",
       "   clc_42  clc_43  clc_44  clc_45  clc_46  clc_47  \n",
       "0     0.0     0.0     0.0     0.0     0.0     0.0  \n",
       "1     0.0     0.0     0.0     0.0     0.0     0.0  \n",
       "2     0.0     0.0     0.0     0.0     0.0     0.0  \n",
       "3     0.0     0.0     0.0     0.0     0.0     0.0  \n",
       "4     0.0     0.0     0.0     0.0     0.0     0.0  \n",
       "\n",
       "[5 rows x 190 columns]"
      ]
     },
     "execution_count": 8,
     "metadata": {},
     "output_type": "execute_result"
    }
   ],
   "source": [
    "#Converting dict into a DataFrame-object \n",
    "df = pd.DataFrame.from_dict(data_dict_reshaped)\n",
    "df.head()"
   ]
  },
  {
   "cell_type": "code",
   "execution_count": 9,
   "metadata": {},
   "outputs": [],
   "source": [
    "#Modifies df as well\n",
    "def split_input_output(dataset):\n",
    "    output_df = pd.DataFrame()\n",
    "    for i in range(21, 48):\n",
    "        output_df['clc_%d'%i] = dataset['clc_%d'%i] # Should start at 21\n",
    "        del dataset['clc_%d'%i]\n",
    "    return output_df"
   ]
  },
  {
   "cell_type": "code",
   "execution_count": 10,
   "metadata": {},
   "outputs": [],
   "source": [
    "output_df = split_input_output(df)\n",
    "\n",
    "input_narval = np.float32(df)\n",
    "output_narval = np.float32(output_df)"
   ]
  },
  {
   "cell_type": "markdown",
   "metadata": {},
   "source": [
    "#### Remove columns that were constant in at least one of the training folds"
   ]
  },
  {
   "cell_type": "code",
   "execution_count": 11,
   "metadata": {},
   "outputs": [],
   "source": [
    "remove_fields = [27, 28, 29, 30, 31, 32, 135, 136, 137]\n",
    "(samples_narval, no_of_features) = input_narval.shape\n",
    "assert no_of_features == 163\n",
    "\n",
    "input_narval = np.delete(input_narval, remove_fields, axis=1)\n",
    "no_of_features = no_of_features - len(remove_fields)"
   ]
  },
  {
   "cell_type": "markdown",
   "metadata": {},
   "source": [
    "#### Scale the data according to the model's mean and std"
   ]
  },
  {
   "cell_type": "code",
   "execution_count": 12,
   "metadata": {},
   "outputs": [],
   "source": [
    "mean_2, std_2 = read_mean_and_std(model_path+'/cloud_cover_R2B5_QUBICC/cross_validation_column_based_fold_2.txt')\n",
    "input_narval = (input_narval-mean_2)/std_2"
   ]
  },
  {
   "cell_type": "markdown",
   "metadata": {},
   "source": [
    "#### Load the model"
   ]
  },
  {
   "cell_type": "code",
   "execution_count": 13,
   "metadata": {},
   "outputs": [
    {
     "data": {
      "text/plain": [
       "['cross_validation_column_based_fold_3.txt',\n",
       " '.ipynb_checkpoints',\n",
       " 'cross_validation_column_based_fold_3.h5',\n",
       " 'delete_this.ipynb',\n",
       " 'cross_validation_column_based_fold_2.txt',\n",
       " 'cross_validation_column_based_fold_2.yaml',\n",
       " 'cross_validation_column_based_fold_2.h5',\n",
       " 'cross_validation_column_based_fold_1.txt',\n",
       " 'cross_validation_column_based_fold_3.yaml',\n",
       " 'scaler_100.txt',\n",
       " 'cross_validation_column_based_fold_1.h5',\n",
       " 'cross_validation_column_based_fold_1.yaml']"
      ]
     },
     "execution_count": 13,
     "metadata": {},
     "output_type": "execute_result"
    }
   ],
   "source": [
    "os.listdir(model_path+'/cloud_cover_R2B5_QUBICC')"
   ]
  },
  {
   "cell_type": "code",
   "execution_count": 14,
   "metadata": {},
   "outputs": [],
   "source": [
    "# custom_objects = {}\n",
    "# custom_objects['leaky_relu'] = nn.leaky_relu\n",
    "\n",
    "fold_2 = 'cross_validation_column_based_fold_2.h5'\n",
    "\n",
    "model_fold_2 = load_model(os.path.join(model_path+'/cloud_cover_R2B5_QUBICC', fold_2))"
   ]
  },
  {
   "cell_type": "markdown",
   "metadata": {},
   "source": [
    "#### Setting up SHAP"
   ]
  },
  {
   "cell_type": "code",
   "execution_count": null,
   "metadata": {},
   "outputs": [],
   "source": [
    "# Load column-based R2B5 training data\n",
    "path_train_data = '/pf/b/b309170/my_work/icon-ml_data/cloud_cover_parameterization/grid_column_based_QUBICC_R02B05/based_on_var_interpolated_data'\n",
    "input_train = np.transpose(np.load(path_train_data + '/cloud_cover_input_qubicc.npy'))"
   ]
  },
  {
   "cell_type": "code",
   "execution_count": null,
   "metadata": {},
   "outputs": [],
   "source": [
    "no_samples_train = 10000\n",
    "\n",
    "rand_indices_train = np.random.randint(0, input_train.shape[0], no_samples_train)"
   ]
  },
  {
   "cell_type": "code",
   "execution_count": null,
   "metadata": {},
   "outputs": [],
   "source": [
    "# Load column-based R2B5 training data\n",
    "input_train = np.delete(input_train, remove_fields, axis=1)\n",
    "input_train = np.float32(input_train)[rand_indices_train]\n",
    "input_train = (input_train-mean_2)/std_2"
   ]
  },
  {
   "cell_type": "code",
   "execution_count": null,
   "metadata": {},
   "outputs": [],
   "source": [
    "#initialize js methods for visualization\n",
    "shap.initjs()\n",
    "\n",
    "# It takes any combination of a model and masker (usually the training data!) and \n",
    "# returns a callable subclass object that implements the particular estimation algorithm \n",
    "# (e.g. 'kernel' or 'deep') that was chosen.\n",
    "# Data is taken to compute the base value.\n",
    "explainer_shap = shap.DeepExplainer(model=model_fold_2, data=input_train)"
   ]
  },
  {
   "cell_type": "code",
   "execution_count": null,
   "metadata": {},
   "outputs": [],
   "source": [
    "#I doubt we can look at much more than 10000 at a time\n",
    "# for no_samples_narval in [10, 10**2, 10**3, 10**4, 10**5]:\n",
    "for no_samples_narval in [10000]:\n",
    "    rand_indices_narval = np.random.randint(0, input_narval.shape[0], no_samples_narval)\n",
    "    t0 = time.time()\n",
    "    # Estimate the SHAP values on a subset of the data (you can try all but then gets slower)\n",
    "    # It's not great to disable the additivity check but we are talking about differences of O(10^{-1}).\n",
    "    shap_values = explainer_shap.shap_values(X=input_narval[rand_indices_narval], check_additivity=False)   \n",
    "    elapsed_time = time.time() - t0\n",
    "    \n",
    "    # Print to a file: no_samples_narval, elapsed_time, mean shap values, \n",
    "    # variance shap values, mean absolute shap values\n",
    "    with open('/pf/b/b309170/workspace_icon-ml/iconml_clc/additional_content/shap_values/averaged_shap_values/r2b5_column-based_fold_2_on_narval_r2b5.txt', 'a') as file:\n",
    "        file.write('Number of NARVAL samples: %d\\n'%no_samples_narval)\n",
    "        file.write('Elapsed time: %.3f\\n'%elapsed_time)\n",
    "        file.write('Mean SHAP values:\\n')\n",
    "        for i in range(27):\n",
    "            file.write(str(list(np.around(np.mean(shap_values[i], axis=0, dtype=np.float64), 3))))\n",
    "        file.write('\\nVariance SHAP values:\\n')\n",
    "        for i in range(27):\n",
    "            file.write(str(list(np.around(np.var(shap_values[i], axis=0, dtype=np.float64), 3))))\n",
    "        file.write('\\nMean absolute SHAP values:\\n')\n",
    "        for i in range(27):\n",
    "            file.write(str(list(np.around(np.mean(np.abs(shap_values[i]), axis=0, dtype=np.float64), 3))))\n",
    "        file.write('\\n\\n')"
   ]
  }
 ],
 "metadata": {
  "kernelspec": {
   "display_name": "clouds113_kernel",
   "language": "python",
   "name": "clouds113_kernel"
  },
  "language_info": {
   "codemirror_mode": {
    "name": "ipython",
    "version": 3
   },
   "file_extension": ".py",
   "mimetype": "text/x-python",
   "name": "python",
   "nbconvert_exporter": "python",
   "pygments_lexer": "ipython3",
   "version": "3.7.10"
  }
 },
 "nbformat": 4,
 "nbformat_minor": 4
}
