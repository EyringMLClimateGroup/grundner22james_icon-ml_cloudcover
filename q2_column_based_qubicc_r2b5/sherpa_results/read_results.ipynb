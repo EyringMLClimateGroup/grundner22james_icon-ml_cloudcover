{
 "cells": [
  {
   "cell_type": "markdown",
   "metadata": {},
   "source": [
    "## Reading SHERPA results"
   ]
  },
  {
   "cell_type": "code",
   "execution_count": 1,
   "metadata": {},
   "outputs": [],
   "source": [
    "import pandas as pd\n",
    "import numpy as np\n",
    "import os\n",
    "import matplotlib.pyplot as plt"
   ]
  },
  {
   "cell_type": "code",
   "execution_count": 2,
   "metadata": {},
   "outputs": [],
   "source": [
    "# Creating a dictionary of dataframes, where each dataframe corresponds to a csv-file.\n",
    "ls = os.listdir()\n",
    "other_files = 0\n",
    "df = {}\n",
    "for i in range(len(ls)):\n",
    "    try:\n",
    "        with open(ls[i]+'/results.csv', 'r') as file:\n",
    "            df[ls[i]] = pd.read_csv(file)\n",
    "    except (FileNotFoundError, NotADirectoryError):\n",
    "        other_files += other_files"
   ]
  },
  {
   "cell_type": "code",
   "execution_count": 3,
   "metadata": {},
   "outputs": [
    {
     "data": {
      "text/plain": [
       "Index(['Trial-ID', 'Status', 'Iteration', 'activation_1', 'activation_2',\n",
       "       'activation_3', 'activation_4', 'bn_1', 'bn_2', 'bn_3', 'bn_4',\n",
       "       'dropout', 'epsilon', 'l1_reg', 'l2_reg', 'last_activation', 'lrinit',\n",
       "       'model_depth', 'num_units', 'optimizer', 'Objective'],\n",
       "      dtype='object')"
      ]
     },
     "execution_count": 3,
     "metadata": {},
     "output_type": "execute_result"
    }
   ],
   "source": [
    "# All hyperparameters \n",
    "df['2021-05_295759'].columns"
   ]
  },
  {
   "cell_type": "markdown",
   "metadata": {},
   "source": [
    "### Plotting the number of model parameters vs the validation loss"
   ]
  },
  {
   "cell_type": "code",
   "execution_count": 4,
   "metadata": {},
   "outputs": [],
   "source": [
    "model_parameters = []\n",
    "objective = []\n",
    "\n",
    "for key in df:\n",
    "    for k in range(df[key].shape[0]):\n",
    "        d = df[key].at[k, 'model_depth']\n",
    "        u = df[key].at[k, 'num_units']\n",
    "        # d-1 is the number of hidden layers, 10*u + 1 is the number of input and output weights & biases\n",
    "        model_parameters.append(10*u + 1 + (d-2)*(u**2 + u))\n",
    "        objective.append(df[key].at[k, 'Objective'])"
   ]
  },
  {
   "cell_type": "code",
   "execution_count": 5,
   "metadata": {},
   "outputs": [
    {
     "data": {
      "text/plain": [
       "[<matplotlib.lines.Line2D at 0x2b1aad1aec50>]"
      ]
     },
     "execution_count": 5,
     "metadata": {},
     "output_type": "execute_result"
    },
    {
     "data": {
      "image/png": "[encoded data removed]",
      "text/plain": [
       "<Figure size 1080x288 with 2 Axes>"
      ]
     },
     "metadata": {
      "needs_background": "light"
     },
     "output_type": "display_data"
    }
   ],
   "source": [
    "fig = plt.figure()\n",
    "fig.set_figwidth(15)\n",
    "\n",
    "ax = fig.add_subplot(1,2,1)\n",
    "plt.figure(1, figsize = (8,8))\n",
    "plt.xlabel('Number of model parameters')\n",
    "plt.ylabel('Validation loss')\n",
    "plt.plot(model_parameters, objective, 'b.')\n",
    "\n",
    "ax = fig.add_subplot(1,2,2)\n",
    "plt.figure(1, figsize = (8,5))\n",
    "plt.title('Zoomed in')\n",
    "plt.xlabel('Number of model parameters')\n",
    "plt.ylabel('Validation loss')\n",
    "plt.ylim([30,40])\n",
    "plt.plot(model_parameters, objective, 'b.')"
   ]
  },
  {
   "cell_type": "code",
   "execution_count": 6,
   "metadata": {},
   "outputs": [
    {
     "name": "stdout",
     "output_type": "stream",
     "text": [
      "Trial-ID                                            5\n",
      "Status                                      COMPLETED\n",
      "Iteration                                           2\n",
      "activation_1                                      elu\n",
      "activation_2       <function lrelu at 0x2adda2427b00>\n",
      "activation_3                                      NaN\n",
      "activation_4                                      NaN\n",
      "bn_1                                                1\n",
      "bn_2                                                0\n",
      "bn_3                                                1\n",
      "bn_4                                                0\n",
      "dropout                                      0.013119\n",
      "epsilon                                           0.1\n",
      "l1_reg                                       0.000822\n",
      "l2_reg                                        0.00774\n",
      "last_activation                                linear\n",
      "lrinit                                       0.000713\n",
      "model_depth                                         3\n",
      "num_units                                         128\n",
      "optimizer                                     RMSprop\n",
      "Objective                                   33.694141\n",
      "Name: 4, dtype: object\n",
      "Date and Optimizer: 2021-05_309867\n",
      "Trial-ID                                                 8\n",
      "Status                                           COMPLETED\n",
      "Iteration                                                2\n",
      "activation_1                                          relu\n",
      "activation_2                                           elu\n",
      "activation_3                                           NaN\n",
      "activation_4                                           NaN\n",
      "bn_1                                                     0\n",
      "bn_2                                                     1\n",
      "bn_3                                                     0\n",
      "bn_4                                                     0\n",
      "dropout                                           0.234495\n",
      "epsilon                                                0.1\n",
      "l1_reg                                            0.001324\n",
      "l2_reg                                            0.003222\n",
      "last_activation    <function my_act_fct at 0x2b3fc6a91ef0>\n",
      "lrinit                                            0.000851\n",
      "model_depth                                              3\n",
      "num_units                                               64\n",
      "optimizer                                         adadelta\n",
      "Objective                                        35.126495\n",
      "Name: 7, dtype: object\n",
      "Date and Optimizer: 2021-05_88955\n",
      "Trial-ID                                                 9\n",
      "Status                                           COMPLETED\n",
      "Iteration                                                2\n",
      "activation_1       <function leaky_relu at 0x2af7a7c64ef0>\n",
      "activation_2            <function lrelu at 0x2af7b0a40b00>\n",
      "activation_3                                           elu\n",
      "activation_4                                           NaN\n",
      "bn_1                                                     0\n",
      "bn_2                                                     0\n",
      "bn_3                                                     0\n",
      "bn_4                                                     1\n",
      "dropout                                           0.228583\n",
      "epsilon                                                1.0\n",
      "l1_reg                                            0.001821\n",
      "l2_reg                                            0.003629\n",
      "last_activation                                     linear\n",
      "lrinit                                            0.000831\n",
      "model_depth                                              4\n",
      "num_units                                              256\n",
      "optimizer                                         adadelta\n",
      "Objective                                        36.009537\n",
      "Name: 8, dtype: object\n",
      "Date and Optimizer: 2021-05_190110\n",
      "Trial-ID                                            5\n",
      "Status                                      COMPLETED\n",
      "Iteration                                           2\n",
      "activation_1                                      elu\n",
      "activation_2       <function lrelu at 0x2af7b0a40b00>\n",
      "activation_3                                      NaN\n",
      "activation_4                                      NaN\n",
      "bn_1                                                0\n",
      "bn_2                                                0\n",
      "bn_3                                                1\n",
      "bn_4                                                1\n",
      "dropout                                      0.076011\n",
      "epsilon                                           0.1\n",
      "l1_reg                                        0.00413\n",
      "l2_reg                                       0.001096\n",
      "last_activation                                linear\n",
      "lrinit                                       0.003532\n",
      "model_depth                                         3\n",
      "num_units                                          32\n",
      "optimizer                                    adadelta\n",
      "Objective                                   36.241489\n",
      "Name: 4, dtype: object\n",
      "Date and Optimizer: 2021-05_190110\n",
      "Trial-ID                                                 4\n",
      "Status                                           COMPLETED\n",
      "Iteration                                                2\n",
      "activation_1                                          tanh\n",
      "activation_2                                           elu\n",
      "activation_3                                           elu\n",
      "activation_4                                           NaN\n",
      "bn_1                                                     1\n",
      "bn_2                                                     0\n",
      "bn_3                                                     1\n",
      "bn_4                                                     1\n",
      "dropout                                           0.097006\n",
      "epsilon                                                0.0\n",
      "l1_reg                                            0.003466\n",
      "l2_reg                                            0.001311\n",
      "last_activation    <function my_act_fct at 0x2b3fc6a91ef0>\n",
      "lrinit                                            0.000496\n",
      "model_depth                                              4\n",
      "num_units                                               32\n",
      "optimizer                                             adam\n",
      "Objective                                        36.832199\n",
      "Name: 3, dtype: object\n",
      "Date and Optimizer: 2021-05_88955\n",
      "Trial-ID                                                16\n",
      "Status                                           COMPLETED\n",
      "Iteration                                                2\n",
      "activation_1       <function leaky_relu at 0x2add99653ef0>\n",
      "activation_2            <function lrelu at 0x2adda2427b00>\n",
      "activation_3                                           NaN\n",
      "activation_4                                           NaN\n",
      "bn_1                                                     1\n",
      "bn_2                                                     1\n",
      "bn_3                                                     1\n",
      "bn_4                                                     0\n",
      "dropout                                           0.227738\n",
      "epsilon                                                1.0\n",
      "l1_reg                                            0.000258\n",
      "l2_reg                                            0.008475\n",
      "last_activation    <function my_act_fct at 0x2add50d62ef0>\n",
      "lrinit                                            0.000608\n",
      "model_depth                                              3\n",
      "num_units                                              128\n",
      "optimizer                                             adam\n",
      "Objective                                        38.397118\n",
      "Name: 15, dtype: object\n",
      "Date and Optimizer: 2021-05_309867\n",
      "Trial-ID                                                 1\n",
      "Status                                           COMPLETED\n",
      "Iteration                                                2\n",
      "activation_1                                           elu\n",
      "activation_2                                          tanh\n",
      "activation_3       <function leaky_relu at 0x2af7a7c64ef0>\n",
      "activation_4                                           NaN\n",
      "bn_1                                                     1\n",
      "bn_2                                                     0\n",
      "bn_3                                                     0\n",
      "bn_4                                                     0\n",
      "dropout                                            0.26903\n",
      "epsilon                                                0.0\n",
      "l1_reg                                            0.002096\n",
      "l2_reg                                            0.002684\n",
      "last_activation                                     linear\n",
      "lrinit                                            0.046678\n",
      "model_depth                                              4\n",
      "num_units                                              256\n",
      "optimizer                                         adadelta\n",
      "Objective                                         39.39101\n",
      "Name: 0, dtype: object\n",
      "Date and Optimizer: 2021-05_190110\n"
     ]
    }
   ],
   "source": [
    "# Date and optimizer of the best runs\n",
    "\n",
    "for j in range(7):\n",
    "    which_file = 0\n",
    "    best_index = np.argsort(objective)[j]\n",
    "    for key in df.keys():\n",
    "        which_file = which_file + df[key].shape[0]\n",
    "        if which_file > best_index:\n",
    "            print(df[key].iloc[df[key].shape[0]+best_index-which_file])\n",
    "            print('Date and Optimizer: ' + key)\n",
    "            break\n",
    "\n",
    "# Which job was associated with which random number?\n",
    "jobs = {292439: 29576035, 308527: 29576525, 152287: 29576523,\n",
    "        132049: 29576218, 114486: 29576524}\\"
   ]
  }
 ],
 "metadata": {
  "kernelspec": {
   "display_name": "clouds113_kernel",
   "language": "python",
   "name": "clouds113_kernel"
  },
  "language_info": {
   "codemirror_mode": {
    "name": "ipython",
    "version": 3
   },
   "file_extension": ".py",
   "mimetype": "text/x-python",
   "name": "python",
   "nbconvert_exporter": "python",
   "pygments_lexer": "ipython3",
   "version": "3.7.10"
  }
 },
 "nbformat": 4,
 "nbformat_minor": 4
}
