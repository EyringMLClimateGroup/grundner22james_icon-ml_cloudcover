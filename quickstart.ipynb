{
 "cells": [
  {
   "cell_type": "markdown",
   "metadata": {},
   "source": [
    "### The training and evaluation of a cell-based NARVAL R2B4 model\n",
    "\n",
    "This notebook is a quickly illustrates the process of training and evaluating a cell-based neural network based cloud cover parameterization.<br> We train and evaluate the neural network on coarse-grained and preprocessed NARVAL R2B4 data. In this notebook, we work with data that is already prepared for this purpose."
   ]
  },
  {
   "cell_type": "code",
   "execution_count": 1,
   "metadata": {},
   "outputs": [
    {
     "data": {
      "text/plain": [
       "[PhysicalDevice(name='/physical_device:GPU:0', device_type='GPU'),\n",
       " PhysicalDevice(name='/physical_device:GPU:1', device_type='GPU'),\n",
       " PhysicalDevice(name='/physical_device:GPU:2', device_type='GPU'),\n",
       " PhysicalDevice(name='/physical_device:GPU:3', device_type='GPU')]"
      ]
     },
     "execution_count": 1,
     "metadata": {},
     "output_type": "execute_result"
    }
   ],
   "source": [
    "# Importing necessary packages\n",
    "import sys\n",
    "import time\n",
    "import pandas as pd\n",
    "import numpy as np\n",
    "import tensorflow as tf\n",
    "import matplotlib.pyplot as plt\n",
    "import os\n",
    "\n",
    "from tensorflow.keras.models import load_model\n",
    "from tensorflow.keras.optimizers import Nadam\n",
    "from tensorflow.keras.models import Sequential\n",
    "from tensorflow.keras.layers import Dense\n",
    "\n",
    "# Print options for pandas\n",
    "pd.options.display.float_format = \"{:,.2g}\".format\n",
    "\n",
    "# Reloading custom file to incorporate changes dynamically\n",
    "import importlib\n",
    "import my_classes\n",
    "importlib.reload(my_classes)\n",
    "\n",
    "# Data path\n",
    "path = '/pf/b/b309170'\n",
    "path_data = path + '/workspace_icon-ml/iconml_clc/extract_from_the_data/coarse-grained_and_preprocessed/narval_r2b4_cell_based'\n",
    "\n",
    "# Stop training after how many minutes.\n",
    "# We decreased the training time for this notebook to an hour.\n",
    "from my_classes import TimeOut\n",
    "t0 = time.time()\n",
    "timeout = 60 \n",
    "\n",
    "# Random seed\n",
    "NUM = 1 \n",
    "tf.random.set_seed(NUM)\n",
    "\n",
    "# List GPUs\n",
    "gpus = tf.config.experimental.list_physical_devices('GPU')\n",
    "gpus"
   ]
  },
  {
   "cell_type": "markdown",
   "metadata": {},
   "source": [
    "#### Loading the data\n",
    "**Input-variables:**\n",
    "- *fr_land*: Fraction of land \n",
    "- *z_g*: Geometric height at full levels\n",
    "- *q_v*: Specific water vapor content\n",
    "- *q_i*: Specific cloud ice content\n",
    "- *temp*: Temperature\n",
    "- *pres*: Pressure\n",
    "\n",
    "**Output-variables:**\n",
    "- *clc*: Cloud cover (cloud volume fraction)"
   ]
  },
  {
   "cell_type": "code",
   "execution_count": 2,
   "metadata": {},
   "outputs": [],
   "source": [
    "# Load coarse-grained and preprocessed data\n",
    "input_train = np.load(path_data + '/cloud_cover_all_days_input_train.npy')\n",
    "input_valid = np.load(path_data + '/cloud_cover_all_days_input_valid.npy')\n",
    "input_test = np.load(path_data + '/cloud_cover_all_days_input_test.npy')\n",
    "output_train = np.load(path_data + '/cloud_cover_all_days_output_train.npy')\n",
    "output_valid = np.load(path_data + '/cloud_cover_all_days_output_valid.npy')\n",
    "output_test = np.load(path_data + '/cloud_cover_all_days_output_test.npy')"
   ]
  },
  {
   "cell_type": "code",
   "execution_count": 3,
   "metadata": {},
   "outputs": [
    {
     "name": "stdout",
     "output_type": "stream",
     "text": [
      "The training data consists of 26482169 training samples.\n",
      "The validation data consists of 2942463 validation samples.\n",
      "The test data consists of 7356158 test samples.\n",
      "We have 6 input features for the neural network.\n"
     ]
    }
   ],
   "source": [
    "print('The training data consists of %d training samples.'%input_train.shape[0])\n",
    "print('The validation data consists of %d validation samples.'%input_valid.shape[0])\n",
    "print('The test data consists of %d test samples.'%input_test.shape[0])\n",
    "\n",
    "print('We have %d input features for the neural network.'%input_train.shape[1])\n",
    "assert input_train.shape[1] == input_valid.shape[1] == input_test.shape[1]"
   ]
  },
  {
   "cell_type": "markdown",
   "metadata": {},
   "source": [
    "#### Looking at the data\n",
    "\n",
    "The corresponding means, standard deviations and features can be found in: <br>\n",
    "/n1_cell_based_narval_r2b4/saved_models/model_grid_cell_based_v3_final_1.txt"
   ]
  },
  {
   "cell_type": "code",
   "execution_count": 4,
   "metadata": {},
   "outputs": [],
   "source": [
    "features = ['qv', 'qi', 'temp', 'pres', 'zg', 'fr_land']\n",
    "mean = np.array([5.37518440e-03, 4.65389731e-07, 2.59635412e+02, 5.52329389e+04, 6.79260772e+03, 2.58097095e-01])\n",
    "std = np.array([6.01943993e-03, 3.95009930e-06, 3.55940285e+01, 3.26642242e+04, 6.20726361e+03, 4.28313535e-01])"
   ]
  },
  {
   "cell_type": "code",
   "execution_count": 5,
   "metadata": {},
   "outputs": [
    {
     "data": {
      "text/html": [
       "<div>\n",
       "<style scoped>\n",
       "    .dataframe tbody tr th:only-of-type {\n",
       "        vertical-align: middle;\n",
       "    }\n",
       "\n",
       "    .dataframe tbody tr th {\n",
       "        vertical-align: top;\n",
       "    }\n",
       "\n",
       "    .dataframe thead th {\n",
       "        text-align: right;\n",
       "    }\n",
       "</style>\n",
       "<table border=\"1\" class=\"dataframe\">\n",
       "  <thead>\n",
       "    <tr style=\"text-align: right;\">\n",
       "      <th></th>\n",
       "      <th>qv</th>\n",
       "      <th>qi</th>\n",
       "      <th>temp</th>\n",
       "      <th>pres</th>\n",
       "      <th>zg</th>\n",
       "      <th>fr_land</th>\n",
       "    </tr>\n",
       "  </thead>\n",
       "  <tbody>\n",
       "    <tr>\n",
       "      <th>count</th>\n",
       "      <td>2.6e+07</td>\n",
       "      <td>2.6e+07</td>\n",
       "      <td>2.6e+07</td>\n",
       "      <td>2.6e+07</td>\n",
       "      <td>2.6e+07</td>\n",
       "      <td>2.6e+07</td>\n",
       "    </tr>\n",
       "    <tr>\n",
       "      <th>mean</th>\n",
       "      <td>2e-16</td>\n",
       "      <td>1.1e-16</td>\n",
       "      <td>-1.2e-14</td>\n",
       "      <td>3e-15</td>\n",
       "      <td>1.5e-16</td>\n",
       "      <td>1.1e-15</td>\n",
       "    </tr>\n",
       "    <tr>\n",
       "      <th>std</th>\n",
       "      <td>1</td>\n",
       "      <td>1</td>\n",
       "      <td>1</td>\n",
       "      <td>1</td>\n",
       "      <td>1</td>\n",
       "      <td>1</td>\n",
       "    </tr>\n",
       "    <tr>\n",
       "      <th>min</th>\n",
       "      <td>-0.89</td>\n",
       "      <td>-0.12</td>\n",
       "      <td>-2.1</td>\n",
       "      <td>-1.5</td>\n",
       "      <td>-1.1</td>\n",
       "      <td>-0.6</td>\n",
       "    </tr>\n",
       "    <tr>\n",
       "      <th>25%</th>\n",
       "      <td>-0.88</td>\n",
       "      <td>-0.12</td>\n",
       "      <td>-0.86</td>\n",
       "      <td>-0.94</td>\n",
       "      <td>-0.88</td>\n",
       "      <td>-0.6</td>\n",
       "    </tr>\n",
       "    <tr>\n",
       "      <th>50%</th>\n",
       "      <td>-0.5</td>\n",
       "      <td>-0.12</td>\n",
       "      <td>0.38</td>\n",
       "      <td>0.11</td>\n",
       "      <td>-0.35</td>\n",
       "      <td>-0.6</td>\n",
       "    </tr>\n",
       "    <tr>\n",
       "      <th>75%</th>\n",
       "      <td>0.95</td>\n",
       "      <td>-0.12</td>\n",
       "      <td>0.87</td>\n",
       "      <td>0.98</td>\n",
       "      <td>0.68</td>\n",
       "      <td>1.3</td>\n",
       "    </tr>\n",
       "    <tr>\n",
       "      <th>max</th>\n",
       "      <td>2.5</td>\n",
       "      <td>2.4e+02</td>\n",
       "      <td>1.6</td>\n",
       "      <td>1.4</td>\n",
       "      <td>2.3</td>\n",
       "      <td>1.7</td>\n",
       "    </tr>\n",
       "  </tbody>\n",
       "</table>\n",
       "</div>"
      ],
      "text/plain": [
       "           qv      qi     temp    pres      zg  fr_land\n",
       "count 2.6e+07 2.6e+07  2.6e+07 2.6e+07 2.6e+07  2.6e+07\n",
       "mean    2e-16 1.1e-16 -1.2e-14   3e-15 1.5e-16  1.1e-15\n",
       "std         1       1        1       1       1        1\n",
       "min     -0.89   -0.12     -2.1    -1.5    -1.1     -0.6\n",
       "25%     -0.88   -0.12    -0.86   -0.94   -0.88     -0.6\n",
       "50%      -0.5   -0.12     0.38    0.11   -0.35     -0.6\n",
       "75%      0.95   -0.12     0.87    0.98    0.68      1.3\n",
       "max       2.5 2.4e+02      1.6     1.4     2.3      1.7"
      ]
     },
     "execution_count": 5,
     "metadata": {},
     "output_type": "execute_result"
    }
   ],
   "source": [
    "# Looking at the data. It is already normalized.\n",
    "pd.DataFrame(input_train, columns=features).describe()"
   ]
  },
  {
   "cell_type": "code",
   "execution_count": 6,
   "metadata": {},
   "outputs": [],
   "source": [
    "# The validation/test data is normalized w.r.t. the training data, so e.g. the means are also close to zero\n",
    "assert 1e-3 < np.sum(np.abs(input_valid.mean(axis=0))) < 1e-2\n",
    "assert 1e-3 < np.sum(np.abs(input_test.mean(axis=0))) < 1e-2"
   ]
  },
  {
   "cell_type": "code",
   "execution_count": 7,
   "metadata": {},
   "outputs": [
    {
     "data": {
      "text/html": [
       "<div>\n",
       "<style scoped>\n",
       "    .dataframe tbody tr th:only-of-type {\n",
       "        vertical-align: middle;\n",
       "    }\n",
       "\n",
       "    .dataframe tbody tr th {\n",
       "        vertical-align: top;\n",
       "    }\n",
       "\n",
       "    .dataframe thead th {\n",
       "        text-align: right;\n",
       "    }\n",
       "</style>\n",
       "<table border=\"1\" class=\"dataframe\">\n",
       "  <thead>\n",
       "    <tr style=\"text-align: right;\">\n",
       "      <th></th>\n",
       "      <th>qv</th>\n",
       "      <th>qi</th>\n",
       "      <th>temp</th>\n",
       "      <th>pres</th>\n",
       "      <th>zg</th>\n",
       "      <th>fr_land</th>\n",
       "    </tr>\n",
       "  </thead>\n",
       "  <tbody>\n",
       "    <tr>\n",
       "      <th>count</th>\n",
       "      <td>2.6e+07</td>\n",
       "      <td>2.6e+07</td>\n",
       "      <td>2.6e+07</td>\n",
       "      <td>2.6e+07</td>\n",
       "      <td>2.6e+07</td>\n",
       "      <td>2.6e+07</td>\n",
       "    </tr>\n",
       "    <tr>\n",
       "      <th>mean</th>\n",
       "      <td>0.0054</td>\n",
       "      <td>4.7e-07</td>\n",
       "      <td>2.6e+02</td>\n",
       "      <td>5.5e+04</td>\n",
       "      <td>6.8e+03</td>\n",
       "      <td>0.26</td>\n",
       "    </tr>\n",
       "    <tr>\n",
       "      <th>std</th>\n",
       "      <td>0.006</td>\n",
       "      <td>4e-06</td>\n",
       "      <td>36</td>\n",
       "      <td>3.3e+04</td>\n",
       "      <td>6.2e+03</td>\n",
       "      <td>0.43</td>\n",
       "    </tr>\n",
       "    <tr>\n",
       "      <th>min</th>\n",
       "      <td>1.2e-06</td>\n",
       "      <td>-1.3e-16</td>\n",
       "      <td>1.9e+02</td>\n",
       "      <td>4.8e+03</td>\n",
       "      <td>20</td>\n",
       "      <td>1.1e-10</td>\n",
       "    </tr>\n",
       "    <tr>\n",
       "      <th>25%</th>\n",
       "      <td>6e-05</td>\n",
       "      <td>-1.3e-16</td>\n",
       "      <td>2.3e+02</td>\n",
       "      <td>2.5e+04</td>\n",
       "      <td>1.3e+03</td>\n",
       "      <td>1.1e-10</td>\n",
       "    </tr>\n",
       "    <tr>\n",
       "      <th>50%</th>\n",
       "      <td>0.0024</td>\n",
       "      <td>-1.2e-16</td>\n",
       "      <td>2.7e+02</td>\n",
       "      <td>5.9e+04</td>\n",
       "      <td>4.6e+03</td>\n",
       "      <td>1.1e-10</td>\n",
       "    </tr>\n",
       "    <tr>\n",
       "      <th>75%</th>\n",
       "      <td>0.011</td>\n",
       "      <td>6e-16</td>\n",
       "      <td>2.9e+02</td>\n",
       "      <td>8.7e+04</td>\n",
       "      <td>1.1e+04</td>\n",
       "      <td>0.82</td>\n",
       "    </tr>\n",
       "    <tr>\n",
       "      <th>max</th>\n",
       "      <td>0.021</td>\n",
       "      <td>0.00095</td>\n",
       "      <td>3.2e+02</td>\n",
       "      <td>1e+05</td>\n",
       "      <td>2.1e+04</td>\n",
       "      <td>1</td>\n",
       "    </tr>\n",
       "  </tbody>\n",
       "</table>\n",
       "</div>"
      ],
      "text/plain": [
       "           qv       qi    temp    pres      zg  fr_land\n",
       "count 2.6e+07  2.6e+07 2.6e+07 2.6e+07 2.6e+07  2.6e+07\n",
       "mean   0.0054  4.7e-07 2.6e+02 5.5e+04 6.8e+03     0.26\n",
       "std     0.006    4e-06      36 3.3e+04 6.2e+03     0.43\n",
       "min   1.2e-06 -1.3e-16 1.9e+02 4.8e+03      20  1.1e-10\n",
       "25%     6e-05 -1.3e-16 2.3e+02 2.5e+04 1.3e+03  1.1e-10\n",
       "50%    0.0024 -1.2e-16 2.7e+02 5.9e+04 4.6e+03  1.1e-10\n",
       "75%     0.011    6e-16 2.9e+02 8.7e+04 1.1e+04     0.82\n",
       "max     0.021  0.00095 3.2e+02   1e+05 2.1e+04        1"
      ]
     },
     "execution_count": 7,
     "metadata": {},
     "output_type": "execute_result"
    }
   ],
   "source": [
    "# Reverse scaling to look at the original data\n",
    "pd.DataFrame((input_train*std)+mean, columns=features).describe()"
   ]
  },
  {
   "cell_type": "markdown",
   "metadata": {},
   "source": [
    "#### The neural network"
   ]
  },
  {
   "cell_type": "code",
   "execution_count": 8,
   "metadata": {},
   "outputs": [
    {
     "name": "stdout",
     "output_type": "stream",
     "text": [
      "Model: \"sequential\"\n",
      "_________________________________________________________________\n",
      "Layer (type)                 Output Shape              Param #   \n",
      "=================================================================\n",
      "dense (Dense)                (None, 256)               1792      \n",
      "_________________________________________________________________\n",
      "dense_1 (Dense)              (None, 256)               65792     \n",
      "_________________________________________________________________\n",
      "dense_2 (Dense)              (None, 1)                 257       \n",
      "=================================================================\n",
      "Total params: 67,841\n",
      "Trainable params: 67,841\n",
      "Non-trainable params: 0\n",
      "_________________________________________________________________\n"
     ]
    }
   ],
   "source": [
    "# Set up the neural network\n",
    "model = Sequential()\n",
    "model.add(Dense(256, activation='relu', input_dim = 6))\n",
    "model.add(Dense(256, activation='relu'))\n",
    "model.add(Dense(1, activation='linear'))\n",
    "model.summary()"
   ]
  },
  {
   "cell_type": "markdown",
   "metadata": {},
   "source": [
    "**Here, we train the neural network**"
   ]
  },
  {
   "cell_type": "code",
   "execution_count": 9,
   "metadata": {},
   "outputs": [
    {
     "name": "stdout",
     "output_type": "stream",
     "text": [
      "Starting training\n",
      "Epoch 1/70\n",
      "51723/51723 [==============================] - 243s 5ms/step - loss: 27.5949 - val_loss: 18.3962\n",
      "Epoch 2/70\n",
      "51723/51723 [==============================] - 238s 5ms/step - loss: 18.3481 - val_loss: 18.2304\n",
      "Epoch 3/70\n",
      "51723/51723 [==============================] - 241s 5ms/step - loss: 17.6708 - val_loss: 17.8188\n",
      "Epoch 4/70\n",
      "51723/51723 [==============================] - 248s 5ms/step - loss: 17.3494 - val_loss: 17.4409\n",
      "Epoch 5/70\n",
      "51723/51723 [==============================] - 237s 5ms/step - loss: 17.1172 - val_loss: 16.7895\n",
      "Epoch 6/70\n",
      "51723/51723 [==============================] - 242s 5ms/step - loss: 16.9198 - val_loss: 16.5442\n",
      "Epoch 7/70\n",
      "51723/51723 [==============================] - 241s 5ms/step - loss: 16.7319 - val_loss: 16.9072\n",
      "Epoch 8/70\n",
      "51723/51723 [==============================] - 243s 5ms/step - loss: 16.5933 - val_loss: 16.2358\n",
      "Epoch 9/70\n",
      "51723/51723 [==============================] - 241s 5ms/step - loss: 16.4655 - val_loss: 16.3494\n",
      "Epoch 10/70\n",
      "51723/51723 [==============================] - 233s 5ms/step - loss: 16.3324 - val_loss: 16.0755\n",
      "Epoch 11/70\n",
      "51723/51723 [==============================] - 247s 5ms/step - loss: 16.2916 - val_loss: 16.0633\n",
      "Epoch 12/70\n",
      "51723/51723 [==============================] - 242s 5ms/step - loss: 16.1737 - val_loss: 16.6643\n",
      "Epoch 13/70\n",
      "51723/51723 [==============================] - 231s 4ms/step - loss: 16.1244 - val_loss: 16.1331\n",
      "Epoch 14/70\n",
      "51723/51723 [==============================] - 231s 4ms/step - loss: 16.0196 - val_loss: 16.0688\n",
      "Epoch 15/70\n",
      "48524/51723 [===========================>..] - ETA: 13s - loss: 15.9902\n",
      "Reached 60.000 minutes of training, stopping\n",
      "51723/51723 [==============================] - 217s 4ms/step - loss: 15.9882 - val_loss: 16.1479\n",
      "Restore model weights from the end of the best epoch\n"
     ]
    }
   ],
   "source": [
    "model.compile(loss='mse', optimizer=Nadam())\n",
    "# Incorporates early stopping, i.e. the weights from the best concluded epoch are used\n",
    "time_callback = TimeOut(t0, timeout) \n",
    "# We increase the batch size from 32 (in the paper) to 512 to require much less time per epoch\n",
    "history = model.fit(input_train, output_train, batch_size=512, epochs=70, verbose=1,\n",
    "                    validation_data=(input_valid, output_valid), callbacks=[time_callback])"
   ]
  },
  {
   "cell_type": "markdown",
   "metadata": {},
   "source": [
    "**Let's look at how the training proceeded**"
   ]
  },
  {
   "cell_type": "code",
   "execution_count": 10,
   "metadata": {},
   "outputs": [
    {
     "data": {
      "image/png": "[encoded data removed]",
      "text/plain": [
       "<Figure size 576x360 with 1 Axes>"
      ]
     },
     "metadata": {
      "needs_background": "light"
     },
     "output_type": "display_data"
    }
   ],
   "source": [
    "#Plotting the training progress\n",
    "if len(history.history['loss']) > len(history.history['val_loss']):\n",
    "    del history.history['loss'][-1]\n",
    "pd.DataFrame(history.history).plot(figsize=(8,5))\n",
    "plt.grid(True)\n",
    "plt.ylabel('Mean Squared Error')\n",
    "plt.xlabel('Number of epochs')\n",
    "plt.show()"
   ]
  },
  {
   "cell_type": "markdown",
   "metadata": {},
   "source": [
    "**We evaluate the mean-squared errors on the training/validation/test sets** <br>\n",
    "In the paper, we have MSEs of around 15 for the cell-based NARVAL R2B4 model"
   ]
  },
  {
   "cell_type": "code",
   "execution_count": 12,
   "metadata": {},
   "outputs": [
    {
     "name": "stdout",
     "output_type": "stream",
     "text": [
      "13242/13242 - 23s - loss: 15.9891\n",
      "2943/2943 - 4s - loss: 16.0633\n",
      "7357/7357 - 11s - loss: 16.0345\n",
      "\n",
      "Training loss: 15.9891\n",
      "Validation loss: 16.0633\n",
      "Test loss: 16.0345\n",
      "Training epochs: 15\n"
     ]
    }
   ],
   "source": [
    "train_loss = model.evaluate(input_train, output_train, verbose=2, batch_size=2000)\n",
    "valid_loss = model.evaluate(input_valid, output_valid, verbose=2, batch_size=1000)\n",
    "test_loss = model.evaluate(input_test, output_test, verbose=2, batch_size=1000)\n",
    "\n",
    "print('\\nTraining loss: %.4f'%(train_loss))\n",
    "print('Validation loss: %.4f'%(valid_loss))\n",
    "print('Test loss: %.4f'%(test_loss))\n",
    "print('Training epochs: %d'%(len(history.history['val_loss'])))"
   ]
  },
  {
   "cell_type": "markdown",
   "metadata": {},
   "source": [
    "#### Evaluation of the neural network\n",
    "\n",
    "In the data we have just worked with (input_train, input_valid, input_test), where we do not know the vertical layer of the data samples. <br> We cannot use that data to evaluate the neural networks using vertical profiles in this example. <br> What we thus did was to load the NARVAL R2B4 data and to store it as an npy file (which saves space) in /extract_from_the_data/narval_r2b4_data_for_the_quickstart.npy"
   ]
  },
  {
   "cell_type": "code",
   "execution_count": null,
   "metadata": {},
   "outputs": [],
   "source": [
    "# # We ran this cell once:\n",
    "\n",
    "# from my_classes import load_data\n",
    "\n",
    "# # Loads the NARVAL data into the data_dict dictionary\n",
    "# order_of_vars=['qv', 'qi', 'temp', 'pres', 'zg', 'fr_land', 'clc']\n",
    "# data_dict = load_data(source='narval', days='all', vert_interp=True, order_of_vars=order_of_vars)\n",
    "\n",
    "# #Reshaping into nd-arrays of equaling shapes (have timesteps x vert x hor)\n",
    "# data_dict['zg'] = np.repeat(np.expand_dims(data_dict['zg'], 0), data_dict['qv'].shape[0], axis=0)\n",
    "# data_dict['fr_land'] = np.repeat(np.expand_dims(data_dict['fr_land'], 0), data_dict['qv'].shape[0], axis=0)\n",
    "# data_dict['fr_land'] = np.repeat(np.expand_dims(data_dict['fr_land'], 1), data_dict['qv'].shape[1], axis=1)\n",
    "\n",
    "# assert data_dict['fr_land'].shape == data_dict['qv'].shape == data_dict['zg'].shape\n",
    "\n",
    "# # Convert data_dict into numpy file and save as npy. We cannot take more than 54 time steps due to size limits on GitHub.\n",
    "# np_arr = np.array([data_dict[key][:54] for key in data_dict.keys()])\n",
    "# np.save('./extract_from_the_data/narval_r2b4_data_for_the_quickstart.npy', np_arr)"
   ]
  },
  {
   "cell_type": "markdown",
   "metadata": {},
   "source": [
    "**First evaluation method** <br>\n",
    "Samples on x-axis and cloud cover on y-axis. This we can do without knowing which vertical layer corresponds to a data sample."
   ]
  },
  {
   "cell_type": "code",
   "execution_count": 7,
   "metadata": {
    "scrolled": true
   },
   "outputs": [
    {
     "data": {
      "text/plain": [
       "<matplotlib.legend.Legend at 0x2b39f07a1f90>"
      ]
     },
     "execution_count": 7,
     "metadata": {},
     "output_type": "execute_result"
    },
    {
     "data": {
      "image/png": "[encoded data removed]",
      "text/plain": [
       "<Figure size 1080x288 with 1 Axes>"
      ]
     },
     "metadata": {
      "needs_background": "light"
     },
     "output_type": "display_data"
    }
   ],
   "source": [
    "no_samples = 50\n",
    "clc_pred = model.predict(input_test[:no_samples])[:,0]\n",
    "clc_true = output_test[:no_samples]\n",
    "a = np.linspace(1, no_samples, no_samples)\n",
    "\n",
    "fig = plt.figure(figsize=(15,4))\n",
    "ax = fig.add_subplot(111, title='NNs predictions on random samples from the test set', \n",
    "                     xlabel='Sample', ylabel='Cloud Cover')\n",
    "ax.plot(a, clc_pred, 'ro')\n",
    "ax.plot(a, clc_true, 'bo')\n",
    "ax.legend(['Predictions', 'Truth'])"
   ]
  },
  {
   "cell_type": "markdown",
   "metadata": {},
   "source": [
    "**Second evaluation method** <br>\n",
    "Mean profile of Cloud Cover on x-axis with Vertical Layer on y-axis <br>\n",
    "Here, I'm taking only the first 54 time steps of the NARVAL R2B4 data."
   ]
  },
  {
   "cell_type": "code",
   "execution_count": 13,
   "metadata": {},
   "outputs": [
    {
     "data": {
      "text/plain": [
       "(7, 54, 27, 1024)"
      ]
     },
     "execution_count": 13,
     "metadata": {},
     "output_type": "execute_result"
    }
   ],
   "source": [
    "# Load and scale the data\n",
    "np_arr = np.load('./extract_from_the_data/narval_r2b4_data_for_the_quickstart.npy')\n",
    "scaled_data = np.array([(np_arr[i] - mean[i])/std[i] for i in range(len(features))])\n",
    "scaled_data = np.append(scaled_data, np_arr[-1:], axis=0) # Add cloud cover\n",
    "# Removes data above 21 km\n",
    "scaled_data = scaled_data[:,:,4:,:]\n",
    "scaled_data.shape # features x time steps x vertical layers x horizontal fields"
   ]
  },
  {
   "cell_type": "code",
   "execution_count": 24,
   "metadata": {},
   "outputs": [],
   "source": [
    "# Predicted cloud cover mean per vertical layer\n",
    "clc_pred_mean = []\n",
    "for v_layer in range(21, 48):\n",
    "    pred = np.transpose(model.predict_on_batch(np.transpose(scaled_data[:-1,:,v_layer-21,:])))\n",
    "    pred_adj = np.minimum(np.maximum(pred, 0), 100)\n",
    "    clc_pred_mean.append(np.mean(pred_adj))\n",
    "    \n",
    "# Cloud cover mean in the data\n",
    "clc_data_mean = np.mean(scaled_data[-1], axis=(0, 2))"
   ]
  },
  {
   "cell_type": "code",
   "execution_count": 30,
   "metadata": {},
   "outputs": [
    {
     "data": {
      "text/plain": [
       "<matplotlib.legend.Legend at 0x2b94dc2eaa90>"
      ]
     },
     "execution_count": 30,
     "metadata": {},
     "output_type": "execute_result"
    },
    {
     "data": {
      "image/png": "[encoded data removed]",
      "text/plain": [
       "<Figure size 504x288 with 1 Axes>"
      ]
     },
     "metadata": {
      "needs_background": "light"
     },
     "output_type": "display_data"
    }
   ],
   "source": [
    "# Plot mean cloud cover per vertical layer\n",
    "a = np.linspace(21, 48, 27)\n",
    "fig = plt.figure(figsize=(7,4))\n",
    "ax = fig.add_subplot(111, xlabel='Mean Cloud Cover [%]', ylabel='Vertical layer')\n",
    "ax.plot(clc_data_mean, a)\n",
    "ax.plot(clc_pred_mean, a)\n",
    "plt.gca().invert_yaxis()\n",
    "ax.legend(['Ground truth', 'Prediction'])"
   ]
  },
  {
   "cell_type": "code",
   "execution_count": 31,
   "metadata": {},
   "outputs": [
    {
     "data": {
      "text/plain": [
       "<matplotlib.legend.Legend at 0x2b94dc33dd50>"
      ]
     },
     "execution_count": 31,
     "metadata": {},
     "output_type": "execute_result"
    },
    {
     "data": {
      "image/png": "[encoded data removed]",
      "text/plain": [
       "<Figure size 504x288 with 1 Axes>"
      ]
     },
     "metadata": {
      "needs_background": "light"
     },
     "output_type": "display_data"
    }
   ],
   "source": [
    "zg_mean = np.mean(np_arr[np.where([features[i] == 'zg' for i in range(len(features))])[0][0], :, 4:, :], axis=(0,2))\n",
    "\n",
    "# Plot mean cloud cover per averaged height\n",
    "fig = plt.figure(figsize=(7,4))\n",
    "ax = fig.add_subplot(111, xlabel='Mean Cloud Cover [%]', ylabel='z [km]')\n",
    "ax.plot(clc_data_mean, zg_mean)\n",
    "ax.plot(clc_pred_mean, zg_mean)\n",
    "ax.legend(['Ground truth', 'Prediction'])"
   ]
  },
  {
   "cell_type": "markdown",
   "metadata": {},
   "source": [
    "**Third visualization method** <br>\n",
    "R2-value on x-axis with vertical layers on y-axis <br>"
   ]
  },
  {
   "cell_type": "code",
   "execution_count": 38,
   "metadata": {},
   "outputs": [],
   "source": [
    "# r2 = 1-MSE/VAR\n",
    "r2 = []\n",
    "for v_layer in range(23, 48):\n",
    "    pred = np.transpose(model.predict_on_batch(np.transpose(scaled_data[:-1,:,v_layer-21,:])))\n",
    "    pred_adj = np.minimum(np.maximum(pred, 0), 100)\n",
    "    \n",
    "    mse = np.mean((pred_adj - scaled_data[-1, :, v_layer-21, :])**2)\n",
    "    var = np.var(scaled_data[-1, :, v_layer-21, :])\n",
    "    r2.append(1-mse/var)"
   ]
  },
  {
   "cell_type": "code",
   "execution_count": 41,
   "metadata": {},
   "outputs": [
    {
     "data": {
      "text/plain": [
       "[<matplotlib.lines.Line2D at 0x2b94dc4cc510>]"
      ]
     },
     "execution_count": 41,
     "metadata": {},
     "output_type": "execute_result"
    },
    {
     "data": {
      "image/png": "[encoded data removed]",
      "text/plain": [
       "<Figure size 432x288 with 1 Axes>"
      ]
     },
     "metadata": {
      "needs_background": "light"
     },
     "output_type": "display_data"
    }
   ],
   "source": [
    "# Plotting\n",
    "fig = plt.figure()\n",
    "ax = fig.add_subplot(111, xlim=(0, 1), title='R2-values of the cell-based model excluding the two upper-most layers',\n",
    "                     xlabel='R2-value/Coefficient of determination', ylabel='z [km]')\n",
    "ax.plot(r2, zg_mean[2:], 'bo', ls='--')"
   ]
  }
 ],
 "metadata": {
  "kernelspec": {
   "display_name": "clouds113_kernel",
   "language": "python",
   "name": "clouds113_kernel"
  },
  "language_info": {
   "codemirror_mode": {
    "name": "ipython",
    "version": 3
   },
   "file_extension": ".py",
   "mimetype": "text/x-python",
   "name": "python",
   "nbconvert_exporter": "python",
   "pygments_lexer": "ipython3",
   "version": "3.7.10"
  }
 },
 "nbformat": 4,
 "nbformat_minor": 4
}
