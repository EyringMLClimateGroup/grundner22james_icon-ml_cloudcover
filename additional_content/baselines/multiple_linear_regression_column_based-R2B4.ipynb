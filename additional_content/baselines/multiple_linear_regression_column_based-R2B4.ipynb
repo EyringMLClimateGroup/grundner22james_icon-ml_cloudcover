{
 "cells": [
  {
   "cell_type": "markdown",
   "metadata": {},
   "source": [
    "## Multiple linear regression\n",
    "\n",
    "**For Table 3 of the paper**\n",
    "\n",
    "Column-based NARVAL R2B4 model\n",
    "\n",
    "Does multiple linear regression tell us that it's a local or a non-local problem?\n",
    "It suggests that it is a non-local problem!"
   ]
  },
  {
   "cell_type": "code",
   "execution_count": 1,
   "metadata": {},
   "outputs": [],
   "source": [
    "from sklearn.linear_model import LinearRegression\n",
    "from sklearn.metrics import mean_squared_error\n",
    "import numpy as np\n",
    "import pandas as pd\n",
    "import os\n",
    "import sys\n",
    "\n",
    "from tensorflow.keras.optimizers import Nadam\n",
    "from tensorflow.keras.models import Sequential\n",
    "from tensorflow.keras.layers import Dense\n",
    "from tensorflow.keras import backend as K\n",
    "\n",
    "base_path = '/pf/b/b309170'\n",
    "\n",
    "# Add path with my_classes to sys.path\n",
    "sys.path.insert(0, base_path + '/workspace_icon-ml/cloud_cover_parameterization/')\n",
    "\n",
    "from my_classes import write_infofile\n",
    "from my_classes import load_data\n",
    "\n",
    "import matplotlib.pyplot as plt\n",
    "import time\n",
    "import gc"
   ]
  },
  {
   "cell_type": "code",
   "execution_count": 2,
   "metadata": {},
   "outputs": [],
   "source": [
    "import matplotlib\n",
    "\n",
    "# Increase the general font size in plots\n",
    "size_plots_label = 22\n",
    "matplotlib.rcParams['legend.fontsize'] = size_plots_label\n",
    "matplotlib.rcParams['axes.labelsize'] = size_plots_label # For an axes xlabel and ylabel\n",
    "matplotlib.rcParams['axes.titlesize'] = size_plots_label+2 # For an axes xlabel and ylabel\n",
    "matplotlib.rcParams['xtick.labelsize'] = size_plots_label\n",
    "matplotlib.rcParams['ytick.labelsize'] = size_plots_label\n",
    "\n",
    "# Averaged over the NARVAL region\n",
    "zg_mean_narval = [20785,19153,17604,16134,14741,13422,12175,10998,9890,8848,\n",
    "                  7871,6958,6107,5317,4587,3915,3300,2741,2237,1787,1390,1046,\n",
    "                  754,515,329,199,128] # in meters\n",
    "\n",
    "zg_mean_narval = np.round(np.array(zg_mean_narval)/1000, decimals=1) # in kilometers\n",
    "\n",
    "# Averaged globally\n",
    "zg_mean_qubicc = [20785,19153,17604,16134,14742,13424,12178,11002,9896,8857,\n",
    "                  7885,6977,6133,5351,4630,3968,3363,2814,2320,1878,1490,1153,\n",
    "                  867,634,452,324,254] # in meters\n",
    "zg_mean_qubicc = np.round(np.array(zg_mean_qubicc)/1000, decimals=1) # in kilometers\n",
    "\n",
    "green='#004D40'\n",
    "red='#D81B60'\n",
    "blue='#1E88E5'"
   ]
  },
  {
   "cell_type": "markdown",
   "metadata": {},
   "source": [
    "### Training the multiple linear model on the entire data set"
   ]
  },
  {
   "cell_type": "code",
   "execution_count": 119,
   "metadata": {},
   "outputs": [],
   "source": [
    "data_path = os.path.join(base_path,\n",
    "                         'my_work/icon-ml_data/cloud_cover_parameterization/grid_column_based/based_on_var_interpolated_data')\n",
    "\n",
    "# Load data\n",
    "input_train = np.load(os.path.join(data_path, 'cloud_cover_input_train_1.npy'))\n",
    "output_train = np.load(os.path.join(data_path, 'cloud_cover_output_train_1.npy'))\n",
    "input_valid = np.load(os.path.join(data_path, 'cloud_cover_input_valid_1.npy'))\n",
    "output_valid = np.load(os.path.join(data_path, 'cloud_cover_output_valid_1.npy'))\n",
    "input_test = np.load(os.path.join(data_path, 'cloud_cover_input_test_1.npy'))\n",
    "output_test = np.load(os.path.join(data_path, 'cloud_cover_output_test_1.npy'))"
   ]
  },
  {
   "cell_type": "code",
   "execution_count": 120,
   "metadata": {},
   "outputs": [],
   "source": [
    "input_data = np.concatenate((input_train, input_valid, input_test), axis=0)\n",
    "output_data = np.concatenate((output_train, output_valid, output_test), axis=0)"
   ]
  },
  {
   "cell_type": "code",
   "execution_count": 6,
   "metadata": {},
   "outputs": [
    {
     "name": "stdout",
     "output_type": "stream",
     "text": [
      "11.688951969146729\n"
     ]
    }
   ],
   "source": [
    "t0 = time.time()\n",
    "\n",
    "# The optimal multiple linear regression model\n",
    "lin_reg = LinearRegression()\n",
    "lin_reg.fit(input_data, output_data)\n",
    "\n",
    "print(time.time() - t0)"
   ]
  },
  {
   "cell_type": "code",
   "execution_count": 7,
   "metadata": {},
   "outputs": [
    {
     "name": "stdout",
     "output_type": "stream",
     "text": [
      "The mean squared error of the linear model is 18.56.\n"
     ]
    }
   ],
   "source": [
    "# Loss of this optimal multiple linear regression model\n",
    "clc_predictions = lin_reg.predict(input_data)\n",
    "lin_mse = mean_squared_error(output_data, clc_predictions)\n",
    "print('The mean squared error of the linear model is %.2f.'%lin_mse) "
   ]
  },
  {
   "cell_type": "markdown",
   "metadata": {},
   "source": [
    "### Zero Output Model"
   ]
  },
  {
   "cell_type": "code",
   "execution_count": 25,
   "metadata": {},
   "outputs": [
    {
     "data": {
      "text/plain": [
       "113.9085368577236"
      ]
     },
     "execution_count": 25,
     "metadata": {},
     "output_type": "execute_result"
    }
   ],
   "source": [
    "np.mean(output_data**2, dtype=np.float64)"
   ]
  },
  {
   "cell_type": "markdown",
   "metadata": {},
   "source": [
    "### Constant Output Model"
   ]
  },
  {
   "cell_type": "code",
   "execution_count": 9,
   "metadata": {},
   "outputs": [
    {
     "data": {
      "text/plain": [
       "92.234235555961"
      ]
     },
     "execution_count": 9,
     "metadata": {},
     "output_type": "execute_result"
    }
   ],
   "source": [
    "mean = np.mean(output_data, dtype=np.float64)\n",
    "np.mean((output_data-mean)**2, dtype=np.float64)"
   ]
  },
  {
   "cell_type": "markdown",
   "metadata": {},
   "source": [
    "### Randomly initialized neural network"
   ]
  },
  {
   "cell_type": "code",
   "execution_count": 14,
   "metadata": {},
   "outputs": [],
   "source": [
    "model = Sequential()\n",
    "model.add(Dense(256, activation='relu', input_dim = input_data.shape[1]))\n",
    "model.add(Dense(256, activation='relu'))\n",
    "model.add(Dense(27, activation='linear'))\n",
    "model.compile(loss='mse', optimizer=Nadam())"
   ]
  },
  {
   "cell_type": "code",
   "execution_count": 19,
   "metadata": {},
   "outputs": [],
   "source": [
    "# model_fold_3 is implemented in ICON-A\n",
    "batch_size = 2**20\n",
    "\n",
    "for i in range(1 + input_data.shape[0]//batch_size):\n",
    "    if i == 0:\n",
    "        clc_predictions = model.predict_on_batch(input_data[i*batch_size:(i+1)*batch_size])\n",
    "    else:\n",
    "        clc_predictions = np.concatenate((clc_predictions, model.predict_on_batch(input_data[i*batch_size:(i+1)*batch_size])), axis=0)\n",
    "    K.clear_session()\n",
    "    gc.collect()"
   ]
  },
  {
   "cell_type": "code",
   "execution_count": 23,
   "metadata": {},
   "outputs": [
    {
     "name": "stdout",
     "output_type": "stream",
     "text": [
      "The mean squared error of the randomly initialized neural network is 105.97.\n"
     ]
    }
   ],
   "source": [
    "mse_nn = mean_squared_error(output_data, clc_predictions)\n",
    "print('The mean squared error of the randomly initialized neural network is %.2f.'%mse_nn) "
   ]
  },
  {
   "cell_type": "markdown",
   "metadata": {},
   "source": [
    "### NARVAL R2B4, normalized"
   ]
  },
  {
   "cell_type": "code",
   "execution_count": 2,
   "metadata": {},
   "outputs": [
    {
     "name": "stdout",
     "output_type": "stream",
     "text": [
      "qv\n",
      "qc\n",
      "qi\n",
      "temp\n",
      "pres\n"
     ]
    }
   ],
   "source": [
    "# Loads the NARVAL data into the data_dict dictionary\n",
    "order_of_vars = ['qv', 'qc', 'qi', 'temp', 'pres', 'zg', 'clc']\n",
    "data_dict = load_data(source='narval', days='all', vert_interp=True, order_of_vars=order_of_vars)"
   ]
  },
  {
   "cell_type": "code",
   "execution_count": 3,
   "metadata": {},
   "outputs": [],
   "source": [
    "(TIME_STEPS, VERT_LAYERS, _) = data_dict['clc'].shape"
   ]
  },
  {
   "cell_type": "code",
   "execution_count": 4,
   "metadata": {},
   "outputs": [],
   "source": [
    "#Reshaping into nd-arrays of equaling shapes\n",
    "data_dict['zg'] = np.repeat(np.expand_dims(data_dict['zg'], 0), TIME_STEPS, axis=0)"
   ]
  },
  {
   "cell_type": "code",
   "execution_count": 5,
   "metadata": {},
   "outputs": [],
   "source": [
    "# One sample should contain a column of information\n",
    "data_dict_reshaped = {}\n",
    "for key in data_dict.keys():\n",
    "    if data_dict[key].shape[1] == VERT_LAYERS:  \n",
    "        for i in range(4, VERT_LAYERS):\n",
    "            new_key = '{}{}{:d}'.format(key,'_',i)\n",
    "            data_dict_reshaped[new_key] = np.reshape(data_dict[key][:,i,:], -1)\n",
    "    else:\n",
    "        data_dict_reshaped[key] = np.reshape(data_dict[key], -1)"
   ]
  },
  {
   "cell_type": "code",
   "execution_count": 6,
   "metadata": {},
   "outputs": [
    {
     "data": {
      "text/html": [
       "<div>\n",
       "<style scoped>\n",
       "    .dataframe tbody tr th:only-of-type {\n",
       "        vertical-align: middle;\n",
       "    }\n",
       "\n",
       "    .dataframe tbody tr th {\n",
       "        vertical-align: top;\n",
       "    }\n",
       "\n",
       "    .dataframe thead th {\n",
       "        text-align: right;\n",
       "    }\n",
       "</style>\n",
       "<table border=\"1\" class=\"dataframe\">\n",
       "  <thead>\n",
       "    <tr style=\"text-align: right;\">\n",
       "      <th></th>\n",
       "      <th>qv_4</th>\n",
       "      <th>qv_5</th>\n",
       "      <th>qv_6</th>\n",
       "      <th>qv_7</th>\n",
       "      <th>qv_8</th>\n",
       "      <th>qv_9</th>\n",
       "      <th>qv_10</th>\n",
       "      <th>qv_11</th>\n",
       "      <th>qv_12</th>\n",
       "      <th>qv_13</th>\n",
       "      <th>...</th>\n",
       "      <th>clc_21</th>\n",
       "      <th>clc_22</th>\n",
       "      <th>clc_23</th>\n",
       "      <th>clc_24</th>\n",
       "      <th>clc_25</th>\n",
       "      <th>clc_26</th>\n",
       "      <th>clc_27</th>\n",
       "      <th>clc_28</th>\n",
       "      <th>clc_29</th>\n",
       "      <th>clc_30</th>\n",
       "    </tr>\n",
       "  </thead>\n",
       "  <tbody>\n",
       "    <tr>\n",
       "      <th>0</th>\n",
       "      <td>0.000003</td>\n",
       "      <td>0.000003</td>\n",
       "      <td>0.000003</td>\n",
       "      <td>0.000003</td>\n",
       "      <td>0.000005</td>\n",
       "      <td>0.000010</td>\n",
       "      <td>0.000028</td>\n",
       "      <td>0.000086</td>\n",
       "      <td>0.000101</td>\n",
       "      <td>0.000112</td>\n",
       "      <td>...</td>\n",
       "      <td>0.0</td>\n",
       "      <td>0.0</td>\n",
       "      <td>0.0</td>\n",
       "      <td>0.0</td>\n",
       "      <td>0.0</td>\n",
       "      <td>0.0</td>\n",
       "      <td>0.0</td>\n",
       "      <td>0.0</td>\n",
       "      <td>0.0</td>\n",
       "      <td>0.0</td>\n",
       "    </tr>\n",
       "    <tr>\n",
       "      <th>1</th>\n",
       "      <td>0.000003</td>\n",
       "      <td>0.000003</td>\n",
       "      <td>0.000003</td>\n",
       "      <td>0.000003</td>\n",
       "      <td>0.000005</td>\n",
       "      <td>0.000010</td>\n",
       "      <td>0.000033</td>\n",
       "      <td>0.000110</td>\n",
       "      <td>0.000138</td>\n",
       "      <td>0.000232</td>\n",
       "      <td>...</td>\n",
       "      <td>0.0</td>\n",
       "      <td>0.0</td>\n",
       "      <td>0.0</td>\n",
       "      <td>0.0</td>\n",
       "      <td>0.0</td>\n",
       "      <td>0.0</td>\n",
       "      <td>0.0</td>\n",
       "      <td>0.0</td>\n",
       "      <td>0.0</td>\n",
       "      <td>0.0</td>\n",
       "    </tr>\n",
       "    <tr>\n",
       "      <th>2</th>\n",
       "      <td>0.000003</td>\n",
       "      <td>0.000003</td>\n",
       "      <td>0.000003</td>\n",
       "      <td>0.000003</td>\n",
       "      <td>0.000004</td>\n",
       "      <td>0.000011</td>\n",
       "      <td>0.000037</td>\n",
       "      <td>0.000093</td>\n",
       "      <td>0.000118</td>\n",
       "      <td>0.000195</td>\n",
       "      <td>...</td>\n",
       "      <td>0.0</td>\n",
       "      <td>0.0</td>\n",
       "      <td>0.0</td>\n",
       "      <td>0.0</td>\n",
       "      <td>0.0</td>\n",
       "      <td>0.0</td>\n",
       "      <td>0.0</td>\n",
       "      <td>0.0</td>\n",
       "      <td>0.0</td>\n",
       "      <td>0.0</td>\n",
       "    </tr>\n",
       "    <tr>\n",
       "      <th>3</th>\n",
       "      <td>0.000003</td>\n",
       "      <td>0.000003</td>\n",
       "      <td>0.000003</td>\n",
       "      <td>0.000003</td>\n",
       "      <td>0.000005</td>\n",
       "      <td>0.000009</td>\n",
       "      <td>0.000033</td>\n",
       "      <td>0.000131</td>\n",
       "      <td>0.000177</td>\n",
       "      <td>0.000299</td>\n",
       "      <td>...</td>\n",
       "      <td>0.0</td>\n",
       "      <td>0.0</td>\n",
       "      <td>0.0</td>\n",
       "      <td>0.0</td>\n",
       "      <td>0.0</td>\n",
       "      <td>0.0</td>\n",
       "      <td>0.0</td>\n",
       "      <td>0.0</td>\n",
       "      <td>0.0</td>\n",
       "      <td>0.0</td>\n",
       "    </tr>\n",
       "    <tr>\n",
       "      <th>4</th>\n",
       "      <td>0.000003</td>\n",
       "      <td>0.000003</td>\n",
       "      <td>0.000003</td>\n",
       "      <td>0.000003</td>\n",
       "      <td>0.000006</td>\n",
       "      <td>0.000011</td>\n",
       "      <td>0.000016</td>\n",
       "      <td>0.000056</td>\n",
       "      <td>0.000084</td>\n",
       "      <td>0.000090</td>\n",
       "      <td>...</td>\n",
       "      <td>0.0</td>\n",
       "      <td>0.0</td>\n",
       "      <td>0.0</td>\n",
       "      <td>0.0</td>\n",
       "      <td>0.0</td>\n",
       "      <td>0.0</td>\n",
       "      <td>0.0</td>\n",
       "      <td>0.0</td>\n",
       "      <td>0.0</td>\n",
       "      <td>0.0</td>\n",
       "    </tr>\n",
       "  </tbody>\n",
       "</table>\n",
       "<p>5 rows × 189 columns</p>\n",
       "</div>"
      ],
      "text/plain": [
       "       qv_4      qv_5      qv_6      qv_7      qv_8      qv_9     qv_10  \\\n",
       "0  0.000003  0.000003  0.000003  0.000003  0.000005  0.000010  0.000028   \n",
       "1  0.000003  0.000003  0.000003  0.000003  0.000005  0.000010  0.000033   \n",
       "2  0.000003  0.000003  0.000003  0.000003  0.000004  0.000011  0.000037   \n",
       "3  0.000003  0.000003  0.000003  0.000003  0.000005  0.000009  0.000033   \n",
       "4  0.000003  0.000003  0.000003  0.000003  0.000006  0.000011  0.000016   \n",
       "\n",
       "      qv_11     qv_12     qv_13  ...  clc_21  clc_22  clc_23  clc_24  clc_25  \\\n",
       "0  0.000086  0.000101  0.000112  ...     0.0     0.0     0.0     0.0     0.0   \n",
       "1  0.000110  0.000138  0.000232  ...     0.0     0.0     0.0     0.0     0.0   \n",
       "2  0.000093  0.000118  0.000195  ...     0.0     0.0     0.0     0.0     0.0   \n",
       "3  0.000131  0.000177  0.000299  ...     0.0     0.0     0.0     0.0     0.0   \n",
       "4  0.000056  0.000084  0.000090  ...     0.0     0.0     0.0     0.0     0.0   \n",
       "\n",
       "   clc_26  clc_27  clc_28  clc_29  clc_30  \n",
       "0     0.0     0.0     0.0     0.0     0.0  \n",
       "1     0.0     0.0     0.0     0.0     0.0  \n",
       "2     0.0     0.0     0.0     0.0     0.0  \n",
       "3     0.0     0.0     0.0     0.0     0.0  \n",
       "4     0.0     0.0     0.0     0.0     0.0  \n",
       "\n",
       "[5 rows x 189 columns]"
      ]
     },
     "execution_count": 6,
     "metadata": {},
     "output_type": "execute_result"
    }
   ],
   "source": [
    "#Converting dict into a DataFrame-object \n",
    "df = pd.DataFrame.from_dict(data_dict_reshaped)\n",
    "df.head()"
   ]
  },
  {
   "cell_type": "code",
   "execution_count": 7,
   "metadata": {},
   "outputs": [],
   "source": [
    "output_data = pd.DataFrame()\n",
    "for i in range(4, VERT_LAYERS):\n",
    "    output_data['clc_%d'%i] = df['clc_%d'%i]\n",
    "    del df['clc_%d'%i]"
   ]
  },
  {
   "cell_type": "code",
   "execution_count": 8,
   "metadata": {},
   "outputs": [],
   "source": [
    "# Standardize df\n",
    "from sklearn.preprocessing import StandardScaler\n",
    "\n",
    "scaler = StandardScaler()\n",
    "scaler.fit(df)\n",
    "df_scaled = scaler.transform(df)"
   ]
  },
  {
   "cell_type": "code",
   "execution_count": 9,
   "metadata": {},
   "outputs": [
    {
     "name": "stdout",
     "output_type": "stream",
     "text": [
      "14.041353940963745\n"
     ]
    }
   ],
   "source": [
    "t0 = time.time()\n",
    "\n",
    "# The optimal multiple linear regression model\n",
    "lin_reg = LinearRegression()\n",
    "lin_reg.fit(df_scaled, output_data)\n",
    "\n",
    "print(time.time() - t0)"
   ]
  },
  {
   "cell_type": "code",
   "execution_count": 41,
   "metadata": {},
   "outputs": [
    {
     "data": {
      "text/plain": [
       "(1674240, 162)"
      ]
     },
     "execution_count": 41,
     "metadata": {},
     "output_type": "execute_result"
    }
   ],
   "source": [
    "df.shape"
   ]
  },
  {
   "cell_type": "code",
   "execution_count": 65,
   "metadata": {},
   "outputs": [
    {
     "name": "stdout",
     "output_type": "stream",
     "text": [
      "-3.0485423788366006\n",
      "1.030513976264956\n"
     ]
    }
   ],
   "source": [
    "# Freezing line (Mean temperature turns to subzero degrees)\n",
    "print(np.mean(np.array(df)[:, 94]) - 273.15)\n",
    "print(np.mean(np.array(df)[:, 95]) - 273.15)"
   ]
  },
  {
   "cell_type": "code",
   "execution_count": 72,
   "metadata": {
    "collapsed": true,
    "jupyter": {
     "outputs_hidden": true
    }
   },
   "outputs": [
    {
     "name": "stdout",
     "output_type": "stream",
     "text": [
      "1631.289727391646\n",
      "1549.37946601996\n",
      "1470.006251168401\n",
      "1393.3254811178522\n",
      "1319.238593924325\n",
      "1247.1750554991977\n",
      "1177.1228015329034\n",
      "1108.9289423989685\n",
      "1042.457867254223\n",
      "977.592052388758\n",
      "914.231932460295\n",
      "852.2942131893315\n",
      "791.7082752961614\n",
      "732.4107123521298\n"
     ]
    },
    {
     "ename": "KeyboardInterrupt",
     "evalue": "",
     "output_type": "error",
     "traceback": [
      "\u001b[0;31m---------------------------------------------------------------------------\u001b[0m",
      "\u001b[0;31mKeyboardInterrupt\u001b[0m                         Traceback (most recent call last)",
      "\u001b[0;32m<ipython-input-72-86264861bec9>\u001b[0m in \u001b[0;36m<module>\u001b[0;34m\u001b[0m\n\u001b[1;32m      1\u001b[0m \u001b[0;31m# Tropopause: Between layer 84 and 85 ()\u001b[0m\u001b[0;34m\u001b[0m\u001b[0;34m\u001b[0m\u001b[0;34m\u001b[0m\u001b[0m\n\u001b[1;32m      2\u001b[0m \u001b[0;32mfor\u001b[0m \u001b[0mi\u001b[0m \u001b[0;32min\u001b[0m \u001b[0mrange\u001b[0m\u001b[0;34m(\u001b[0m\u001b[0;36m135\u001b[0m\u001b[0;34m,\u001b[0m \u001b[0;36m162\u001b[0m\u001b[0;34m)\u001b[0m\u001b[0;34m:\u001b[0m\u001b[0;34m\u001b[0m\u001b[0;34m\u001b[0m\u001b[0m\n\u001b[0;32m----> 3\u001b[0;31m     \u001b[0mprint\u001b[0m\u001b[0;34m(\u001b[0m\u001b[0mnp\u001b[0m\u001b[0;34m.\u001b[0m\u001b[0mmean\u001b[0m\u001b[0;34m(\u001b[0m\u001b[0mnp\u001b[0m\u001b[0;34m.\u001b[0m\u001b[0marray\u001b[0m\u001b[0;34m(\u001b[0m\u001b[0mdf\u001b[0m\u001b[0;34m)\u001b[0m\u001b[0;34m[\u001b[0m\u001b[0;34m:\u001b[0m\u001b[0;34m,\u001b[0m \u001b[0mi\u001b[0m\u001b[0;34m]\u001b[0m\u001b[0;34m)\u001b[0m \u001b[0;34m-\u001b[0m \u001b[0mnp\u001b[0m\u001b[0;34m.\u001b[0m\u001b[0mmean\u001b[0m\u001b[0;34m(\u001b[0m\u001b[0mnp\u001b[0m\u001b[0;34m.\u001b[0m\u001b[0marray\u001b[0m\u001b[0;34m(\u001b[0m\u001b[0mdf\u001b[0m\u001b[0;34m)\u001b[0m\u001b[0;34m[\u001b[0m\u001b[0;34m:\u001b[0m\u001b[0;34m,\u001b[0m \u001b[0mi\u001b[0m\u001b[0;34m+\u001b[0m\u001b[0;36m1\u001b[0m\u001b[0;34m]\u001b[0m\u001b[0;34m)\u001b[0m\u001b[0;34m)\u001b[0m\u001b[0;34m\u001b[0m\u001b[0;34m\u001b[0m\u001b[0m\n\u001b[0m",
      "\u001b[0;31mKeyboardInterrupt\u001b[0m: "
     ]
    }
   ],
   "source": [
    "# Tropopause: Mean layer thickness\n",
    "for i in range(135, 162):\n",
    "    print(np.mean(np.array(df)[:, i]) - np.mean(np.array(df)[:, i+1]))"
   ]
  },
  {
   "cell_type": "code",
   "execution_count": 78,
   "metadata": {
    "collapsed": true,
    "jupyter": {
     "outputs_hidden": true
    }
   },
   "outputs": [
    {
     "name": "stdout",
     "output_type": "stream",
     "text": [
      "-64.6238578830895\n",
      "-71.07063630823376\n",
      "-77.05295056181646\n",
      "-76.91704538307522\n",
      "-70.29356845266506\n",
      "-61.50071475120589\n",
      "-52.022087616705846\n",
      "-42.61677793531999\n",
      "-33.79716634342975\n",
      "-25.56489051578515\n",
      "-18.48806587651046\n",
      "-12.472051877777915\n",
      "-7.287605773733048\n",
      "-3.0485423788366006\n",
      "1.030513976264956\n",
      "4.793099986174752\n",
      "8.341558197120833\n",
      "11.44301811044312\n",
      "14.037921644882147\n",
      "16.033328085519997\n",
      "17.52870169867259\n",
      "18.907982993907012\n",
      "20.580711403764553\n",
      "22.253596294666693\n",
      "23.6994762170616\n",
      "24.750819505946822\n",
      "25.29416356800658\n",
      "-0.09245250254506106\n",
      "-4.754829095771833\n"
     ]
    }
   ],
   "source": [
    "# Tropopause: Between layer 84 and 85 (Lapse rate falls from 4.75K/km to below 0.1K/km)\n",
    "for i in range(81, 108):\n",
    "    print(np.mean(np.array(df)[:, i]) - 273.15)\n",
    "    \n",
    "print((np.mean(np.array(df)[:, 83])-np.mean(np.array(df)[:, 84]))/1.470)\n",
    "print((np.mean(np.array(df)[:, 84])-np.mean(np.array(df)[:, 85]))/1.393)"
   ]
  },
  {
   "cell_type": "markdown",
   "metadata": {},
   "source": [
    "**Looking at zg_mean, this puts these levels at:**\n",
    "- Tropopause: Between 14.7km and 16.1km\n",
    "- Freezing level: Between 5.3km and 4.6km (Müller: Freezing level is at ~6km)"
   ]
  },
  {
   "cell_type": "code",
   "execution_count": null,
   "metadata": {},
   "outputs": [],
   "source": [
    "zg_mean = [20784.62706138, 19153.33733398, 17603.95786796, 16133.9890368 ,\n",
    "       14740.72817851, 13421.56030093, 12174.49640667, 10997.54366598,\n",
    "        9888.86828393,  8846.77905352,  7869.70937839,  6956.19812463,\n",
    "        6104.87029163,  5314.41907809,  4583.59136617,  3911.17886673,\n",
    "        3296.01709893,  2736.9940178 ,  2233.06954874,  1783.30740375,\n",
    "        1386.91651733,  1043.31024674,   752.18615016,   513.63653294,\n",
    "         328.34456911,   198.27747065,   127.38265241]"
   ]
  },
  {
   "cell_type": "code",
   "execution_count": 93,
   "metadata": {
    "collapsed": true,
    "jupyter": {
     "outputs_hidden": true
    }
   },
   "outputs": [
    {
     "name": "stdout",
     "output_type": "stream",
     "text": [
      "1.0\n",
      "0.0\n",
      "1.0\n",
      "0.0\n",
      "1.0\n",
      "0.0\n",
      "1.3800105490898313e-10\n",
      "0.9999999999999999\n",
      "-4.77556882927388e-12\n",
      "1.0000000000000009\n",
      "-9.414163875908744e-12\n",
      "0.9999999999999997\n",
      "-1.0734413324241476e-11\n",
      "1.0\n",
      "7.127270978634614e-12\n",
      "0.9999999999999997\n",
      "-3.463895870782263e-12\n",
      "0.9999999999999999\n",
      "-4.770350611299269e-13\n",
      "1.0000000000000002\n",
      "-1.8332554298945452e-13\n",
      "1.0000000000000002\n",
      "-1.3475609686902866e-12\n",
      "0.9999999999999991\n",
      "2.5440762306874185e-13\n",
      "0.9999999999999997\n",
      "5.243860391784154e-13\n",
      "0.9999999999999991\n",
      "5.447309270323331e-13\n",
      "0.9999999999999997\n",
      "-3.3434370630558396e-13\n",
      "0.9999999999999999\n",
      "-3.8094527532450684e-14\n",
      "0.9999999999999997\n",
      "-7.885360729988897e-14\n",
      "0.9999999999999999\n",
      "9.420244061533176e-14\n",
      "1.0000000000000009\n",
      "-5.9785458948403e-14\n",
      "1.0000000000000009\n",
      "2.7117154936751382e-14\n",
      "1.0000000000000002\n",
      "1.8152163428508536e-14\n",
      "0.9999999999999997\n",
      "-9.83935155574045e-15\n",
      "0.9999999999999997\n",
      "-6.453120402972042e-15\n",
      "1.0\n",
      "3.164152596068923e-15\n",
      "0.9999999999999989\n",
      "-7.771730931248363e-16\n",
      "1.0\n",
      "-1.8039426561436125e-16\n",
      "1.0\n"
     ]
    }
   ],
   "source": [
    "for i in range(135, 162):\n",
    "    print(np.mean(np.array(df_scaled)[:, i]))\n",
    "    print(np.std(np.array(df_scaled)[:, i]))"
   ]
  },
  {
   "cell_type": "code",
   "execution_count": 86,
   "metadata": {},
   "outputs": [
    {
     "name": "stderr",
     "output_type": "stream",
     "text": [
      "/pf/b/b309170/work/b309170/conda/envs/clouds113/lib/python3.7/site-packages/ipykernel_launcher.py:7: MatplotlibDeprecationWarning: \n",
      "The DivergingNorm class was deprecated in Matplotlib 3.2 and will be removed two minor releases later. Use TwoSlopeNorm instead.\n",
      "  import sys\n",
      "/pf/b/b309170/work/b309170/conda/envs/clouds113/lib/python3.7/site-packages/ipykernel_launcher.py:18: MatplotlibDeprecationWarning: \n",
      "The DivergingNorm class was deprecated in Matplotlib 3.2 and will be removed two minor releases later. Use TwoSlopeNorm instead.\n",
      "/pf/b/b309170/work/b309170/conda/envs/clouds113/lib/python3.7/site-packages/ipykernel_launcher.py:29: MatplotlibDeprecationWarning: \n",
      "The DivergingNorm class was deprecated in Matplotlib 3.2 and will be removed two minor releases later. Use TwoSlopeNorm instead.\n",
      "/pf/b/b309170/work/b309170/conda/envs/clouds113/lib/python3.7/site-packages/ipykernel_launcher.py:41: MatplotlibDeprecationWarning: \n",
      "The DivergingNorm class was deprecated in Matplotlib 3.2 and will be removed two minor releases later. Use TwoSlopeNorm instead.\n",
      "/pf/b/b309170/work/b309170/conda/envs/clouds113/lib/python3.7/site-packages/ipykernel_launcher.py:51: MatplotlibDeprecationWarning: \n",
      "The DivergingNorm class was deprecated in Matplotlib 3.2 and will be removed two minor releases later. Use TwoSlopeNorm instead.\n",
      "/pf/b/b309170/work/b309170/conda/envs/clouds113/lib/python3.7/site-packages/ipykernel_launcher.py:61: MatplotlibDeprecationWarning: \n",
      "The DivergingNorm class was deprecated in Matplotlib 3.2 and will be removed two minor releases later. Use TwoSlopeNorm instead.\n"
     ]
    },
    {
     "data": {
      "image/png": "[encoded data removed]",
      "text/plain": [
       "<Figure size 1440x864 with 12 Axes>"
      ]
     },
     "metadata": {
      "needs_background": "light"
     },
     "output_type": "display_data"
    }
   ],
   "source": [
    "import matplotlib.cm as cm\n",
    "from mpl_toolkits.axes_grid1.inset_locator import inset_axes\n",
    "from mpl_toolkits.axes_grid1 import make_axes_locatable\n",
    "from matplotlib.colors import DivergingNorm\n",
    "\n",
    "fig = plt.figure(figsize=(20,12))\n",
    "\n",
    "# First plot\n",
    "ax = fig.add_subplot(231, title='qv', xlabel='qv_layer', ylabel='clc_layer')\n",
    "ax.plot([0, 27], [0, 27], ls=\":\", c=\".3\") # Diagonal\n",
    "ax.plot([0, 27], [4, 4], ls=\"--\", c=\".3\") # Tropopause\n",
    "im = ax.imshow(np.flip(lin_reg.coef_[:, :27], axis=1), extent=(27,0,27,0), norm=DivergingNorm(0), cmap='bwr_r')\n",
    "# Colorbar axes\n",
    "divider = make_axes_locatable(ax)\n",
    "cax = divider.append_axes(\"right\", size=\"5%\", pad=0.05)\n",
    "cb = fig.colorbar(im, cax=cax)\n",
    "\n",
    "# Second plot\n",
    "ax = fig.add_subplot(232, title='qc', xlabel='qc_layer',  ylabel='clc_layer')\n",
    "ax.plot([0, 27], [0, 27], ls=\":\", c=\".3\") # Diagonal\n",
    "ax.plot([0, 27], [4, 4], ls=\"--\", c=\".3\") # Tropopause\n",
    "ax.plot([0, 27], [14, 14], ls=\"-.\", c=\".3\") # Freezing level\n",
    "im = ax.imshow(np.flip(lin_reg.coef_[:, 27:54], axis=1), extent=(27,0,27,0), norm=DivergingNorm(0), cmap='bwr_r')\n",
    "# Colorbar axes\n",
    "divider = make_axes_locatable(ax)\n",
    "cax = divider.append_axes(\"right\", size=\"5%\", pad=0.05)\n",
    "cb = fig.colorbar(im, cax=cax)\n",
    "\n",
    "# Third plot\n",
    "ax = fig.add_subplot(233, title='qi', xlabel='qi_layer',  ylabel='clc_layer')\n",
    "ax.plot([0, 27], [0, 27], ls=\":\", c=\".3\") # Diagonal\n",
    "ax.plot([0, 27], [4, 4], ls=\"--\", c=\".3\") # Tropopause\n",
    "ax.plot([0, 27], [14, 14], ls=\"-.\", c=\".3\") # Freezing level\n",
    "im = ax.imshow(np.flip(lin_reg.coef_[:, 54:81], axis=1), extent=(27,0,27,0), norm=DivergingNorm(0), cmap='bwr_r')\n",
    "# Colorbar axes\n",
    "divider = make_axes_locatable(ax)\n",
    "cax = divider.append_axes(\"right\", size=\"5%\", pad=0.05)\n",
    "cb = fig.colorbar(im, cax=cax)\n",
    "\n",
    "# Forth plot\n",
    "ax = fig.add_subplot(234, title='temp', xlabel='temp_layer',  ylabel='clc_layer')\n",
    "ax.plot([0, 27], [0, 27], ls=\":\", c=\".3\") # Diagonal\n",
    "ax.plot([0, 27], [4, 4], ls=\"--\", c=\".3\") # Tropopause\n",
    "ax.plot([0, 27], [14, 14], ls=\"-.\", c=\".3\") # Freezing level\n",
    "im = ax.imshow(np.flip(lin_reg.coef_[:, 81:108], axis=1), extent=(27,0,27,0), \n",
    "                   norm=DivergingNorm(0), cmap='bwr_r')\n",
    "# Colorbar axes\n",
    "divider = make_axes_locatable(ax)\n",
    "cax = divider.append_axes(\"right\", size=\"5%\", pad=0.05)\n",
    "cb = fig.colorbar(im, cax=cax)\n",
    "\n",
    "# Fifth plot\n",
    "ax = fig.add_subplot(235, title='pres', xlabel='pres_layer',  ylabel='clc_layer')\n",
    "ax.plot([0, 27], [0, 27], ls=\":\", c=\".3\") # Diagonal\n",
    "ax.plot([0, 27], [4, 4], ls=\"--\", c=\".3\") # Tropopause\n",
    "im = ax.imshow(np.flip(lin_reg.coef_[:, 108:135], axis=1), extent=(27,0,27,0), norm=DivergingNorm(0), cmap='bwr_r')\n",
    "# Colorbar axes\n",
    "divider = make_axes_locatable(ax)\n",
    "cax = divider.append_axes(\"right\", size=\"5%\", pad=0.05)\n",
    "cb = fig.colorbar(im, cax=cax)\n",
    "\n",
    "# Sixth plot\n",
    "ax = fig.add_subplot(236, title='zg', xlabel='zg_layer',  ylabel='clc_layer')\n",
    "ax.plot([0, 27], [0, 27], ls=\":\", c=\".3\") # Diagonal\n",
    "ax.plot([0, 27], [4, 4], ls=\"--\", c=\".3\") # Tropopause\n",
    "im = ax.imshow(np.flip(lin_reg.coef_[:, 135:162], axis=1), extent=(27,0,27,0), norm=DivergingNorm(0), cmap='bwr_r')\n",
    "# Colorbar axes\n",
    "divider = make_axes_locatable(ax)\n",
    "cax = divider.append_axes(\"right\", size=\"5%\", pad=0.05)\n",
    "cb = fig.colorbar(im, cax=cax)\n",
    "\n",
    "plt.savefig('multiple linear regression coefficients R2B4 NARVAL normalized.pdf')"
   ]
  },
  {
   "cell_type": "markdown",
   "metadata": {},
   "source": [
    "The MSE is higher (19.18 vs 18.56) than the one from the multiple linear model fitted on the preprocessed data. The reason is that the preprocessed data contains more predictors (rho and fr_lake). Note that on the other hand the preprocessed data has only been normalized w.r.t. the training set's mean and std (which doesn't really make a difference)."
   ]
  },
  {
   "cell_type": "code",
   "execution_count": 16,
   "metadata": {},
   "outputs": [
    {
     "name": "stdout",
     "output_type": "stream",
     "text": [
      "The mean squared error of the linear model is 19.21.\n"
     ]
    }
   ],
   "source": [
    "# Loss of this optimal multiple linear regression model\n",
    "clc_predictions = lin_reg.predict(df_scaled)\n",
    "lin_mse = mean_squared_error(output_data, clc_predictions)\n",
    "print('The mean squared error of the linear model is %.2f.'%lin_mse) "
   ]
  },
  {
   "cell_type": "code",
   "execution_count": 17,
   "metadata": {},
   "outputs": [
    {
     "data": {
      "text/plain": [
       "3.6380519743798145"
      ]
     },
     "execution_count": 17,
     "metadata": {},
     "output_type": "execute_result"
    }
   ],
   "source": [
    "np.mean(clc_predictions)"
   ]
  },
  {
   "cell_type": "code",
   "execution_count": 18,
   "metadata": {},
   "outputs": [
    {
     "data": {
      "text/plain": [
       "3.6382211847364165"
      ]
     },
     "execution_count": 18,
     "metadata": {},
     "output_type": "execute_result"
    }
   ],
   "source": [
    "np.mean(np.array(output_data))"
   ]
  }
 ],
 "metadata": {
  "kernelspec": {
   "display_name": "clouds113_kernel",
   "language": "python",
   "name": "clouds113_kernel"
  },
  "language_info": {
   "codemirror_mode": {
    "name": "ipython",
    "version": 3
   },
   "file_extension": ".py",
   "mimetype": "text/x-python",
   "name": "python",
   "nbconvert_exporter": "python",
   "pygments_lexer": "ipython3",
   "version": "3.7.10"
  }
 },
 "nbformat": 4,
 "nbformat_minor": 4
}
