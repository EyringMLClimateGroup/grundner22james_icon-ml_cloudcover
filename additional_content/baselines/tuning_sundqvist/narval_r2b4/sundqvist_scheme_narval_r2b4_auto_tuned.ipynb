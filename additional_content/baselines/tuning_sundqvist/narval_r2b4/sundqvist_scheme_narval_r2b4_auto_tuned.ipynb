{
 "cells": [
  {
   "cell_type": "markdown",
   "metadata": {},
   "source": [
    "### Sundqvist Scheme"
   ]
  },
  {
   "cell_type": "markdown",
   "metadata": {},
   "source": [
    "How about we fit the Sundqvist model where we fit the tuning parameters to the data? <br>\n",
    "We let the parameters depend on whether they are taken over land or over the sea.\n",
    "\n",
    "In this version, we find the optimal set of hyperparameters automatically!"
   ]
  },
  {
   "cell_type": "code",
   "execution_count": 1,
   "metadata": {},
   "outputs": [],
   "source": [
    "# 1000 samples, grid_spacing of 0.2: 12 seconds\n",
    "# 1000 samples, grid_spacing of 0.1: 130 seconds\n",
    "\n",
    "# 100.000 samples, grid_spacing of 0.2: 850 seconds\n",
    "# 100.000 samples, grid_spacing of 0.1: Should take 2-3 hours"
   ]
  },
  {
   "cell_type": "code",
   "execution_count": 2,
   "metadata": {},
   "outputs": [
    {
     "name": "stderr",
     "output_type": "stream",
     "text": [
      "2022-04-16 10:45:54.757621: I tensorflow/stream_executor/platform/default/dso_loader.cc:49] Successfully opened dynamic library libcudart.so.10.1\n"
     ]
    },
    {
     "name": "stdout",
     "output_type": "stream",
     "text": [
      "25\n"
     ]
    }
   ],
   "source": [
    "import os\n",
    "import sys\n",
    "import time\n",
    "import json\n",
    "import numpy as np\n",
    "import tensorflow as tf\n",
    "import matplotlib.pyplot as plt\n",
    "\n",
    "from sklearn.model_selection import GridSearchCV\n",
    "from tensorflow.keras.wrappers.scikit_learn import KerasClassifier\n",
    "from tensorflow.keras.callbacks import LambdaCallback\n",
    "\n",
    "sys.path.insert(0, '/home/b/b309170/workspace_icon-ml/symbolic_regression/')\n",
    "from functions import evaluate_sundqvist\n",
    "\n",
    "# Added to the PDF name\n",
    "ran = np.random.randint(10**3)\n",
    "print(ran)\n",
    "\n",
    "seed = 7\n",
    "np.random.seed(seed)"
   ]
  },
  {
   "cell_type": "code",
   "execution_count": 3,
   "metadata": {},
   "outputs": [],
   "source": [
    "# Load columns of data\n",
    "folder_data = '/home/b/b309170/my_work/icon-ml_data/cloud_cover_parameterization/grid_cell_based_v3/based_on_var_interpolated_data'\n",
    "\n",
    "input_train = np.load(os.path.join(folder_data, 'cloud_cover_all_days_input_train_1.npy'))\n",
    "input_valid = np.load(os.path.join(folder_data, 'cloud_cover_all_days_input_valid_1.npy'))\n",
    "output_train = np.load(os.path.join(folder_data, 'cloud_cover_all_days_output_train_1.npy'))\n",
    "output_valid = np.load(os.path.join(folder_data, 'cloud_cover_all_days_output_valid_1.npy'))"
   ]
  },
  {
   "cell_type": "code",
   "execution_count": 4,
   "metadata": {},
   "outputs": [],
   "source": [
    "# Unscale the data\n",
    "mean = [5.37518440e-03, 4.65389731e-07, 2.59635412e+02, 5.52329389e+04, 6.79260772e+03, 2.58097095e-01]\n",
    "std = [6.01943993e-03, 3.95009930e-06, 3.55940285e+01, 3.26642242e+04, 6.20726361e+03, 4.28313535e-01]\n",
    "\n",
    "input_train = input_train*std + mean\n",
    "input_valid = input_valid*std + mean"
   ]
  },
  {
   "cell_type": "code",
   "execution_count": 5,
   "metadata": {},
   "outputs": [],
   "source": [
    "# Load surface pressure\n",
    "ps_train = np.load(os.path.join(folder_data, 'ps_unscaled_input_train_1.npy'))\n",
    "ps_valid = np.load(os.path.join(folder_data, 'ps_unscaled_input_valid_1.npy'))"
   ]
  },
  {
   "cell_type": "code",
   "execution_count": 6,
   "metadata": {},
   "outputs": [],
   "source": [
    "input_train = np.concatenate((input_train, np.expand_dims(ps_train, 1)), axis=1)\n",
    "input_valid = np.concatenate((input_valid, np.expand_dims(ps_valid, 1)), axis=1)"
   ]
  },
  {
   "cell_type": "code",
   "execution_count": 8,
   "metadata": {},
   "outputs": [
    {
     "data": {
      "text/plain": [
       "(26482169, 7)"
      ]
     },
     "execution_count": 8,
     "metadata": {},
     "output_type": "execute_result"
    }
   ],
   "source": [
    "# Features\n",
    "new_features = ['qv', 'qi', 'temp', 'pres', 'zg', 'fr_land', 'ps']\n",
    "\n",
    "# To locate variables\n",
    "loc = {}\n",
    "for i in range(len(new_features)):\n",
    "    loc[new_features[i]] = i\n",
    "    \n",
    "input_train.shape"
   ]
  },
  {
   "cell_type": "code",
   "execution_count": 9,
   "metadata": {},
   "outputs": [],
   "source": [
    "# Add relative humidity\n",
    "pres_train = input_train[:, loc['pres']]\n",
    "qv = input_train[:, loc['qv']]\n",
    "temp = input_train[:, loc['temp']]\n",
    "\n",
    "T0 = 273.15\n",
    "r = 0.00263*pres_train*qv*np.exp((17.67*(temp-T0))/(temp-29.65))**(-1)\n",
    "\n",
    "new_features.append('rh')\n",
    "input_train = np.append(input_train, np.expand_dims(r, -1), axis=1)\n",
    "\n",
    "# The same for input_valid\n",
    "pres_valid = input_valid[:, loc['pres']]\n",
    "qv = input_valid[:, loc['qv']]\n",
    "temp = input_valid[:, loc['temp']]\n",
    "\n",
    "T0 = 273.15\n",
    "r = 0.00263*pres_valid*qv*np.exp((17.67*(temp-T0))/(temp-29.65))**(-1)\n",
    "\n",
    "input_valid = np.append(input_valid, np.expand_dims(r, -1), axis=1)"
   ]
  },
  {
   "cell_type": "code",
   "execution_count": 10,
   "metadata": {},
   "outputs": [
    {
     "data": {
      "text/plain": [
       "(26482169, 8)"
      ]
     },
     "execution_count": 10,
     "metadata": {},
     "output_type": "execute_result"
    }
   ],
   "source": [
    "# Updating loc\n",
    "loc = {}\n",
    "for i in range(len(new_features)):\n",
    "    loc[new_features[i]] = i\n",
    "    \n",
    "input_train.shape"
   ]
  },
  {
   "cell_type": "code",
   "execution_count": 11,
   "metadata": {},
   "outputs": [],
   "source": [
    "# We split the training data into cells over land vs sea\n",
    "land_ind = np.where(input_train[:, loc['fr_land']] > 0.5)[0]\n",
    "sea_ind = np.where(input_train[:, loc['fr_land']] <= 0.5)[0]\n",
    "\n",
    "input_land = input_train[land_ind]\n",
    "output_land = output_train[land_ind]\n",
    "input_sea = input_train[sea_ind]\n",
    "output_sea = output_train[sea_ind]"
   ]
  },
  {
   "cell_type": "code",
   "execution_count": 13,
   "metadata": {},
   "outputs": [
    {
     "data": {
      "text/plain": [
       "0.260109660957152"
      ]
     },
     "execution_count": 13,
     "metadata": {},
     "output_type": "execute_result"
    }
   ],
   "source": [
    "len(land_ind)/input_train.shape[0]"
   ]
  },
  {
   "cell_type": "markdown",
   "metadata": {},
   "source": [
    "### Fitting hyperparameters\n",
    "Original ones: $r_{sat} = 1, r_{0, top} = 0.8, r_{0, surf} = 0.968, n = 2$"
   ]
  },
  {
   "cell_type": "markdown",
   "metadata": {},
   "source": [
    "### Create custom layer"
   ]
  },
  {
   "cell_type": "code",
   "execution_count": 14,
   "metadata": {},
   "outputs": [],
   "source": [
    "class Sundq_Layer(tf.keras.layers.Layer):\n",
    "\n",
    "    # These are the output units\n",
    "    def __init__(self, units=1):\n",
    "        super(Sundq_Layer, self).__init__()\n",
    "        self.units = units\n",
    "\n",
    "    def build(self, input_shape):  # Create the state of the layer (weights)\n",
    "        \n",
    "        # Initializing with the original values\n",
    "        # rsat must always be greater than r0_top and r0_surf! How could we enforce this? (*)\n",
    "        rsat_init = tf.constant_initializer(1)\n",
    "        r0_top_init = tf.constant_initializer(0.8)\n",
    "        r0_surf_init = tf.constant_initializer(0.968)\n",
    "        n_init = tf.constant_initializer(2)  \n",
    "    \n",
    "        self.rsat = tf.Variable(name='rsat', initial_value=rsat_init(shape=(1, self.units), dtype='float32'), trainable=True)\n",
    "        self.r0_top = tf.Variable(name='r0_top', initial_value=r0_top_init(shape=(1, self.units), dtype='float32'), trainable=True)\n",
    "        self.r0_surf = tf.Variable(name='r0_surf', initial_value=r0_surf_init(shape=(1, self.units), dtype='float32'), trainable=True)\n",
    "        self.n = tf.Variable(name='n', initial_value=n_init(shape=(1, self.units), dtype='float32'), trainable=True)\n",
    "\n",
    "    def call(self, inputs):  # Defines the computation from inputs to outputs\n",
    "        ps = inputs[:, 0]\n",
    "        p = inputs[:, 1]\n",
    "        rh = inputs[:, 2]\n",
    "        \n",
    "        r0 = self.r0_top + (self.r0_surf - self.r0_top)*tf.exp(1-(ps/p)**self.n)\n",
    "        \n",
    "        # div < 0, only if rsat < r0. But this goes against (*)\n",
    "        div = (tf.minimum(rh, self.rsat) - self.rsat)/(r0 - self.rsat)\n",
    "        \n",
    "        # tf.sqrt is tricky, because its gradient in 0 is infinite!\n",
    "        c = 1 - tf.sqrt(tf.maximum(div, 1e-9)) # in [0,1]\n",
    "        \n",
    "        # If rh > r0 we return c, otherwise we set it to 0\n",
    "        c_out = tf.maximum(tf.sign(rh - r0), 0)*c\n",
    "        \n",
    "        return 100*tf.transpose(c)"
   ]
  },
  {
   "cell_type": "markdown",
   "metadata": {},
   "source": [
    "**Land**"
   ]
  },
  {
   "cell_type": "code",
   "execution_count": 15,
   "metadata": {},
   "outputs": [],
   "source": [
    "# Best parameters from the hyperparameter search\n",
    "epochs_opt = 10\n",
    "batchsize_opt = 32\n",
    "optimizer_opt = tf.keras.optimizers.Adagrad\n",
    "lr_opt = 0.0523026"
   ]
  },
  {
   "cell_type": "code",
   "execution_count": 16,
   "metadata": {
    "collapsed": true,
    "jupyter": {
     "outputs_hidden": true
    },
    "tags": []
   },
   "outputs": [
    {
     "name": "stderr",
     "output_type": "stream",
     "text": [
      "2022-04-16 10:51:10.681549: I tensorflow/compiler/jit/xla_cpu_device.cc:41] Not creating XLA devices, tf_xla_enable_xla_devices not set\n",
      "2022-04-16 10:51:10.682286: W tensorflow/stream_executor/platform/default/dso_loader.cc:60] Could not load dynamic library 'libcuda.so.1'; dlerror: libcuda.so.1: cannot open shared object file: No such file or directory\n",
      "2022-04-16 10:51:10.682297: W tensorflow/stream_executor/cuda/cuda_driver.cc:326] failed call to cuInit: UNKNOWN ERROR (303)\n",
      "2022-04-16 10:51:10.682320: I tensorflow/stream_executor/cuda/cuda_diagnostics.cc:156] kernel driver does not appear to be running on this host (l40148.atos.local): /proc/driver/nvidia/version does not exist\n",
      "2022-04-16 10:51:10.683741: I tensorflow/core/platform/cpu_feature_guard.cc:142] This TensorFlow binary is optimized with oneAPI Deep Neural Network Library (oneDNN) to use the following CPU instructions in performance-critical operations:  SSE4.1 SSE4.2 AVX AVX2 FMA\n",
      "To enable them in other operations, rebuild TensorFlow with the appropriate compiler flags.\n",
      "2022-04-16 10:51:10.692182: I tensorflow/compiler/jit/xla_gpu_device.cc:99] Not creating XLA devices, tf_xla_enable_xla_devices not set\n"
     ]
    }
   ],
   "source": [
    "sundq_layer = Sundq_Layer()\n",
    "model = tf.keras.models.Sequential(sundq_layer)\n",
    "model.compile(optimizer=optimizer_opt(learning_rate=lr_opt), loss='mse')"
   ]
  },
  {
   "cell_type": "code",
   "execution_count": 17,
   "metadata": {
    "tags": []
   },
   "outputs": [
    {
     "name": "stderr",
     "output_type": "stream",
     "text": [
      "2022-04-16 10:51:18.221779: I tensorflow/compiler/mlir/mlir_graph_optimization_pass.cc:116] None of the MLIR optimization passes are enabled (registered 2)\n",
      "2022-04-16 10:51:18.237321: I tensorflow/core/platform/profile_utils/cpu_utils.cc:112] CPU Frequency: 2450085000 Hz\n"
     ]
    },
    {
     "name": "stdout",
     "output_type": "stream",
     "text": [
      "Epoch 1/10\n",
      "WARNING: AutoGraph could not transform <bound method Sundq_Layer.call of <__main__.Sundq_Layer object at 0x7ffb35d1a430>> and will run it as-is.\n",
      "Please report this to the TensorFlow team. When filing the bug, set the verbosity to 10 (on Linux, `export AUTOGRAPH_VERBOSITY=10`) and attach the full output.\n",
      "Cause: module 'gast' has no attribute 'Index'\n",
      "To silence this warning, decorate the function with @tf.autograph.experimental.do_not_convert\n",
      "215259/215259 [==============================] - 79s 365us/step - loss: 123.8615\n",
      "[array([[2.422234]], dtype=float32), array([[0.00693164]], dtype=float32), array([[0.59241045]], dtype=float32), array([[0.91213924]], dtype=float32)]\n",
      "Epoch 2/10\n",
      "215259/215259 [==============================] - 76s 352us/step - loss: 108.0200\n",
      "[array([[2.497706]], dtype=float32), array([[-0.00656802]], dtype=float32), array([[0.5860639]], dtype=float32), array([[0.9103264]], dtype=float32)]\n",
      "Epoch 3/10\n",
      "215259/215259 [==============================] - 74s 344us/step - loss: 107.9200\n",
      "[array([[2.5178297]], dtype=float32), array([[-0.00787538]], dtype=float32), array([[0.5867613]], dtype=float32), array([[0.9091117]], dtype=float32)]\n",
      "Epoch 4/10\n",
      "215259/215259 [==============================] - 75s 350us/step - loss: 107.6992\n",
      "[array([[2.5222697]], dtype=float32), array([[-0.00882611]], dtype=float32), array([[0.5864485]], dtype=float32), array([[0.9115208]], dtype=float32)]\n",
      "Epoch 5/10\n",
      "215259/215259 [==============================] - 78s 361us/step - loss: 108.0620\n",
      "[array([[2.5235522]], dtype=float32), array([[-0.00989761]], dtype=float32), array([[0.5850912]], dtype=float32), array([[0.9149365]], dtype=float32)]\n",
      "Epoch 6/10\n",
      "215259/215259 [==============================] - 77s 358us/step - loss: 107.8374\n",
      "[array([[2.5239205]], dtype=float32), array([[-0.00789214]], dtype=float32), array([[0.5860523]], dtype=float32), array([[0.91432315]], dtype=float32)]\n",
      "Epoch 7/10\n",
      "215259/215259 [==============================] - 76s 353us/step - loss: 107.8960\n",
      "[array([[2.523299]], dtype=float32), array([[-0.01017929]], dtype=float32), array([[0.58672917]], dtype=float32), array([[0.91310143]], dtype=float32)]\n",
      "Epoch 8/10\n",
      "215259/215259 [==============================] - 76s 353us/step - loss: 108.1492\n",
      "[array([[2.5237143]], dtype=float32), array([[-0.00863434]], dtype=float32), array([[0.5851522]], dtype=float32), array([[0.91515195]], dtype=float32)]\n",
      "Epoch 9/10\n",
      "215259/215259 [==============================] - 77s 356us/step - loss: 107.5902\n",
      "[array([[2.5232718]], dtype=float32), array([[-0.00820426]], dtype=float32), array([[0.5855998]], dtype=float32), array([[0.91195416]], dtype=float32)]\n",
      "Epoch 10/10\n",
      "215259/215259 [==============================] - 78s 363us/step - loss: 107.9020\n",
      "[array([[2.5241508]], dtype=float32), array([[-0.0085735]], dtype=float32), array([[0.58564645]], dtype=float32), array([[0.91154075]], dtype=float32)]\n"
     ]
    }
   ],
   "source": [
    "import logging\n",
    "logging.getLogger(\"tensorflow\").setLevel(logging.ERROR)\n",
    "\n",
    "print_weights = LambdaCallback(on_epoch_end=lambda batch, logs: print(model.layers[0].get_weights()))\n",
    "\n",
    "history = model.fit(input_land[:, [loc['ps'], loc['pres'], loc['rh']]], output_land, epochs=epochs_opt, batch_size=batchsize_opt, \\\n",
    "                   callbacks = [print_weights])"
   ]
  },
  {
   "cell_type": "code",
   "execution_count": 18,
   "metadata": {},
   "outputs": [
    {
     "data": {
      "text/plain": [
       "[<tf.Variable 'sundq__layer/rsat:0' shape=(1, 1) dtype=float32, numpy=array([[2.5241508]], dtype=float32)>,\n",
       " <tf.Variable 'sundq__layer/r0_top:0' shape=(1, 1) dtype=float32, numpy=array([[-0.0085735]], dtype=float32)>,\n",
       " <tf.Variable 'sundq__layer/r0_surf:0' shape=(1, 1) dtype=float32, numpy=array([[0.58564645]], dtype=float32)>,\n",
       " <tf.Variable 'sundq__layer/n:0' shape=(1, 1) dtype=float32, numpy=array([[0.91154075]], dtype=float32)>]"
      ]
     },
     "execution_count": 18,
     "metadata": {},
     "output_type": "execute_result"
    }
   ],
   "source": [
    "model.weights"
   ]
  },
  {
   "cell_type": "markdown",
   "metadata": {},
   "source": [
    "**Sea**"
   ]
  },
  {
   "cell_type": "code",
   "execution_count": 19,
   "metadata": {},
   "outputs": [],
   "source": [
    "sundq_layer = Sundq_Layer()\n",
    "model = tf.keras.models.Sequential(sundq_layer)\n",
    "model.compile(optimizer=optimizer_opt(learning_rate=lr_opt), loss='mse')"
   ]
  },
  {
   "cell_type": "code",
   "execution_count": 20,
   "metadata": {
    "tags": []
   },
   "outputs": [
    {
     "name": "stdout",
     "output_type": "stream",
     "text": [
      "Epoch 1/10\n",
      "612310/612310 [==============================] - 222s 361us/step - loss: 73.2702\n",
      "[array([[2.1460562]], dtype=float32), array([[0.161563]], dtype=float32), array([[0.71197987]], dtype=float32), array([[1.9643687]], dtype=float32)]\n",
      "Epoch 2/10\n",
      "612310/612310 [==============================] - 223s 364us/step - loss: 68.2994\n",
      "[array([[2.1514924]], dtype=float32), array([[0.16027173]], dtype=float32), array([[0.7098121]], dtype=float32), array([[1.9705592]], dtype=float32)]\n",
      "Epoch 3/10\n",
      "612310/612310 [==============================] - 221s 361us/step - loss: 68.4589\n",
      "[array([[2.1540356]], dtype=float32), array([[0.16258417]], dtype=float32), array([[0.71022373]], dtype=float32), array([[1.9732347]], dtype=float32)]\n",
      "Epoch 4/10\n",
      "612310/612310 [==============================] - 223s 364us/step - loss: 68.3171\n",
      "[array([[2.1542845]], dtype=float32), array([[0.16122918]], dtype=float32), array([[0.7102008]], dtype=float32), array([[1.965485]], dtype=float32)]\n",
      "Epoch 5/10\n",
      "612310/612310 [==============================] - 222s 363us/step - loss: 68.4343\n",
      "[array([[2.154482]], dtype=float32), array([[0.16281338]], dtype=float32), array([[0.71025336]], dtype=float32), array([[1.9722037]], dtype=float32)]\n",
      "Epoch 6/10\n",
      "612310/612310 [==============================] - 222s 362us/step - loss: 68.4430\n",
      "[array([[2.1532142]], dtype=float32), array([[0.16189957]], dtype=float32), array([[0.709507]], dtype=float32), array([[1.9689981]], dtype=float32)]\n",
      "Epoch 7/10\n",
      "612310/612310 [==============================] - 221s 362us/step - loss: 68.3767\n",
      "[array([[2.153082]], dtype=float32), array([[0.16102327]], dtype=float32), array([[0.7095338]], dtype=float32), array([[1.9659759]], dtype=float32)]\n",
      "Epoch 8/10\n",
      "612310/612310 [==============================] - 227s 371us/step - loss: 68.2901\n",
      "[array([[2.1514478]], dtype=float32), array([[0.16106082]], dtype=float32), array([[0.71061337]], dtype=float32), array([[1.9665585]], dtype=float32)]\n",
      "Epoch 9/10\n",
      "612310/612310 [==============================] - 219s 358us/step - loss: 68.3818\n",
      "[array([[2.1512766]], dtype=float32), array([[0.16034634]], dtype=float32), array([[0.71043414]], dtype=float32), array([[1.9708682]], dtype=float32)]\n",
      "Epoch 10/10\n",
      "612310/612310 [==============================] - 224s 366us/step - loss: 68.3652\n",
      "[array([[2.1525826]], dtype=float32), array([[0.16084777]], dtype=float32), array([[0.7102102]], dtype=float32), array([[1.968784]], dtype=float32)]\n"
     ]
    }
   ],
   "source": [
    "print_weights = LambdaCallback(on_epoch_end=lambda batch, logs: print(model.layers[0].get_weights()))\n",
    "\n",
    "history = model.fit(input_sea[:, [loc['ps'], loc['pres'], loc['rh']]], output_sea, epochs=epochs_opt, batch_size=batchsize_opt, \\\n",
    "                   callbacks = [print_weights])"
   ]
  },
  {
   "cell_type": "code",
   "execution_count": 21,
   "metadata": {},
   "outputs": [
    {
     "data": {
      "text/plain": [
       "[<tf.Variable 'sundq__layer_1/rsat:0' shape=(1, 1) dtype=float32, numpy=array([[2.1525826]], dtype=float32)>,\n",
       " <tf.Variable 'sundq__layer_1/r0_top:0' shape=(1, 1) dtype=float32, numpy=array([[0.16084777]], dtype=float32)>,\n",
       " <tf.Variable 'sundq__layer_1/r0_surf:0' shape=(1, 1) dtype=float32, numpy=array([[0.7102102]], dtype=float32)>,\n",
       " <tf.Variable 'sundq__layer_1/n:0' shape=(1, 1) dtype=float32, numpy=array([[1.968784]], dtype=float32)>]"
      ]
     },
     "execution_count": 21,
     "metadata": {},
     "output_type": "execute_result"
    }
   ],
   "source": [
    "model.weights"
   ]
  },
  {
   "cell_type": "markdown",
   "metadata": {},
   "source": [
    "### Performance with the best hyperparameter setting (To run)"
   ]
  },
  {
   "cell_type": "markdown",
   "metadata": {},
   "source": [
    "Originally: $r_{sat} = 1, r_{0, top} = 0.8, r_{0, surf} = 0.968, n = 2$ <br> \n",
    "Manually tuned over land:\n",
    "$r_{sat} = 1.12, r_{0, top} = 0.3, r_{0, surf} = 0.92, n = 0.8$ <br> \n",
    "Manually tuned over sea:\n",
    "$r_{sat} = 1.07, r_{0, top} = 0.42, r_{0, surf} = 0.9, n = 1.1$ <br> \n",
    "Automatically tuned over land:\n",
    "$r_{sat} = 2.52, r_{0, top} = 0, r_{0, surf} = 0.59, n = 0.91$ <br> \n",
    "Automatically tuned over sea:\n",
    "$r_{sat} = 2.15, r_{0, top} = 0.16, r_{0, surf} = 0.71, n = 1.97$"
   ]
  },
  {
   "cell_type": "code",
   "execution_count": 13,
   "metadata": {},
   "outputs": [],
   "source": [
    "# Differentiate between original, manually and automatically tuned!\n",
    "mse_train, r2_train = evaluate_sundqvist(flattened_input_train, flattened_output_train, loc, tuned='automatically')\n",
    "mse_train_land, r2_train_land = evaluate_sundqvist(input_land, output_land, loc, tuned='automatically')\n",
    "mse_train_sea, r2_train_sea = evaluate_sundqvist(input_sea, output_sea, loc, tuned='automatically')\n",
    "mse_valid, r2_valid = evaluate_sundqvist(flattened_input_valid, flattened_output_valid, loc, tuned='automatically')"
   ]
  },
  {
   "cell_type": "code",
   "execution_count": 14,
   "metadata": {},
   "outputs": [],
   "source": [
    "# Write results to JSON\n",
    "\n",
    "results = {}\n",
    "results['Training MSE'] = mse_train\n",
    "results['Training R2'] = r2_train\n",
    "results['Land MSE'] = mse_train_land\n",
    "results['Land R2'] = r2_train_land\n",
    "results['Sea MSE'] = mse_train_sea\n",
    "results['Sea R2'] = r2_train_sea\n",
    "results['Validation MSE'] = mse_valid\n",
    "results['Validation R2'] = r2_valid\n",
    "\n",
    "with open('/home/b/b309170/workspace_icon-ml/symbolic_regression/baselines/sundqvist_results/results.json', 'w') as file:\n",
    "    json.dump(results, file)"
   ]
  },
  {
   "cell_type": "markdown",
   "metadata": {},
   "source": [
    "**Extra plot**"
   ]
  },
  {
   "cell_type": "code",
   "execution_count": 530,
   "metadata": {},
   "outputs": [
    {
     "data": {
      "text/plain": [
       "Text(0.5, 1.0, 'Cloud Cover distributions')"
      ]
     },
     "execution_count": 530,
     "metadata": {},
     "output_type": "execute_result"
    },
    {
     "data": {
      "image/png": "[encoded data removed]",
      "text/plain": [
       "<Figure size 432x288 with 1 Axes>"
      ]
     },
     "metadata": {
      "needs_background": "light"
     },
     "output_type": "display_data"
    }
   ],
   "source": [
    "plt.hist(output_land, bins=40, log=True)\n",
    "plt.hist(predictions, bins=40, log = True)\n",
    "plt.legend(['Truth: QUBICC over land', 'Original Sundqvist Scheme'])\n",
    "plt.title('Cloud Cover distributions')"
   ]
  }
 ],
 "metadata": {
  "kernelspec": {
   "display_name": "Python 3 (based on the module python3/2022.01)",
   "language": "python",
   "name": "python3_2022_01"
  },
  "language_info": {
   "codemirror_mode": {
    "name": "ipython",
    "version": 3
   },
   "file_extension": ".py",
   "mimetype": "text/x-python",
   "name": "python",
   "nbconvert_exporter": "python",
   "pygments_lexer": "ipython3",
   "version": "3.9.9"
  }
 },
 "nbformat": 4,
 "nbformat_minor": 4
}
