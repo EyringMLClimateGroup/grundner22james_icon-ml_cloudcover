{
 "cells": [
  {
   "cell_type": "markdown",
   "metadata": {},
   "source": [
    "### Sundqvist Scheme"
   ]
  },
  {
   "cell_type": "markdown",
   "metadata": {},
   "source": [
    "How about we fit the Sundqvist model where we fit the tuning parameters to the data? <br>\n",
    "We let the parameters depend on whether they are taken over land or over the sea."
   ]
  },
  {
   "cell_type": "code",
   "execution_count": 1,
   "metadata": {},
   "outputs": [],
   "source": [
    "# 1000 samples, grid_spacing of 0.2: 12 seconds\n",
    "# 1000 samples, grid_spacing of 0.1: 130 seconds\n",
    "\n",
    "# 100.000 samples, grid_spacing of 0.2: 850 seconds\n",
    "# 100.000 samples, grid_spacing of 0.1: Should take 2-3 hours"
   ]
  },
  {
   "cell_type": "code",
   "execution_count": 12,
   "metadata": {},
   "outputs": [
    {
     "name": "stdout",
     "output_type": "stream",
     "text": [
      "341\n"
     ]
    }
   ],
   "source": [
    "import os\n",
    "import sys\n",
    "import time\n",
    "import numpy as np\n",
    "import matplotlib.pyplot as plt\n",
    "\n",
    "sys.path.insert(0, '/home/b/b309170/workspace_icon-ml/symbolic_regression/')\n",
    "from functions import evaluate_sundqvist\n",
    "\n",
    "# Grid search space of hyperparameters\n",
    "grid_spacing = 0.024\n",
    "\n",
    "# Shall we use the tuned hyperparameters?\n",
    "tuned = False\n",
    "\n",
    "# Added to the PDF name\n",
    "ran = np.random.randint(10**3)\n",
    "print(ran)"
   ]
  },
  {
   "cell_type": "code",
   "execution_count": 3,
   "metadata": {},
   "outputs": [],
   "source": [
    "# Load columns of data\n",
    "folder_data = '/home/b/b309170/my_work/icon-ml_data/cloud_cover_parameterization/grid_cell_based_v3/based_on_var_interpolated_data'\n",
    "\n",
    "input_train = np.load(os.path.join(folder_data, 'cloud_cover_all_days_input_train_1.npy'))\n",
    "input_valid = np.load(os.path.join(folder_data, 'cloud_cover_all_days_input_valid_1.npy'))\n",
    "output_train = np.load(os.path.join(folder_data, 'cloud_cover_all_days_output_train_1.npy'))\n",
    "output_valid = np.load(os.path.join(folder_data, 'cloud_cover_all_days_output_valid_1.npy'))"
   ]
  },
  {
   "cell_type": "code",
   "execution_count": 4,
   "metadata": {},
   "outputs": [],
   "source": [
    "# Unscale the data\n",
    "mean = [5.37518440e-03, 4.65389731e-07, 2.59635412e+02, 5.52329389e+04, 6.79260772e+03, 2.58097095e-01]\n",
    "std = [6.01943993e-03, 3.95009930e-06, 3.55940285e+01, 3.26642242e+04, 6.20726361e+03, 4.28313535e-01]\n",
    "\n",
    "input_train = input_train*std + mean\n",
    "input_valid = input_valid*std + mean"
   ]
  },
  {
   "cell_type": "code",
   "execution_count": 5,
   "metadata": {},
   "outputs": [],
   "source": [
    "# Load surface pressure\n",
    "ps_train = np.load(os.path.join(folder_data, 'ps_unscaled_input_train_1.npy'))\n",
    "ps_valid = np.load(os.path.join(folder_data, 'ps_unscaled_input_valid_1.npy'))"
   ]
  },
  {
   "cell_type": "code",
   "execution_count": 6,
   "metadata": {},
   "outputs": [],
   "source": [
    "input_train = np.concatenate((input_train, np.expand_dims(ps_train, 1)), axis=1)\n",
    "input_valid = np.concatenate((input_valid, np.expand_dims(ps_valid, 1)), axis=1)"
   ]
  },
  {
   "cell_type": "code",
   "execution_count": 7,
   "metadata": {},
   "outputs": [
    {
     "data": {
      "text/plain": [
       "(26482169, 7)"
      ]
     },
     "execution_count": 7,
     "metadata": {},
     "output_type": "execute_result"
    }
   ],
   "source": [
    "# Features\n",
    "new_features = ['qv', 'qi', 'temp', 'pres', 'zg', 'fr_land', 'ps']\n",
    "\n",
    "# To locate variables\n",
    "loc = {}\n",
    "for i in range(len(new_features)):\n",
    "    loc[new_features[i]] = i\n",
    "    \n",
    "input_train.shape"
   ]
  },
  {
   "cell_type": "code",
   "execution_count": 8,
   "metadata": {},
   "outputs": [],
   "source": [
    "# Add relative humidity\n",
    "pres_train = input_train[:, loc['pres']]\n",
    "qv = input_train[:, loc['qv']]\n",
    "temp = input_train[:, loc['temp']]\n",
    "\n",
    "T0 = 273.15\n",
    "r = 0.00263*pres_train*qv*np.exp((17.67*(temp-T0))/(temp-29.65))**(-1)\n",
    "\n",
    "new_features.append('rh')\n",
    "input_train = np.append(input_train, np.expand_dims(r, -1), axis=1)\n",
    "\n",
    "# The same for input_valid\n",
    "pres_valid = input_valid[:, loc['pres']]\n",
    "qv = input_valid[:, loc['qv']]\n",
    "temp = input_valid[:, loc['temp']]\n",
    "\n",
    "T0 = 273.15\n",
    "r = 0.00263*pres_valid*qv*np.exp((17.67*(temp-T0))/(temp-29.65))**(-1)\n",
    "\n",
    "input_valid = np.append(input_valid, np.expand_dims(r, -1), axis=1)"
   ]
  },
  {
   "cell_type": "code",
   "execution_count": 9,
   "metadata": {},
   "outputs": [
    {
     "data": {
      "text/plain": [
       "(26482169, 8)"
      ]
     },
     "execution_count": 9,
     "metadata": {},
     "output_type": "execute_result"
    }
   ],
   "source": [
    "# Updating loc\n",
    "loc = {}\n",
    "for i in range(len(new_features)):\n",
    "    loc[new_features[i]] = i\n",
    "    \n",
    "input_train.shape"
   ]
  },
  {
   "cell_type": "code",
   "execution_count": 10,
   "metadata": {},
   "outputs": [],
   "source": [
    "# We split the training data into cells over land vs sea\n",
    "land_ind = np.where(input_train[:, loc['fr_land']] > 0.5)[0]\n",
    "sea_ind = np.where(input_train[:, loc['fr_land']] <= 0.5)[0]\n",
    "\n",
    "input_land = input_train[land_ind]\n",
    "output_land = output_train[land_ind]\n",
    "input_sea = input_train[sea_ind]\n",
    "output_sea = output_train[sea_ind]"
   ]
  },
  {
   "cell_type": "code",
   "execution_count": 11,
   "metadata": {},
   "outputs": [
    {
     "data": {
      "text/plain": [
       "0.260109660957152"
      ]
     },
     "execution_count": 11,
     "metadata": {},
     "output_type": "execute_result"
    }
   ],
   "source": [
    "len(land_ind)/input_train.shape[0]"
   ]
  },
  {
   "cell_type": "markdown",
   "metadata": {},
   "source": [
    "### Fitting hyperparameters\n",
    "Originally: $r_{sat} = 1, r_{0, top} = 0.8, r_{0, surf} = 0.968, n = 2$\n",
    "\n",
    "Final over land:\n",
    "$r_{sat} = 1.12, r_{0, top} = 0.3, r_{0, surf} = 0.92, n = 0.8$\n",
    "\n",
    "Final over sea:\n",
    "$r_{sat} = 1.07, r_{0, top} = 0.42, r_{0, surf} = 0.9, n = 1.1$"
   ]
  },
  {
   "cell_type": "code",
   "execution_count": 46,
   "metadata": {},
   "outputs": [],
   "source": [
    "# rsat actually shouldn't really ever be smaller than r0_top or r0_surf\n",
    "\n",
    "# # First try:\n",
    "# rsat_range = np.arange(0.9, 1.1, grid_spacing)\n",
    "# r0_top_range = np.arange(0.6, 1, grid_spacing)\n",
    "# r0_surf_range = np.arange(0.6, 1, grid_spacing)\n",
    "# n_range = np.arange(1, 3, grid_spacing)\n",
    "\n",
    "# # Second try (0.025):\n",
    "# rsat_range_land = np.arange(1.05, 1.15, grid_spacing)\n",
    "# r0_top_range_land = np.arange(0.5, 0.65, grid_spacing)\n",
    "# r0_surf_range_land = np.arange(0.75, 0.85, grid_spacing)\n",
    "# n_range_land = np.arange(1, 2, grid_spacing)\n",
    "\n",
    "# rsat_range_sea = np.arange(1.05, 1.15, grid_spacing)\n",
    "# r0_top_range_sea = np.arange(0.75, 0.9, grid_spacing)\n",
    "# r0_surf_range_sea = np.arange(0.75, 0.9, grid_spacing)\n",
    "# n_range_sea = np.arange(1.5, 2.5, grid_spacing)\n",
    "\n",
    "# # Third try (0.024):\n",
    "# rsat_range_land = np.arange(1.12, 1.22, grid_spacing)\n",
    "# r0_top_range_land = np.arange(0.4, 0.5, grid_spacing)\n",
    "# r0_surf_range_land = np.arange(0.85, 0.95, grid_spacing)\n",
    "# n_range_land = np.arange(1.05, 1.15, grid_spacing)\n",
    "\n",
    "# rsat_range_sea = np.arange(1, 1.1, grid_spacing)\n",
    "# r0_top_range_sea = np.arange(0.55, 0.65, grid_spacing)\n",
    "# r0_surf_range_sea = np.arange(0.85, 0.95, grid_spacing)\n",
    "# n_range_sea = np.arange(1.05, 1.15, grid_spacing)\n",
    "\n",
    "# # Forth try\n",
    "# rsat_range_land = np.array([1.12])\n",
    "# r0_top_range_land = np.arange(0.3, 0.4, grid_spacing)\n",
    "# r0_surf_range_land = np.array([0.92])\n",
    "# n_range_land = np.arange(0.95, 1.05, grid_spacing)\n",
    "\n",
    "# rsat_range_sea = np.array([1.07])\n",
    "# r0_top_range_sea = np.arange(0.45, 0.55, grid_spacing)\n",
    "# r0_surf_range_sea = np.array([0.9])\n",
    "# n_range_sea = np.array([1.1])\n",
    "\n",
    "# Forth round\n",
    "rsat_range_land = np.array([1.12])\n",
    "r0_top_range_land = np.array([0.3])\n",
    "r0_surf_range_land = np.array([0.92])\n",
    "n_range_land = np.arange(0.75, 0.85, grid_spacing) # 0.8\n",
    "\n",
    "rsat_range_sea = np.array([1.07])\n",
    "r0_top_range_sea = np.arange(0.35, 0.45, grid_spacing) # 0.42\n",
    "r0_surf_range_sea = np.array([0.9])\n",
    "n_range_sea = np.array([1.1])"
   ]
  },
  {
   "cell_type": "markdown",
   "metadata": {},
   "source": [
    "**Land**"
   ]
  },
  {
   "cell_type": "code",
   "execution_count": 47,
   "metadata": {},
   "outputs": [],
   "source": [
    "t0 = time.time()"
   ]
  },
  {
   "cell_type": "code",
   "execution_count": 48,
   "metadata": {},
   "outputs": [],
   "source": [
    "no_samples_land = input_land.shape[0]\n",
    "mse_tensor_land = -np.ones((len(rsat_range_land), len(r0_top_range_land), len(r0_surf_range_land), len(n_range_land)))\n",
    "\n",
    "# Inefficient grid search of best parameters\n",
    "i1 = -1\n",
    "for rsat in rsat_range_land:\n",
    "    i2 = -1\n",
    "    i1 += 1\n",
    "    for r0_top in r0_top_range_land:\n",
    "        i3 = -1\n",
    "        i2 += 1\n",
    "        for r0_surf in r0_surf_range_land:\n",
    "            i4 = -1\n",
    "            i3 += 1\n",
    "            for n in n_range_land:\n",
    "                i4 += 1\n",
    "                # What is the average error with this set of tuning parameters?\n",
    "                ps = input_land[:, loc['ps']]\n",
    "                p = input_land[:, loc['pres']]\n",
    "                r = input_land[:, loc['rh']]\n",
    "                r0 = r0_top + (r0_surf - r0_top)*np.exp(1-(ps/p)**n)\n",
    "                c = np.where(r>r0, 1-np.sqrt((np.minimum(r, rsat) - rsat)/(r0 - rsat)), 0)\n",
    "                \n",
    "                mse_tensor_land[i1, i2, i3, i4] = np.mean((100*c - output_land)**2)\n",
    "                \n",
    "# assert np.all(mse_tensor_land >= 0)\n",
    "np.save('/home/b/b309170/workspace_icon-ml/symbolic_regression/baselines/sundqvist_tuning_narval_r2b4/mse_tensor_land_%d.npy'%ran, mse_tensor_land)"
   ]
  },
  {
   "cell_type": "code",
   "execution_count": 49,
   "metadata": {},
   "outputs": [
    {
     "name": "stdout",
     "output_type": "stream",
     "text": [
      "Time it took to get through land: 3.668\n"
     ]
    }
   ],
   "source": [
    "print('Time it took to get through land: %.3f'%(time.time() - t0))"
   ]
  },
  {
   "cell_type": "markdown",
   "metadata": {},
   "source": [
    "**Sea**"
   ]
  },
  {
   "cell_type": "code",
   "execution_count": 39,
   "metadata": {},
   "outputs": [],
   "source": [
    "t0 = time.time()"
   ]
  },
  {
   "cell_type": "code",
   "execution_count": 40,
   "metadata": {},
   "outputs": [],
   "source": [
    "no_samples_sea = input_sea.shape[0]\n",
    "mse_tensor_sea = -np.ones((len(rsat_range_sea), len(r0_top_range_sea), len(r0_surf_range_sea), len(n_range_sea)))\n",
    "\n",
    "# Inefficient grid search of best parameters\n",
    "i1 = -1\n",
    "for rsat in rsat_range_sea:\n",
    "    i2 = -1\n",
    "    i1 += 1\n",
    "    for r0_top in r0_top_range_sea:\n",
    "        i3 = -1\n",
    "        i2 += 1\n",
    "        for r0_surf in r0_surf_range_sea:\n",
    "            i4 = -1\n",
    "            i3 += 1\n",
    "            for n in n_range_sea:\n",
    "                i4 += 1\n",
    "                # What is the average error with this set of tuning parameters?\n",
    "                ps = input_sea[:, loc['ps']]\n",
    "                p = input_sea[:, loc['pres']]\n",
    "                r = input_sea[:, loc['rh']]\n",
    "                r0 = r0_top + (r0_surf - r0_top)*np.exp(1-(ps/p)**n)\n",
    "                c = np.where(r>r0, 1-np.sqrt((np.minimum(r, rsat) - rsat)/(r0 - rsat)), 0)\n",
    "                \n",
    "                mse_tensor_sea[i1, i2, i3, i4] = np.mean((100*c - output_sea)**2)\n",
    "\n",
    "# assert np.all(mse_tensor_sea >= 0)\n",
    "np.save('/home/b/b309170/workspace_icon-ml/symbolic_regression/baselines/sundqvist_tuning_narval_r2b4/mse_tensor_sea_%d.npy'%ran, mse_tensor_sea)"
   ]
  },
  {
   "cell_type": "code",
   "execution_count": 41,
   "metadata": {},
   "outputs": [
    {
     "name": "stdout",
     "output_type": "stream",
     "text": [
      "Time it took to get through the sea: 9.092\n"
     ]
    }
   ],
   "source": [
    "print('Time it took to get through the sea: %.3f'%(time.time() - t0))"
   ]
  },
  {
   "cell_type": "markdown",
   "metadata": {},
   "source": [
    "### Plotting the results (To run)"
   ]
  },
  {
   "cell_type": "code",
   "execution_count": 50,
   "metadata": {},
   "outputs": [],
   "source": [
    "mse_tensor_land = np.load('/home/b/b309170/workspace_icon-ml/symbolic_regression/baselines/sundqvist_tuning_narval_r2b4/mse_tensor_land_%d.npy'%ran)"
   ]
  },
  {
   "cell_type": "code",
   "execution_count": 51,
   "metadata": {},
   "outputs": [
    {
     "data": {
      "image/png": "[encoded data removed]",
      "text/plain": [
       "<Figure size 720x432 with 4 Axes>"
      ]
     },
     "metadata": {
      "needs_background": "light"
     },
     "output_type": "display_data"
    }
   ],
   "source": [
    "plt.figure(figsize=(10, 6))\n",
    "plt.subplots_adjust(hspace=0.4)\n",
    "plt.suptitle(\"Hyperparameter performance - land\", fontsize=18, y=1)\n",
    "\n",
    "hyp_par = ['rsat', 'r0_top', 'r0_surf', 'n']\n",
    "hyp_par_range = [rsat_range_land, r0_top_range_land, r0_surf_range_land, n_range_land]\n",
    "\n",
    "axes = (0,1,2,3)\n",
    "for i, par in enumerate(hyp_par):\n",
    "    # Add new subplot iteratively\n",
    "    ax = plt.subplot(2, 2, i + 1)\n",
    "    \n",
    "    axis = axes[:i] + axes[(i+1):]\n",
    "    ax.plot(hyp_par_range[i], np.min(mse_tensor_land, axis=axis))\n",
    "    \n",
    "    ax.set_title(par)\n",
    "    if i in [0, 2]:\n",
    "        ax.set_ylabel('minimal MSE')\n",
    "\n",
    "plt.savefig('/home/b/b309170/workspace_icon-ml/symbolic_regression/baselines/sundqvist_tuning_narval_r2b4/hyp_land_%d.pdf'%ran, \\\n",
    "            bbox_inches='tight')"
   ]
  },
  {
   "cell_type": "code",
   "execution_count": 44,
   "metadata": {},
   "outputs": [],
   "source": [
    "mse_tensor_sea = np.load('/home/b/b309170/workspace_icon-ml/symbolic_regression/baselines/sundqvist_tuning_narval_r2b4/mse_tensor_sea_%d.npy'%ran)"
   ]
  },
  {
   "cell_type": "code",
   "execution_count": 45,
   "metadata": {},
   "outputs": [
    {
     "data": {
      "image/png": "[encoded data removed]",
      "text/plain": [
       "<Figure size 720x432 with 4 Axes>"
      ]
     },
     "metadata": {
      "needs_background": "light"
     },
     "output_type": "display_data"
    }
   ],
   "source": [
    "plt.figure(figsize=(10, 6))\n",
    "plt.subplots_adjust(hspace=0.4)\n",
    "plt.suptitle(\"Hyperparameter performance - sea\", fontsize=18, y=1)\n",
    "\n",
    "hyp_par = ['rsat', 'r0_top', 'r0_surf', 'n']\n",
    "hyp_par_range = [rsat_range_sea, r0_top_range_sea, r0_surf_range_sea, n_range_sea]\n",
    "\n",
    "axes = (0,1,2,3)\n",
    "for i, par in enumerate(hyp_par):\n",
    "    # Add new subplot iteratively\n",
    "    ax = plt.subplot(2, 2, i + 1)\n",
    "    \n",
    "    axis = axes[:i] + axes[(i+1):]\n",
    "    ax.plot(hyp_par_range[i], np.min(mse_tensor_sea, axis=axis))\n",
    "    \n",
    "    ax.set_title(par)\n",
    "    if i in [0, 2]:\n",
    "        ax.set_ylabel('minimal MSE')\n",
    "\n",
    "plt.savefig('/home/b/b309170/workspace_icon-ml/symbolic_regression/baselines/sundqvist_tuning_narval_r2b4/hyp_sea_%d.pdf'%ran, \\\n",
    "           bbox_inches='tight')"
   ]
  },
  {
   "cell_type": "markdown",
   "metadata": {},
   "source": [
    "### Performance with the best hyperparameter setting (To run)"
   ]
  },
  {
   "cell_type": "code",
   "execution_count": 15,
   "metadata": {},
   "outputs": [],
   "source": [
    "tuned='manually'"
   ]
  },
  {
   "cell_type": "code",
   "execution_count": 16,
   "metadata": {},
   "outputs": [],
   "source": [
    "mse_train, r2_train = evaluate_sundqvist(input_train, output_train, loc, tuned)\n",
    "mse_train_land, r2_train_land = evaluate_sundqvist(input_land, output_land, loc, tuned)\n",
    "mse_train_sea, r2_train_sea = evaluate_sundqvist(input_sea, output_sea, loc, tuned)\n",
    "mse_valid, r2_valid = evaluate_sundqvist(input_valid, output_valid, loc, tuned)"
   ]
  },
  {
   "cell_type": "code",
   "execution_count": 17,
   "metadata": {},
   "outputs": [],
   "source": [
    "with open('/home/b/b309170/workspace_icon-ml/symbolic_regression/baselines/sundqvist_results/manual_gradient_descent/results.txt', 'a') as file:\n",
    "    file.write('With tuned hyperparameters: %s\\n'%tuned)\n",
    "    file.write('Training score:\\n')\n",
    "    file.write('MSE: %.3f, R2: %.3f\\n'%(mse_train, r2_train))\n",
    "    file.write('Over land: \\n')\n",
    "    file.write('MSE: %.3f, R2: %.3f\\n'%(mse_train_land, r2_train_land))\n",
    "    file.write('Over sea:\\n')\n",
    "    file.write('MSE: %.3f, R2: %.3f\\n'%(mse_train_sea, r2_train_sea))\n",
    "    file.write('Validation score:\\n')\n",
    "    file.write('MSE: %.3f, R2: %.3f\\n\\n'%(mse_valid, r2_valid))"
   ]
  },
  {
   "cell_type": "code",
   "execution_count": null,
   "metadata": {},
   "outputs": [],
   "source": []
  }
 ],
 "metadata": {
  "kernelspec": {
   "display_name": "Python 3 (based on the module python3/2022.01)",
   "language": "python",
   "name": "python3_2022_01"
  },
  "language_info": {
   "codemirror_mode": {
    "name": "ipython",
    "version": 3
   },
   "file_extension": ".py",
   "mimetype": "text/x-python",
   "name": "python",
   "nbconvert_exporter": "python",
   "pygments_lexer": "ipython3",
   "version": "3.9.9"
  }
 },
 "nbformat": 4,
 "nbformat_minor": 4
}
