{
 "cells": [
  {
   "cell_type": "markdown",
   "metadata": {},
   "source": [
    "### Sundqvist Scheme"
   ]
  },
  {
   "cell_type": "markdown",
   "metadata": {},
   "source": [
    "How about we fit the Sundqvist model where we fit the tuning parameters to the data? <br>\n",
    "We let the parameters depend on whether they are taken over land or over the sea."
   ]
  },
  {
   "cell_type": "code",
   "execution_count": 1,
   "metadata": {},
   "outputs": [],
   "source": [
    "# 1000 samples, grid_spacing of 0.2: 12 seconds\n",
    "# 1000 samples, grid_spacing of 0.1: 130 seconds\n",
    "\n",
    "# 100.000 samples, grid_spacing of 0.2: 850 seconds\n",
    "# 100.000 samples, grid_spacing of 0.1: Should take 2-3 hours"
   ]
  },
  {
   "cell_type": "code",
   "execution_count": 2,
   "metadata": {},
   "outputs": [
    {
     "name": "stdout",
     "output_type": "stream",
     "text": [
      "881\n"
     ]
    }
   ],
   "source": [
    "import os\n",
    "import sys\n",
    "import time\n",
    "import numpy as np\n",
    "import matplotlib.pyplot as plt\n",
    "\n",
    "sys.path.insert(0, '/home/b/b309170/workspace_icon-ml/symbolic_regression/')\n",
    "from functions import evaluate_sundqvist\n",
    "\n",
    "# Grid search space of hyperparameters\n",
    "grid_spacing = 0.025\n",
    "\n",
    "# Shall we use the tuned hyperparameters?\n",
    "tuned = False\n",
    "\n",
    "# Added to the PDF name\n",
    "ran = np.random.randint(10**3)\n",
    "print(ran)"
   ]
  },
  {
   "cell_type": "code",
   "execution_count": 3,
   "metadata": {},
   "outputs": [],
   "source": [
    "# Load columns of data\n",
    "folder_data = '/home/b/b309170/workspace_icon-ml/symbolic_regression/data/'\n",
    "\n",
    "input_train = np.load(os.path.join(folder_data, 'input_train_with_deriv.npy'))\n",
    "input_valid = np.load(os.path.join(folder_data, 'input_valid_with_deriv.npy'))\n",
    "output_train = np.load(os.path.join(folder_data, 'output_train_with_deriv.npy'))\n",
    "output_valid = np.load(os.path.join(folder_data, 'output_valid_with_deriv.npy'))"
   ]
  },
  {
   "cell_type": "code",
   "execution_count": 4,
   "metadata": {},
   "outputs": [
    {
     "data": {
      "text/plain": [
       "(100000, 27, 17)"
      ]
     },
     "execution_count": 4,
     "metadata": {},
     "output_type": "execute_result"
    }
   ],
   "source": [
    "# Features\n",
    "new_features = ['qv', 'qv_z', 'qv_zz', 'qc', 'qc_z', 'qc_zz', 'qi', 'qi_z', 'qi_zz', 'temp', 'temp_z', 'temp_zz', \\\n",
    "                'pres', 'pres_z', 'pres_zz', 'zg', 'fr_land']\n",
    "\n",
    "# To locate variables\n",
    "loc = {}\n",
    "for i in range(len(new_features)):\n",
    "    loc[new_features[i]] = i\n",
    "    \n",
    "input_train.shape"
   ]
  },
  {
   "cell_type": "code",
   "execution_count": 5,
   "metadata": {},
   "outputs": [],
   "source": [
    "# Add relative humidity\n",
    "pres_train = input_train[:, :, loc['pres']]\n",
    "qv = input_train[:, :, loc['qv']]\n",
    "temp = input_train[:, :, loc['temp']]\n",
    "\n",
    "T0 = 273.15\n",
    "r = 0.00263*pres_train*qv*np.exp((17.67*(temp-T0))/(temp-29.65))**(-1)\n",
    "\n",
    "new_features.append('rh')\n",
    "input_train = np.append(input_train, np.expand_dims(r, -1), axis=2)\n",
    "\n",
    "# The same for input_valid\n",
    "pres_valid = input_valid[:, :, loc['pres']]\n",
    "qv = input_valid[:, :, loc['qv']]\n",
    "temp = input_valid[:, :, loc['temp']]\n",
    "\n",
    "T0 = 273.15\n",
    "r = 0.00263*pres_valid*qv*np.exp((17.67*(temp-T0))/(temp-29.65))**(-1)\n",
    "\n",
    "input_valid = np.append(input_valid, np.expand_dims(r, -1), axis=2)"
   ]
  },
  {
   "cell_type": "code",
   "execution_count": 6,
   "metadata": {},
   "outputs": [],
   "source": [
    "# Add surface pressure to every sample\n",
    "ps_train = np.expand_dims(np.repeat(np.expand_dims(pres_train[:, -1], -1), 27, axis=1), -1)\n",
    "ps_valid = np.expand_dims(np.repeat(np.expand_dims(pres_valid[:, -1], -1), 27, axis=1), -1)\n",
    "\n",
    "new_features.append('ps')\n",
    "input_train = np.append(input_train, ps_train, axis=2)\n",
    "input_valid = np.append(input_valid, ps_valid, axis=2)"
   ]
  },
  {
   "cell_type": "code",
   "execution_count": 7,
   "metadata": {},
   "outputs": [
    {
     "data": {
      "text/plain": [
       "(100000, 27, 19)"
      ]
     },
     "execution_count": 7,
     "metadata": {},
     "output_type": "execute_result"
    }
   ],
   "source": [
    "# Updating loc\n",
    "loc = {}\n",
    "for i in range(len(new_features)):\n",
    "    loc[new_features[i]] = i\n",
    "    \n",
    "input_train.shape"
   ]
  },
  {
   "cell_type": "code",
   "execution_count": 8,
   "metadata": {},
   "outputs": [
    {
     "data": {
      "text/plain": [
       "(2700000, 19)"
      ]
     },
     "execution_count": 8,
     "metadata": {},
     "output_type": "execute_result"
    }
   ],
   "source": [
    "# Flatten before passing it to LinearRegression()\n",
    "flattened_input_train = np.reshape(input_train, (-1, len(new_features)))\n",
    "flattened_input_valid = np.reshape(input_valid, (-1, len(new_features)))\n",
    "flattened_output_train = np.reshape(output_train, -1)\n",
    "flattened_output_valid = np.reshape(output_valid, -1)\n",
    "\n",
    "flattened_input_train.shape"
   ]
  },
  {
   "cell_type": "code",
   "execution_count": 9,
   "metadata": {},
   "outputs": [],
   "source": [
    "# We split the training data into cells over land vs sea\n",
    "land_ind = np.where(flattened_input_train[:, loc['fr_land']] > 0.5)[0]\n",
    "sea_ind = np.where(flattened_input_train[:, loc['fr_land']] <= 0.5)[0]\n",
    "\n",
    "input_land = flattened_input_train[land_ind]\n",
    "output_land = flattened_output_train[land_ind]\n",
    "input_sea = flattened_input_train[sea_ind]\n",
    "output_sea = flattened_output_train[sea_ind]"
   ]
  },
  {
   "cell_type": "code",
   "execution_count": 10,
   "metadata": {},
   "outputs": [
    {
     "data": {
      "text/plain": [
       "0.26025"
      ]
     },
     "execution_count": 10,
     "metadata": {},
     "output_type": "execute_result"
    }
   ],
   "source": [
    "len(land_ind)/flattened_input_train.shape[0]"
   ]
  },
  {
   "cell_type": "markdown",
   "metadata": {},
   "source": [
    "### Fitting hyperparameters\n",
    "Originally: $r_{sat} = 1, r_{0, top} = 0.8, r_{0, surf} = 0.968, n = 2$\n",
    "\n",
    "Final over land:\n",
    "$r_{sat} = 1.10, r_{0, top} = 0.2, r_{0, surf} = 0.85, n = 1.62$\n",
    "\n",
    "Final over sea:\n",
    "$r_{sat} = 1, r_{0, top} = 0.34, r_{0, surf} = 0.95, n = 1.35$\n",
    "\n",
    "- Tuned r_{0, top} suggests that we should allow clouds to form much more often in the upper troposphere\n",
    "- But with the decreased shape factor we approach r_{0, surf} more quickly\n"
   ]
  },
  {
   "cell_type": "code",
   "execution_count": 105,
   "metadata": {},
   "outputs": [],
   "source": [
    "# rsat actually shouldn't really ever be smaller than r0_top or r0_surf\n",
    "\n",
    "# # First try (66):\n",
    "# rsat_range = np.arange(0.9, 1.1, grid_spacing)\n",
    "# r0_top_range = np.arange(0.6, 1, grid_spacing)\n",
    "# r0_surf_range = np.arange(0.6, 1, grid_spacing)\n",
    "# n_range = np.arange(1, 3, grid_spacing)\n",
    "\n",
    "# # Second try:\n",
    "# rsat_range_land = np.arange(1.05, 1.15, grid_spacing)\n",
    "# r0_top_range_land = np.arange(0.5, 0.65, grid_spacing)\n",
    "# r0_surf_range_land = np.arange(0.75, 0.85, grid_spacing)\n",
    "# n_range_land = np.arange(2.5, 3.5, grid_spacing)\n",
    "\n",
    "# rsat_range_sea = np.arange(1, 1.1, grid_spacing)\n",
    "# r0_top_range_sea = np.arange(0.5, 0.65, grid_spacing)\n",
    "# r0_surf_range_sea = np.arange(0.9, 1, grid_spacing)\n",
    "# n_range_sea = np.arange(1.3, 1.6, grid_spacing)\n",
    "\n",
    "# # Third try:\n",
    "# rsat_range_land = np.array([1.10])\n",
    "# r0_top_range_land = np.arange(0.35, 0.5, grid_spacing)\n",
    "# r0_surf_range_land = np.arange(0.85, 0.95, grid_spacing)\n",
    "# n_range_land = np.arange(1.5, 2.5, grid_spacing)\n",
    "\n",
    "# rsat_range_sea = np.array([1.00])\n",
    "# r0_top_range_sea = np.arange(0.35, 0.5, grid_spacing)\n",
    "# r0_surf_range_sea = np.array([0.95])\n",
    "# n_range_sea = np.array([1.35])\n",
    "\n",
    "# # Forth try:\n",
    "# rsat_range_land = np.array([1.10])\n",
    "# r0_top_range_land = np.arange(0.2, 0.35, grid_spacing)\n",
    "# r0_surf_range_land = np.arange(0.7, 0.85, grid_spacing)\n",
    "# n_range_land = np.array([1.62])\n",
    "\n",
    "# rsat_range_sea = np.array([1.00])\n",
    "# r0_top_range_sea = np.arange(0.2, 0.35, grid_spacing)\n",
    "# r0_surf_range_sea = np.array([0.95])\n",
    "# n_range_sea = np.array([1.35])\n",
    "\n",
    "# Final:\n",
    "rsat_range_land = np.array([1.10])\n",
    "r0_top_range_land = np.array([0.2])\n",
    "r0_surf_range_land = np.array([0.85])\n",
    "n_range_land = np.array([1.62])\n",
    "\n",
    "rsat_range_sea = np.array([1.00])\n",
    "r0_top_range_sea = np.array([0.34])\n",
    "r0_surf_range_sea = np.array([0.95])\n",
    "n_range_sea = np.array([1.35])"
   ]
  },
  {
   "cell_type": "markdown",
   "metadata": {},
   "source": [
    "**Land**"
   ]
  },
  {
   "cell_type": "code",
   "execution_count": null,
   "metadata": {},
   "outputs": [],
   "source": [
    "t0 = time.time()"
   ]
  },
  {
   "cell_type": "code",
   "execution_count": null,
   "metadata": {},
   "outputs": [],
   "source": [
    "no_samples_land = input_land.shape[0]\n",
    "mse_tensor_land = -np.ones((len(rsat_range_land), len(r0_top_range_land), len(r0_surf_range_land), len(n_range_land)))\n",
    "\n",
    "# Inefficient grid search of best parameters\n",
    "i1 = -1\n",
    "for rsat in rsat_range_land:\n",
    "    i2 = -1\n",
    "    i1 += 1\n",
    "    for r0_top in r0_top_range_land:\n",
    "        i3 = -1\n",
    "        i2 += 1\n",
    "        for r0_surf in r0_surf_range_land:\n",
    "            i4 = -1\n",
    "            i3 += 1\n",
    "            for n in n_range_land:\n",
    "                i4 += 1\n",
    "                # What is the average error with this set of tuning parameters?\n",
    "                mse = 0\n",
    "                for i in range(no_samples_land):\n",
    "                    ps = input_land[i, loc['ps']]\n",
    "                    p = input_land[i, loc['pres']]\n",
    "                    r = input_land[i, loc['rh']]\n",
    "                    r0 = r0_top + (r0_surf - r0_top)*np.exp(1-(ps/p)**n)\n",
    "                    if r > r0:\n",
    "                        # r can theoretically exceed rsat\n",
    "                        c = 1 - np.sqrt((np.minimum(r, rsat) - rsat)/(r0 - rsat)) # in [0,1]\n",
    "                    else:\n",
    "                        c = 0\n",
    "                    mse = mse + (100*c - output_land[i])**2\n",
    "                mse_tensor_land[i1, i2, i3, i4] = mse/no_samples_land\n",
    "                \n",
    "# assert np.all(mse_tensor_land >= 0)\n",
    "np.save('/home/b/b309170/workspace_icon-ml/symbolic_regression/baselines/sundqvist_results/mse_tensor_land_%d.npy'%ran, mse_tensor_land)"
   ]
  },
  {
   "cell_type": "code",
   "execution_count": null,
   "metadata": {},
   "outputs": [],
   "source": [
    "print('Time it took to get through land: %.3f'%(time.time() - t0))"
   ]
  },
  {
   "cell_type": "markdown",
   "metadata": {},
   "source": [
    "**Sea**"
   ]
  },
  {
   "cell_type": "code",
   "execution_count": 158,
   "metadata": {},
   "outputs": [],
   "source": [
    "t0 = time.time()"
   ]
  },
  {
   "cell_type": "code",
   "execution_count": 159,
   "metadata": {},
   "outputs": [
    {
     "name": "stderr",
     "output_type": "stream",
     "text": [
      "/home/b/b309170/.conda/envs/feyn_2/lib/python3.7/site-packages/ipykernel_launcher.py:25: RuntimeWarning: invalid value encountered in sqrt\n"
     ]
    }
   ],
   "source": [
    "no_samples_sea = input_sea.shape[0]\n",
    "mse_tensor_sea = -np.ones((len(rsat_range_sea), len(r0_top_range_sea), len(r0_surf_range_sea), len(n_range_sea)))\n",
    "\n",
    "# Inefficient grid search of best parameters\n",
    "i1 = -1\n",
    "for rsat in rsat_range_sea:\n",
    "    i2 = -1\n",
    "    i1 += 1\n",
    "    for r0_top in r0_top_range_sea:\n",
    "        i3 = -1\n",
    "        i2 += 1\n",
    "        for r0_surf in r0_surf_range_sea:\n",
    "            i4 = -1\n",
    "            i3 += 1\n",
    "            for n in n_range_sea:\n",
    "                i4 += 1\n",
    "                # What is the average error with this set of tuning parameters?\n",
    "                mse = 0\n",
    "                for i in range(no_samples_sea):\n",
    "                    ps = input_sea[i, loc['ps']]\n",
    "                    p = input_sea[i, loc['pres']]\n",
    "                    r = input_sea[i, loc['rh']]\n",
    "                    r0 = r0_top + (r0_surf - r0_top)*np.exp(1-(ps/p)**n)\n",
    "                    if r > r0:\n",
    "                        # r can theoretically exceed rsat\n",
    "                        c = 1 - np.sqrt((np.minimum(r, rsat) - rsat)/(r0 - rsat)) # in [0,1]\n",
    "                    else:\n",
    "                        c = 0\n",
    "                    mse = mse + (100*c - output_sea[i])**2\n",
    "                mse_tensor_sea[i1, i2, i3, i4] = mse/no_samples_sea\n",
    "\n",
    "# assert np.all(mse_tensor_sea >= 0)\n",
    "np.save('/home/b/b309170/workspace_icon-ml/symbolic_regression/baselines/sundqvist_results/mse_tensor_sea_%d.npy'%ran, mse_tensor_sea)"
   ]
  },
  {
   "cell_type": "code",
   "execution_count": 160,
   "metadata": {},
   "outputs": [
    {
     "name": "stdout",
     "output_type": "stream",
     "text": [
      "Time it took to get through the sea: 95.230\n"
     ]
    }
   ],
   "source": [
    "print('Time it took to get through the sea: %.3f'%(time.time() - t0))"
   ]
  },
  {
   "cell_type": "markdown",
   "metadata": {},
   "source": [
    "### Plotting the results (To run)"
   ]
  },
  {
   "cell_type": "code",
   "execution_count": 103,
   "metadata": {},
   "outputs": [],
   "source": [
    "mse_tensor_land = np.load('/home/b/b309170/workspace_icon-ml/symbolic_regression/baselines/sundqvist_results/mse_tensor_land_%d.npy'%ran)"
   ]
  },
  {
   "cell_type": "code",
   "execution_count": 106,
   "metadata": {},
   "outputs": [
    {
     "data": {
      "image/png": "[encoded data removed]",
      "text/plain": [
       "<Figure size 720x432 with 4 Axes>"
      ]
     },
     "metadata": {
      "needs_background": "light"
     },
     "output_type": "display_data"
    }
   ],
   "source": [
    "plt.figure(figsize=(10, 6))\n",
    "plt.subplots_adjust(hspace=0.4)\n",
    "plt.suptitle(\"Hyperparameter performance - land\", fontsize=18, y=1)\n",
    "\n",
    "hyp_par = ['rsat', 'r0_top', 'r0_surf', 'n']\n",
    "hyp_par_range = [rsat_range_land, r0_top_range_land, r0_surf_range_land, n_range_land]\n",
    "\n",
    "axes = (0,1,2,3)\n",
    "for i, par in enumerate(hyp_par):\n",
    "    # Add new subplot iteratively\n",
    "    ax = plt.subplot(2, 2, i + 1)\n",
    "    \n",
    "    axis = axes[:i] + axes[(i+1):]\n",
    "    ax.plot(hyp_par_range[i], np.min(mse_tensor_land, axis=axis))\n",
    "    \n",
    "    ax.set_title(par)\n",
    "    if i in [0, 2]:\n",
    "        ax.set_ylabel('minimal MSE')\n",
    "\n",
    "plt.savefig('/home/b/b309170/workspace_icon-ml/symbolic_regression/baselines/sundqvist_results/hyp_land_%d.pdf'%ran, \\\n",
    "            bbox_inches='tight')"
   ]
  },
  {
   "cell_type": "code",
   "execution_count": 107,
   "metadata": {},
   "outputs": [],
   "source": [
    "mse_tensor_sea = np.load('/home/b/b309170/workspace_icon-ml/symbolic_regression/baselines/sundqvist_results/mse_tensor_sea_%d.npy'%ran)"
   ]
  },
  {
   "cell_type": "code",
   "execution_count": 108,
   "metadata": {},
   "outputs": [
    {
     "data": {
      "image/png": "[encoded data removed]",
      "text/plain": [
       "<Figure size 720x432 with 4 Axes>"
      ]
     },
     "metadata": {
      "needs_background": "light"
     },
     "output_type": "display_data"
    }
   ],
   "source": [
    "plt.figure(figsize=(10, 6))\n",
    "plt.subplots_adjust(hspace=0.4)\n",
    "plt.suptitle(\"Hyperparameter performance - sea\", fontsize=18, y=1)\n",
    "\n",
    "hyp_par = ['rsat', 'r0_top', 'r0_surf', 'n']\n",
    "hyp_par_range = [rsat_range_sea, r0_top_range_sea, r0_surf_range_sea, n_range_sea]\n",
    "\n",
    "axes = (0,1,2,3)\n",
    "for i, par in enumerate(hyp_par):\n",
    "    # Add new subplot iteratively\n",
    "    ax = plt.subplot(2, 2, i + 1)\n",
    "    \n",
    "    axis = axes[:i] + axes[(i+1):]\n",
    "    ax.plot(hyp_par_range[i], np.min(mse_tensor_sea, axis=axis))\n",
    "    \n",
    "    ax.set_title(par)\n",
    "    if i in [0, 2]:\n",
    "        ax.set_ylabel('minimal MSE')\n",
    "\n",
    "plt.savefig('/home/b/b309170/workspace_icon-ml/symbolic_regression/baselines/sundqvist_results/hyp_sea_%d.pdf'%ran, \\\n",
    "           bbox_inches='tight')"
   ]
  },
  {
   "cell_type": "markdown",
   "metadata": {},
   "source": [
    "### Performance with the best hyperparameter setting (To run)"
   ]
  },
  {
   "cell_type": "code",
   "execution_count": 15,
   "metadata": {},
   "outputs": [],
   "source": [
    "tuned='manually'"
   ]
  },
  {
   "cell_type": "code",
   "execution_count": 16,
   "metadata": {},
   "outputs": [],
   "source": [
    "mse_train, r2_train = evaluate_sundqvist(flattened_input_train, flattened_output_train, loc, tuned)\n",
    "mse_train_land, r2_train_land = evaluate_sundqvist(input_land, output_land, loc, tuned)\n",
    "mse_train_sea, r2_train_sea = evaluate_sundqvist(input_sea, output_sea, loc, tuned)\n",
    "mse_valid, r2_valid = evaluate_sundqvist(flattened_input_valid, flattened_output_valid, loc, tuned)"
   ]
  },
  {
   "cell_type": "code",
   "execution_count": 17,
   "metadata": {},
   "outputs": [],
   "source": [
    "with open('/home/b/b309170/workspace_icon-ml/symbolic_regression/baselines/sundqvist_results/optimizing_manually/results.txt', 'a') as file:\n",
    "    file.write('With tuned hyperparameters: %s\\n'%tuned)\n",
    "    file.write('Training score:\\n')\n",
    "    file.write('MSE: %.3f, R2: %.3f\\n'%(mse_train, r2_train))\n",
    "    file.write('Over land: \\n')\n",
    "    file.write('MSE: %.3f, R2: %.3f\\n'%(mse_train_land, r2_train_land))\n",
    "    file.write('Over sea:\\n')\n",
    "    file.write('MSE: %.3f, R2: %.3f\\n'%(mse_train_sea, r2_train_sea))\n",
    "    file.write('Validation score:\\n')\n",
    "    file.write('MSE: %.3f, R2: %.3f\\n\\n'%(mse_valid, r2_valid))"
   ]
  },
  {
   "cell_type": "code",
   "execution_count": null,
   "metadata": {},
   "outputs": [],
   "source": []
  }
 ],
 "metadata": {
  "kernelspec": {
   "display_name": "Python 3 (based on the module python3/2022.01)",
   "language": "python",
   "name": "python3_2022_01"
  },
  "language_info": {
   "codemirror_mode": {
    "name": "ipython",
    "version": 3
   },
   "file_extension": ".py",
   "mimetype": "text/x-python",
   "name": "python",
   "nbconvert_exporter": "python",
   "pygments_lexer": "ipython3",
   "version": "3.9.9"
  }
 },
 "nbformat": 4,
 "nbformat_minor": 4
}
