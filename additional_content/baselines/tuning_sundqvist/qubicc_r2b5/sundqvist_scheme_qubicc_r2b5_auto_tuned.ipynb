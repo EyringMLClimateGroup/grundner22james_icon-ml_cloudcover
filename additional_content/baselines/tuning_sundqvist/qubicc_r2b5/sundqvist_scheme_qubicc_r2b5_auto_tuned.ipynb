{
 "cells": [
  {
   "cell_type": "markdown",
   "metadata": {},
   "source": [
    "### Sundqvist Scheme"
   ]
  },
  {
   "cell_type": "markdown",
   "metadata": {},
   "source": [
    "How about we fit the Sundqvist model where we fit the tuning parameters to the data? <br>\n",
    "We let the parameters depend on whether they are taken over land or over the sea.\n",
    "\n",
    "In this version, we find the optimal set of hyperparameters automatically!"
   ]
  },
  {
   "cell_type": "code",
   "execution_count": 3,
   "metadata": {},
   "outputs": [],
   "source": [
    "# 1000 samples, grid_spacing of 0.2: 12 seconds\n",
    "# 1000 samples, grid_spacing of 0.1: 130 seconds\n",
    "\n",
    "# 100.000 samples, grid_spacing of 0.2: 850 seconds\n",
    "# 100.000 samples, grid_spacing of 0.1: Should take 2-3 hours"
   ]
  },
  {
   "cell_type": "code",
   "execution_count": 4,
   "metadata": {},
   "outputs": [
    {
     "name": "stdout",
     "output_type": "stream",
     "text": [
      "150\n"
     ]
    }
   ],
   "source": [
    "import os\n",
    "import sys\n",
    "import time\n",
    "import json\n",
    "import numpy as np\n",
    "import tensorflow as tf\n",
    "import matplotlib.pyplot as plt\n",
    "\n",
    "from sklearn.model_selection import GridSearchCV\n",
    "from tensorflow.keras.wrappers.scikit_learn import KerasClassifier\n",
    "from tensorflow.keras.callbacks import LambdaCallback\n",
    "\n",
    "sys.path.insert(0, '/home/b/b309170/workspace_icon-ml/symbolic_regression/')\n",
    "from functions import evaluate_sundqvist\n",
    "\n",
    "# Added to the PDF name\n",
    "ran = np.random.randint(10**3)\n",
    "print(ran)\n",
    "\n",
    "seed = 7\n",
    "np.random.seed(seed)"
   ]
  },
  {
   "cell_type": "code",
   "execution_count": 5,
   "metadata": {},
   "outputs": [],
   "source": [
    "# Load columns of data\n",
    "folder_data = '/home/b/b309170/workspace_icon-ml/symbolic_regression/data/'\n",
    "\n",
    "input_train = np.load(os.path.join(folder_data, 'input_train_with_deriv.npy'))\n",
    "input_valid = np.load(os.path.join(folder_data, 'input_valid_with_deriv.npy'))\n",
    "output_train = np.load(os.path.join(folder_data, 'output_train_with_deriv.npy'))\n",
    "output_valid = np.load(os.path.join(folder_data, 'output_valid_with_deriv.npy'))"
   ]
  },
  {
   "cell_type": "code",
   "execution_count": 6,
   "metadata": {},
   "outputs": [
    {
     "data": {
      "text/plain": [
       "(100000, 27, 17)"
      ]
     },
     "execution_count": 6,
     "metadata": {},
     "output_type": "execute_result"
    }
   ],
   "source": [
    "# Features\n",
    "new_features = ['qv', 'qv_z', 'qv_zz', 'qc', 'qc_z', 'qc_zz', 'qi', 'qi_z', 'qi_zz', 'temp', 'temp_z', 'temp_zz', \\\n",
    "                'pres', 'pres_z', 'pres_zz', 'zg', 'fr_land']\n",
    "\n",
    "# To locate variables\n",
    "loc = {}\n",
    "for i in range(len(new_features)):\n",
    "    loc[new_features[i]] = i\n",
    "    \n",
    "input_train.shape"
   ]
  },
  {
   "cell_type": "code",
   "execution_count": 7,
   "metadata": {},
   "outputs": [],
   "source": [
    "# Add relative humidity\n",
    "pres_train = input_train[:, :, loc['pres']]\n",
    "qv = input_train[:, :, loc['qv']]\n",
    "temp = input_train[:, :, loc['temp']]\n",
    "\n",
    "T0 = 273.15\n",
    "r = 0.00263*pres_train*qv*np.exp((17.67*(temp-T0))/(temp-29.65))**(-1)\n",
    "\n",
    "new_features.append('rh')\n",
    "input_train = np.append(input_train, np.expand_dims(r, -1), axis=2)\n",
    "\n",
    "# The same for input_valid\n",
    "pres_valid = input_valid[:, :, loc['pres']]\n",
    "qv = input_valid[:, :, loc['qv']]\n",
    "temp = input_valid[:, :, loc['temp']]\n",
    "\n",
    "T0 = 273.15\n",
    "r = 0.00263*pres_valid*qv*np.exp((17.67*(temp-T0))/(temp-29.65))**(-1)\n",
    "\n",
    "input_valid = np.append(input_valid, np.expand_dims(r, -1), axis=2)"
   ]
  },
  {
   "cell_type": "code",
   "execution_count": 8,
   "metadata": {},
   "outputs": [],
   "source": [
    "# Add surface pressure to every sample\n",
    "ps_train = np.expand_dims(np.repeat(np.expand_dims(pres_train[:, -1], -1), 27, axis=1), -1)\n",
    "ps_valid = np.expand_dims(np.repeat(np.expand_dims(pres_valid[:, -1], -1), 27, axis=1), -1)\n",
    "\n",
    "new_features.append('ps')\n",
    "input_train = np.append(input_train, ps_train, axis=2)\n",
    "input_valid = np.append(input_valid, ps_valid, axis=2)"
   ]
  },
  {
   "cell_type": "code",
   "execution_count": 9,
   "metadata": {},
   "outputs": [
    {
     "data": {
      "text/plain": [
       "(100000, 27, 19)"
      ]
     },
     "execution_count": 9,
     "metadata": {},
     "output_type": "execute_result"
    }
   ],
   "source": [
    "# Updating loc\n",
    "loc = {}\n",
    "for i in range(len(new_features)):\n",
    "    loc[new_features[i]] = i\n",
    "    \n",
    "input_train.shape"
   ]
  },
  {
   "cell_type": "code",
   "execution_count": 10,
   "metadata": {},
   "outputs": [
    {
     "data": {
      "text/plain": [
       "(2700000, 19)"
      ]
     },
     "execution_count": 10,
     "metadata": {},
     "output_type": "execute_result"
    }
   ],
   "source": [
    "# Flatten before passing it to LinearRegression()\n",
    "flattened_input_train = np.reshape(input_train, (-1, len(new_features)))\n",
    "flattened_input_valid = np.reshape(input_valid, (-1, len(new_features)))\n",
    "flattened_output_train = np.reshape(output_train, -1)\n",
    "flattened_output_valid = np.reshape(output_valid, -1)\n",
    "\n",
    "flattened_input_train.shape"
   ]
  },
  {
   "cell_type": "code",
   "execution_count": 11,
   "metadata": {},
   "outputs": [],
   "source": [
    "# We split the training data into cells over land vs sea\n",
    "land_ind = np.where(flattened_input_train[:, loc['fr_land']] > 0.5)[0]\n",
    "sea_ind = np.where(flattened_input_train[:, loc['fr_land']] <= 0.5)[0]\n",
    "\n",
    "input_land = flattened_input_train[land_ind]\n",
    "output_land = flattened_output_train[land_ind]\n",
    "input_sea = flattened_input_train[sea_ind]\n",
    "output_sea = flattened_output_train[sea_ind]"
   ]
  },
  {
   "cell_type": "code",
   "execution_count": 12,
   "metadata": {},
   "outputs": [
    {
     "data": {
      "text/plain": [
       "0.26025"
      ]
     },
     "execution_count": 12,
     "metadata": {},
     "output_type": "execute_result"
    }
   ],
   "source": [
    "len(land_ind)/flattened_input_train.shape[0]"
   ]
  },
  {
   "cell_type": "markdown",
   "metadata": {},
   "source": [
    "### Fitting hyperparameters\n",
    "Original ones: $r_{sat} = 1, r_{0, top} = 0.8, r_{0, surf} = 0.968, n = 2$"
   ]
  },
  {
   "cell_type": "markdown",
   "metadata": {},
   "source": [
    "### Create custom layer"
   ]
  },
  {
   "cell_type": "code",
   "execution_count": null,
   "metadata": {},
   "outputs": [],
   "source": [
    "class Sundq_Layer(tf.keras.layers.Layer):\n",
    "\n",
    "    # These are the output units\n",
    "    def __init__(self, units=1):\n",
    "        super(Sundq_Layer, self).__init__()\n",
    "        self.units = units\n",
    "\n",
    "    def build(self, input_shape):  # Create the state of the layer (weights)\n",
    "        \n",
    "        # Initializing with the original values\n",
    "        # rsat must always be greater than r0_top and r0_surf! How could we enforce this? (*)\n",
    "        rsat_init = tf.constant_initializer(1)\n",
    "        r0_top_init = tf.constant_initializer(0.8)\n",
    "        r0_surf_init = tf.constant_initializer(0.968)\n",
    "        n_init = tf.constant_initializer(2)  \n",
    "    \n",
    "        self.rsat = tf.Variable(name='rsat', initial_value=rsat_init(shape=(1, self.units), dtype='float32'), trainable=True)\n",
    "        self.r0_top = tf.Variable(name='r0_top', initial_value=r0_top_init(shape=(1, self.units), dtype='float32'), trainable=True)\n",
    "        self.r0_surf = tf.Variable(name='r0_surf', initial_value=r0_surf_init(shape=(1, self.units), dtype='float32'), trainable=True)\n",
    "        self.n = tf.Variable(name='n', initial_value=n_init(shape=(1, self.units), dtype='float32'), trainable=True)\n",
    "\n",
    "    def call(self, inputs):  # Defines the computation from inputs to outputs\n",
    "        ps = inputs[:, 0]\n",
    "        p = inputs[:, 1]\n",
    "        rh = inputs[:, 2]\n",
    "        \n",
    "        r0 = self.r0_top + (self.r0_surf - self.r0_top)*tf.exp(1-(ps/p)**self.n)\n",
    "        \n",
    "        # div < 0, only if rsat < r0. But this goes against (*)\n",
    "        div = (tf.minimum(rh, self.rsat) - self.rsat)/(r0 - self.rsat)\n",
    "        \n",
    "        # tf.sqrt is tricky, because its gradient in 0 is infinite!\n",
    "        c = 1 - tf.sqrt(tf.maximum(div, 1e-9)) # in [0,1]\n",
    "        \n",
    "        # If rh > r0 we return c, otherwise we set it to 0\n",
    "        c_out = tf.maximum(tf.sign(rh - r0), 0)*c\n",
    "        \n",
    "        return 100*tf.transpose(c)"
   ]
  },
  {
   "cell_type": "markdown",
   "metadata": {},
   "source": [
    "**Land**"
   ]
  },
  {
   "cell_type": "code",
   "execution_count": null,
   "metadata": {},
   "outputs": [],
   "source": [
    "# Best parameters from the hyperparameter search\n",
    "epochs_opt = 10\n",
    "batchsize_opt = 32\n",
    "optimizer_opt = tf.keras.optimizers.Adagrad\n",
    "lr_opt = 0.0523026"
   ]
  },
  {
   "cell_type": "code",
   "execution_count": null,
   "metadata": {},
   "outputs": [],
   "source": [
    "sundq_layer = Sundq_Layer()\n",
    "model = tf.keras.models.Sequential(sundq_layer)\n",
    "model.compile(optimizer=optimizer_opt(learning_rate=lr_opt), loss='mse')"
   ]
  },
  {
   "cell_type": "code",
   "execution_count": null,
   "metadata": {
    "collapsed": true,
    "jupyter": {
     "outputs_hidden": true
    }
   },
   "outputs": [],
   "source": [
    "import logging\n",
    "logging.getLogger(\"tensorflow\").setLevel(logging.ERROR)\n",
    "\n",
    "print_weights = LambdaCallback(on_epoch_end=lambda batch, logs: print(model.layers[0].get_weights()))\n",
    "\n",
    "history = model.fit(input_land[:, [loc['ps'], loc['pres'], loc['rh']]], output_land, epochs=epochs_opt, batch_size=batchsize_opt, \\\n",
    "                   callbacks = [print_weights])"
   ]
  },
  {
   "cell_type": "code",
   "execution_count": null,
   "metadata": {},
   "outputs": [],
   "source": [
    "model.weights"
   ]
  },
  {
   "cell_type": "markdown",
   "metadata": {},
   "source": [
    "**Sea**"
   ]
  },
  {
   "cell_type": "code",
   "execution_count": null,
   "metadata": {},
   "outputs": [],
   "source": [
    "sundq_layer = Sundq_Layer()\n",
    "model = tf.keras.models.Sequential(sundq_layer)\n",
    "model.compile(optimizer=optimizer_opt(learning_rate=lr_opt), loss='mse')"
   ]
  },
  {
   "cell_type": "code",
   "execution_count": null,
   "metadata": {
    "collapsed": true,
    "jupyter": {
     "outputs_hidden": true
    }
   },
   "outputs": [],
   "source": [
    "print_weights = LambdaCallback(on_epoch_end=lambda batch, logs: print(model.layers[0].get_weights()))\n",
    "\n",
    "history = model.fit(input_sea[:, [loc['ps'], loc['pres'], loc['rh']]], output_sea, epochs=epochs_opt, batch_size=batchsize_opt, \\\n",
    "                   callbacks = [print_weights])"
   ]
  },
  {
   "cell_type": "code",
   "execution_count": null,
   "metadata": {},
   "outputs": [],
   "source": [
    "model.weights"
   ]
  },
  {
   "cell_type": "markdown",
   "metadata": {},
   "source": [
    "### Performance with the best hyperparameter setting (To run)"
   ]
  },
  {
   "cell_type": "markdown",
   "metadata": {},
   "source": [
    "Originally: $r_{sat} = 1, r_{0, top} = 0.8, r_{0, surf} = 0.968, n = 2$ <br> \n",
    "Manually tuned over land:\n",
    "$r_{sat} = 1.10, r_{0, top} = 0.2, r_{0, surf} = 0.85, n = 1.62$ <br> \n",
    "Manually tuned over sea:\n",
    "$r_{sat} = 1, r_{0, top} = 0.34, r_{0, surf} = 0.95, n = 1.35$ <br> \n",
    "Automatically tuned over land:\n",
    "$r_{sat} = 1.48, r_{0, top} = 0, r_{0, surf} = 0.49, n = 1.11$ <br> \n",
    "Automatically tuned over sea:\n",
    "$r_{sat} = 1.43, r_{0, top} = 0.04, r_{0, surf} = 0.77, n = 1.28$"
   ]
  },
  {
   "cell_type": "code",
   "execution_count": 13,
   "metadata": {},
   "outputs": [],
   "source": [
    "# Differentiate between original, manually and automatically tuned!\n",
    "mse_train, r2_train = evaluate_sundqvist(flattened_input_train, flattened_output_train, loc, tuned='automatically')\n",
    "mse_train_land, r2_train_land = evaluate_sundqvist(input_land, output_land, loc, tuned='automatically')\n",
    "mse_train_sea, r2_train_sea = evaluate_sundqvist(input_sea, output_sea, loc, tuned='automatically')\n",
    "mse_valid, r2_valid = evaluate_sundqvist(flattened_input_valid, flattened_output_valid, loc, tuned='automatically')"
   ]
  },
  {
   "cell_type": "code",
   "execution_count": 14,
   "metadata": {},
   "outputs": [],
   "source": [
    "# Write results to JSON\n",
    "\n",
    "results = {}\n",
    "results['Training MSE'] = mse_train\n",
    "results['Training R2'] = r2_train\n",
    "results['Land MSE'] = mse_train_land\n",
    "results['Land R2'] = r2_train_land\n",
    "results['Sea MSE'] = mse_train_sea\n",
    "results['Sea R2'] = r2_train_sea\n",
    "results['Validation MSE'] = mse_valid\n",
    "results['Validation R2'] = r2_valid\n",
    "\n",
    "with open('/home/b/b309170/workspace_icon-ml/symbolic_regression/baselines/sundqvist_results/results.json', 'w') as file:\n",
    "    json.dump(results, file)"
   ]
  },
  {
   "cell_type": "markdown",
   "metadata": {},
   "source": [
    "**Extra plot**"
   ]
  },
  {
   "cell_type": "code",
   "execution_count": 530,
   "metadata": {},
   "outputs": [
    {
     "data": {
      "text/plain": [
       "Text(0.5, 1.0, 'Cloud Cover distributions')"
      ]
     },
     "execution_count": 530,
     "metadata": {},
     "output_type": "execute_result"
    },
    {
     "data": {
      "image/png": "[encoded data removed]",
      "text/plain": [
       "<Figure size 432x288 with 1 Axes>"
      ]
     },
     "metadata": {
      "needs_background": "light"
     },
     "output_type": "display_data"
    }
   ],
   "source": [
    "plt.hist(output_land, bins=40, log=True)\n",
    "plt.hist(predictions, bins=40, log = True)\n",
    "plt.legend(['Truth: QUBICC over land', 'Original Sundqvist Scheme'])\n",
    "plt.title('Cloud Cover distributions')"
   ]
  }
 ],
 "metadata": {
  "kernelspec": {
   "display_name": "Python 3 (based on the module python3/2022.01)",
   "language": "python",
   "name": "python3_2022_01"
  },
  "language_info": {
   "codemirror_mode": {
    "name": "ipython",
    "version": 3
   },
   "file_extension": ".py",
   "mimetype": "text/x-python",
   "name": "python",
   "nbconvert_exporter": "python",
   "pygments_lexer": "ipython3",
   "version": "3.9.9"
  }
 },
 "nbformat": 4,
 "nbformat_minor": 4
}
