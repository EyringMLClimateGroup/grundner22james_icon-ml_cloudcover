{
 "cells": [
  {
   "cell_type": "markdown",
   "metadata": {},
   "source": [
    "We want to use the tuned Sundqvist scheme (tuned to the QUBICC R2B5 data) as a baseline for the performance of the QUBICC-trained NNs on the NARVAL data\n",
    "(shown in q1_cell_based_qubicc_r2b5/source_code/cross_validation_evaluate.ipynb)\n",
    "\n",
    "So we want to plot the R2-values and compute their average of the Sundqvist scheme on the NARVAL R2B5 data (for both cloud volume and cloud area fraction)."
   ]
  },
  {
   "cell_type": "code",
   "execution_count": 1,
   "metadata": {},
   "outputs": [
    {
     "name": "stderr",
     "output_type": "stream",
     "text": [
      "2022-04-21 14:53:44.266619: I tensorflow/stream_executor/platform/default/dso_loader.cc:49] Successfully opened dynamic library libcudart.so.10.1\n"
     ]
    }
   ],
   "source": [
    "import os\n",
    "import sys\n",
    "import numpy as np\n",
    "\n",
    "# Add path with my_classes to sys.path\n",
    "sys.path.insert(0, '/home/b/b309170/workspace_icon-ml/iconml_clc/')\n",
    "\n",
    "import my_classes\n",
    "from my_classes import simple_sundqvist_scheme\n",
    "\n",
    "output_var = 'clc'"
   ]
  },
  {
   "cell_type": "code",
   "execution_count": 2,
   "metadata": {},
   "outputs": [],
   "source": [
    "path_data = '/home/b/b309170/my_work/icon-ml_data/cloud_cover_parameterization/grid_cell_based_QUBICC_R02B05/based_on_var_interpolated_data'\n",
    "\n",
    "if output_var == 'clc':\n",
    "    full_output_var_name = 'cloud_cover'\n",
    "elif output_var == 'cl_area':\n",
    "    full_output_var_name = 'cloud_area'\n",
    "\n",
    "narval_output_file = '%s_output_narval.npy'%full_output_var_name\n",
    "\n",
    "input_data = np.load(path_data + '/cloud_cover_input_narval.npy')\n",
    "output_data = np.load(os.path.join(path_data, narval_output_file))"
   ]
  },
  {
   "cell_type": "code",
   "execution_count": 3,
   "metadata": {},
   "outputs": [],
   "source": [
    "input_variables = np.array(['qv', 'qc', 'qi', 'temp', 'pres', 'u', 'v', 'zg', 'coriolis', 'fr_land'])"
   ]
  },
  {
   "cell_type": "code",
   "execution_count": 4,
   "metadata": {},
   "outputs": [],
   "source": [
    "samples_total = input_data.shape[0]"
   ]
  },
  {
   "cell_type": "code",
   "execution_count": 5,
   "metadata": {},
   "outputs": [],
   "source": [
    "qv = input_data[:, 0]\n",
    "temp = input_data[:, 3]\n",
    "pres = input_data[:, 4]\n",
    "fr_land = input_data[:, 9]\n",
    "ps = np.load(path_data + '/ps_input_narval.npy')"
   ]
  },
  {
   "cell_type": "code",
   "execution_count": 6,
   "metadata": {},
   "outputs": [
    {
     "name": "stdout",
     "output_type": "stream",
     "text": [
      "259.62268\n",
      "0.31190652\n",
      "100036.94075209455\n"
     ]
    }
   ],
   "source": [
    "print(np.mean(temp))\n",
    "print(np.mean(fr_land))\n",
    "print(np.mean(ps))"
   ]
  },
  {
   "cell_type": "code",
   "execution_count": 7,
   "metadata": {},
   "outputs": [],
   "source": [
    "# # Takes 1400s, so close to 30 minutes\n",
    "\n",
    "# ind = np.random.randint(0, samples_total, samples_total)\n",
    "\n",
    "# Entries will be in [0, 1]\n",
    "sundqvist = []\n",
    "for i in range(samples_total):\n",
    "    sundqvist.append(simple_sundqvist_scheme(qv[i], temp[i], pres[i], fr_land[i], ps=ps[i], tuned='manually_r2b5'))\n",
    "\n",
    "# We want the output to be in the [0, 100] range\n",
    "sundqvist = 100*np.array(sundqvist)"
   ]
  },
  {
   "cell_type": "code",
   "execution_count": 8,
   "metadata": {},
   "outputs": [],
   "source": [
    "v_layers = np.load(path_data + '/samples_vertical_layers_narval.npy')"
   ]
  },
  {
   "cell_type": "code",
   "execution_count": 9,
   "metadata": {},
   "outputs": [],
   "source": [
    "full_output_var_name = 'cloud_cover'\n",
    "narval_output_file = '%s_output_narval.npy'%full_output_var_name\n",
    "output_data = np.load(os.path.join(path_data, narval_output_file))"
   ]
  },
  {
   "cell_type": "code",
   "execution_count": 10,
   "metadata": {},
   "outputs": [],
   "source": [
    "r2_values_clc = []\n",
    "for k in range(5, 32):\n",
    "    var = np.var(output_data[np.where(v_layers == k)])\n",
    "    mse = np.mean((np.array(sundqvist)[np.where(v_layers == k)] - output_data[np.where(v_layers == k)])**2, dtype=np.float64)\n",
    "    r2_value = 1 - mse/var\n",
    "    r2_values_clc.append(r2_value)"
   ]
  },
  {
   "cell_type": "code",
   "execution_count": 11,
   "metadata": {},
   "outputs": [],
   "source": [
    "full_output_var_name = 'cloud_area'\n",
    "narval_output_file = '%s_output_narval.npy'%full_output_var_name\n",
    "output_data = np.load(os.path.join(path_data, narval_output_file))"
   ]
  },
  {
   "cell_type": "code",
   "execution_count": 12,
   "metadata": {},
   "outputs": [],
   "source": [
    "r2_values_cl_area = []\n",
    "for k in range(5, 32):\n",
    "    var = np.var(output_data[np.where(v_layers == k)])\n",
    "    mse = np.mean((np.array(sundqvist)[np.where(v_layers == k)] - output_data[np.where(v_layers == k)])**2, dtype=np.float64)\n",
    "    r2_value = 1 - mse/var\n",
    "    r2_values_cl_area.append(r2_value)"
   ]
  },
  {
   "cell_type": "code",
   "execution_count": 21,
   "metadata": {},
   "outputs": [
    {
     "data": {
      "text/plain": [
       "-1.598695366870946"
      ]
     },
     "execution_count": 21,
     "metadata": {},
     "output_type": "execute_result"
    }
   ],
   "source": [
    "np.mean(r2_values_clc[2:])"
   ]
  },
  {
   "cell_type": "code",
   "execution_count": 22,
   "metadata": {},
   "outputs": [
    {
     "data": {
      "text/plain": [
       "-0.8400229853675434"
      ]
     },
     "execution_count": 22,
     "metadata": {},
     "output_type": "execute_result"
    }
   ],
   "source": [
    "np.mean(r2_values_cl_area[2:])"
   ]
  },
  {
   "cell_type": "code",
   "execution_count": 19,
   "metadata": {},
   "outputs": [
    {
     "data": {
      "text/plain": [
       "-0.5420558510265896"
      ]
     },
     "execution_count": 19,
     "metadata": {},
     "output_type": "execute_result"
    }
   ],
   "source": [
    "np.mean(r2_values_clc[2:-1])"
   ]
  },
  {
   "cell_type": "code",
   "execution_count": 20,
   "metadata": {},
   "outputs": [
    {
     "data": {
      "text/plain": [
       "0.2923658213192281"
      ]
     },
     "execution_count": 20,
     "metadata": {},
     "output_type": "execute_result"
    }
   ],
   "source": [
    "np.mean(r2_values_cl_area[2:-1])"
   ]
  }
 ],
 "metadata": {
  "kernelspec": {
   "display_name": "Python 3 (based on the module python3/2022.01)",
   "language": "python",
   "name": "python3_2022_01"
  },
  "language_info": {
   "codemirror_mode": {
    "name": "ipython",
    "version": 3
   },
   "file_extension": ".py",
   "mimetype": "text/x-python",
   "name": "python",
   "nbconvert_exporter": "python",
   "pygments_lexer": "ipython3",
   "version": "3.9.9"
  }
 },
 "nbformat": 4,
 "nbformat_minor": 4
}
