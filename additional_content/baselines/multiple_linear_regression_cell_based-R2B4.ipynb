{
 "cells": [
  {
   "cell_type": "markdown",
   "metadata": {},
   "source": [
    "## Multiple linear regression\n",
    "\n",
    "**For Table 3 of the paper**\n",
    "\n",
    "Cell-based NARVAL R2B4 model"
   ]
  },
  {
   "cell_type": "code",
   "execution_count": 1,
   "metadata": {},
   "outputs": [],
   "source": [
    "from sklearn.linear_model import LinearRegression\n",
    "from sklearn.metrics import mean_squared_error\n",
    "from tensorflow.keras import backend as K\n",
    "import gc\n",
    "import numpy as np\n",
    "import pandas as pd\n",
    "import importlib\n",
    "import os\n",
    "import sys\n",
    "\n",
    "from tensorflow.keras.optimizers import Nadam\n",
    "from tensorflow.keras.models import Sequential\n",
    "from tensorflow.keras.layers import Dense\n",
    "\n",
    "base_path = '/pf/b/b309170'\n",
    "path_data = base_path + '/my_work/icon-ml_data/cloud_cover_parameterization/grid_cell_based_v3/based_on_var_interpolated_data'\n",
    "\n",
    "# Add path with my_classes to sys.path\n",
    "sys.path.insert(0, base_path + '/workspace_icon-ml/cloud_cover_parameterization/')\n",
    "\n",
    "import my_classes\n",
    "importlib.reload(my_classes)\n",
    "from my_classes import simple_sundqvist_scheme\n",
    "from my_classes import write_infofile\n",
    "from my_classes import load_data\n",
    "\n",
    "import matplotlib.pyplot as plt\n",
    "import time\n",
    "\n",
    "NUM = 1"
   ]
  },
  {
   "cell_type": "code",
   "execution_count": 2,
   "metadata": {},
   "outputs": [],
   "source": [
    "# The data is already normalized (w.r.t. training data)\n",
    "input_train = np.load(path_data + '/cloud_cover_all_days_input_train_%d.npy'%NUM, mmap_mode='r')\n",
    "input_valid = np.load(path_data + '/cloud_cover_all_days_input_valid_%d.npy'%NUM)\n",
    "input_test = np.load(path_data + '/cloud_cover_all_days_input_test_%d.npy'%NUM)\n",
    "output_train = np.load(path_data + '/cloud_cover_all_days_output_train_%d.npy'%NUM)\n",
    "output_valid = np.load(path_data + '/cloud_cover_all_days_output_valid_%d.npy'%NUM)\n",
    "output_test = np.load(path_data + '/cloud_cover_all_days_output_test_%d.npy'%NUM)"
   ]
  },
  {
   "cell_type": "markdown",
   "metadata": {},
   "source": [
    "### Training the multiple linear model on the training set only\n",
    "--> Yields 81.60 on the training set and 82.00 on the validation + test set. <br>\n",
    "--> The MSEs are so similar to each other, so it doesn't make sense to split the dataset"
   ]
  },
  {
   "cell_type": "code",
   "execution_count": 6,
   "metadata": {},
   "outputs": [],
   "source": [
    "input_valid_test = np.concatenate((input_valid, input_test), axis=0)\n",
    "output_valid_test = np.concatenate((output_valid, output_test), axis=0)"
   ]
  },
  {
   "cell_type": "markdown",
   "metadata": {},
   "source": [
    "input_train -> output_train <br>\n",
    "input_valid_test -> output_valid_test"
   ]
  },
  {
   "cell_type": "code",
   "execution_count": 8,
   "metadata": {},
   "outputs": [
    {
     "name": "stdout",
     "output_type": "stream",
     "text": [
      "4.183831214904785\n"
     ]
    }
   ],
   "source": [
    "t0 = time.time()\n",
    "\n",
    "# The optimal multiple linear regression model\n",
    "lin_reg = LinearRegression()\n",
    "lin_reg.fit(input_train, output_train)\n",
    "\n",
    "print(time.time() - t0)"
   ]
  },
  {
   "cell_type": "code",
   "execution_count": 9,
   "metadata": {},
   "outputs": [
    {
     "name": "stdout",
     "output_type": "stream",
     "text": [
      "The mean squared error of the linear model is 81.60.\n"
     ]
    }
   ],
   "source": [
    "# Training data loss\n",
    "clc_predictions = lin_reg.predict(input_train)\n",
    "lin_mse = mean_squared_error(output_train, clc_predictions)\n",
    "print('The mean squared error of the linear model is %.2f.'%lin_mse) "
   ]
  },
  {
   "cell_type": "code",
   "execution_count": 10,
   "metadata": {},
   "outputs": [
    {
     "name": "stdout",
     "output_type": "stream",
     "text": [
      "The mean squared error of the linear model is 82.00.\n"
     ]
    }
   ],
   "source": [
    "# Validation data loss\n",
    "clc_predictions = lin_reg.predict(input_valid_test)\n",
    "lin_mse = mean_squared_error(output_valid_test, clc_predictions)\n",
    "print('The mean squared error of the linear model is %.2f.'%lin_mse) "
   ]
  },
  {
   "cell_type": "markdown",
   "metadata": {},
   "source": [
    "### Training the multiple linear model on the entire data set"
   ]
  },
  {
   "cell_type": "code",
   "execution_count": 3,
   "metadata": {},
   "outputs": [],
   "source": [
    "input_data = np.concatenate((input_train, input_valid, input_test), axis=0)\n",
    "output_data = np.concatenate((output_train, output_valid, output_test), axis=0)"
   ]
  },
  {
   "cell_type": "code",
   "execution_count": 23,
   "metadata": {},
   "outputs": [
    {
     "name": "stdout",
     "output_type": "stream",
     "text": [
      "4.8166115283966064\n"
     ]
    }
   ],
   "source": [
    "t0 = time.time()\n",
    "\n",
    "# The optimal multiple linear regression model\n",
    "lin_reg = LinearRegression()\n",
    "lin_reg.fit(input_data, output_data)\n",
    "\n",
    "print(time.time() - t0)"
   ]
  },
  {
   "cell_type": "code",
   "execution_count": 25,
   "metadata": {},
   "outputs": [
    {
     "name": "stdout",
     "output_type": "stream",
     "text": [
      "The mean squared error of the linear model is 81.71.\n"
     ]
    }
   ],
   "source": [
    "# Loss of this optimal multiple linear regression model\n",
    "clc_predictions = lin_reg.predict(input_data)\n",
    "lin_mse = mean_squared_error(output_data, clc_predictions)\n",
    "print('The mean squared error of the linear model is %.2f.'%lin_mse) "
   ]
  },
  {
   "cell_type": "markdown",
   "metadata": {},
   "source": [
    "### Zero Output Model"
   ]
  },
  {
   "cell_type": "code",
   "execution_count": 16,
   "metadata": {},
   "outputs": [
    {
     "data": {
      "text/plain": [
       "129.6262720267197"
      ]
     },
     "execution_count": 16,
     "metadata": {},
     "output_type": "execute_result"
    }
   ],
   "source": [
    "np.mean(output_data**2, dtype=np.float64)"
   ]
  },
  {
   "cell_type": "markdown",
   "metadata": {},
   "source": [
    "### Constant Output Model"
   ]
  },
  {
   "cell_type": "code",
   "execution_count": 17,
   "metadata": {},
   "outputs": [
    {
     "data": {
      "text/plain": [
       "109.63230156266818"
      ]
     },
     "execution_count": 17,
     "metadata": {},
     "output_type": "execute_result"
    }
   ],
   "source": [
    "mean = np.mean(output_data, dtype=np.float64)\n",
    "np.mean((output_data-mean)**2, dtype=np.float64)"
   ]
  },
  {
   "cell_type": "markdown",
   "metadata": {},
   "source": [
    "### Randomly initialized neural network"
   ]
  },
  {
   "cell_type": "code",
   "execution_count": 20,
   "metadata": {},
   "outputs": [],
   "source": [
    "model = Sequential()\n",
    "model.add(Dense(256, activation='relu', input_dim = 6))\n",
    "model.add(Dense(256, activation='relu'))\n",
    "model.add(Dense(1, activation='linear'))\n",
    "model.compile(loss='mse', optimizer=Nadam())"
   ]
  },
  {
   "cell_type": "code",
   "execution_count": 36,
   "metadata": {},
   "outputs": [],
   "source": [
    "# model_fold_3 is implemented in ICON-A\n",
    "batch_size = 2**20\n",
    "\n",
    "for i in range(1 + input_data.shape[0]//batch_size):\n",
    "    if i == 0:\n",
    "        clc_predictions = model.predict_on_batch(input_data[i*batch_size:(i+1)*batch_size])\n",
    "    else:\n",
    "        clc_predictions = np.concatenate((clc_predictions, model.predict_on_batch(input_data[i*batch_size:(i+1)*batch_size])), axis=0)\n",
    "    K.clear_session()\n",
    "    gc.collect()"
   ]
  },
  {
   "cell_type": "code",
   "execution_count": 45,
   "metadata": {},
   "outputs": [
    {
     "name": "stdout",
     "output_type": "stream",
     "text": [
      "The mean squared error of the randomly initialized neural network is 131.07.\n"
     ]
    }
   ],
   "source": [
    "lin_mse = mean_squared_error(output_data, clc_predictions[:, 0])\n",
    "print('The mean squared error of the randomly initialized neural network is %.2f.'%lin_mse) "
   ]
  },
  {
   "cell_type": "markdown",
   "metadata": {},
   "source": [
    "### Simplified Sundqvist function"
   ]
  },
  {
   "cell_type": "code",
   "execution_count": 4,
   "metadata": {},
   "outputs": [],
   "source": [
    "# Reverse scaling\n",
    "means = np.array([5.37518440e-03, 4.65389731e-07, 2.59635412e+02, 5.52329389e+04,\n",
    " 6.79260772e+03, 2.58097095e-01])\n",
    "stds = np.array([6.01943993e-03, 3.95009930e-06, 3.55940285e+01, 3.26642242e+04,\n",
    " 6.20726361e+03, 4.28313535e-01])"
   ]
  },
  {
   "cell_type": "code",
   "execution_count": 5,
   "metadata": {},
   "outputs": [],
   "source": [
    "# Reverse scaling\n",
    "qv = input_data[:, 0]*stds[0] + means[0]\n",
    "temp = input_data[:, 2]*stds[2] + means[2]\n",
    "pres = input_data[:, 3]*stds[3] + means[3]"
   ]
  },
  {
   "cell_type": "code",
   "execution_count": 6,
   "metadata": {},
   "outputs": [
    {
     "data": {
      "text/plain": [
       "253.455313205719"
      ]
     },
     "execution_count": 6,
     "metadata": {},
     "output_type": "execute_result"
    }
   ],
   "source": [
    "t0 = time.time()\n",
    "\n",
    "# Entries will be in [0, 1]\n",
    "sundqvist = []\n",
    "for i in range(qv.shape[0]):\n",
    "    sundqvist.append(simple_sundqvist_scheme(qv[i], temp[i], pres[i], ps=101325))\n",
    "    \n",
    "time.time() - t0"
   ]
  },
  {
   "cell_type": "code",
   "execution_count": 9,
   "metadata": {},
   "outputs": [
    {
     "data": {
      "text/plain": [
       "85.18675142002722"
      ]
     },
     "execution_count": 9,
     "metadata": {},
     "output_type": "execute_result"
    }
   ],
   "source": [
    "np.mean((output_data - 100*np.array(sundqvist))**2, dtype=np.float64)"
   ]
  }
 ],
 "metadata": {
  "kernelspec": {
   "display_name": "clouds_kernel",
   "language": "python",
   "name": "clouds_kernel"
  },
  "language_info": {
   "codemirror_mode": {
    "name": "ipython",
    "version": 3
   },
   "file_extension": ".py",
   "mimetype": "text/x-python",
   "name": "python",
   "nbconvert_exporter": "python",
   "pygments_lexer": "ipython3",
   "version": "3.7.10"
  }
 },
 "nbformat": 4,
 "nbformat_minor": 4
}
