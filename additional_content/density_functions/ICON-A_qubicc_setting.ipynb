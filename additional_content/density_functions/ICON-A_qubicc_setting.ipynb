{
 "cells": [
  {
   "cell_type": "code",
   "execution_count": 21,
   "metadata": {},
   "outputs": [],
   "source": [
    "import os\n",
    "import sys\n",
    "import numpy as np\n",
    "import pandas as pd\n",
    "import xarray as xr\n",
    "import matplotlib.pyplot as plt\n",
    "import seaborn as sns\n",
    "import time\n",
    "# Add path with my_classes to sys.path\n",
    "sys.path.insert(0, '/home/b/b309170/workspace_icon-ml/iconml_clc/')\n",
    "sys.path.insert(0, '/home/b/b309170/workspace_icon-ml/iconml_clc/grid_cell_based_v2/source_code')\n",
    "\n",
    "from my_classes import load_data\n",
    "\n",
    "# import my_classes\n",
    "# import importlib\n",
    "# importlib.reload(my_classes)\n",
    "\n",
    "from my_classes import get_cg_nans\n",
    "# from for_preprocessing import Gamma_m\n",
    "# from LCL import lcl\n",
    "\n",
    "SEED = 50\n",
    "\n",
    "np.random.seed(SEED)"
   ]
  },
  {
   "cell_type": "markdown",
   "metadata": {},
   "source": [
    "## Plot joint distribution for temperature and pressure"
   ]
  },
  {
   "cell_type": "code",
   "execution_count": null,
   "metadata": {},
   "outputs": [
    {
     "name": "stdout",
     "output_type": "stream",
     "text": [
      "temp\n"
     ]
    }
   ],
   "source": [
    "# Loads the NARVAL data into the data_dict dictionary\n",
    "# order_of_vars=['zg', 'fr_lake', 'fr_land', 'qv', 'qc', 'qi', 'temp', 'pres', 'rho', 'clc']\n",
    "order_of_vars=['temp', 'pres']\n",
    "data_dict_narval = load_data(source='narval', days='all', vert_interp=True, order_of_vars=order_of_vars)"
   ]
  },
  {
   "cell_type": "code",
   "execution_count": null,
   "metadata": {},
   "outputs": [],
   "source": [
    "# Loads the QUBICC data into the data_dict dictionary\n",
    "# order_of_vars=['zg', 'fr_lake', 'fr_seaice', 'fr_land', 'hus', 'qclw_phy', 'cli', 'ta', 'pfull', 'rho', 'cl']\n",
    "order_of_vars=['ta', 'pfull']\n",
    "data_dict_qubicc = load_data(source='qubicc', days='all', vert_interp=True, order_of_vars=order_of_vars)"
   ]
  },
  {
   "cell_type": "code",
   "execution_count": null,
   "metadata": {},
   "outputs": [],
   "source": [
    "# kind = 'scatter' and kind = 'hex' take 0.2 seconds per timestep\n",
    "# kind = 'reg' takes 6 seconds per timestep\n",
    "# kind = 'kde' takes 25 seconds per timestep\n",
    "\n",
    "t0 = time.time()\n",
    "h = sns.jointplot(x=data_dict_narval['temp'], y=data_dict_narval['pres']/100, color='blue', kind='scatter')\n",
    "\n",
    "# or set labels via the axes objects\n",
    "h.ax_joint.set_xlabel('Temperature [K]', fontweight='bold')\n",
    "h.ax_joint.set_ylabel('Pressure [hPa]', fontweight='bold')\n",
    "plt.gca().invert_yaxis()\n",
    "plt.savefig('Joint PDF of NARVAL pres and temp.png', bbox_inches=\"tight\") # Careful about the size of the pdf\n",
    "print(time.time() - t0)"
   ]
  },
  {
   "cell_type": "code",
   "execution_count": null,
   "metadata": {},
   "outputs": [],
   "source": [
    "# kind = 'scatter' and kind = 'hex' take 0.2 seconds per timestep\n",
    "# kind = 'reg' takes 6 seconds per timestep\n",
    "# kind = 'kde' takes 25 seconds per timestep\n",
    "\n",
    "t0 = time.time()\n",
    "h = sns.jointplot(x=data_dict_qubicc['ta'], y=data_dict_qubicc['pfull']/100, color='red', kind='scatter')\n",
    "\n",
    "# or set labels via the axes objects\n",
    "h.ax_joint.set_xlabel('Temperature [K]', fontweight='bold')\n",
    "h.ax_joint.set_ylabel('Pressure [hPa]', fontweight='bold')\n",
    "plt.gca().invert_yaxis()\n",
    "plt.savefig('Joint PDF of QUBICC pres and temp.png', bbox_inches=\"tight\")\n",
    "print(time.time() - t0)"
   ]
  },
  {
   "cell_type": "code",
   "execution_count": null,
   "metadata": {},
   "outputs": [],
   "source": [
    "# Estimated upper limit on time it takes to run this cell: 3100s\n",
    "\n",
    "tips = pd.DataFrame(columns=['Temperature [K]', 'Pressure [hPa]']) # For the variable names\n",
    "# h = sns.JointGrid(x=\"Temperature [K]\", y=\"Pressure [hPa]\", data=data_dict_qubicc)\n",
    "h = sns.JointGrid(x=tips[\"Temperature [K]\"], y=tips[\"Pressure [hPa]\"])\n",
    "\n",
    "m = 721 # Maximum: 721\n",
    "n = 1635 # Maximum: 1635\n",
    "\n",
    "t0 = time.time()\n",
    "sns.kdeplot(data_dict_qubicc['ta'][:m].reshape(-1), ax=h.ax_marg_x, legend=False, color='tab:orange')\n",
    "sns.kdeplot(data_dict_qubicc['pfull'][:m].reshape(-1)/100, ax=h.ax_marg_y, vertical=True, legend=False, color='tab:orange')\n",
    "h.ax_joint.plot(data_dict_qubicc['ta'][:m].reshape(-1), data_dict_qubicc['pfull'][:m].reshape(-1)/100, \"o\", ms=5, \n",
    "            color='tab:orange')\n",
    "\n",
    "sns.kdeplot(data_dict_narval['temp'][:n].reshape(-1), ax=h.ax_marg_x, legend=False, color='tab:blue')\n",
    "sns.kdeplot(data_dict_narval['pres'][:n].reshape(-1)/100, ax=h.ax_marg_y, vertical=True, legend=False, color='tab:blue')\n",
    "h.ax_joint.plot(data_dict_narval['temp'][:n].reshape(-1), data_dict_narval['pres'][:n].reshape(-1)/100, \"bo\", ms=5,\n",
    "               color='tab:blue')\n",
    "\n",
    "h.ax_joint.legend(['Qubicc data', 'Narval data'], loc='upper right')\n",
    "\n",
    "plt.gca().invert_yaxis()\n",
    "plt.savefig('Joint_PDF_QUBICC_NARVAL_temperature_pressure.png', bbox_inches=\"tight\")\n",
    "\n",
    "print(time.time() - t0)"
   ]
  },
  {
   "cell_type": "markdown",
   "metadata": {},
   "source": [
    "## Load Narval"
   ]
  },
  {
   "cell_type": "code",
   "execution_count": null,
   "metadata": {},
   "outputs": [],
   "source": [
    "# Loads the NARVAL data into the data_dict dictionary\n",
    "# order_of_vars=['zg', 'fr_lake', 'fr_land', 'qv', 'qc', 'qi', 'temp', 'pres', 'rho', 'clc']\n",
    "order_of_vars=['zg', 'fr_lake', 'fr_land', 'qv', 'qc', 'qi', 'temp', 'pres', 'rho', 'clc']\n",
    "data_dict = load_data(source='narval', days='all', vert_interp=True, order_of_vars=order_of_vars)\n",
    "\n",
    "time_steps_narval = data_dict['qv'].shape[0]\n",
    "\n",
    "#Reshaping into nd-arrays of equaling shapes\n",
    "data_dict['zg'] = np.repeat(np.expand_dims(data_dict['zg'], 0), time_steps_narval, axis=0)\n",
    "data_dict['fr_lake'] = np.repeat(np.expand_dims(data_dict['fr_lake'], 0), time_steps_narval, axis=0)\n",
    "data_dict['fr_land'] = np.repeat(np.expand_dims(data_dict['fr_land'], 0), time_steps_narval, axis=0)\n",
    "data_dict['fr_land'] = np.repeat(np.expand_dims(data_dict['fr_land'], 1), 31, axis=1)\n",
    "data_dict['fr_lake'] = np.repeat(np.expand_dims(data_dict['fr_lake'], 1), 31, axis=1)\n",
    "\n",
    "# Temp minus near-surface temp\n",
    "dT_narval = data_dict['temp'] - np.repeat(np.expand_dims(data_dict['temp'][:, -1, :], axis=1), 31, axis=1)\n",
    "# Surface pressure\n",
    "pres_sfc_narval = np.repeat(np.expand_dims(data_dict['pres'][:, -1, :], axis=1), 27, axis=1)"
   ]
  },
  {
   "cell_type": "code",
   "execution_count": null,
   "metadata": {},
   "outputs": [],
   "source": [
    "# Computing EIS\n",
    "\n",
    "## Relative humidity\n",
    "T0 = 273.15\n",
    "r_narval = 0.00263*data_dict['pres']*data_dict['qv']*np.exp((17.67*(data_dict['temp']-T0))/(data_dict['temp']-29.65))**(-1)\n",
    "\n",
    "## Starting with potential temperature\n",
    "p0 = np.repeat(np.expand_dims(data_dict['pres'][:, 30, :], axis=1), 31, axis=1)\n",
    "pot_temp = data_dict['temp']*(p0/data_dict['pres'])**(0.286)\n",
    "\n",
    "## Lower-tropospheric stability\n",
    "# We have 700 hPa at roughly the 20th layer\n",
    "ind_700 = np.argmin(np.abs(data_dict['pres'] - 70000), axis=1) # Matrix of shape time x hor\n",
    "pot_temp_700 = np.array([[pot_temp[i, ind_700[i,j], j] for j in range(pot_temp.shape[2])] for i in range(pot_temp.shape[0])])\n",
    "\n",
    "LTS_narval = pot_temp_700 - pot_temp[:, 30, :]\n",
    "\n",
    "## The moist-adiabatic potential temperature gradient at 850hPa\n",
    "ind_850 = np.argmin(np.abs(data_dict['pres'] - 85000), axis=1) #Indices corresponding to 850hPa\n",
    "T_850 = np.array([[data_dict['temp'][i, ind_850[i,j], j] for j in range(pot_temp.shape[2])] for i in range(pot_temp.shape[0])])\n",
    "p_850 = np.array([[data_dict['pres'][i, ind_850[i,j], j] for j in range(pot_temp.shape[2])] for i in range(pot_temp.shape[0])])\n",
    "\n",
    "maptg = Gamma_m(T_850, p_850)\n",
    "\n",
    "## Height at p=700hPa\n",
    "z_700 = np.array([[data_dict['zg'][i, ind_700[i,j], j] for j in range(pot_temp.shape[2])] for i in range(pot_temp.shape[0])])\n",
    "\n",
    "## LCL (due to Romps, 2017)\n",
    "lcl_mat = np.zeros((data_dict['temp'].shape[0], data_dict['temp'].shape[2]))\n",
    "for i in range(data_dict['temp'].shape[0]):\n",
    "    for j in range(data_dict['temp'].shape[2]):\n",
    "        lcl_mat[i,j] = lcl(p=data_dict['pres'][i, 30, j], T=data_dict['temp'][i, 30, j], rhl=r_narval[i,30,j])\n",
    "        \n",
    "EIS_narval = LTS_narval-maptg*(z_700-lcl_mat)"
   ]
  },
  {
   "cell_type": "code",
   "execution_count": null,
   "metadata": {},
   "outputs": [],
   "source": [
    "EIS_narval = np.repeat(np.expand_dims(EIS_narval, 1), 27, axis=1)\n",
    "LTS_narval = np.repeat(np.expand_dims(LTS_narval, 1), 27, axis=1)"
   ]
  },
  {
   "cell_type": "code",
   "execution_count": null,
   "metadata": {},
   "outputs": [],
   "source": [
    "# Removing data above 21km\n",
    "for key in data_dict.keys():\n",
    "    data_dict[key] = data_dict[key][:,4:,:]\n",
    "    print(data_dict[key].shape)\n",
    "    \n",
    "dT_narval = dT_narval[:,4:,:]\n",
    "r_narval = r_narval[:,4:,:]"
   ]
  },
  {
   "cell_type": "code",
   "execution_count": null,
   "metadata": {},
   "outputs": [],
   "source": [
    "#Reshaping into 1D-arrays and converting dict into a DataFrame-object (the following is based on Aurelien Geron)\n",
    "for key in data_dict.keys():\n",
    "    data_dict[key] = np.reshape(data_dict[key], -1) \n",
    "    \n",
    "dT_narval = np.reshape(dT_narval, -1)\n",
    "pres_sfc_narval = np.reshape(pres_sfc_narval, -1)\n",
    "LTS_narval = np.reshape(LTS_narval, -1)\n",
    "EIS_narval = np.reshape(EIS_narval, -1)\n",
    "\n",
    "df_narval = pd.DataFrame.from_dict(data_dict)\n",
    "df_narval.head()"
   ]
  },
  {
   "cell_type": "markdown",
   "metadata": {},
   "source": [
    "## Load Qubicc"
   ]
  },
  {
   "cell_type": "code",
   "execution_count": null,
   "metadata": {},
   "outputs": [],
   "source": [
    "# Loads the QUBICC data into the data_dict dictionary\n",
    "# order_of_vars=['zg', 'fr_lake', 'fr_seaice', 'fr_land', 'hus', 'qclw_phy', 'cli', 'ta', 'pfull', 'rho', 'cl']\n",
    "order_of_vars=['zg', 'fr_lake', 'fr_land', 'hus', 'qclw_phy', 'cli', 'ta', 'pfull', 'rho', 'cl']\n",
    "data_dict = load_data(source='qubicc', days='all', vert_interp=True, order_of_vars=order_of_vars)\n",
    "\n",
    "time_steps_qubicc = data_dict['hus'].shape[0]\n",
    "\n",
    "#Reshaping into nd-arrays of equaling shapes\n",
    "data_dict['zg'] = np.repeat(np.expand_dims(data_dict['zg'], 0), time_steps_qubicc, axis=0)\n",
    "data_dict['fr_lake'] = np.repeat(np.expand_dims(data_dict['fr_lake'], 0), time_steps_qubicc, axis=0)\n",
    "data_dict['fr_land'] = np.repeat(np.expand_dims(data_dict['fr_land'], 0), time_steps_qubicc, axis=0)\n",
    "# data_dict['fr_seaice'] = np.repeat(np.expand_dims(data_dict['fr_lake'], 0), time_steps_qubicc, axis=0)\n",
    "# data_dict['fr_seaice'] = np.repeat(np.expand_dims(data_dict['fr_lake'], 1), 31, axis=1)\n",
    "data_dict['fr_land'] = np.repeat(np.expand_dims(data_dict['fr_land'], 1), 31, axis=1)\n",
    "data_dict['fr_lake'] = np.repeat(np.expand_dims(data_dict['fr_lake'], 1), 31, axis=1)\n",
    "# Temp minus near-surface temp\n",
    "dT_qubicc = data_dict['ta'] - np.repeat(np.expand_dims(data_dict['ta'][:, -1, :], axis=1), 31, axis=1)\n",
    "# Surface pressure\n",
    "pres_sfc_qubicc = np.repeat(np.expand_dims(data_dict['pfull'][:, -1, :], axis=1), 27, axis=1)"
   ]
  },
  {
   "cell_type": "code",
   "execution_count": null,
   "metadata": {},
   "outputs": [],
   "source": [
    "# Computing EIS\n",
    "\n",
    "## Relative humidity\n",
    "T0 = 273.15\n",
    "r_qubicc = 0.00263*data_dict['pfull']*data_dict['hus']*np.exp((17.67*(data_dict['ta']-T0))/(data_dict['ta']-29.65))**(-1)\n",
    "\n",
    "## Starting with potential temperature\n",
    "p0 = np.repeat(np.expand_dims(data_dict['pfull'][:, 30, :], axis=1), 31, axis=1)\n",
    "pot_temp = data_dict['ta']*(p0/data_dict['pfull'])**(0.286)\n",
    "\n",
    "## Lower-tropospheric stability\n",
    "# We have 700 hPa at roughly the 20th layer\n",
    "ind_700 = np.argmin(np.abs(data_dict['pfull'] - 70000), axis=1) # Matrix of shape time x hor\n",
    "pot_temp_700 = np.array([[pot_temp[i, ind_700[i,j], j] for j in range(pot_temp.shape[2])] for i in range(pot_temp.shape[0])])\n",
    "\n",
    "LTS_qubicc = pot_temp_700 - pot_temp[:, 30, :]\n",
    "\n",
    "## The moist-adiabatic potential temperature gradient at 850hPa\n",
    "ind_850 = np.argmin(np.abs(data_dict['pfull'] - 85000), axis=1) #Indices corresponding to 850hPa\n",
    "T_850 = np.array([[data_dict['ta'][i, ind_850[i,j], j] for j in range(pot_temp.shape[2])] for i in range(pot_temp.shape[0])])\n",
    "p_850 = np.array([[data_dict['pfull'][i, ind_850[i,j], j] for j in range(pot_temp.shape[2])] for i in range(pot_temp.shape[0])])\n",
    "\n",
    "maptg = Gamma_m(T_850, p_850)\n",
    "\n",
    "## Height at p=700hPa\n",
    "z_700 = np.array([[data_dict['zg'][i, ind_700[i,j], j] for j in range(pot_temp.shape[2])] for i in range(pot_temp.shape[0])])\n",
    "\n",
    "## LCL (due to Romps, 2017)\n",
    "lcl_mat = np.zeros((data_dict['ta'].shape[0], data_dict['ta'].shape[2]))\n",
    "for i in range(data_dict['ta'].shape[0]):\n",
    "    for j in range(data_dict['ta'].shape[2]):\n",
    "        lcl_mat[i,j] = lcl(p=data_dict['pfull'][i, 30, j], T=data_dict['ta'][i, 30, j], rhl=r_qubicc[i,30,j])\n",
    "        \n",
    "EIS_qubicc = LTS_qubicc-maptg*(z_700-lcl_mat)"
   ]
  },
  {
   "cell_type": "code",
   "execution_count": null,
   "metadata": {},
   "outputs": [],
   "source": [
    "EIS_qubicc = np.repeat(np.expand_dims(EIS_qubicc, 1), 27, axis=1)\n",
    "LTS_qubicc = np.repeat(np.expand_dims(LTS_qubicc, 1), 27, axis=1)"
   ]
  },
  {
   "cell_type": "code",
   "execution_count": null,
   "metadata": {},
   "outputs": [],
   "source": [
    "# Removing data above 21km\n",
    "for key in data_dict.keys():\n",
    "    data_dict[key] = data_dict[key][:,4:,:]\n",
    "    print(data_dict[key].shape)\n",
    "\n",
    "dT_qubicc = dT_qubicc[:,4:,:]\n",
    "r_qubicc = r_qubicc[:,4:,:]"
   ]
  },
  {
   "cell_type": "code",
   "execution_count": null,
   "metadata": {},
   "outputs": [],
   "source": [
    "#Reshaping into 1D-arrays and converting dict into a DataFrame-object (the following is based on Aurelien Geron)\n",
    "for key in data_dict.keys():\n",
    "    data_dict[key] = np.reshape(data_dict[key], -1) \n",
    "    \n",
    "dT_qubicc = np.reshape(dT_qubicc, -1)\n",
    "pres_sfc_qubicc = np.reshape(pres_sfc_qubicc, -1)\n",
    "LTS_qubicc = np.reshape(LTS_qubicc, -1)\n",
    "EIS_qubicc = np.reshape(EIS_qubicc, -1)\n",
    "\n",
    "df_qubicc = pd.DataFrame.from_dict(data_dict)\n",
    "df_qubicc.head()"
   ]
  },
  {
   "cell_type": "code",
   "execution_count": null,
   "metadata": {},
   "outputs": [],
   "source": [
    "def standardize(x, y):\n",
    "    return (x-np.mean(y))/np.std(y)\n",
    "\n",
    "def extrap_measure(x, y):\n",
    "    '''\n",
    "        The lower the extrap_measure (non-negative number), the less extrapolation is necessary from Qubicc to Narval.\n",
    "        Here: x=Qubicc-Data, y=Narval-Data\n",
    "    '''\n",
    "    # Before the data is fed to the Neural network, it is standardized according to (a subset of the) NARVAL distribution.\n",
    "    # So values that extend the standardized NARVAL range will be outside of the training range and require extrapolation.\n",
    "\n",
    "    # The larger, the worse it is:\n",
    "    max_gen = np.max(standardize(x,y)) - np.max(standardize(y,y))\n",
    "\n",
    "    # The larger, the worse it is:\n",
    "    min_gen = np.min(standardize(y,y)) - np.min(standardize(x,y))\n",
    "\n",
    "    return (np.maximum(0, max_gen) + np.maximum(0, min_gen))\n",
    "\n",
    "extrap_severity = {}"
   ]
  },
  {
   "cell_type": "markdown",
   "metadata": {
    "toc-hr-collapsed": true
   },
   "source": [
    "## Plotting\n",
    "\n",
    "The integral over a given density plot always equals 1.\n",
    "So the extent of the y-axis always depends on the range of the possible x-values.\n",
    "\n",
    "One downside of density plots is that as they are a continuous (normalized) representation of the counts, it can extend to values (e.g. < 0) which do not appear in the data set."
   ]
  },
  {
   "cell_type": "markdown",
   "metadata": {},
   "source": [
    "Try https://towardsdatascience.com/sorry-but-sns-distplot-just-isnt-good-enough-this-is-though-ef2ddbf28078 to pack all plots into one!!"
   ]
  },
  {
   "cell_type": "markdown",
   "metadata": {},
   "source": [
    "### Specific humidity"
   ]
  },
  {
   "cell_type": "code",
   "execution_count": null,
   "metadata": {},
   "outputs": [],
   "source": [
    "# Specific humidity\n",
    "fig = plt.figure(figsize=(10,7))\n",
    "ax = fig.add_subplot(111, title='Density Plots of specific humidity')\n",
    "sns.distplot(df_narval['qv'], hist = False, kde = True,\n",
    "                 kde_kws = {'shade': True, 'linewidth': 3}, label = 'Narval')\n",
    "sns.distplot(df_qubicc['hus'], hist = False, kde = True,\n",
    "                 kde_kws = {'shade': True, 'linewidth': 3}, label = 'Qubicc')\n",
    "plt.savefig('Density Plots of specific humidity.pdf')\n",
    "plt.show()\n",
    "\n",
    "print('The values of specific humidity in Narval range between %.4f and %.4f'%\n",
    "      (np.min(df_narval['qv']), np.max(df_narval['qv'])))\n",
    "print('The values of specific humidity in Qubicc range between %.4f and %.4f'%\n",
    "      (np.min(df_qubicc['hus']), np.max(df_qubicc['hus'])))"
   ]
  },
  {
   "cell_type": "code",
   "execution_count": null,
   "metadata": {},
   "outputs": [],
   "source": [
    "extrap_severity['qv'] = extrap_measure(df_qubicc['hus'], df_narval['qv'])\n",
    "print('Extrapolation severity for specific humidity: %.3f'%extrap_severity['qv'])"
   ]
  },
  {
   "cell_type": "markdown",
   "metadata": {},
   "source": [
    "### Cloud Water"
   ]
  },
  {
   "cell_type": "code",
   "execution_count": null,
   "metadata": {},
   "outputs": [],
   "source": [
    "# Cloud Water\n",
    "fig = plt.figure(figsize=(10,7))\n",
    "ax = fig.add_subplot(111, title='Density Plots of cloud water')\n",
    "sns.distplot(df_narval['qc'], hist = False, kde = True,\n",
    "                 kde_kws = {'shade': True, 'linewidth': 3}, label = 'Narval')\n",
    "sns.distplot(df_qubicc['qclw_phy'], hist = False, kde = True,\n",
    "                 kde_kws = {'shade': True, 'linewidth': 3}, label = 'Qubicc')\n",
    "plt.savefig('Density Plots of cloud water.pdf')\n",
    "plt.show()\n",
    "\n",
    "print('The values of cloud water in Narval range between %.4f and %.4f'%\n",
    "      (np.min(df_narval['qc']), np.max(df_narval['qc'])))\n",
    "print('The values of cloud water in Qubicc range between %.4f and %.4f'%\n",
    "      (np.min(df_qubicc['qclw_phy']), np.max(df_qubicc['qclw_phy'])))"
   ]
  },
  {
   "cell_type": "code",
   "execution_count": null,
   "metadata": {},
   "outputs": [],
   "source": [
    "extrap_severity['qc'] = extrap_measure(df_qubicc['qclw_phy'], df_narval['qc'])\n",
    "print('Extrapolation severity for cloud water: %.3f'%extrap_severity['qc'])"
   ]
  },
  {
   "cell_type": "markdown",
   "metadata": {},
   "source": [
    "### Cloud Ice"
   ]
  },
  {
   "cell_type": "code",
   "execution_count": null,
   "metadata": {},
   "outputs": [],
   "source": [
    "# Cloud Ice\n",
    "fig = plt.figure(figsize=(10,7))\n",
    "ax = fig.add_subplot(111, title='Density Plots of cloud ice')\n",
    "sns.distplot(df_narval['qi'], hist = False, kde = True,\n",
    "                 kde_kws = {'shade': True, 'linewidth': 3}, label = 'Narval')\n",
    "sns.distplot(df_qubicc['cli'], hist = False, kde = True,\n",
    "                 kde_kws = {'shade': True, 'linewidth': 3}, label = 'Qubicc')\n",
    "plt.savefig('Density Plots of cloud ice.pdf')\n",
    "plt.show()\n",
    "\n",
    "print('The values of cloud ice in Narval range between %.4f and %.4f'%\n",
    "      (np.min(df_narval['qi']), np.max(df_narval['qi'])))\n",
    "print('The values of cloud ice in Qubicc range between %.4f and %.4f'%\n",
    "      (np.min(df_qubicc['cli']), np.max(df_qubicc['cli'])))"
   ]
  },
  {
   "cell_type": "code",
   "execution_count": null,
   "metadata": {},
   "outputs": [],
   "source": [
    "extrap_severity['qi'] = extrap_measure(df_qubicc['cli'], df_narval['qi'])\n",
    "print('Extrapolation severity for cloud ice: %.3f'%extrap_severity['qi'])"
   ]
  },
  {
   "cell_type": "markdown",
   "metadata": {},
   "source": [
    "### Temperature"
   ]
  },
  {
   "cell_type": "code",
   "execution_count": null,
   "metadata": {},
   "outputs": [],
   "source": [
    "# Temperature\n",
    "fig = plt.figure(figsize=(10,7))\n",
    "ax = fig.add_subplot(111, title='Density Plots of temperature')\n",
    "sns.distplot(df_narval['temp'], hist = False, kde = True,\n",
    "                 kde_kws = {'shade': True, 'linewidth': 3}, label = 'Narval')\n",
    "sns.distplot(df_qubicc['ta'], hist = False, kde = True,\n",
    "                 kde_kws = {'shade': True, 'linewidth': 3}, label = 'Qubicc')\n",
    "plt.savefig('Density Plots of temperature.pdf')\n",
    "plt.show()\n",
    "\n",
    "print('The values of temperature in Narval range between %.4f and %.4f'%\n",
    "      (np.min(df_narval['temp']), np.max(df_narval['temp'])))\n",
    "print('The values of temperature in Qubicc range between %.4f and %.4f'%\n",
    "      (np.min(df_qubicc['ta']), np.max(df_qubicc['ta'])))"
   ]
  },
  {
   "cell_type": "code",
   "execution_count": null,
   "metadata": {},
   "outputs": [],
   "source": [
    "extrap_severity['temp'] = extrap_measure(df_qubicc['ta'], df_narval['temp'])\n",
    "print('Extrapolation severity for temperature: %.3f'%extrap_severity['temp'])"
   ]
  },
  {
   "cell_type": "markdown",
   "metadata": {},
   "source": [
    "### Air Pressure"
   ]
  },
  {
   "cell_type": "code",
   "execution_count": null,
   "metadata": {},
   "outputs": [],
   "source": [
    "# Air Pressure\n",
    "fig = plt.figure(figsize=(10,7))\n",
    "ax = fig.add_subplot(111, title='Density Plots of Air Pressure')\n",
    "sns.distplot(df_narval['pres'], hist = False, kde = True,\n",
    "                 kde_kws = {'shade': True, 'linewidth': 3}, label = 'Narval')\n",
    "sns.distplot(df_qubicc['pfull'], hist = False, kde = True,\n",
    "                 kde_kws = {'shade': True, 'linewidth': 3}, label = 'Qubicc')\n",
    "plt.savefig('Density Plots of Air Pressure.pdf')\n",
    "plt.show()\n",
    "\n",
    "print('The values of Air Pressure in Narval range between %.4f and %.4f'%\n",
    "      (np.min(df_narval['pres']), np.max(df_narval['pres'])))\n",
    "print('The values of Air Pressure in Qubicc range between %.4f and %.4f'%\n",
    "      (np.min(df_qubicc['pfull']), np.max(df_qubicc['pfull'])))"
   ]
  },
  {
   "cell_type": "code",
   "execution_count": null,
   "metadata": {},
   "outputs": [],
   "source": [
    "extrap_severity['pres'] = extrap_measure(df_qubicc['pfull'], df_narval['pres'])\n",
    "print('Extrapolation severity for pressure: %.3f'%extrap_severity['pres'])"
   ]
  },
  {
   "cell_type": "markdown",
   "metadata": {},
   "source": [
    "### Air Density"
   ]
  },
  {
   "cell_type": "code",
   "execution_count": null,
   "metadata": {},
   "outputs": [],
   "source": [
    "# Air Density\n",
    "fig = plt.figure(figsize=(10,7))\n",
    "ax = fig.add_subplot(111, title='Density Plots of Air Density')\n",
    "sns.distplot(df_narval['rho'], hist = False, kde = True,\n",
    "                 kde_kws = {'shade': True, 'linewidth': 3}, label = 'Narval')\n",
    "sns.distplot(df_qubicc['rho'], hist = False, kde = True,\n",
    "                 kde_kws = {'shade': True, 'linewidth': 3}, label = 'Qubicc')\n",
    "plt.savefig('Density Plots of Air Density.pdf')\n",
    "plt.show()\n",
    "\n",
    "print('The values of Air Density in Narval range between %.4f and %.4f'%\n",
    "      (np.min(df_narval['rho']), np.max(df_narval['rho'])))\n",
    "print('The values of Air Density in Qubicc range between %.4f and %.4f'%\n",
    "      (np.min(df_qubicc['rho']), np.max(df_qubicc['rho'])))"
   ]
  },
  {
   "cell_type": "code",
   "execution_count": null,
   "metadata": {},
   "outputs": [],
   "source": [
    "extrap_severity['rho'] = extrap_measure(df_qubicc['rho'], df_narval['rho'])\n",
    "print('Extrapolation severity for air density: %.3f'%extrap_severity['rho'])"
   ]
  },
  {
   "cell_type": "markdown",
   "metadata": {},
   "source": [
    "### Cloud Cover"
   ]
  },
  {
   "cell_type": "code",
   "execution_count": null,
   "metadata": {},
   "outputs": [],
   "source": [
    "# Cloud Cover\n",
    "fig = plt.figure(figsize=(10,7))\n",
    "ax = fig.add_subplot(111, title='Density Plots of Cloud Cover')\n",
    "sns.distplot(df_narval['clc'], hist = False, kde = True,\n",
    "                 kde_kws = {'shade': True, 'linewidth': 3}, label = 'Narval')\n",
    "sns.distplot(df_qubicc['cl']*100, hist = False, kde = True, \n",
    "                 kde_kws = {'shade': True, 'linewidth': 3}, label = 'Qubicc')\n",
    "plt.savefig('Density Plots of Cloud Cover.pdf')\n",
    "plt.show()\n",
    "\n",
    "print('The values of Cloud Cover in Narval range between %.4f and %.4f'%\n",
    "      (np.min(df_narval['clc']), np.max(df_narval['clc'])))\n",
    "print('The values of Cloud Cover in Qubicc range between %.4f and %.4f'%\n",
    "      (np.min(df_qubicc['cl'])*100, np.max(df_qubicc['cl'])*100))"
   ]
  },
  {
   "cell_type": "markdown",
   "metadata": {},
   "source": [
    "### Fraction of lakes"
   ]
  },
  {
   "cell_type": "code",
   "execution_count": null,
   "metadata": {},
   "outputs": [],
   "source": [
    "# Fraction of lakes\n",
    "fig = plt.figure(figsize=(10,7))\n",
    "ax = fig.add_subplot(111, title='Density Plots of Fraction of lakes')\n",
    "sns.distplot(df_narval['fr_lake'], hist = False, kde = True,\n",
    "                 kde_kws = {'shade': True, 'linewidth': 3}, label = 'Narval')\n",
    "sns.distplot(df_qubicc['fr_lake'], hist = False, kde = True,\n",
    "                 kde_kws = {'shade': True, 'linewidth': 3}, label = 'Qubicc')\n",
    "plt.savefig('Density Plots of Fraction of lakes.pdf')\n",
    "plt.show()\n",
    "\n",
    "print('The values of Fraction of lakes in Narval range between %.4f and %.4f'%\n",
    "      (np.min(df_narval['fr_lake']), np.max(df_narval['fr_lake'])))\n",
    "print('The values of Fraction of lakes in Qubicc range between %.4f and %.4f'%\n",
    "      (np.min(df_qubicc['fr_lake']), np.max(df_qubicc['fr_lake'])))"
   ]
  },
  {
   "cell_type": "code",
   "execution_count": null,
   "metadata": {},
   "outputs": [],
   "source": [
    "extrap_severity['fr_lake'] = extrap_measure(df_qubicc['fr_lake'], df_narval['fr_lake'])\n",
    "print('Extrapolation severity for fraction of lakes: %.3f'%extrap_severity['fr_lake'])"
   ]
  },
  {
   "cell_type": "markdown",
   "metadata": {},
   "source": [
    "### Fraction of land"
   ]
  },
  {
   "cell_type": "code",
   "execution_count": null,
   "metadata": {},
   "outputs": [],
   "source": [
    "# Fraction of land\n",
    "fig = plt.figure(figsize=(10,7))\n",
    "ax = fig.add_subplot(111, title='Density Plots of Fraction of land')\n",
    "sns.distplot(df_narval['fr_land'], hist = False, kde = True,\n",
    "                 kde_kws = {'shade': True, 'linewidth': 3}, label = 'Narval')\n",
    "sns.distplot(df_qubicc['fr_land'], hist = False, kde = True,\n",
    "                 kde_kws = {'shade': True, 'linewidth': 3}, label = 'Qubicc')\n",
    "plt.savefig('Density Plots of Fraction of land.pdf')\n",
    "plt.show()\n",
    "\n",
    "print('The values of Fraction of land in Narval range between %.4f and %.4f'%\n",
    "      (np.min(df_narval['fr_land']), np.max(df_narval['fr_land'])))\n",
    "print('The values of Fraction of land in Qubicc range between %.4f and %.4f'%\n",
    "      (np.min(df_qubicc['fr_land']), np.max(df_qubicc['fr_land'])))"
   ]
  },
  {
   "cell_type": "code",
   "execution_count": null,
   "metadata": {},
   "outputs": [],
   "source": [
    "extrap_severity['fr_land'] = extrap_measure(df_qubicc['fr_land'], df_narval['fr_land'])\n",
    "print('Extrapolation severity for fraction of land: %.3f'%extrap_severity['fr_land'])"
   ]
  },
  {
   "cell_type": "markdown",
   "metadata": {},
   "source": [
    "<!-- ### Fraction of Sea Ice -->"
   ]
  },
  {
   "cell_type": "code",
   "execution_count": null,
   "metadata": {},
   "outputs": [],
   "source": [
    "# # Fraction of Sea Ice\n",
    "# fig = plt.figure(figsize=(10,7))\n",
    "# ax = fig.add_subplot(111, title='Density Plots of Fraction of Sea Ice')\n",
    "# sns.distplot(df_narval['fr_seaice'], hist = False, kde = True,\n",
    "#                  kde_kws = {'shade': True, 'linewidth': 3}, label = 'Narval')\n",
    "# sns.distplot(df_qubicc['fr_seaice'], hist = False, kde = True,\n",
    "#                  kde_kws = {'shade': True, 'linewidth': 3}, label = 'Qubicc')\n",
    "# plt.savefig('Density Plots of Fraction of Sea Ice.pdf')\n",
    "# plt.show()\n",
    "\n",
    "# print('The values of Fraction of Sea Ice in Narval range between %.4f and %.4f'%\n",
    "#       (np.min(df_narval['fr_seaice']), np.max(df_narval['fr_seaice'])))\n",
    "# print('The values of Fraction of Sea Ice in Qubicc range between %.4f and %.4f'%\n",
    "#       (np.min(df_qubicc['fr_seaice']), np.max(df_qubicc['fr_seaice'])))"
   ]
  },
  {
   "cell_type": "markdown",
   "metadata": {},
   "source": [
    "### Relative humidity"
   ]
  },
  {
   "cell_type": "code",
   "execution_count": null,
   "metadata": {},
   "outputs": [],
   "source": [
    "# Specific humidity to Relative humidity\n",
    "T0 = 273.15\n",
    "r_narval = 0.00263*df_narval['pres']*df_narval['qv']*np.exp((17.67*(df_narval['temp']-T0))/(df_narval['temp']-29.65))**(-1)\n",
    "r_qubicc = 0.00263*df_qubicc['pfull']*df_qubicc['hus']*np.exp((17.67*(df_qubicc['ta']-T0))/(df_qubicc['ta']-29.65))**(-1)\n",
    "\n",
    "# Plotting\n",
    "fig = plt.figure(figsize=(10,7))\n",
    "ax = fig.add_subplot(111, title='Density Plots of Relative humidity')\n",
    "sns.distplot(r_narval, hist = False, kde = True, kde_kws = {'shade': True, 'linewidth': 3}, label = 'Narval')\n",
    "sns.distplot(r_qubicc, hist = False, kde = True, kde_kws = {'shade': True, 'linewidth': 3}, label = 'Qubicc')\n",
    "plt.savefig('Density Plots of Relative humidity.pdf')\n",
    "plt.show()\n",
    "\n",
    "print('The values of Relative humidity in Narval range between %.4f and %.4f'%\n",
    "      (np.min(r_narval), np.max(r_narval)))\n",
    "print('The values of Relative humidity in Qubicc range between %.4f and %.4f'%\n",
    "      (np.min(r_qubicc), np.max(r_qubicc)))"
   ]
  },
  {
   "cell_type": "code",
   "execution_count": null,
   "metadata": {},
   "outputs": [],
   "source": [
    "extrap_severity['r'] = extrap_measure(r_qubicc, r_narval)\n",
    "print('Extrapolation severity for relative humidity: %.3f'%extrap_severity['r'])"
   ]
  },
  {
   "cell_type": "markdown",
   "metadata": {},
   "source": [
    "### Temperature minus near-surface temperature"
   ]
  },
  {
   "cell_type": "code",
   "execution_count": null,
   "metadata": {},
   "outputs": [],
   "source": [
    "# Plotting\n",
    "fig = plt.figure(figsize=(10,7))\n",
    "ax = fig.add_subplot(111, title='Density Plots of Temp minus Surface Temp')\n",
    "sns.distplot(dT_narval, hist = False, kde = True, kde_kws = {'shade': True, 'linewidth': 3}, label = 'Narval')\n",
    "sns.distplot(dT_qubicc, hist = False, kde = True, kde_kws = {'shade': True, 'linewidth': 3}, label = 'Qubicc')\n",
    "plt.savefig('Density Plots of Temp minus Surface Temp.pdf')\n",
    "plt.show()\n",
    "\n",
    "print('The values of Temp minus Surface Temp in Narval range between %.4f and %.4f'%\n",
    "      (np.min(dT_narval), np.max(dT_narval)))\n",
    "print('The values of Temp minus Surface Temp in Qubicc range between %.4f and %.4f'%\n",
    "      (np.min(dT_qubicc), np.max(dT_qubicc)))"
   ]
  },
  {
   "cell_type": "code",
   "execution_count": null,
   "metadata": {},
   "outputs": [],
   "source": [
    "extrap_severity['dT'] = extrap_measure(dT_qubicc, dT_narval)\n",
    "print('Extrapolation severity for Temp minus Surface Temp: %.3f'%extrap_severity['dT'])"
   ]
  },
  {
   "cell_type": "markdown",
   "metadata": {},
   "source": [
    "### Surface pressure"
   ]
  },
  {
   "cell_type": "code",
   "execution_count": null,
   "metadata": {},
   "outputs": [],
   "source": [
    "# Plotting\n",
    "fig = plt.figure(figsize=(10,7))\n",
    "ax = fig.add_subplot(111, title='Density Plots of Surface pressure')\n",
    "sns.distplot(pres_sfc_narval, hist = False, kde = True, kde_kws = {'shade': True, 'linewidth': 3}, label = 'Narval')\n",
    "sns.distplot(pres_sfc_qubicc, hist = False, kde = True, kde_kws = {'shade': True, 'linewidth': 3}, label = 'Qubicc')\n",
    "plt.savefig('Density Plots of Surface pressure.pdf')\n",
    "plt.show()\n",
    "\n",
    "print('The values of Surface pressure in Narval range between %.4f and %.4f'%\n",
    "      (np.min(pres_sfc_narval), np.max(pres_sfc_narval)))\n",
    "print('The values of Surface pressure in Qubicc range between %.4f and %.4f'%\n",
    "      (np.min(pres_sfc_qubicc), np.max(pres_sfc_qubicc)))"
   ]
  },
  {
   "cell_type": "code",
   "execution_count": null,
   "metadata": {},
   "outputs": [],
   "source": [
    "extrap_severity['pres_sfc'] = extrap_measure(pres_sfc_qubicc, pres_sfc_narval)\n",
    "print('Extrapolation severity for Surface Pressure: %.3f'%extrap_severity['pres_sfc'])"
   ]
  },
  {
   "cell_type": "markdown",
   "metadata": {},
   "source": [
    "### LTS"
   ]
  },
  {
   "cell_type": "code",
   "execution_count": null,
   "metadata": {},
   "outputs": [],
   "source": [
    "# Plotting\n",
    "fig = plt.figure(figsize=(10,7))\n",
    "ax = fig.add_subplot(111, title='Density Plots of LTS')\n",
    "sns.distplot(LTS_narval, hist = False, kde = True, kde_kws = {'shade': True, 'linewidth': 3}, label = 'Narval')\n",
    "sns.distplot(LTS_qubicc, hist = False, kde = True, kde_kws = {'shade': True, 'linewidth': 3}, label = 'Qubicc')\n",
    "plt.savefig('Density Plots of LTS.pdf')\n",
    "plt.show()\n",
    "\n",
    "print('The values of LTS in Narval range between %.4f and %.4f'%\n",
    "      (np.min(LTS_narval), np.max(LTS_narval)))\n",
    "print('The values of LTS in Qubicc range between %.4f and %.4f'%\n",
    "      (np.min(LTS_qubicc), np.max(LTS_qubicc)))"
   ]
  },
  {
   "cell_type": "code",
   "execution_count": null,
   "metadata": {},
   "outputs": [],
   "source": [
    "extrap_severity['LTS'] = extrap_measure(LTS_qubicc, LTS_narval)\n",
    "print('Extrapolation severity for LTS: %.3f'%extrap_severity['LTS'])"
   ]
  },
  {
   "cell_type": "markdown",
   "metadata": {},
   "source": [
    "### EIS"
   ]
  },
  {
   "cell_type": "code",
   "execution_count": null,
   "metadata": {},
   "outputs": [],
   "source": [
    "# Plotting\n",
    "fig = plt.figure(figsize=(10,7))\n",
    "ax = fig.add_subplot(111, title='Density Plots of EIS')\n",
    "sns.distplot(LTS_narval, hist = False, kde = True, kde_kws = {'shade': True, 'linewidth': 3}, label = 'Narval')\n",
    "sns.distplot(LTS_qubicc, hist = False, kde = True, kde_kws = {'shade': True, 'linewidth': 3}, label = 'Qubicc')\n",
    "plt.savefig('Density Plots of EIS.pdf')\n",
    "plt.show()\n",
    "\n",
    "print('The values of EIS in Narval range between %.4f and %.4f'%\n",
    "      (np.min(EIS_narval), np.max(EIS_narval)))\n",
    "print('The values of EIS in Qubicc range between %.4f and %.4f'%\n",
    "      (np.min(EIS_qubicc), np.max(EIS_qubicc)))"
   ]
  },
  {
   "cell_type": "code",
   "execution_count": null,
   "metadata": {},
   "outputs": [],
   "source": [
    "extrap_severity['EIS'] = extrap_measure(EIS_qubicc, EIS_narval)\n",
    "print('Extrapolation severity for EIS: %.3f'%extrap_severity['EIS'])"
   ]
  },
  {
   "cell_type": "markdown",
   "metadata": {},
   "source": [
    "## Feature Extrapolation Ranking"
   ]
  },
  {
   "cell_type": "code",
   "execution_count": null,
   "metadata": {},
   "outputs": [],
   "source": [
    "print('Smaller is better')\n",
    "for elem in sorted(extrap_severity.items(), key=lambda x:x[1]):\n",
    "    print(\"%10s: %.3f\"%elem)"
   ]
  }
 ],
 "metadata": {
  "kernelspec": {
   "display_name": "Python 3 (based on the module python3/2022.01)",
   "language": "python",
   "name": "python3_2022_01"
  },
  "language_info": {
   "codemirror_mode": {
    "name": "ipython",
    "version": 3
   },
   "file_extension": ".py",
   "mimetype": "text/x-python",
   "name": "python",
   "nbconvert_exporter": "python",
   "pygments_lexer": "ipython3",
   "version": "3.9.9"
  }
 },
 "nbformat": 4,
 "nbformat_minor": 4
}
