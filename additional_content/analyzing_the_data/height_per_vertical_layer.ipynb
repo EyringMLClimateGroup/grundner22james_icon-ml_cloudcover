{
 "cells": [
  {
   "cell_type": "markdown",
   "metadata": {},
   "source": [
    "#### NARVAL: Average height per vertical layer"
   ]
  },
  {
   "cell_type": "code",
   "execution_count": 27,
   "metadata": {},
   "outputs": [],
   "source": [
    "import xarray as xr\n",
    "import numpy as np"
   ]
  },
  {
   "cell_type": "code",
   "execution_count": 28,
   "metadata": {},
   "outputs": [],
   "source": [
    "#Load R02B04 height grids\n",
    "path_heights_cover_R02B04 = '/pf/b/b309170/my_work/NARVAL/data_var_vertinterp/zg/zg_icon-a_capped.nc'\n",
    "heights_cover_R02B04 = xr.open_dataset(path_heights_cover_R02B04).zg.values\n",
    "\n",
    "#Load R02B05 height grids\n",
    "path_heights_cover_R02B05 = '/pf/b/b309170/my_work/NARVAL/data_var_vertinterp_R02B05/zg/zg_icon-a_capped.nc'\n",
    "heights_cover_R02B05 = xr.open_dataset(path_heights_cover_R02B05).zg.values\n",
    "\n",
    "path_heights_cloud_area = '/pf/b/b309170/my_work/NARVAL/grid_extpar/zg_icon-a_capped_upsampled.nc'"
   ]
  },
  {
   "cell_type": "code",
   "execution_count": 29,
   "metadata": {},
   "outputs": [],
   "source": [
    "r2b4_grid_path = '/pf/b/b309170/my_work/NARVAL/grid_extpar/icon_grid_0005_R02B04_G.nc'\n",
    "r2b4_grid = xr.open_dataset(r2b4_grid_path)"
   ]
  },
  {
   "cell_type": "markdown",
   "metadata": {},
   "source": [
    "Simply focus on the NARVAL region. <br>\n",
    "It doesn't consider columns with overlapping topography. <br>\n",
    "I think as this is an issue particular to the column-based model and as we are working with all types, this is the best way to compute the average mean height!"
   ]
  },
  {
   "cell_type": "code",
   "execution_count": 30,
   "metadata": {},
   "outputs": [],
   "source": [
    "# NARVAL region (68W-15E, 10S-20N)\n",
    "lon = r2b4_grid.clon.values #[-pi, pi]\n",
    "lat = r2b4_grid.clat.values #[-pi/2, pi/2]\n",
    "\n",
    "narv_ind = [i for i in np.arange(len(lon)) if -68/180*np.pi <= lon[i] <= 15/180*np.pi and -10/180*np.pi <= lat[i] <= 20/180*np.pi]\n",
    "\n",
    "mean_height_r2b4 = np.mean(heights_cover_R02B04[:, narv_ind], axis=1)"
   ]
  },
  {
   "cell_type": "code",
   "execution_count": 39,
   "metadata": {},
   "outputs": [
    {
     "data": {
      "text/plain": [
       "array([28194., 26202., 24305., 22501., 20785., 19153., 17604., 16134.,\n",
       "       14741., 13422., 12175., 10998.,  9890.,  8848.,  7871.,  6958.,\n",
       "        6107.,  5317.,  4587.,  3915.,  3300.,  2741.,  2237.,  1787.,\n",
       "        1390.,  1046.,   754.,   515.,   329.,   199.,   128.])"
      ]
     },
     "execution_count": 39,
     "metadata": {},
     "output_type": "execute_result"
    }
   ],
   "source": [
    "np.round(mean_height_r2b4, decimals=0)"
   ]
  },
  {
   "cell_type": "code",
   "execution_count": 38,
   "metadata": {},
   "outputs": [
    {
     "data": {
      "text/plain": [
       "array([28.19, 26.2 , 24.31, 22.5 , 20.78, 19.15, 17.6 , 16.13, 14.74,\n",
       "       13.42, 12.17, 11.  ,  9.89,  8.85,  7.87,  6.96,  6.11,  5.32,\n",
       "        4.59,  3.91,  3.3 ,  2.74,  2.24,  1.79,  1.39,  1.05,  0.75,\n",
       "        0.52,  0.33,  0.2 ,  0.13])"
      ]
     },
     "execution_count": 38,
     "metadata": {},
     "output_type": "execute_result"
    }
   ],
   "source": [
    "np.round(mean_height_r2b4/1000, decimals=2)"
   ]
  },
  {
   "cell_type": "code",
   "execution_count": null,
   "metadata": {},
   "outputs": [],
   "source": []
  }
 ],
 "metadata": {
  "kernelspec": {
   "display_name": "clouds113_kernel",
   "language": "python",
   "name": "clouds113_kernel"
  },
  "language_info": {
   "codemirror_mode": {
    "name": "ipython",
    "version": 3
   },
   "file_extension": ".py",
   "mimetype": "text/x-python",
   "name": "python",
   "nbconvert_exporter": "python",
   "pygments_lexer": "ipython3",
   "version": "3.7.10"
  }
 },
 "nbformat": 4,
 "nbformat_minor": 4
}
