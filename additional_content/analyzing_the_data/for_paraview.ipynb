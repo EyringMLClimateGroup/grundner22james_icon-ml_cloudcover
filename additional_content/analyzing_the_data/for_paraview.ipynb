{
 "cells": [
  {
   "cell_type": "markdown",
   "metadata": {},
   "source": [
    "**Preparations for Figure 3 of the paper**"
   ]
  },
  {
   "cell_type": "markdown",
   "metadata": {},
   "source": [
    "**We need a ML-created clc file to compare to int_var_clc_R02B04_NARVALII_2016072800_cloud_DOM01_0017**\n",
    "\n",
    "The output file has np.nans outside the NARVAL region. <br>\n",
    "Inside the NARVAL region, where topography led to issues, we have set those points to -10. <br>\n",
    "This allows us in Paraview to create a 3D visualization and in this 3D visualization to focus on a region that has non-negative cloud cover values.\n",
    "\n",
    "It would have been easiest to set both the outside of the NARVAL region and the topography-induced troublesome columns to nan, but this leads to issues inside Paraview."
   ]
  },
  {
   "cell_type": "code",
   "execution_count": 57,
   "metadata": {},
   "outputs": [],
   "source": [
    "import os\n",
    "import sys\n",
    "import numpy as np\n",
    "import xarray as xr\n",
    "import pandas as pd\n",
    "\n",
    "from tensorflow.keras.models import load_model\n",
    "\n",
    "# Add path with my_classes to sys.path\n",
    "sys.path.insert(0, '/pf/b/b309170/workspace_icon-ml/cloud_cover_parameterization/')\n",
    "from my_classes import read_mean_and_std\n",
    "\n",
    "path = '/pf/b/b309170/my_work/NARVAL'\n",
    "path_vertinterp = os.path.join(path, 'data_var_vertinterp')\n",
    "model_path = '/pf/b/b309170/workspace_icon-ml/cloud_cover_parameterization/grid_column_based/saved_models'\n",
    "\n",
    "model = load_model(os.path.join(model_path, 'model_grid_column_based_final_1.h5'))\n",
    "\n",
    "VERT_LAYERS = 27"
   ]
  },
  {
   "cell_type": "code",
   "execution_count": 58,
   "metadata": {},
   "outputs": [],
   "source": [
    "def load_data(date, hour):\n",
    "    '''\n",
    "        date: YYYYMMDD00\n",
    "        hour: 00HH\n",
    "    '''\n",
    "    \n",
    "    # Output\n",
    "    data_dict = {}\n",
    "\n",
    "    # Set paths\n",
    "    pres_path = os.path.join(path_vertinterp, 'pres', 'int_var_pres_R02B04_NARVALII_%s_fg_DOM01_%s.nc'%(date, hour))\n",
    "    qc_path = os.path.join(path_vertinterp, 'qc', 'int_var_qc_R02B04_NARVALII_%s_fg_DOM01_%s.nc'%(date, hour))\n",
    "    qv_path = os.path.join(path_vertinterp, 'qv', 'int_var_qv_R02B04_NARVALII_%s_fg_DOM01_%s.nc'%(date, hour))\n",
    "    qi_path = os.path.join(path_vertinterp, 'qi', 'int_var_qi_R02B04_NARVALII_%s_fg_DOM01_%s.nc'%(date, hour))\n",
    "    temp_path = os.path.join(path_vertinterp, 'temp', 'int_var_temp_R02B04_NARVALII_%s_fg_DOM01_%s.nc'%(date, hour))\n",
    "    rho_path = os.path.join(path_vertinterp, 'rho', 'int_var_rho_R02B04_NARVALII_%s_fg_DOM01_%s.nc'%(date, hour))\n",
    "    zg_path = os.path.join(path_vertinterp, 'zg', 'zg_icon-a_capped.nc')\n",
    "    fr_lake_path = os.path.join(path, 'grid_extpar', 'fr_lake_R02B04_NARVAL_fg_DOM01.nc')\n",
    "    \n",
    "    # Load data and remove upper-most layers\n",
    "    data_dict['qv'] = (xr.open_dataset(qv_path)).qv.values[:,4:]\n",
    "    data_dict['qc'] = (xr.open_dataset(qc_path)).qc.values[:,4:]\n",
    "    data_dict['qi'] = (xr.open_dataset(qi_path)).qi.values[:,4:]\n",
    "    data_dict['temp'] = (xr.open_dataset(temp_path)).temp.values[:,4:]\n",
    "    data_dict['pres'] = (xr.open_dataset(pres_path)).pres.values[:,4:]\n",
    "    data_dict['rho'] = (xr.open_dataset(rho_path)).rho.values[:,4:]\n",
    "    data_dict['zg'] = (xr.open_dataset(zg_path)).zg.values[4:]\n",
    "    data_dict['fr_lake'] = (xr.open_dataset(fr_lake_path)).FR_LAKE.values\n",
    "    \n",
    "    data_dict['zg'] = np.repeat(np.expand_dims(data_dict['zg'], 0), 1, axis=0)\n",
    "    data_dict['fr_lake'] = np.repeat(np.expand_dims(data_dict['fr_lake'], 0), 1, axis=0)\n",
    "    \n",
    "    # Remove nans\n",
    "    notnan = ~np.isnan(data_dict['pres'][0,-1,:])\n",
    "    \n",
    "    for key in data_dict.keys():\n",
    "        if data_dict[key].shape[1] == VERT_LAYERS:\n",
    "            data_dict[key] = data_dict[key][:, :, notnan]\n",
    "        else:\n",
    "            data_dict[key] = data_dict[key][:, notnan]\n",
    "        \n",
    "    HORIZ_FIELDS = data_dict['pres'].shape[2]\n",
    "    \n",
    "    assert np.all(np.isnan(data_dict['pres']) == False)\n",
    "    \n",
    "    return data_dict, notnan"
   ]
  },
  {
   "cell_type": "code",
   "execution_count": 59,
   "metadata": {},
   "outputs": [],
   "source": [
    "def model_predict(model, date, hour):\n",
    "    '''\n",
    "        model: neural network\n",
    "        date: YYYYMMDD00\n",
    "        hour: 00HH\n",
    "    '''\n",
    "    \n",
    "    data_dict, notnan = load_data(date, hour)\n",
    "    \n",
    "    # Transform data into viable input for the model\n",
    "    # One sample should contain a column of information\n",
    "    data_dict_reshaped = {}\n",
    "    for key in data_dict.keys():\n",
    "        if data_dict[key].shape[1] == VERT_LAYERS:  \n",
    "            for i in range(4, 4+VERT_LAYERS):\n",
    "                new_key = '{}{}{:d}'.format(key,'_',i)\n",
    "                data_dict_reshaped[new_key] = np.reshape(data_dict[key][:,i-4,:], -1)\n",
    "        else:\n",
    "            data_dict_reshaped[key] = np.reshape(data_dict[key], -1)\n",
    "\n",
    "    # Remove constant fields\n",
    "    del data_dict_reshaped['zg_4']\n",
    "    del data_dict_reshaped['zg_5']\n",
    "    del data_dict_reshaped['zg_6']\n",
    "    del data_dict_reshaped['qc_4']\n",
    "    \n",
    "    #Converting dict into a DataFrame-object \n",
    "    df = pd.DataFrame.from_dict(data_dict_reshaped)\n",
    "    df.head()\n",
    "    \n",
    "    # Scale input data\n",
    "    mean, std = read_mean_and_std(os.path.join(model_path, 'model_grid_column_based_final_1.txt'))\n",
    "    df_scaled = ((df - mean)/std).to_numpy()\n",
    "    \n",
    "    # Predict the output\n",
    "    clc = model.predict(df_scaled)\n",
    "    clc = np.maximum(np.minimum(clc, 100), 0)\n",
    "    \n",
    "    # Reinsert nans. Actually, the amount of nans make it impossible for paraview to visualize the data in 3D.\n",
    "    # So we insert -10 instead\n",
    "    clc_with_nans = -np.ones((len(notnan), VERT_LAYERS))\n",
    "    k = 0\n",
    "    for i in range(len(notnan)):\n",
    "        if notnan[i]:\n",
    "            clc_with_nans[i, :] = clc[k, :]\n",
    "            k += 1\n",
    "        else:\n",
    "            # -10 instead of np.nan\n",
    "            clc_with_nans[i, :] = -10\n",
    "\n",
    "    assert np.all(clc_with_nans != -1)\n",
    "    \n",
    "    return clc_with_nans"
   ]
  },
  {
   "cell_type": "markdown",
   "metadata": {},
   "source": [
    "**Predict clc**"
   ]
  },
  {
   "cell_type": "code",
   "execution_count": 60,
   "metadata": {},
   "outputs": [],
   "source": [
    "# Day and hour of the file to predict\n",
    "day = '2016072800'\n",
    "hour = '0012' \n",
    "\n",
    "clc_output = model_predict(model, day, hour)\n",
    "clc_output = np.expand_dims(clc_output, 0)"
   ]
  },
  {
   "cell_type": "markdown",
   "metadata": {},
   "source": [
    "**Create a netcdf-file with the clc-predictions** <br>\n",
    "The easiest way is to load a nc-file with the correct dimensions, coordinates and variable names"
   ]
  },
  {
   "cell_type": "code",
   "execution_count": 61,
   "metadata": {},
   "outputs": [],
   "source": [
    "template_file_path = '/pf/b/b309170/my_work/NARVAL/data_var_vertinterp/clc/int_var_clc_R02B04_NARVALII_%s_cloud_DOM01_%s.nc'%(day, hour)\n",
    "template_file = xr.open_dataset(template_file_path)"
   ]
  },
  {
   "cell_type": "code",
   "execution_count": 62,
   "metadata": {},
   "outputs": [],
   "source": [
    "# Add layers above to make the dimensionality equal to the one expected in the file\n",
    "add_upper_layers = np.zeros((1, 20480, 4))\n",
    "clc_with_upper_layers = np.concatenate((add_upper_layers, clc_output), axis=2)\n",
    "clc_with_upper_layers = np.swapaxes(clc_with_upper_layers, 1, 2)\n",
    "\n",
    "# Set NARVAL range to nan again\n",
    "for k in range(20480):\n",
    "    if np.isnan(template_file['clc'][0, -1])[k] == True:\n",
    "        clc_with_upper_layers[0, :, k] = np.nan\n",
    "        \n",
    "template_file['clc'] = (['time', 'height', 'cell'], clc_with_upper_layers)"
   ]
  },
  {
   "cell_type": "code",
   "execution_count": 63,
   "metadata": {},
   "outputs": [],
   "source": [
    "# Save it in a netcdf file\n",
    "output_file = '/pf/b/b309170/my_work/NARVAL/for_paraview/clc_pred_R02B04_NARVALII_%s_%s.nc'%(day, hour)\n",
    "template_file.to_netcdf(output_file)"
   ]
  },
  {
   "cell_type": "markdown",
   "metadata": {},
   "source": [
    "In one cell to loop over multiple files"
   ]
  },
  {
   "cell_type": "code",
   "execution_count": 65,
   "metadata": {},
   "outputs": [],
   "source": [
    "# Day and hour of the file to predict\n",
    "day = '2016072800'\n",
    "for i in range(12, 37):\n",
    "    hour = '00%d'%i\n",
    "\n",
    "    clc_output = model_predict(model, day, hour)\n",
    "    clc_output = np.expand_dims(clc_output, 0)\n",
    "    template_file_path = '/pf/b/b309170/my_work/NARVAL/data_var_vertinterp/clc/int_var_clc_R02B04_NARVALII_%s_cloud_DOM01_%s.nc'%(day, hour)\n",
    "    template_file = xr.open_dataset(template_file_path)\n",
    "    add_upper_layers = np.zeros((1, 20480, 4))\n",
    "    clc_with_upper_layers = np.concatenate((add_upper_layers, clc_output), axis=2)\n",
    "    clc_with_upper_layers = np.swapaxes(clc_with_upper_layers, 1, 2)\n",
    "    \n",
    "    # Set NARVAL range to nan again\n",
    "    for k in range(20480):\n",
    "        if np.isnan(template_file['clc'][0, -1])[k] == True:\n",
    "            clc_with_upper_layers[0, :, k] = np.nan\n",
    "        \n",
    "    template_file['clc'] = (['time', 'height', 'cell'], clc_with_upper_layers)\n",
    "    \n",
    "    # Save it in a netcdf file\n",
    "    output_file = '/pf/b/b309170/my_work/NARVAL/for_paraview/clc_pred_R02B04_NARVALII_%s_%s.nc'%(day, hour)\n",
    "    template_file.to_netcdf(output_file)"
   ]
  },
  {
   "cell_type": "code",
   "execution_count": null,
   "metadata": {},
   "outputs": [],
   "source": []
  }
 ],
 "metadata": {
  "kernelspec": {
   "display_name": "clouds113_kernel",
   "language": "python",
   "name": "clouds113_kernel"
  },
  "language_info": {
   "codemirror_mode": {
    "name": "ipython",
    "version": 3
   },
   "file_extension": ".py",
   "mimetype": "text/x-python",
   "name": "python",
   "nbconvert_exporter": "python",
   "pygments_lexer": "ipython3",
   "version": "3.7.10"
  }
 },
 "nbformat": 4,
 "nbformat_minor": 4
}
