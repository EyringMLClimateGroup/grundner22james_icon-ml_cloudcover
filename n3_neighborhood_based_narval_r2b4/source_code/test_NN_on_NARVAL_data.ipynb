{
 "cells": [
  {
   "cell_type": "markdown",
   "metadata": {},
   "source": [
    "### Neighborhood-based NARVAL model on NARVAL data"
   ]
  },
  {
   "cell_type": "code",
   "execution_count": 2,
   "metadata": {},
   "outputs": [],
   "source": [
    "import os\n",
    "import numpy as np\n",
    "import pandas as pd\n",
    "import xarray as xr\n",
    "import matplotlib.pyplot as plt\n",
    "import importlib\n",
    "import for_preprocessing\n",
    "\n",
    "import tensorflow as tf\n",
    "from tensorflow.keras.models import load_model\n",
    "\n",
    "importlib.reload(for_preprocessing)\n",
    "from for_preprocessing import load_day\n",
    "\n",
    "%config Completer.use_jedi = False  #Speeds up autocomplete"
   ]
  },
  {
   "cell_type": "code",
   "execution_count": 3,
   "metadata": {},
   "outputs": [],
   "source": [
    "# Prevents crashes of the code\n",
    "gpus = tf.config.list_physical_devices('GPU')\n",
    "tf.config.set_visible_devices(gpus[1], 'GPU')"
   ]
  },
  {
   "cell_type": "code",
   "execution_count": 4,
   "metadata": {},
   "outputs": [],
   "source": [
    "root_path = '/pf/b/b309170'\n",
    "data_path = os.path.join(root_path,\n",
    "                         'my_work/icon-ml_data/cloud_cover_parameterization/region_based/based_on_var_interpolated_data')\n",
    "model_path = os.path.join(root_path,\n",
    "                          'workspace_icon-ml/cloud_cover_parameterization/region_based/saved_models')\n",
    "info_file = os.path.join(root_path, \n",
    "                        'workspace_icon-ml/cloud_cover_parameterization/region_based/saved_models/model_region_based_final_1.txt')\n",
    "\n",
    "n_layers = 27 # Is also the number of NNs"
   ]
  },
  {
   "cell_type": "markdown",
   "metadata": {},
   "source": [
    "*Load data*"
   ]
  },
  {
   "cell_type": "code",
   "execution_count": 4,
   "metadata": {},
   "outputs": [
    {
     "data": {
      "text/plain": [
       "['cloud_cover_output_test_1.npy',\n",
       " 'cloud_cover_input_train_1.npy',\n",
       " 'cloud_cover_output_train_1.npy',\n",
       " 'cloud_cover_output_valid_1.npy',\n",
       " 'cloud_cover_input_valid_1.npy',\n",
       " 'cloud_cover_input_test_1.npy']"
      ]
     },
     "execution_count": 4,
     "metadata": {},
     "output_type": "execute_result"
    }
   ],
   "source": [
    "# We can work with cloud_cover_all_days_input_test_1.npy and cloud_cover_all_days_output_test_1.npy \n",
    "# (as there's a test set available)\n",
    "# The corresponding model is model_clc_all_days_final_1.h5 (in model_path)\n",
    "os.listdir(data_path)"
   ]
  },
  {
   "cell_type": "code",
   "execution_count": 5,
   "metadata": {},
   "outputs": [],
   "source": [
    "# Load all data\n",
    "input_train = np.load(os.path.join(data_path, 'cloud_cover_input_train_1.npy'))\n",
    "output_train = np.load(os.path.join(data_path, 'cloud_cover_output_train_1.npy'))\n",
    "input_valid = np.load(os.path.join(data_path, 'cloud_cover_input_valid_1.npy')) \n",
    "output_valid = np.load(os.path.join(data_path, 'cloud_cover_output_valid_1.npy')) \n",
    "input_test = np.load(os.path.join(data_path, 'cloud_cover_input_test_1.npy')) \n",
    "output_test = np.load(os.path.join(data_path, 'cloud_cover_output_test_1.npy')) "
   ]
  },
  {
   "cell_type": "code",
   "execution_count": 6,
   "metadata": {},
   "outputs": [],
   "source": [
    "## Load data pertaining to a specific NN\n",
    "n_train_samples = output_train.shape[0]\n",
    "n_valid_samples = output_valid.shape[0]\n",
    "n_test_samples = output_test.shape[0]\n",
    "n_features = input_train.shape[1]\n",
    "\n",
    "# Load the data into dictionaries. Can't use 3D tensors here as some features will be removed depending on the NN.\n",
    "input_train_NN = {}\n",
    "for i in range(n_layers):\n",
    "    input_train_NN[i] = np.zeros((n_train_samples//n_layers, n_features))\n",
    "    \n",
    "output_train_NN = {}\n",
    "for i in range(n_layers):\n",
    "    input_train_NN[i] = np.zeros((n_train_samples//n_layers))\n",
    "    \n",
    "input_valid_NN = {}\n",
    "for i in range(n_layers):\n",
    "    input_valid_NN[i] = np.zeros((n_valid_samples//n_layers, n_features))\n",
    "    \n",
    "output_valid_NN = {}\n",
    "for i in range(n_layers):\n",
    "    input_valid_NN[i] = np.zeros((n_valid_samples//n_layers))\n",
    "    \n",
    "input_test_NN = {}\n",
    "for i in range(n_layers):\n",
    "    input_test_NN[i] = np.zeros((n_test_samples//n_layers, n_features))\n",
    "    \n",
    "output_test_NN = {}\n",
    "for i in range(n_layers):\n",
    "    output_test_NN[i] = np.zeros((n_test_samples//n_layers))"
   ]
  },
  {
   "cell_type": "code",
   "execution_count": 7,
   "metadata": {},
   "outputs": [],
   "source": [
    "for i in range(n_layers):\n",
    "    start_ind_train = (n_train_samples//27)*i\n",
    "    end_ind_train = (n_train_samples//27)*(i+1)\n",
    "    start_ind_valid = (n_valid_samples//27)*i\n",
    "    end_ind_valid = (n_valid_samples//27)*(i+1)\n",
    "    start_ind_test = (n_test_samples//27)*i\n",
    "    end_ind_test = (n_test_samples//27)*(i+1) \n",
    "\n",
    "    input_train_NN[i] = input_train[start_ind_train:end_ind_train]\n",
    "    output_train_NN[i] = output_train[start_ind_train:end_ind_train]\n",
    "    input_valid_NN[i] = input_valid[start_ind_valid:end_ind_valid]\n",
    "    output_valid_NN[i] = output_valid[start_ind_valid:end_ind_valid]\n",
    "    input_test_NN[i] = input_test[start_ind_test:end_ind_test]  \n",
    "    output_test_NN[i] = output_test[start_ind_test:end_ind_test]"
   ]
  },
  {
   "cell_type": "code",
   "execution_count": 8,
   "metadata": {},
   "outputs": [],
   "source": [
    "# We remove the input variables with zero variance. We compute the resulting input dimension for the NN.\n",
    "input_dim = n_features\n",
    "for i in range(n_layers):\n",
    "    vars_to_remove = []\n",
    "    for j in range(n_features):\n",
    "        if np.var(input_train_NN[i][:, j]) == 0 or np.isnan(np.var(input_train_NN[i][:, j])):\n",
    "            input_dim -= 1\n",
    "            vars_to_remove.append(j)\n",
    "    input_test_NN[i] = np.delete(input_test_NN[i], vars_to_remove, axis=1)\n",
    "    input_valid_NN[i] = np.delete(input_valid_NN[i], vars_to_remove, axis=1)\n",
    "    input_train_NN[i] = np.delete(input_train_NN[i], vars_to_remove, axis=1)"
   ]
  },
  {
   "cell_type": "code",
   "execution_count": 9,
   "metadata": {
    "scrolled": true
   },
   "outputs": [
    {
     "data": {
      "text/plain": [
       "[True,\n",
       " True,\n",
       " True,\n",
       " True,\n",
       " True,\n",
       " True,\n",
       " True,\n",
       " True,\n",
       " True,\n",
       " True,\n",
       " True,\n",
       " True,\n",
       " True,\n",
       " True,\n",
       " True,\n",
       " True,\n",
       " True,\n",
       " True,\n",
       " True,\n",
       " True,\n",
       " True,\n",
       " True,\n",
       " True,\n",
       " True,\n",
       " True,\n",
       " True,\n",
       " True,\n",
       " True,\n",
       " True,\n",
       " True,\n",
       " True,\n",
       " True,\n",
       " True,\n",
       " True,\n",
       " True,\n",
       " True,\n",
       " True]"
      ]
     },
     "execution_count": 9,
     "metadata": {},
     "output_type": "execute_result"
    }
   ],
   "source": [
    "# Checking standardization:\n",
    "thresh = 1e-5\n",
    "[np.abs(np.mean(input_train_NN[5][:, j]))<thresh and np.abs(np.var(input_train_NN[5][:, j])-1)<thresh for i in range(n_features)]"
   ]
  },
  {
   "cell_type": "markdown",
   "metadata": {},
   "source": [
    "*Load model*"
   ]
  },
  {
   "cell_type": "code",
   "execution_count": 9,
   "metadata": {},
   "outputs": [],
   "source": [
    "models = [load_model(os.path.join(model_path, 'model_clc_all_days_final_1_%d.h5'%i)) for i in range(27)]"
   ]
  },
  {
   "cell_type": "markdown",
   "metadata": {},
   "source": [
    "**First visualization method** <br>\n",
    "Samples on x-axis and cloud cover on y-axis"
   ]
  },
  {
   "cell_type": "code",
   "execution_count": 23,
   "metadata": {
    "scrolled": true
   },
   "outputs": [
    {
     "data": {
      "image/png": "[encoded data removed]",
      "text/plain": [
       "<Figure size 1080x288 with 1 Axes>"
      ]
     },
     "metadata": {
      "needs_background": "light"
     },
     "output_type": "display_data"
    }
   ],
   "source": [
    "no_samples = 100\n",
    "layer = 20\n",
    "clc_pred = models[layer].predict(input_test_NN[layer][:no_samples])\n",
    "clc_true = output_test_NN[layer][:no_samples]\n",
    "a = np.linspace(1, no_samples, no_samples)\n",
    "\n",
    "fig = plt.figure(figsize=(15,4))\n",
    "ax = fig.add_subplot(111, title='NNs predictions of %d-th layer cloud cover on random samples from the test set'%layer, \n",
    "                     xlabel='Sample', ylabel='Cloud Cover')\n",
    "ax.plot(a, clc_pred, 'ro')\n",
    "ax.plot(a, clc_true, 'bo')\n",
    "ax.legend(['Predictions', 'Truth'])\n",
    "fig.savefig('../figures/offline_testing_predictions_random_samples.pdf')"
   ]
  },
  {
   "cell_type": "markdown",
   "metadata": {},
   "source": [
    "**Second visualization method** <br>\n",
    "Mean profile of Cloud Cover on x-axis with Vertical Layer on y-axis. This time I can use the test set."
   ]
  },
  {
   "cell_type": "code",
   "execution_count": 11,
   "metadata": {},
   "outputs": [],
   "source": [
    "# Vertical layers\n",
    "a = np.linspace(5, 31, 27)\n",
    "# Cloud cover means for first model\n",
    "clc_data_mean = []\n",
    "clc_pred_mean = []\n",
    "for i in range(27):\n",
    "    clc_data_mean.append(np.mean(output_test_NN[i]))\n",
    "    # Predicted cloud cover means\n",
    "    pred_adj = np.minimum(np.maximum(models[i].predict(input_test_NN[i]), 0), 100)\n",
    "    clc_pred_mean.append(np.mean(pred_adj, axis=0))"
   ]
  },
  {
   "cell_type": "code",
   "execution_count": 12,
   "metadata": {},
   "outputs": [
    {
     "data": {
      "image/png": "[encoded data removed]",
      "text/plain": [
       "<Figure size 1080x288 with 1 Axes>"
      ]
     },
     "metadata": {
      "needs_background": "light"
     },
     "output_type": "display_data"
    }
   ],
   "source": [
    "fig = plt.figure(figsize=(15,4))\n",
    "# For model\n",
    "ax_1 = fig.add_subplot(111, xlabel='Mean Cloud Cover', ylabel='Vertical layer', \n",
    "                       title='NN region-based Cloud Cover parameterization')\n",
    "ax_1.plot(clc_pred_mean, a)\n",
    "ax_1.plot(clc_data_mean, a)\n",
    "plt.gca().invert_yaxis()\n",
    "ax_1.legend(['Prediction', 'Truth'])\n",
    "fig.savefig('../figures/offline_testing_mean_cloud_cover_NNs.pdf')"
   ]
  },
  {
   "cell_type": "markdown",
   "metadata": {},
   "source": [
    "Mean profile with all NARVAL data"
   ]
  },
  {
   "cell_type": "code",
   "execution_count": 19,
   "metadata": {},
   "outputs": [],
   "source": [
    "input_data = []\n",
    "output_data = []\n",
    "\n",
    "for i in range(n_layers):\n",
    "    input_data.append(np.concatenate((input_train_NN[i], input_valid_NN[i], input_test_NN[i])))\n",
    "    output_data.append(np.concatenate((output_train_NN[i], output_valid_NN[i], output_test_NN[i])))"
   ]
  },
  {
   "cell_type": "code",
   "execution_count": 21,
   "metadata": {},
   "outputs": [],
   "source": [
    "# Vertical layers\n",
    "a = np.linspace(5, 31, 27)\n",
    "# Cloud cover means for first model\n",
    "clc_data_mean = []\n",
    "clc_pred_mean = []\n",
    "for i in range(27):\n",
    "    clc_data_mean.append(np.mean(output_data[i], dtype=np.float64))\n",
    "    # Predicted cloud cover means\n",
    "    pred_adj = np.minimum(np.maximum(models[i].predict(input_data[i]), 0), 100)\n",
    "    clc_pred_mean.append(np.mean(pred_adj, axis=0))"
   ]
  },
  {
   "cell_type": "code",
   "execution_count": 22,
   "metadata": {},
   "outputs": [
    {
     "data": {
      "text/plain": [
       "[array([0.00019869], dtype=float32),\n",
       " array([0.00028952], dtype=float32),\n",
       " array([0.17292088], dtype=float32),\n",
       " array([1.5057614], dtype=float32),\n",
       " array([3.9511752], dtype=float32),\n",
       " array([6.42019], dtype=float32),\n",
       " array([6.534646], dtype=float32),\n",
       " array([5.09313], dtype=float32),\n",
       " array([3.4730515], dtype=float32),\n",
       " array([2.5862944], dtype=float32),\n",
       " array([1.9298049], dtype=float32),\n",
       " array([1.6620936], dtype=float32),\n",
       " array([2.0024312], dtype=float32),\n",
       " array([2.4604807], dtype=float32),\n",
       " array([2.221365], dtype=float32),\n",
       " array([1.7741598], dtype=float32),\n",
       " array([1.9854069], dtype=float32),\n",
       " array([2.744725], dtype=float32),\n",
       " array([4.2037177], dtype=float32),\n",
       " array([6.894963], dtype=float32),\n",
       " array([10.748404], dtype=float32),\n",
       " array([13.222322], dtype=float32),\n",
       " array([10.732124], dtype=float32),\n",
       " array([4.2999697], dtype=float32),\n",
       " array([1.0032209], dtype=float32),\n",
       " array([0.34955263], dtype=float32),\n",
       " array([0.15560368], dtype=float32)]"
      ]
     },
     "execution_count": 22,
     "metadata": {},
     "output_type": "execute_result"
    }
   ],
   "source": [
    "clc_pred_mean"
   ]
  },
  {
   "cell_type": "code",
   "execution_count": 23,
   "metadata": {},
   "outputs": [
    {
     "data": {
      "text/plain": [
       "[2.0516477693020423e-07,\n",
       " 0.00034086927341436753,\n",
       " 0.17661084202334312,\n",
       " 1.4998438126611484,\n",
       " 3.902263484035136,\n",
       " 6.349001448225982,\n",
       " 6.547815854066336,\n",
       " 5.033804978480318,\n",
       " 3.448304713902622,\n",
       " 2.5793811697820677,\n",
       " 1.92561651328619,\n",
       " 1.667549647945401,\n",
       " 1.9866840386031737,\n",
       " 2.452039861399841,\n",
       " 2.20654246164629,\n",
       " 1.7451326114003243,\n",
       " 1.9593509079281894,\n",
       " 2.7583582117141883,\n",
       " 4.166830828417757,\n",
       " 6.908296338684412,\n",
       " 10.76565897432415,\n",
       " 13.262349346144319,\n",
       " 10.728780853117888,\n",
       " 4.325431446378538,\n",
       " 0.9917836019502414,\n",
       " 0.33945893908952796,\n",
       " 0.1554966481012375]"
      ]
     },
     "execution_count": 23,
     "metadata": {},
     "output_type": "execute_result"
    }
   ],
   "source": [
    "clc_data_mean"
   ]
  },
  {
   "cell_type": "markdown",
   "metadata": {},
   "source": [
    "**Plotting the difference from offline_testing_mean_cloud_cover_NNs.pdf**"
   ]
  },
  {
   "cell_type": "code",
   "execution_count": 13,
   "metadata": {},
   "outputs": [
    {
     "data": {
      "image/png": "[encoded data removed]",
      "text/plain": [
       "<Figure size 576x432 with 1 Axes>"
      ]
     },
     "metadata": {
      "needs_background": "light"
     },
     "output_type": "display_data"
    }
   ],
   "source": [
    "fig = plt.figure(figsize=(8,6))\n",
    "# For model\n",
    "ax_1 = fig.add_subplot(111, xlabel='Mean Cloud Cover', ylabel='Vertical layer', \n",
    "                       title='Deviation of NN region-based Cloud Cover parameterization')\n",
    "ax_1.plot(np.squeeze(np.array(clc_pred_mean)) - np.array(clc_data_mean), a, 'bo')\n",
    "ax_1.plot(0*a, a, 'g--')\n",
    "plt.gca().invert_yaxis()\n",
    "ax_1.legend(['Prediction - Truth'])\n",
    "fig.savefig('../figures/offline_testing_mean_cloud_cover_NNs_diff.pdf')"
   ]
  },
  {
   "cell_type": "markdown",
   "metadata": {},
   "source": [
    "**Third visualization method** <br>\n",
    "Hovmöller diagram (time on x-axis with vertical layers on y-axis and NN mean clc in color) <br>\n",
    "Looking at the first day here."
   ]
  },
  {
   "cell_type": "code",
   "execution_count": 4,
   "metadata": {},
   "outputs": [
    {
     "name": "stdout",
     "output_type": "stream",
     "text": [
      "2013121900\n"
     ]
    }
   ],
   "source": [
    "path = \"/pf/b/b309170/my_work/NARVAL/data_var_vertinterp/\"\n",
    "timesteps_per_day = 24\n",
    "\n",
    "ls = os.listdir(os.path.join(path, 'temp')) #Temperature as an arbitrary variable\n",
    "days = set()\n",
    "for j in range(len(ls)):\n",
    "    day = ls[j].split(sep='_')[5] #Days\n",
    "    days.add(day)\n",
    "\n",
    "# Get one day\n",
    "day = days.pop()\n",
    "dfs = load_day(day, n_layers, path)\n",
    "\n",
    "print(day) # Which day is it? It was the 29.12 for the diagrams below I think."
   ]
  },
  {
   "cell_type": "code",
   "execution_count": 37,
   "metadata": {},
   "outputs": [
    {
     "data": {
      "text/plain": [
       "Index(['qv_i-2', 'qv_i-1', 'qv_i', 'qv_i+1', 'qv_i+2', 'qc_i-2', 'qc_i-1',\n",
       "       'qc_i', 'qc_i+1', 'qc_i+2', 'qi_i-2', 'qi_i-1', 'qi_i', 'qi_i+1',\n",
       "       'qi_i+2', 'temp_i-2', 'temp_i-1', 'temp_i', 'temp_i+1', 'temp_i+2',\n",
       "       'pres_i-2', 'pres_i-1', 'pres_i', 'pres_i+1', 'pres_i+2', 'rho_i-2',\n",
       "       'rho_i-1', 'rho_i', 'rho_i+1', 'rho_i+2', 'zg_i-2', 'zg_i-1', 'zg_i',\n",
       "       'zg_i+1', 'zg_i+2', 'fr_lake', 'clc_prev', 'clc'],\n",
       "      dtype='object')"
      ]
     },
     "execution_count": 37,
     "metadata": {},
     "output_type": "execute_result"
    }
   ],
   "source": [
    "# Where's the temporal information (27144=24*1024)?\n",
    "# It's spaced 1024 entries apart:\n",
    "rand_ind = np.random.randint(dfs[20].shape[0]-1024)\n",
    "assert dfs[20]['clc'][rand_ind] == dfs[20]['clc_prev'][rand_ind+1024]\n",
    "\n",
    "dfs[1].columns"
   ]
  },
  {
   "cell_type": "code",
   "execution_count": 6,
   "metadata": {},
   "outputs": [],
   "source": [
    "## Load data pertaining to a specific NN\n",
    "n_samples_per_layer = dfs[0].shape[0]\n",
    "n_features = dfs[0].shape[1] - 1\n",
    "\n",
    "# Load the data into dictionaries. Can't use 3D tensors here as some features will be removed depending on the NN.\n",
    "# One entry (time*hor x features matrix) in the dictionary per vertical layer\n",
    "input_NN = {}\n",
    "for i in range(n_layers):\n",
    "    input_NN[i] = np.zeros((n_samples_per_layer, n_features))\n",
    "    \n",
    "data_clc = {}\n",
    "for i in range(n_layers):\n",
    "    data_clc[i] = np.zeros((n_samples_per_layer))\n",
    "    \n",
    "for i in range(n_layers):\n",
    "    input_NN[i] = np.array(dfs[i])[:, :-1]\n",
    "    data_clc[i] = np.array(dfs[i])[:, -1]"
   ]
  },
  {
   "cell_type": "code",
   "execution_count": 7,
   "metadata": {},
   "outputs": [],
   "source": [
    "# We read the means and standard deviations from model_region_based_final_1.txt!\n",
    "# I manually replaced nan's in the text-file by 1e+30 before reading the file.\n",
    "\n",
    "means = {}\n",
    "for i in range(n_layers):\n",
    "    means[i] = np.zeros(n_features)\n",
    "    \n",
    "stds = {}\n",
    "for i in range(n_layers):\n",
    "    stds[i] = np.zeros(n_features)\n",
    "    \n",
    "layer = -1\n",
    "with open(info_file, 'r') as file:\n",
    "    while True:\n",
    "        line = file.readline()\n",
    "        # Retrieving the mean values\n",
    "        if line.startswith('The mean values'):\n",
    "            j = 0 # Feature entry in mean tensor\n",
    "            layer += 1\n",
    "            while True:\n",
    "                line = file.readline()\n",
    "                line_entries = line.split(' ')\n",
    "                for i in range(1, len(line_entries)): # line_entries[0] doesn't contain numbers\n",
    "                    if line_entries[i].startswith('['):\n",
    "                        means[layer][j] = line_entries[i][1:]\n",
    "                    elif line_entries[i].endswith(']'):\n",
    "                        means[layer][j] = line_entries[i][:-1]\n",
    "                    elif line_entries[i].endswith(']\\n'):\n",
    "                        means[layer][j] = line_entries[i][:-2]\n",
    "                    elif line_entries[i] != '\\n' and line_entries[i] != '':\n",
    "                        means[layer][j] = line_entries[i]\n",
    "                    j += 1\n",
    "                if ']' in line:\n",
    "                    break\n",
    "                    \n",
    "        if line.startswith('The standard deviation values'):\n",
    "            j = 0 # Feature entry in mean tensor\n",
    "            while True:\n",
    "                line = file.readline()\n",
    "                line_entries = line.split(' ')\n",
    "                for i in range(1, len(line_entries)): # line_entries[0] doesn't contain numbers\n",
    "                    if line_entries[i].startswith('['):\n",
    "                        stds[layer][j] = line_entries[i][1:]\n",
    "                    elif line_entries[i].endswith(']'):\n",
    "                        stds[layer][j] = line_entries[i][:-1]\n",
    "                    elif line_entries[i].endswith(']\\n'):\n",
    "                        stds[layer][j] = line_entries[i][:-2]\n",
    "                    elif line_entries[i] != '\\n' and line_entries[i] != '':\n",
    "                        stds[layer][j] = line_entries[i]\n",
    "                    j += 1\n",
    "                if ']' in line:\n",
    "                    break  \n",
    "        # If the end of the file is reached            \n",
    "        if not line:\n",
    "            break"
   ]
  },
  {
   "cell_type": "code",
   "execution_count": 16,
   "metadata": {},
   "outputs": [],
   "source": [
    "# We remove the input features with zero variance in the TRAINING set. We compute the resulting input dimension for the NN.\n",
    "for i in range(n_layers):\n",
    "    vars_to_remove = []\n",
    "    for j in range(n_features):\n",
    "        if np.var(input_train_NN[i][:, j]) == 0 or np.isnan(np.var(input_train_NN[i][:, j])): #We reuse input_train_NN here!\n",
    "            vars_to_remove.append(j)\n",
    "    input_NN[i] = np.delete(input_NN[i], vars_to_remove, axis=1)    \n",
    "    means[i] = np.delete(means[i], vars_to_remove)\n",
    "    stds[i] = np.delete(stds[i], vars_to_remove)"
   ]
  },
  {
   "cell_type": "code",
   "execution_count": 17,
   "metadata": {},
   "outputs": [],
   "source": [
    "# for i in range(n_layers):\n",
    "#     print(input_NN[i].shape)"
   ]
  },
  {
   "cell_type": "code",
   "execution_count": 18,
   "metadata": {},
   "outputs": [],
   "source": [
    "# We standardize the input data according to model_region_based_final_1.txt\n",
    "for j in range(n_layers):\n",
    "    # For some reason for the two highest j the output is 'float' instead of np.float32/np.float64. \n",
    "    # This makes the data un-predictable by the tensorflow model\n",
    "    if j > n_layers-3:\n",
    "        input_NN[j] = ((input_NN[j] - means[j])/stds[j]).astype(np.float64)\n",
    "    else:\n",
    "        input_NN[j] = (input_NN[j] - means[j])/stds[j]"
   ]
  },
  {
   "cell_type": "code",
   "execution_count": 30,
   "metadata": {},
   "outputs": [],
   "source": [
    "# All vertical layers from first time step\n",
    "pred_clc_mat = np.zeros((timesteps_per_day, n_layers))\n",
    "data_clc_mat = np.zeros((timesteps_per_day, n_layers))\n",
    "for i in range(timesteps_per_day):\n",
    "    for j in range(n_layers):\n",
    "#         print(input_NN[j][i*1024:(i+1)*1024].shape)\n",
    "        # Mean prediction for a specific time step and vertical layer\n",
    "        pred_1 = models[j].predict(input_NN[j][i*1024:(i+1)*1024])\n",
    "        pred_clc_mat[i,j] = np.mean(np.minimum(np.maximum(pred_1, 0), 100))   \n",
    "        # Mean cloud cover for a specific time step and vertical layer\n",
    "        data_clc_mat[i,j] = np.mean(data_clc[j][i*1024:(i+1)*1024])"
   ]
  },
  {
   "cell_type": "code",
   "execution_count": 31,
   "metadata": {},
   "outputs": [
    {
     "data": {
      "image/png": "[encoded data removed]",
      "text/plain": [
       "<Figure size 576x576 with 4 Axes>"
      ]
     },
     "metadata": {
      "needs_background": "light"
     },
     "output_type": "display_data"
    }
   ],
   "source": [
    "from mpl_toolkits.axes_grid1 import make_axes_locatable\n",
    "import matplotlib.cm as cm\n",
    "\n",
    "capped_matrix = np.zeros((24, 31))\n",
    "capped_matrix_data = np.zeros((24, 31))\n",
    "capped_matrix[:, 4:] = pred_clc_mat\n",
    "capped_matrix_data[:, 4:] = data_clc_mat\n",
    "# t = np.linspace(1, 25, 25)\n",
    "# v = np.linspace(9, 75)\n",
    "# T, V = np.meshgrid(t, v)\n",
    "fig = plt.figure(figsize=(8,8))\n",
    "ax_2 = fig.add_subplot(122, xlabel='Hours', ylim=[30, 4], title='True mean cloud cover (One day)')\n",
    "ims_2 = ax_2.imshow(np.transpose(capped_matrix_data))\n",
    "# Colorbar axes\n",
    "divider = make_axes_locatable(ax_2)\n",
    "cax_2 = divider.append_axes(\"right\", size=\"5%\", pad=0.05)\n",
    "fig.colorbar(ims_2, cax=cax_2)\n",
    "\n",
    "ax_1 = fig.add_subplot(121, xlabel='Hours', ylim=[30, 4], ylabel='Vertical layers', title='Region-based NN mean cloud cover (One day)')\n",
    "ims_1 = ax_1.imshow(np.transpose(capped_matrix))\n",
    "# Colorbar axes\n",
    "divider = make_axes_locatable(ax_1)\n",
    "cax_1 = divider.append_axes(\"right\", size=\"5%\", pad=0.05)\n",
    "fig.colorbar(ims_1, cax=cax_1)\n",
    "fig.savefig('../figures/offline_testing_hovmoeller.pdf')"
   ]
  },
  {
   "cell_type": "code",
   "execution_count": 41,
   "metadata": {},
   "outputs": [
    {
     "name": "stderr",
     "output_type": "stream",
     "text": [
      "/pf/b/b309170/work/b309170/conda/envs/clouds113/lib/python3.7/site-packages/ipykernel_launcher.py:23: MatplotlibDeprecationWarning: \n",
      "The DivergingNorm class was deprecated in Matplotlib 3.2 and will be removed two minor releases later. Use TwoSlopeNorm instead.\n"
     ]
    },
    {
     "data": {
      "image/png": "[encoded data removed]",
      "text/plain": [
       "<Figure size 576x576 with 2 Axes>"
      ]
     },
     "metadata": {
      "needs_background": "light"
     },
     "output_type": "display_data"
    }
   ],
   "source": [
    "# Difference\n",
    "\n",
    "from mpl_toolkits.axes_grid1 import make_axes_locatable\n",
    "import matplotlib.cm as cm\n",
    "from matplotlib.colors import DivergingNorm\n",
    "\n",
    "capped_matrix = np.zeros((24, 31))\n",
    "capped_matrix_data = np.zeros((24, 31))\n",
    "capped_matrix[:, 4:] = pred_clc_mat\n",
    "capped_matrix_data[:, 4:] = data_clc_mat\n",
    "# t = np.linspace(1, 25, 25)\n",
    "# v = np.linspace(9, 75)\n",
    "# T, V = np.meshgrid(t, v)\n",
    "fig = plt.figure(figsize=(8,8))\n",
    "# ax_2 = fig.add_subplot(122, xlabel='Hours', ylim=[30, 4], title='True mean cloud cover (One day)')\n",
    "# ims_2 = ax_2.imshow(np.transpose(capped_matrix_data))\n",
    "# # Colorbar axes\n",
    "# divider = make_axes_locatable(ax_2)\n",
    "# cax_2 = divider.append_axes(\"right\", size=\"5%\", pad=0.05)\n",
    "# fig.colorbar(ims_2, cax=cax_2)\n",
    "\n",
    "ax_1 = fig.add_subplot(111, xlabel='Hours', ylim=[30, 4], ylabel='Vertical layers', title='Deviation of region-based NN mean cloud cover (One day)')\n",
    "ims_1 = ax_1.imshow(np.transpose(capped_matrix - capped_matrix_data), norm=DivergingNorm(0), cmap='bwr')\n",
    "# Colorbar axes\n",
    "divider = make_axes_locatable(ax_1)\n",
    "cax_1 = divider.append_axes(\"right\", size=\"5%\", pad=0.05)\n",
    "fig.colorbar(ims_1, cax=cax_1)\n",
    "# fig.savefig('../figures/offline_testing_hovmoeller_diff.pdf')"
   ]
  },
  {
   "cell_type": "markdown",
   "metadata": {},
   "source": [
    "**Forth visualization method** <br>\n",
    "R2-value on x-axis with vertical layers on y-axis <br>\n",
    "\n",
    "R2 = 1-SS_res/SS_tot, <br>\n",
    "SS_res = total sum of squares (prop. to variance in the data) <br>\n",
    "SS_tot = residual sum of squares\n",
    "\n",
    "So R2 = 1 - MSE/Variance(Data), isn't it?\n",
    "\n",
    "Best case: R2 = 1 <br>\n",
    "If R2 < 0, then a constant output model would be better than the ML model."
   ]
  },
  {
   "cell_type": "code",
   "execution_count": 10,
   "metadata": {},
   "outputs": [],
   "source": [
    "input_data = []\n",
    "output_data = []"
   ]
  },
  {
   "cell_type": "code",
   "execution_count": 11,
   "metadata": {},
   "outputs": [],
   "source": [
    "for i in range(n_layers):\n",
    "    input_data.append(np.concatenate((input_train_NN[i], input_valid_NN[i], input_test_NN[i])))\n",
    "    output_data.append(np.concatenate((output_train_NN[i], output_valid_NN[i], output_test_NN[i])))"
   ]
  },
  {
   "cell_type": "code",
   "execution_count": 12,
   "metadata": {},
   "outputs": [],
   "source": [
    "# MSE per layer\n",
    "\n",
    "from tensorflow.keras import backend as K\n",
    "import gc\n",
    "\n",
    "clc_mse = []\n",
    "\n",
    "for j in range(n_layers):\n",
    "    # Predicting is much faster with predict_on_batch\n",
    "    no_of_samples = input_data[j].shape[0]\n",
    "    batch_size = no_of_samples//100\n",
    "    for i in range(1 + no_of_samples//batch_size):\n",
    "        if i == 0:\n",
    "            pred = models[j].predict_on_batch(input_data[j][i*batch_size:(i+1)*batch_size])\n",
    "        else:\n",
    "            pred = np.concatenate((pred, models[j].predict_on_batch(input_data[j][i*batch_size:(i+1)*batch_size])), axis=0)\n",
    "        K.clear_session()\n",
    "        gc.collect()\n",
    "\n",
    "    pred_adj = np.minimum(np.maximum(pred, 0), 100)  #Cloud Cover is enforced between 0 and 100. \n",
    "                                                     #This should also be done in practice\n",
    "\n",
    "    clc_mse.append(np.mean((pred_adj[:, 0] - output_data[j])**2, axis=0, dtype=np.float64))"
   ]
  },
  {
   "cell_type": "code",
   "execution_count": 13,
   "metadata": {},
   "outputs": [],
   "source": [
    "# Variance of the data\n",
    "clc_data_var = []\n",
    "for j in range(n_layers):\n",
    "    clc_data_var.append(np.var(output_data[j], axis=0))\n",
    "assert(len(clc_data_var) == len(clc_mse) == 27)"
   ]
  },
  {
   "cell_type": "code",
   "execution_count": 14,
   "metadata": {},
   "outputs": [],
   "source": [
    "r2 = []\n",
    "assert len(clc_mse) == len(clc_data_var) == 27\n",
    "for i in range(27):\n",
    "    r2.append(1 - clc_mse[i]/clc_data_var[i])"
   ]
  },
  {
   "cell_type": "code",
   "execution_count": 15,
   "metadata": {},
   "outputs": [
    {
     "data": {
      "text/plain": [
       "[-2131169.4218093962]"
      ]
     },
     "execution_count": 15,
     "metadata": {},
     "output_type": "execute_result"
    }
   ],
   "source": [
    "# The R2-values on the (not two!) uppermost layer is really bad \n",
    "r2[:1]"
   ]
  },
  {
   "cell_type": "code",
   "execution_count": 16,
   "metadata": {},
   "outputs": [
    {
     "data": {
      "text/plain": [
       "[5.61384722271271e-09, 0.0005831066729911401]"
      ]
     },
     "execution_count": 16,
     "metadata": {},
     "output_type": "execute_result"
    }
   ],
   "source": [
    "# Well, with such a low variance\n",
    "clc_data_var[:2]"
   ]
  },
  {
   "cell_type": "code",
   "execution_count": 17,
   "metadata": {},
   "outputs": [
    {
     "data": {
      "image/png": "[encoded data removed]",
      "text/plain": [
       "<Figure size 432x288 with 1 Axes>"
      ]
     },
     "metadata": {
      "needs_background": "light"
     },
     "output_type": "display_data"
    }
   ],
   "source": [
    "a = np.linspace(5, 30, 26)\n",
    "fig = plt.figure()\n",
    "\n",
    "ax = fig.add_subplot(111, xlim=(0, 1), title='R2-values of the region-based model excluding the upper-most layer',\n",
    "                     xlabel='R2-value', ylabel='Vertical layer')\n",
    "ax.plot(r2[1:], a, 'bo')\n",
    "plt.gca().invert_yaxis()\n",
    "fig.savefig('../figures/region_based_r2-values.pdf')"
   ]
  },
  {
   "cell_type": "code",
   "execution_count": 18,
   "metadata": {},
   "outputs": [
    {
     "data": {
      "text/plain": [
       "[-2131169.4218093962,\n",
       " 0.9340452725543076,\n",
       " 0.9815382094872405,\n",
       " 0.9875779569711387,\n",
       " 0.9881498169204237,\n",
       " 0.985849414939333,\n",
       " 0.9845079819136472,\n",
       " 0.9859554777867869,\n",
       " 0.9890010192649976,\n",
       " 0.9895664135327232,\n",
       " 0.9874473960792923,\n",
       " 0.985320558548991,\n",
       " 0.9861261160817199,\n",
       " 0.989554547743751,\n",
       " 0.9907844996557563,\n",
       " 0.9907635695408146,\n",
       " 0.9910925442584202,\n",
       " 0.9914023282208477,\n",
       " 0.9918668692237637,\n",
       " 0.9926304087669037,\n",
       " 0.9941627854374602,\n",
       " 0.9953104492050667,\n",
       " 0.9962050284220396,\n",
       " 0.9951965485999752,\n",
       " 0.991702810938895,\n",
       " 0.9858218918378474,\n",
       " 0.9760560897393651]"
      ]
     },
     "execution_count": 18,
     "metadata": {},
     "output_type": "execute_result"
    }
   ],
   "source": [
    "r2"
   ]
  },
  {
   "cell_type": "code",
   "execution_count": null,
   "metadata": {},
   "outputs": [],
   "source": []
  }
 ],
 "metadata": {
  "kernelspec": {
   "display_name": "clouds113_kernel",
   "language": "python",
   "name": "clouds113_kernel"
  },
  "language_info": {
   "codemirror_mode": {
    "name": "ipython",
    "version": 3
   },
   "file_extension": ".py",
   "mimetype": "text/x-python",
   "name": "python",
   "nbconvert_exporter": "python",
   "pygments_lexer": "ipython3",
   "version": "3.7.10"
  }
 },
 "nbformat": 4,
 "nbformat_minor": 4
}
