{
 "cells": [
  {
   "cell_type": "markdown",
   "metadata": {},
   "source": [
    "### Neighborhood-based NARVAL model on QUBICC data"
   ]
  },
  {
   "cell_type": "markdown",
   "metadata": {},
   "source": [
    "<a id='import_and_models_start'></a>"
   ]
  },
  {
   "cell_type": "code",
   "execution_count": 1,
   "metadata": {},
   "outputs": [],
   "source": [
    "import os\n",
    "import numpy as np\n",
    "import pandas as pd\n",
    "import xarray as xr\n",
    "import matplotlib.pyplot as plt\n",
    "import importlib\n",
    "import for_preprocessing\n",
    "\n",
    "from tensorflow.keras.models import load_model\n",
    "\n",
    "importlib.reload(for_preprocessing)\n",
    "from for_preprocessing import load_day\n",
    "\n",
    "%config Completer.use_jedi = False  #Speeds up autocomplete"
   ]
  },
  {
   "cell_type": "code",
   "execution_count": 2,
   "metadata": {},
   "outputs": [],
   "source": [
    "root_path = '/pf/b/b309170'\n",
    "data_path = os.path.join(root_path,\n",
    "                         'my_work/icon-ml_data/cloud_cover_parameterization/region_based/based_on_var_interpolated_data')\n",
    "model_path = os.path.join(root_path,\n",
    "                          'workspace_icon-ml/cloud_cover_parameterization/region_based/saved_models')\n",
    "info_file = os.path.join(root_path, \n",
    "                        'workspace_icon-ml/cloud_cover_parameterization/region_based/saved_models/model_region_based_final_1.txt')\n",
    "\n",
    "n_layers = 27 # Is also the number of NNs"
   ]
  },
  {
   "cell_type": "markdown",
   "metadata": {},
   "source": [
    "*Load model*"
   ]
  },
  {
   "cell_type": "code",
   "execution_count": 3,
   "metadata": {},
   "outputs": [],
   "source": [
    "models = [load_model(os.path.join(model_path, 'model_clc_all_days_final_1_%d.h5'%i)) for i in range(27)]"
   ]
  },
  {
   "cell_type": "markdown",
   "metadata": {},
   "source": [
    "<a id='import_and_models_end'></a>"
   ]
  },
  {
   "cell_type": "markdown",
   "metadata": {},
   "source": [
    "## Hovmöller diagrams\n",
    "\n",
    "**First visualization method** (Third in other notebooks) <br>\n",
    "Hovmöller diagram (time on x-axis with vertical layers on y-axis and NN mean clc in color) <br>\n",
    "Looking at one day here."
   ]
  },
  {
   "cell_type": "code",
   "execution_count": 151,
   "metadata": {},
   "outputs": [
    {
     "name": "stdout",
     "output_type": "stream",
     "text": [
      "20041102\n"
     ]
    }
   ],
   "source": [
    "path = \"/pf/b/b309170/my_work/QUBICC/data_var_vertinterp/\"\n",
    "\n",
    "ls = os.listdir(os.path.join(path, 'ta')) #Temperature as an arbitrary variable\n",
    "days = set()\n",
    "for j in range(len(ls)):\n",
    "    day = ls[j].split(sep='_')[7][:8] #Days in QUBICC\n",
    "    days.add(day)\n",
    "\n",
    "# Get one day\n",
    "day = days.pop()\n",
    "\n",
    "# Careful: The first and last days of QUBICC do not have 23 timesteps\n",
    "# I think it's generally one timestep less as the region-based model looks back one timestep as well\n",
    "if day == '20041101':\n",
    "    timesteps_per_day = 22\n",
    "else:\n",
    "    timesteps_per_day = 23\n",
    "\n",
    "if day == '20041202':\n",
    "    raise ValueError('Try to load a day in November instead.')\n",
    "\n",
    "dfs = load_day(day, n_layers, path, data_source='qubicc')\n",
    "\n",
    "print(day) # Which day is it?"
   ]
  },
  {
   "cell_type": "code",
   "execution_count": 152,
   "metadata": {},
   "outputs": [],
   "source": [
    "# In QUBICC cloud cover is in [0, 1]\n",
    "for i in range(n_layers):\n",
    "    dfs[i]['cl'] = 100*dfs[i]['cl']\n",
    "    dfs[i]['cl_prev'] = 100*dfs[i]['cl_prev']"
   ]
  },
  {
   "cell_type": "code",
   "execution_count": 153,
   "metadata": {},
   "outputs": [
    {
     "data": {
      "text/plain": [
       "Index(['hus_i-2', 'hus_i-1', 'hus_i', 'hus_i+1', 'hus_i+2', 'clw_i-2',\n",
       "       'clw_i-1', 'clw_i', 'clw_i+1', 'clw_i+2', 'cli_i-2', 'cli_i-1', 'cli_i',\n",
       "       'cli_i+1', 'cli_i+2', 'ta_i-2', 'ta_i-1', 'ta_i', 'ta_i+1', 'ta_i+2',\n",
       "       'pfull_i-2', 'pfull_i-1', 'pfull_i', 'pfull_i+1', 'pfull_i+2',\n",
       "       'rho_i-2', 'rho_i-1', 'rho_i', 'rho_i+1', 'rho_i+2', 'zg_i-2', 'zg_i-1',\n",
       "       'zg_i', 'zg_i+1', 'zg_i+2', 'fr_lake', 'cl_prev', 'cl'],\n",
       "      dtype='object')"
      ]
     },
     "execution_count": 153,
     "metadata": {},
     "output_type": "execute_result"
    }
   ],
   "source": [
    "# Usually in QUBICC hc2: (TIME_STEPS, VERT_LAYERS, HORIZ_FIELDS) = (721, 27/31, 14826)\n",
    "# Usually in NARVAL: (TIME_STEPS, VERT_LAYERS, HORIZ_FIELDS) = (1635, 75/31/27, 1306)\n",
    "\n",
    "## Load data pertaining to a specific NN\n",
    "n_samples_per_layer = dfs[0].shape[0]\n",
    "n_features = dfs[0].shape[1] - 1\n",
    "\n",
    "# Where's the temporal information?\n",
    "# It's spaced 14826 entries apart in QUBICC (=n_samples_per_layer/(timesteps_per_day*no_of_days)):\n",
    "temp_spacing = int(n_samples_per_layer/timesteps_per_day)\n",
    "\n",
    "rand_ind = np.random.randint(dfs[20].shape[0]-temp_spacing)\n",
    "assert dfs[20]['cl'][rand_ind] == dfs[20]['cl_prev'][rand_ind+temp_spacing]\n",
    "\n",
    "dfs[1].columns"
   ]
  },
  {
   "cell_type": "code",
   "execution_count": 154,
   "metadata": {},
   "outputs": [],
   "source": [
    "# Load the data into dictionaries. Can't use 3D tensors here as some features will be removed depending on the NN.\n",
    "# One entry (time*hor x features matrix) in the dictionary per vertical layer\n",
    "input_NN = {}\n",
    "for i in range(n_layers):\n",
    "    input_NN[i] = np.zeros((n_samples_per_layer, n_features))\n",
    "    \n",
    "data_clc = {}\n",
    "for i in range(n_layers):\n",
    "    data_clc[i] = np.zeros((n_samples_per_layer))\n",
    "    \n",
    "for i in range(n_layers):\n",
    "    input_NN[i] = np.array(dfs[i])[:, :-1]\n",
    "    data_clc[i] = np.array(dfs[i])[:, -1]"
   ]
  },
  {
   "cell_type": "code",
   "execution_count": 155,
   "metadata": {},
   "outputs": [],
   "source": [
    "# We read the means and standard deviations from model_region_based_final_1.txt!\n",
    "# I manually replaced nan's in the text-file by 1e+30 before reading the file.\n",
    "\n",
    "means = {}\n",
    "for i in range(n_layers):\n",
    "    means[i] = np.zeros(n_features)\n",
    "    \n",
    "stds = {}\n",
    "for i in range(n_layers):\n",
    "    stds[i] = np.zeros(n_features)\n",
    "    \n",
    "layer = -1\n",
    "with open(info_file, 'r') as file:\n",
    "    while True:\n",
    "        line = file.readline()\n",
    "        # Retrieving the mean values\n",
    "        if line.startswith('The mean values'):\n",
    "            j = 0 # Feature entry in mean tensor\n",
    "            layer += 1\n",
    "            while True:\n",
    "                line = file.readline()\n",
    "                line_entries = line.split(' ')\n",
    "                for i in range(1, len(line_entries)): # line_entries[0] doesn't contain numbers\n",
    "                    if line_entries[i].startswith('['):\n",
    "                        means[layer][j] = line_entries[i][1:]\n",
    "                    elif line_entries[i].endswith(']'):\n",
    "                        means[layer][j] = line_entries[i][:-1]\n",
    "                    elif line_entries[i].endswith(']\\n'):\n",
    "                        means[layer][j] = line_entries[i][:-2]\n",
    "                    elif line_entries[i] != '\\n' and line_entries[i] != '':\n",
    "                        means[layer][j] = line_entries[i]\n",
    "                    j += 1\n",
    "                if ']' in line:\n",
    "                    break\n",
    "                    \n",
    "        if line.startswith('The standard deviation values'):\n",
    "            j = 0 # Feature entry in mean tensor\n",
    "            while True:\n",
    "                line = file.readline()\n",
    "                line_entries = line.split(' ')\n",
    "                for i in range(1, len(line_entries)): # line_entries[0] doesn't contain numbers\n",
    "                    if line_entries[i].startswith('['):\n",
    "                        stds[layer][j] = line_entries[i][1:]\n",
    "                    elif line_entries[i].endswith(']'):\n",
    "                        stds[layer][j] = line_entries[i][:-1]\n",
    "                    elif line_entries[i].endswith(']\\n'):\n",
    "                        stds[layer][j] = line_entries[i][:-2]\n",
    "                    elif line_entries[i] != '\\n' and line_entries[i] != '':\n",
    "                        stds[layer][j] = line_entries[i]\n",
    "                    j += 1\n",
    "                if ']' in line:\n",
    "                    break  \n",
    "        # If the end of the file is reached            \n",
    "        if not line:\n",
    "            break"
   ]
  },
  {
   "cell_type": "code",
   "execution_count": 156,
   "metadata": {},
   "outputs": [],
   "source": [
    "# Load NARVAL input_train_NN for the next cell\n",
    "root_path = '/pf/b/b309170'\n",
    "data_path = os.path.join(root_path,\n",
    "                         'my_work/icon-ml_data/cloud_cover_parameterization/region_based/based_on_var_interpolated_data')\n",
    "\n",
    "input_train = np.load(os.path.join(data_path, 'cloud_cover_input_train_1.npy'))\n",
    "(n_train_samples, n_features) = input_train.shape\n",
    "\n",
    "input_train_NN = {}\n",
    "for i in range(n_layers):\n",
    "    input_train_NN[i] = np.zeros((n_train_samples//n_layers, n_features))\n",
    "\n",
    "for i in range(n_layers):\n",
    "    start_ind_train = (n_train_samples//27)*i\n",
    "    end_ind_train = (n_train_samples//27)*(i+1) \n",
    "\n",
    "    input_train_NN[i] = input_train[start_ind_train:end_ind_train]"
   ]
  },
  {
   "cell_type": "code",
   "execution_count": 157,
   "metadata": {},
   "outputs": [],
   "source": [
    "# We remove the input features with zero variance in the TRAINING set. We compute the resulting input dimension for the NN.\n",
    "for i in range(n_layers):\n",
    "    vars_to_remove = []\n",
    "    for j in range(n_features):\n",
    "        if np.var(input_train_NN[i][:, j]) == 0 or np.isnan(np.var(input_train_NN[i][:, j])): #We reuse input_train_NN here!\n",
    "            vars_to_remove.append(j)\n",
    "    input_NN[i] = np.delete(input_NN[i], vars_to_remove, axis=1)    \n",
    "    means[i] = np.delete(means[i], vars_to_remove)\n",
    "    stds[i] = np.delete(stds[i], vars_to_remove)"
   ]
  },
  {
   "cell_type": "code",
   "execution_count": 158,
   "metadata": {},
   "outputs": [],
   "source": [
    "# We standardize the input data according to model_region_based_final_1.txt\n",
    "for j in range(n_layers):\n",
    "    # For some reason for the two highest j the output is 'float' instead of np.float32/np.float64. \n",
    "    # This makes the data un-predictable by the tensorflow model\n",
    "    if j > n_layers-3:\n",
    "        input_NN[j] = ((input_NN[j] - means[j])/stds[j]).astype(np.float64)\n",
    "    else:\n",
    "        input_NN[j] = (input_NN[j] - means[j])/stds[j]"
   ]
  },
  {
   "cell_type": "code",
   "execution_count": 159,
   "metadata": {},
   "outputs": [],
   "source": [
    "# All vertical layers from first time step\n",
    "pred_clc_mat = np.zeros((timesteps_per_day, n_layers))\n",
    "data_clc_mat = np.zeros((timesteps_per_day, n_layers))\n",
    "for i in range(timesteps_per_day):\n",
    "    for j in range(n_layers):\n",
    "#         print(input_NN[j][i*14826:(i+1)*14826].shape)\n",
    "        # Mean prediction for a specific time step and vertical layer\n",
    "        pred_1 = models[j].predict(input_NN[j][i*temp_spacing:(i+1)*temp_spacing])\n",
    "        pred_clc_mat[i,j] = np.mean(np.minimum(np.maximum(pred_1, 0), 100))   \n",
    "        # Mean cloud cover for a specific time step and vertical layer\n",
    "        data_clc_mat[i,j] = np.mean(data_clc[j][i*temp_spacing:(i+1)*temp_spacing])"
   ]
  },
  {
   "cell_type": "code",
   "execution_count": 167,
   "metadata": {},
   "outputs": [
    {
     "data": {
      "image/png": "[encoded data removed]",
      "text/plain": [
       "<Figure size 792x576 with 4 Axes>"
      ]
     },
     "metadata": {
      "needs_background": "light"
     },
     "output_type": "display_data"
    }
   ],
   "source": [
    "from mpl_toolkits.axes_grid1 import make_axes_locatable\n",
    "import matplotlib.cm as cm\n",
    "\n",
    "capped_matrix = np.zeros((timesteps_per_day, 31))\n",
    "capped_matrix_data = np.zeros((timesteps_per_day, 31))\n",
    "capped_matrix[:, 4:] = pred_clc_mat\n",
    "capped_matrix_data[:, 4:] = data_clc_mat\n",
    "\n",
    "# Crucial so that the colorbar will actually match both plots\n",
    "vmax = np.maximum(np.max(capped_matrix), np.max(capped_matrix_data))\n",
    "vmin = np.minimum(np.min(capped_matrix), np.min(capped_matrix_data))\n",
    "# t = np.linspace(1, 25, 25)\n",
    "# v = np.linspace(9, 75)\n",
    "# T, V = np.meshgrid(t, v)\n",
    "fig = plt.figure(figsize=(11,8))\n",
    "ax_2 = fig.add_subplot(122, xlabel='Hours', ylim=[30, 4], title='True mean cloud cover on %s'%day)\n",
    "ims_2 = ax_2.imshow(np.transpose(capped_matrix_data), vmin=vmin, vmax=vmax)\n",
    "# Colorbar axes\n",
    "divider = make_axes_locatable(ax_2)\n",
    "cax_2 = divider.append_axes(\"right\", size=\"5%\", pad=0.05)\n",
    "fig.colorbar(ims_2, cax=cax_2)\n",
    "\n",
    "ax_1 = fig.add_subplot(121, xlabel='Hours', ylim=[30, 4], ylabel='Vertical layers', \n",
    "                       title='Region-based NN mean cloud cover on %s'%day)\n",
    "ims_1 = ax_1.imshow(np.transpose(capped_matrix), vmin=vmin, vmax=vmax)\n",
    "# Colorbar axes\n",
    "divider = make_axes_locatable(ax_1)\n",
    "cax_1 = divider.append_axes(\"right\", size=\"5%\", pad=0.05)\n",
    "fig.colorbar(ims_1, cax=cax_1)\n",
    "# fig.savefig('../figures/qubicc_offline_testing_hovmoeller.pdf')"
   ]
  },
  {
   "cell_type": "code",
   "execution_count": 163,
   "metadata": {},
   "outputs": [
    {
     "name": "stderr",
     "output_type": "stream",
     "text": [
      "/pf/b/b309170/work/b309170/conda/envs/clouds113/lib/python3.7/site-packages/ipykernel_launcher.py:24: MatplotlibDeprecationWarning: \n",
      "The DivergingNorm class was deprecated in Matplotlib 3.2 and will be removed two minor releases later. Use TwoSlopeNorm instead.\n"
     ]
    },
    {
     "data": {
      "image/png": "[encoded data removed]",
      "text/plain": [
       "<Figure size 576x576 with 2 Axes>"
      ]
     },
     "metadata": {
      "needs_background": "light"
     },
     "output_type": "display_data"
    }
   ],
   "source": [
    "# Difference\n",
    "\n",
    "from mpl_toolkits.axes_grid1 import make_axes_locatable\n",
    "import matplotlib.cm as cm\n",
    "from matplotlib.colors import DivergingNorm\n",
    "\n",
    "capped_matrix = np.zeros((timesteps_per_day, 31))\n",
    "capped_matrix_data = np.zeros((timesteps_per_day, 31))\n",
    "capped_matrix[:, 4:] = pred_clc_mat\n",
    "capped_matrix_data[:, 4:] = data_clc_mat\n",
    "# t = np.linspace(1, 25, 25)\n",
    "# v = np.linspace(9, 75)\n",
    "# T, V = np.meshgrid(t, v)\n",
    "fig = plt.figure(figsize=(8,8))\n",
    "# ax_2 = fig.add_subplot(122, xlabel='Hours', ylim=[30, 4], title='True mean cloud cover (One day)')\n",
    "# ims_2 = ax_2.imshow(np.transpose(capped_matrix_data))\n",
    "# # Colorbar axes\n",
    "# divider = make_axes_locatable(ax_2)\n",
    "# cax_2 = divider.append_axes(\"right\", size=\"5%\", pad=0.05)\n",
    "# fig.colorbar(ims_2, cax=cax_2)\n",
    "\n",
    "ax_1 = fig.add_subplot(111, xlabel='Hours', ylim=[30, 4], ylabel='Vertical layers', \n",
    "                       title='Deviation of region-based NN mean cloud cover on %s'%day)\n",
    "ims_1 = ax_1.imshow(np.transpose(capped_matrix - capped_matrix_data), norm=DivergingNorm(0), cmap='bwr')\n",
    "# Colorbar axes\n",
    "divider = make_axes_locatable(ax_1)\n",
    "cax_1 = divider.append_axes(\"right\", size=\"5%\", pad=0.05)\n",
    "fig.colorbar(ims_1, cax=cax_1)\n",
    "# fig.savefig('../figures/qubicc_offline_testing_hovmoeller_diff.pdf')"
   ]
  },
  {
   "cell_type": "markdown",
   "metadata": {},
   "source": [
    "## Predictions on random samples\n",
    "\n",
    "**Second visualization method** (First in other notebooks) <br>\n",
    "Samples on x-axis and cloud cover on y-axis"
   ]
  },
  {
   "cell_type": "code",
   "execution_count": 171,
   "metadata": {
    "scrolled": true
   },
   "outputs": [
    {
     "data": {
      "image/png": "[encoded data removed]",
      "text/plain": [
       "<Figure size 1080x288 with 1 Axes>"
      ]
     },
     "metadata": {
      "needs_background": "light"
     },
     "output_type": "display_data"
    }
   ],
   "source": [
    "no_samples = 100\n",
    "layer = 20\n",
    "clc_pred = models[layer].predict(input_NN[layer][:no_samples])\n",
    "clc_true = data_clc[layer][:no_samples]\n",
    "a = np.linspace(1, no_samples, no_samples)\n",
    "\n",
    "fig = plt.figure(figsize=(15,4))\n",
    "ax = fig.add_subplot(111, title='NNs predictions of %d-th layer cloud cover on random samples from the test set'%layer, \n",
    "                     xlabel='Sample', ylabel='Cloud Cover')\n",
    "ax.plot(a, clc_pred, 'ro')\n",
    "ax.plot(a, clc_true, 'bo')\n",
    "ax.legend(['Predictions', 'Truth'])\n",
    "# fig.savefig('../figures/qubicc_offline_testing_predictions_random_samples.pdf')"
   ]
  },
  {
   "cell_type": "markdown",
   "metadata": {},
   "source": [
    "## Mean cloud cover per vertical layer\n",
    "\n",
    "**Thir visualization method** (Second in other notebooks) <br>\n",
    "Mean profile of Cloud Cover on x-axis with Vertical Layer on y-axis. This time I can use the test set."
   ]
  },
  {
   "cell_type": "code",
   "execution_count": 172,
   "metadata": {},
   "outputs": [],
   "source": [
    "# Vertical layers\n",
    "a = np.linspace(5, 31, 27)\n",
    "# Cloud cover means for first model\n",
    "clc_data_mean = []\n",
    "clc_pred_mean = []\n",
    "for i in range(27):\n",
    "    clc_data_mean.append(np.mean(data_clc[i]))\n",
    "    # Predicted cloud cover means\n",
    "    pred_adj = np.minimum(np.maximum(models[i].predict(input_NN[i]), 0), 100)\n",
    "    clc_pred_mean.append(np.mean(pred_adj, axis=0, dtype=np.float64))"
   ]
  },
  {
   "cell_type": "code",
   "execution_count": 173,
   "metadata": {},
   "outputs": [
    {
     "data": {
      "image/png": "[encoded data removed]",
      "text/plain": [
       "<Figure size 1080x288 with 1 Axes>"
      ]
     },
     "metadata": {
      "needs_background": "light"
     },
     "output_type": "display_data"
    }
   ],
   "source": [
    "fig = plt.figure(figsize=(15,4))\n",
    "# For model\n",
    "ax_1 = fig.add_subplot(111, xlabel='Mean Cloud Cover', ylabel='Vertical layer', \n",
    "                       title='NN region-based Cloud Cover parameterization on %s'%day)\n",
    "ax_1.plot(clc_pred_mean, a)\n",
    "ax_1.plot(clc_data_mean, a)\n",
    "plt.gca().invert_yaxis()\n",
    "ax_1.legend(['Prediction', 'Truth'])\n",
    "# fig.savefig('../figures/qubicc_offline_testing_mean_cloud_cover_NNs_one_day.pdf')"
   ]
  },
  {
   "cell_type": "code",
   "execution_count": 174,
   "metadata": {},
   "outputs": [
    {
     "data": {
      "image/png": "[encoded data removed]",
      "text/plain": [
       "<Figure size 576x432 with 1 Axes>"
      ]
     },
     "metadata": {
      "needs_background": "light"
     },
     "output_type": "display_data"
    }
   ],
   "source": [
    "# Plotting the difference\n",
    "fig = plt.figure(figsize=(8,6))\n",
    "# For model\n",
    "ax_1 = fig.add_subplot(111, xlabel='Mean Cloud Cover', ylabel='Vertical layer', \n",
    "                       title='Deviation of NN region-based Cloud Cover parameterization on %s'%day)\n",
    "ax_1.plot(np.squeeze(np.array(clc_pred_mean)) - np.array(clc_data_mean), a, 'bo')\n",
    "ax_1.plot(0*a, a, 'g--')\n",
    "plt.gca().invert_yaxis()\n",
    "ax_1.legend(['Prediction - Truth'])\n",
    "# fig.savefig('../figures/qubicc_offline_testing_mean_cloud_cover_NNs_diff_one_day.pdf')"
   ]
  },
  {
   "cell_type": "markdown",
   "metadata": {},
   "source": [
    "### Load Nov, 20s\n",
    "\n",
    "For Nov, 20s (all days is too costly)"
   ]
  },
  {
   "cell_type": "markdown",
   "metadata": {},
   "source": [
    "<a id='load_data_start'></a>"
   ]
  },
  {
   "cell_type": "code",
   "execution_count": 4,
   "metadata": {},
   "outputs": [],
   "source": [
    "path = \"/pf/b/b309170/my_work/QUBICC/data_var_vertinterp/\"\n",
    "\n",
    "timesteps_per_day = 23\n",
    "\n",
    "# Load November 20s\n",
    "days = ['20041120', '20041121', '20041122', '20041123', '20041124', '20041125', '20041126', '20041127',\n",
    "       '20041128', '20041129']\n",
    "\n",
    "no_of_days = len(days)"
   ]
  },
  {
   "cell_type": "code",
   "execution_count": 5,
   "metadata": {},
   "outputs": [],
   "source": [
    "# Store all days in an array of dataframes (each row is a training sample for the NN)\n",
    "dfs = load_day(days.pop(), n_layers, path, data_source='qubicc')\n",
    "while len(days) > 0: #while len(days) > 0 to load all days\n",
    "    tmp = load_day(days.pop(), n_layers, path, data_source='qubicc')\n",
    "    for i in range(n_layers):\n",
    "        dfs[i] = dfs[i].append(tmp[i], ignore_index=True)"
   ]
  },
  {
   "cell_type": "code",
   "execution_count": 6,
   "metadata": {},
   "outputs": [],
   "source": [
    "# In QUBICC cloud cover is in [0, 1]\n",
    "for i in range(n_layers):\n",
    "    dfs[i]['cl'] = 100*dfs[i]['cl']\n",
    "    dfs[i]['cl_prev'] = 100*dfs[i]['cl_prev']"
   ]
  },
  {
   "cell_type": "code",
   "execution_count": 7,
   "metadata": {},
   "outputs": [
    {
     "data": {
      "text/plain": [
       "Index(['hus_i-2', 'hus_i-1', 'hus_i', 'hus_i+1', 'hus_i+2', 'clw_i-2',\n",
       "       'clw_i-1', 'clw_i', 'clw_i+1', 'clw_i+2', 'cli_i-2', 'cli_i-1', 'cli_i',\n",
       "       'cli_i+1', 'cli_i+2', 'ta_i-2', 'ta_i-1', 'ta_i', 'ta_i+1', 'ta_i+2',\n",
       "       'pfull_i-2', 'pfull_i-1', 'pfull_i', 'pfull_i+1', 'pfull_i+2',\n",
       "       'rho_i-2', 'rho_i-1', 'rho_i', 'rho_i+1', 'rho_i+2', 'zg_i-2', 'zg_i-1',\n",
       "       'zg_i', 'zg_i+1', 'zg_i+2', 'fr_lake', 'cl_prev', 'cl'],\n",
       "      dtype='object')"
      ]
     },
     "execution_count": 7,
     "metadata": {},
     "output_type": "execute_result"
    }
   ],
   "source": [
    "# Usually in QUBICC hc2: (TIME_STEPS, VERT_LAYERS, HORIZ_FIELDS) = (721, 27/31, 14826)\n",
    "# Usually in NARVAL: (TIME_STEPS, VERT_LAYERS, HORIZ_FIELDS) = (1635, 75/31/27, 1306)\n",
    "\n",
    "TIME_STEPS = timesteps_per_day*no_of_days\n",
    "HORIZ_FIELDS = len(dfs[0]['cl'])//TIME_STEPS\n",
    "\n",
    "## Load data pertaining to a specific NN\n",
    "n_samples_per_layer = dfs[0].shape[0]\n",
    "n_features = dfs[0].shape[1] - 1\n",
    "\n",
    "# Where's the temporal information?\n",
    "# It's spaced 14826 entries apart in QUBICC (=n_samples_per_layer/(timesteps_per_day*no_of_days)):\n",
    "temp_spacing = int(n_samples_per_layer/TIME_STEPS)\n",
    "\n",
    "rand_ind = np.random.randint(dfs[20].shape[0]-temp_spacing)\n",
    "assert dfs[20]['cl'][rand_ind] == dfs[20]['cl_prev'][rand_ind+temp_spacing]\n",
    "\n",
    "dfs[1].columns"
   ]
  },
  {
   "cell_type": "markdown",
   "metadata": {},
   "source": [
    "<a id='load_data_stop'></a>"
   ]
  },
  {
   "cell_type": "code",
   "execution_count": 30,
   "metadata": {},
   "outputs": [],
   "source": [
    "# Load the data into dictionaries. Can't use 3D tensors here as some features will be removed depending on the NN.\n",
    "# One entry (time*hor x features matrix) in the dictionary per vertical layer\n",
    "input_NN = {}\n",
    "for i in range(n_layers):\n",
    "    input_NN[i] = np.zeros((n_samples_per_layer, n_features))\n",
    "    \n",
    "data_clc = {}\n",
    "for i in range(n_layers):\n",
    "    data_clc[i] = np.zeros((n_samples_per_layer))\n",
    "    \n",
    "for i in range(n_layers):\n",
    "    input_NN[i] = np.array(dfs[i])[:, :-1]\n",
    "    data_clc[i] = np.array(dfs[i])[:, -1]"
   ]
  },
  {
   "cell_type": "code",
   "execution_count": 31,
   "metadata": {},
   "outputs": [],
   "source": [
    "# We read the means and standard deviations from model_region_based_final_1.txt!\n",
    "# I manually replaced nan's in the text-file by 1e+30 before reading the file.\n",
    "\n",
    "means = {}\n",
    "for i in range(n_layers):\n",
    "    means[i] = np.zeros(n_features)\n",
    "    \n",
    "stds = {}\n",
    "for i in range(n_layers):\n",
    "    stds[i] = np.zeros(n_features)\n",
    "    \n",
    "layer = -1\n",
    "with open(info_file, 'r') as file:\n",
    "    while True:\n",
    "        line = file.readline()\n",
    "        # Retrieving the mean values\n",
    "        if line.startswith('The mean values'):\n",
    "            j = 0 # Feature entry in mean tensor\n",
    "            layer += 1\n",
    "            while True:\n",
    "                line = file.readline()\n",
    "                line_entries = line.split(' ')\n",
    "                for i in range(1, len(line_entries)): # line_entries[0] doesn't contain numbers\n",
    "                    if line_entries[i].startswith('['):\n",
    "                        means[layer][j] = line_entries[i][1:]\n",
    "                    elif line_entries[i].endswith(']'):\n",
    "                        means[layer][j] = line_entries[i][:-1]\n",
    "                    elif line_entries[i].endswith(']\\n'):\n",
    "                        means[layer][j] = line_entries[i][:-2]\n",
    "                    elif line_entries[i] != '\\n' and line_entries[i] != '':\n",
    "                        means[layer][j] = line_entries[i]\n",
    "                    j += 1\n",
    "                if ']' in line:\n",
    "                    break\n",
    "                    \n",
    "        if line.startswith('The standard deviation values'):\n",
    "            j = 0 # Feature entry in mean tensor\n",
    "            while True:\n",
    "                line = file.readline()\n",
    "                line_entries = line.split(' ')\n",
    "                for i in range(1, len(line_entries)): # line_entries[0] doesn't contain numbers\n",
    "                    if line_entries[i].startswith('['):\n",
    "                        stds[layer][j] = line_entries[i][1:]\n",
    "                    elif line_entries[i].endswith(']'):\n",
    "                        stds[layer][j] = line_entries[i][:-1]\n",
    "                    elif line_entries[i].endswith(']\\n'):\n",
    "                        stds[layer][j] = line_entries[i][:-2]\n",
    "                    elif line_entries[i] != '\\n' and line_entries[i] != '':\n",
    "                        stds[layer][j] = line_entries[i]\n",
    "                    j += 1\n",
    "                if ']' in line:\n",
    "                    break  \n",
    "        # If the end of the file is reached            \n",
    "        if not line:\n",
    "            break"
   ]
  },
  {
   "cell_type": "code",
   "execution_count": 32,
   "metadata": {},
   "outputs": [],
   "source": [
    "# Load NARVAL input_train_NN for the next cell\n",
    "root_path = '/pf/b/b309170'\n",
    "data_path = os.path.join(root_path,\n",
    "                         'my_work/icon-ml_data/cloud_cover_parameterization/region_based/based_on_var_interpolated_data')\n",
    "\n",
    "input_train = np.load(os.path.join(data_path, 'cloud_cover_input_train_1.npy'))\n",
    "(n_train_samples, n_features) = input_train.shape\n",
    "\n",
    "input_train_NN = {}\n",
    "for i in range(n_layers):\n",
    "    input_train_NN[i] = np.zeros((n_train_samples//n_layers, n_features))\n",
    "\n",
    "for i in range(n_layers):\n",
    "    start_ind_train = (n_train_samples//27)*i\n",
    "    end_ind_train = (n_train_samples//27)*(i+1) \n",
    "\n",
    "    input_train_NN[i] = input_train[start_ind_train:end_ind_train]"
   ]
  },
  {
   "cell_type": "code",
   "execution_count": 33,
   "metadata": {},
   "outputs": [],
   "source": [
    "# We remove the input features with zero variance in the TRAINING set. We compute the resulting input dimension for the NN.\n",
    "for i in range(n_layers):\n",
    "    vars_to_remove = []\n",
    "    for j in range(n_features):\n",
    "        if np.var(input_train_NN[i][:, j]) == 0 or np.isnan(np.var(input_train_NN[i][:, j])): #We reuse input_train_NN here!\n",
    "            vars_to_remove.append(j)\n",
    "    input_NN[i] = np.delete(input_NN[i], vars_to_remove, axis=1)    \n",
    "    means[i] = np.delete(means[i], vars_to_remove)\n",
    "    stds[i] = np.delete(stds[i], vars_to_remove)"
   ]
  },
  {
   "cell_type": "code",
   "execution_count": 34,
   "metadata": {},
   "outputs": [],
   "source": [
    "# We standardize the input data according to model_region_based_final_1.txt\n",
    "for j in range(n_layers):\n",
    "    # For some reason for the two highest j the output is 'float' instead of np.float32/np.float64. \n",
    "    # This makes the data un-predictable by the tensorflow model\n",
    "    if j > n_layers-3:\n",
    "        input_NN[j] = ((input_NN[j] - means[j])/stds[j]).astype(np.float64)\n",
    "    else:\n",
    "        input_NN[j] = (input_NN[j] - means[j])/stds[j]"
   ]
  },
  {
   "cell_type": "code",
   "execution_count": 35,
   "metadata": {},
   "outputs": [],
   "source": [
    "# Vertical layers\n",
    "a = np.linspace(5, 31, 27)\n",
    "# Cloud cover means for first model\n",
    "clc_data_mean = []\n",
    "clc_pred_mean = []\n",
    "for i in range(27):\n",
    "    clc_data_mean.append(np.mean(data_clc[i]))\n",
    "    # Predicted cloud cover means\n",
    "    pred_adj = np.minimum(np.maximum(models[i].predict(input_NN[i]), 0), 100)\n",
    "    clc_pred_mean.append(np.mean(pred_adj, axis=0, dtype=np.float64))"
   ]
  },
  {
   "cell_type": "markdown",
   "metadata": {},
   "source": [
    "<a id='load_data_end'></a>"
   ]
  },
  {
   "cell_type": "code",
   "execution_count": 16,
   "metadata": {},
   "outputs": [
    {
     "data": {
      "text/plain": [
       "<matplotlib.legend.Legend at 0x2b2d6c79c610>"
      ]
     },
     "execution_count": 16,
     "metadata": {},
     "output_type": "execute_result"
    },
    {
     "data": {
      "image/png": "[encoded data removed]",
      "text/plain": [
       "<Figure size 1080x288 with 1 Axes>"
      ]
     },
     "metadata": {
      "needs_background": "light"
     },
     "output_type": "display_data"
    }
   ],
   "source": [
    "fig = plt.figure(figsize=(15,4))\n",
    "# For model\n",
    "ax_1 = fig.add_subplot(111, xlabel='Mean Cloud Cover', ylabel='Vertical layer', \n",
    "                       title='NN region-based Cloud Cover parameterization in Nov, 20s')\n",
    "ax_1.plot(clc_pred_mean, a)\n",
    "ax_1.plot(clc_data_mean, a)\n",
    "plt.gca().invert_yaxis()\n",
    "ax_1.legend(['Prediction', 'Truth'])\n",
    "# fig.savefig('../figures/qubicc_offline_testing_mean_cloud_cover_NNs.pdf')"
   ]
  },
  {
   "cell_type": "code",
   "execution_count": 28,
   "metadata": {},
   "outputs": [
    {
     "data": {
      "image/png": "[encoded data removed]",
      "text/plain": [
       "<Figure size 504x288 with 1 Axes>"
      ]
     },
     "metadata": {
      "needs_background": "light"
     },
     "output_type": "display_data"
    }
   ],
   "source": [
    "# With height vertical axis\n",
    "#Taken from the grid cell based model\n",
    "zg_mean = [20784.62706138, 19153.33733398, 17603.95786796, 16133.9890368 ,\n",
    "       14740.72817851, 13421.56030093, 12174.49640667, 10997.54366598,\n",
    "        9888.86828393,  8846.77905352,  7869.70937839,  6956.19812463,\n",
    "        6104.87029163,  5314.41907809,  4583.59136617,  3911.17886673,\n",
    "        3296.01709893,  2736.9940178 ,  2233.06954874,  1783.30740375,\n",
    "        1386.91651733,  1043.31024674,   752.18615016,   513.63653294,\n",
    "         328.34456911,   198.27747065,   127.38265241]\n",
    "\n",
    "fig = plt.figure(figsize=(7,4))\n",
    "# For model\n",
    "ax_1 = fig.add_subplot(111, xlabel='Mean Cloud Cover', ylabel='Mean height of a vertical layer', \n",
    "                       title='NN region-based Cloud Cover parameterization in Nov, 20s', xlim=[-1, 20])\n",
    "ax_1.plot(clc_pred_mean, zg_mean)\n",
    "ax_1.plot(clc_data_mean, zg_mean)\n",
    "# plt.gca().invert_yaxis()\n",
    "ax_1.legend(['Prediction', 'Truth'])\n",
    "# fig.savefig('../figures/qubicc_offline_testing_mean_cloud_cover_NNs_height_vert_axis.pdf')"
   ]
  },
  {
   "cell_type": "code",
   "execution_count": 16,
   "metadata": {},
   "outputs": [
    {
     "data": {
      "image/png": "[encoded data removed]",
      "text/plain": [
       "<Figure size 576x432 with 1 Axes>"
      ]
     },
     "metadata": {
      "needs_background": "light"
     },
     "output_type": "display_data"
    }
   ],
   "source": [
    "# Plotting the difference\n",
    "fig = plt.figure(figsize=(8,6))\n",
    "# For model\n",
    "ax_1 = fig.add_subplot(111, xlabel='Mean Cloud Cover', ylabel='Vertical layer', \n",
    "                       title='Deviation of NN region-based Cloud Cover parameterization in Nov, 20s')\n",
    "ax_1.plot(np.squeeze(np.array(clc_pred_mean)) - np.array(clc_data_mean), a, 'bo')\n",
    "ax_1.plot(0*a, a, 'g--')\n",
    "plt.gca().invert_yaxis()\n",
    "ax_1.legend(['Prediction - Truth'])\n",
    "# fig.savefig('../figures/qubicc_offline_testing_mean_cloud_cover_NNs_diff.pdf')"
   ]
  },
  {
   "cell_type": "markdown",
   "metadata": {},
   "source": [
    "## In NARVAL region only\n",
    "\n",
    "**Fourth visualization method** <br>\n",
    "Interpret NN parameterizations on QUBICC data in NARVAL region"
   ]
  },
  {
   "cell_type": "markdown",
   "metadata": {},
   "source": [
    "Run cells 1-3 ([import_and_models_start](#import_and_models_start) to [import_and_models_end](#import_and_models_end)). <br>\n",
    "Then 'Load Nov,20s', cells 1-4 ([load_data_start](#load_data_start) to [load_data_stop](#load_data_stop))"
   ]
  },
  {
   "cell_type": "code",
   "execution_count": 8,
   "metadata": {},
   "outputs": [
    {
     "name": "stdout",
     "output_type": "stream",
     "text": [
      "(230, 14826)\n",
      "(230, 14826)\n",
      "(230, 14826)\n",
      "(230, 14826)\n",
      "(230, 14826)\n",
      "(230, 14826)\n",
      "(230, 14826)\n",
      "(230, 14826)\n",
      "(230, 14826)\n",
      "(230, 14826)\n",
      "(230, 14826)\n",
      "(230, 14826)\n",
      "(230, 14826)\n",
      "(230, 14826)\n",
      "(230, 14826)\n",
      "(230, 14826)\n",
      "(230, 14826)\n",
      "(230, 14826)\n",
      "(230, 14826)\n",
      "(230, 14826)\n",
      "(230, 14826)\n",
      "(230, 14826)\n",
      "(230, 14826)\n",
      "(230, 14826)\n",
      "(230, 14826)\n",
      "(230, 14826)\n",
      "(230, 14826)\n",
      "(230, 14826)\n",
      "(230, 14826)\n",
      "(230, 14826)\n",
      "(230, 14826)\n",
      "(230, 14826)\n",
      "(230, 14826)\n",
      "(230, 14826)\n",
      "(230, 14826)\n",
      "(230, 14826)\n",
      "(230, 14826)\n",
      "(230, 14826)\n"
     ]
    }
   ],
   "source": [
    "# We reshape dfs[i] back to array of 2D-dicts. \n",
    "dicts_2d = []\n",
    "for i in range(n_layers):\n",
    "    dicts_2d.append({})\n",
    "    \n",
    "for i in range(n_layers):\n",
    "    for key in dfs[i].keys():\n",
    "        dicts_2d[i][key] = np.reshape(dfs[i][key].to_numpy(), (TIME_STEPS, HORIZ_FIELDS))\n",
    "\n",
    "for key in dicts_2d[0].keys():\n",
    "    print(dicts_2d[0][key].shape)"
   ]
  },
  {
   "cell_type": "markdown",
   "metadata": {},
   "source": [
    "We need to:\n",
    "1) Reinsert nans that arose through overlapping topography during vertical interpolation into the QUBICC data\n",
    "2) Set fields from outside the NARVAL region to nan\n",
    "3) We select the fields where the lowermost levels are not nan\n",
    "\n",
    "Step 1): So that we have 20480 horizontal fields and can compare that directly to the R02B04-grid. <br>\n",
    "Note that data_dict.shape[2] != data_dict_new.shape[2]\n",
    "\n",
    "Step 3) should leave us with only those grid columns that are in the NARVAL region and that have been coarse-grained without producing nans in QUBICC "
   ]
  },
  {
   "cell_type": "markdown",
   "metadata": {},
   "source": [
    "*1. Overlapping nans*"
   ]
  },
  {
   "cell_type": "code",
   "execution_count": 9,
   "metadata": {},
   "outputs": [],
   "source": [
    "path = '/pf/b/b309170/my_work/QUBICC/data_var_vertinterp/cli'\n",
    "file_name = 'int_var_hc2_02_p1m_cli_ml_20041112T200000Z_R02B04.nc'"
   ]
  },
  {
   "cell_type": "code",
   "execution_count": 10,
   "metadata": {},
   "outputs": [
    {
     "data": {
      "text/plain": [
       "(20480,)"
      ]
     },
     "execution_count": 10,
     "metadata": {},
     "output_type": "execute_result"
    }
   ],
   "source": [
    "DS = xr.open_dataset(os.path.join(path, file_name))\n",
    "da_cli = DS.cli.values\n",
    "overlap_nans = np.isnan(da_cli[0,30,:])\n",
    "overlap_nans.shape"
   ]
  },
  {
   "cell_type": "code",
   "execution_count": 11,
   "metadata": {},
   "outputs": [],
   "source": [
    "# Create new data_dicts with correct dimensionality\n",
    "dicts_new = []\n",
    "for i in range(n_layers):\n",
    "    dicts_new.append({})\n",
    "    \n",
    "for i in range(n_layers):\n",
    "    for key in dicts_2d[i].keys():\n",
    "        dicts_new[i][key] = np.zeros((TIME_STEPS, len(overlap_nans)))"
   ]
  },
  {
   "cell_type": "code",
   "execution_count": 12,
   "metadata": {},
   "outputs": [],
   "source": [
    "# ov_f is a temporary array that is adjusted depending on the key, time step and vertical layer\n",
    "ov_f = np.array(overlap_nans, dtype=float)\n",
    "ov_f[np.where(ov_f == 1)] = np.nan # Every True in overlap_nans will be a nan\n",
    "ov_f_copy = ov_f.copy() # Need this otherwise ov_f == 0 will never be true anymore when beginning the loop\n",
    "\n",
    "for i in range(TIME_STEPS):\n",
    "    for j in range(n_layers):\n",
    "        for key in dicts_2d[j].keys():\n",
    "            ov_f_copy[np.where(ov_f == 0)] = dicts_2d[j][key][i,:] \n",
    "            dicts_new[j][key][i,:] = ov_f_copy    "
   ]
  },
  {
   "cell_type": "code",
   "execution_count": 13,
   "metadata": {},
   "outputs": [
    {
     "name": "stdout",
     "output_type": "stream",
     "text": [
      "(230, 20480)\n",
      "(230, 20480)\n",
      "(230, 20480)\n",
      "(230, 20480)\n",
      "(230, 20480)\n",
      "(230, 20480)\n",
      "(230, 20480)\n",
      "(230, 20480)\n",
      "(230, 20480)\n",
      "(230, 20480)\n",
      "(230, 20480)\n",
      "(230, 20480)\n",
      "(230, 20480)\n",
      "(230, 20480)\n",
      "(230, 20480)\n",
      "(230, 20480)\n",
      "(230, 20480)\n",
      "(230, 20480)\n",
      "(230, 20480)\n",
      "(230, 20480)\n",
      "(230, 20480)\n",
      "(230, 20480)\n",
      "(230, 20480)\n",
      "(230, 20480)\n",
      "(230, 20480)\n",
      "(230, 20480)\n",
      "(230, 20480)\n",
      "(230, 20480)\n",
      "(230, 20480)\n",
      "(230, 20480)\n",
      "(230, 20480)\n",
      "(230, 20480)\n",
      "(230, 20480)\n",
      "(230, 20480)\n",
      "(230, 20480)\n",
      "(230, 20480)\n",
      "(230, 20480)\n",
      "(230, 20480)\n"
     ]
    }
   ],
   "source": [
    "for keys in dicts_new[0].keys():\n",
    "    print(dicts_new[0][keys].shape)"
   ]
  },
  {
   "cell_type": "markdown",
   "metadata": {},
   "source": [
    "*2. Which of these entries are from the NARVAL region?*"
   ]
  },
  {
   "cell_type": "code",
   "execution_count": 14,
   "metadata": {},
   "outputs": [],
   "source": [
    "# path = '/pf/b/b309170/my_work/NARVAL/data/temp'\n",
    "# file_name = 'temp_R02B04_NARVALI_2013121600_fg_DOM01_0012.nc'"
   ]
  },
  {
   "cell_type": "code",
   "execution_count": 15,
   "metadata": {},
   "outputs": [],
   "source": [
    "# DS = xr.open_dataset(os.path.join(path, file_name))\n",
    "# da_temp = DS.temp.values\n",
    "# narval_nans = np.isnan(da_temp[0,0,:])\n",
    "# narval_nans.shape"
   ]
  },
  {
   "cell_type": "code",
   "execution_count": 16,
   "metadata": {},
   "outputs": [],
   "source": [
    "# # Keep only the narval region\n",
    "# for key in dicts_new[0].keys():\n",
    "#     for i in range(TIME_STEPS):\n",
    "#         for k in range(20480): # Horizontal fields\n",
    "#             if narval_nans[k]:\n",
    "#                 for j in range(n_layers):\n",
    "#                     dicts_new[j][key][i,k] = np.nan "
   ]
  },
  {
   "cell_type": "code",
   "execution_count": 18,
   "metadata": {},
   "outputs": [],
   "source": [
    "# Entire tropical zone or NARVAL region?\n",
    "\n",
    "region = 'tropical_zone' # 'NARVAL_region' or 'tropical_zone'\n",
    "\n",
    "if region == 'NARVAL_region':\n",
    "    # Narval region: 68W-15E, 10S-20N\n",
    "    lat_lower_bound = -10/90*np.pi/2\n",
    "    lat_upper_bound = 20/90*np.pi/2\n",
    "    lon_lower_bound = -68/180*np.pi\n",
    "    lon_upper_bound = 15/180*np.pi\n",
    "elif region == 'tropical_zone':\n",
    "    # Tropical zone: 23.4365S-23.4365N (Narval region: 68W-15E, 10S-20N)\n",
    "    lat_lower_bound = -23.4365/90*np.pi/2\n",
    "    lat_upper_bound = 23.4365/90*np.pi/2\n",
    "    lon_lower_bound = -np.pi #Basically unbounded\n",
    "    lon_upper_bound = np.pi #Basically unbounded"
   ]
  },
  {
   "cell_type": "code",
   "execution_count": 24,
   "metadata": {},
   "outputs": [],
   "source": [
    "#Load native grid\n",
    "qubicc_r02b04_path = '/pf/b/b309170/my_work/QUBICC/grids/icon_grid_0013_R02B04_G.nc'\n",
    "qubicc_r02b04 = xr.open_dataset(qubicc_r02b04_path)\n",
    "\n",
    "qubicc_lat = qubicc_r02b04.lat_cell_centre.values\n",
    "qubicc_lon = qubicc_r02b04.lon_cell_centre.values"
   ]
  },
  {
   "cell_type": "code",
   "execution_count": 25,
   "metadata": {},
   "outputs": [],
   "source": [
    "# Keep only the narval region\n",
    "for key in dicts_new[0].keys():\n",
    "    for i in range(TIME_STEPS):\n",
    "        for k in range(20480): # Horizontal fields\n",
    "            # If k-th entry of the qubicc r02b04 grid is in narval region\n",
    "            if not (lat_lower_bound <= qubicc_lat[k] <= lat_upper_bound and lon_lower_bound <= qubicc_lon[k] <= lon_upper_bound):\n",
    "                for j in range(n_layers):\n",
    "                    dicts_new[j][key][i,k] = np.nan"
   ]
  },
  {
   "cell_type": "markdown",
   "metadata": {},
   "source": [
    "*3. We select the fields where the lowermost levels are not nan*"
   ]
  },
  {
   "cell_type": "code",
   "execution_count": 26,
   "metadata": {},
   "outputs": [],
   "source": [
    "not_nan = ~np.isnan(dicts_new[n_layers-1]['hus_i'][0,:])"
   ]
  },
  {
   "cell_type": "code",
   "execution_count": 27,
   "metadata": {},
   "outputs": [],
   "source": [
    "# Create new data_dict with correct dimensionality\n",
    "dicts_selected_fields = []\n",
    "for i in range(n_layers):\n",
    "    dicts_selected_fields.append({})\n",
    "    \n",
    "for i in range(n_layers):\n",
    "    for key in dicts_new[0].keys():\n",
    "        dicts_selected_fields[i][key] = dicts_new[i][key][:,not_nan]"
   ]
  },
  {
   "cell_type": "code",
   "execution_count": 28,
   "metadata": {},
   "outputs": [
    {
     "data": {
      "text/plain": [
       "5924"
      ]
     },
     "execution_count": 28,
     "metadata": {},
     "output_type": "execute_result"
    }
   ],
   "source": [
    "# Update the number of horizontal fields\n",
    "HORIZ_FIELDS = np.sum(not_nan)\n",
    "HORIZ_FIELDS"
   ]
  },
  {
   "cell_type": "markdown",
   "metadata": {},
   "source": [
    "Now we can reshape back:"
   ]
  },
  {
   "cell_type": "code",
   "execution_count": 29,
   "metadata": {},
   "outputs": [
    {
     "data": {
      "text/html": [
       "<div>\n",
       "<style scoped>\n",
       "    .dataframe tbody tr th:only-of-type {\n",
       "        vertical-align: middle;\n",
       "    }\n",
       "\n",
       "    .dataframe tbody tr th {\n",
       "        vertical-align: top;\n",
       "    }\n",
       "\n",
       "    .dataframe thead th {\n",
       "        text-align: right;\n",
       "    }\n",
       "</style>\n",
       "<table border=\"1\" class=\"dataframe\">\n",
       "  <thead>\n",
       "    <tr style=\"text-align: right;\">\n",
       "      <th></th>\n",
       "      <th>hus_i-2</th>\n",
       "      <th>hus_i-1</th>\n",
       "      <th>hus_i</th>\n",
       "      <th>hus_i+1</th>\n",
       "      <th>hus_i+2</th>\n",
       "      <th>clw_i-2</th>\n",
       "      <th>clw_i-1</th>\n",
       "      <th>clw_i</th>\n",
       "      <th>clw_i+1</th>\n",
       "      <th>clw_i+2</th>\n",
       "      <th>...</th>\n",
       "      <th>rho_i+1</th>\n",
       "      <th>rho_i+2</th>\n",
       "      <th>zg_i-2</th>\n",
       "      <th>zg_i-1</th>\n",
       "      <th>zg_i</th>\n",
       "      <th>zg_i+1</th>\n",
       "      <th>zg_i+2</th>\n",
       "      <th>fr_lake</th>\n",
       "      <th>cl_prev</th>\n",
       "      <th>cl</th>\n",
       "    </tr>\n",
       "  </thead>\n",
       "  <tbody>\n",
       "    <tr>\n",
       "      <th>0</th>\n",
       "      <td>0.000002</td>\n",
       "      <td>0.000002</td>\n",
       "      <td>0.000002</td>\n",
       "      <td>0.000003</td>\n",
       "      <td>0.000003</td>\n",
       "      <td>NaN</td>\n",
       "      <td>NaN</td>\n",
       "      <td>0.0</td>\n",
       "      <td>0.0</td>\n",
       "      <td>0.0</td>\n",
       "      <td>...</td>\n",
       "      <td>0.108811</td>\n",
       "      <td>0.144100</td>\n",
       "      <td>24305.364395</td>\n",
       "      <td>22500.869849</td>\n",
       "      <td>20784.627061</td>\n",
       "      <td>19153.337334</td>\n",
       "      <td>17603.957868</td>\n",
       "      <td>0.0</td>\n",
       "      <td>0.0</td>\n",
       "      <td>0.0</td>\n",
       "    </tr>\n",
       "    <tr>\n",
       "      <th>1</th>\n",
       "      <td>0.000002</td>\n",
       "      <td>0.000002</td>\n",
       "      <td>0.000002</td>\n",
       "      <td>0.000003</td>\n",
       "      <td>0.000003</td>\n",
       "      <td>NaN</td>\n",
       "      <td>NaN</td>\n",
       "      <td>0.0</td>\n",
       "      <td>0.0</td>\n",
       "      <td>0.0</td>\n",
       "      <td>...</td>\n",
       "      <td>0.108626</td>\n",
       "      <td>0.144374</td>\n",
       "      <td>24305.364395</td>\n",
       "      <td>22500.869849</td>\n",
       "      <td>20784.627061</td>\n",
       "      <td>19153.337334</td>\n",
       "      <td>17603.957868</td>\n",
       "      <td>0.0</td>\n",
       "      <td>0.0</td>\n",
       "      <td>0.0</td>\n",
       "    </tr>\n",
       "    <tr>\n",
       "      <th>2</th>\n",
       "      <td>0.000002</td>\n",
       "      <td>0.000002</td>\n",
       "      <td>0.000002</td>\n",
       "      <td>0.000003</td>\n",
       "      <td>0.000003</td>\n",
       "      <td>NaN</td>\n",
       "      <td>NaN</td>\n",
       "      <td>0.0</td>\n",
       "      <td>0.0</td>\n",
       "      <td>0.0</td>\n",
       "      <td>...</td>\n",
       "      <td>0.108894</td>\n",
       "      <td>0.144081</td>\n",
       "      <td>24305.364395</td>\n",
       "      <td>22500.869849</td>\n",
       "      <td>20784.627061</td>\n",
       "      <td>19153.337334</td>\n",
       "      <td>17603.957868</td>\n",
       "      <td>0.0</td>\n",
       "      <td>0.0</td>\n",
       "      <td>0.0</td>\n",
       "    </tr>\n",
       "    <tr>\n",
       "      <th>3</th>\n",
       "      <td>0.000002</td>\n",
       "      <td>0.000002</td>\n",
       "      <td>0.000002</td>\n",
       "      <td>0.000003</td>\n",
       "      <td>0.000003</td>\n",
       "      <td>NaN</td>\n",
       "      <td>NaN</td>\n",
       "      <td>0.0</td>\n",
       "      <td>0.0</td>\n",
       "      <td>0.0</td>\n",
       "      <td>...</td>\n",
       "      <td>0.108726</td>\n",
       "      <td>0.144078</td>\n",
       "      <td>24305.364395</td>\n",
       "      <td>22500.869849</td>\n",
       "      <td>20784.627061</td>\n",
       "      <td>19153.337334</td>\n",
       "      <td>17603.957868</td>\n",
       "      <td>0.0</td>\n",
       "      <td>0.0</td>\n",
       "      <td>0.0</td>\n",
       "    </tr>\n",
       "    <tr>\n",
       "      <th>4</th>\n",
       "      <td>0.000002</td>\n",
       "      <td>0.000002</td>\n",
       "      <td>0.000002</td>\n",
       "      <td>0.000003</td>\n",
       "      <td>0.000003</td>\n",
       "      <td>NaN</td>\n",
       "      <td>NaN</td>\n",
       "      <td>0.0</td>\n",
       "      <td>0.0</td>\n",
       "      <td>0.0</td>\n",
       "      <td>...</td>\n",
       "      <td>0.108142</td>\n",
       "      <td>0.144658</td>\n",
       "      <td>24305.364395</td>\n",
       "      <td>22500.869849</td>\n",
       "      <td>20784.627061</td>\n",
       "      <td>19153.337334</td>\n",
       "      <td>17603.957868</td>\n",
       "      <td>0.0</td>\n",
       "      <td>0.0</td>\n",
       "      <td>0.0</td>\n",
       "    </tr>\n",
       "  </tbody>\n",
       "</table>\n",
       "<p>5 rows × 38 columns</p>\n",
       "</div>"
      ],
      "text/plain": [
       "    hus_i-2   hus_i-1     hus_i   hus_i+1   hus_i+2  clw_i-2  clw_i-1  clw_i  \\\n",
       "0  0.000002  0.000002  0.000002  0.000003  0.000003      NaN      NaN    0.0   \n",
       "1  0.000002  0.000002  0.000002  0.000003  0.000003      NaN      NaN    0.0   \n",
       "2  0.000002  0.000002  0.000002  0.000003  0.000003      NaN      NaN    0.0   \n",
       "3  0.000002  0.000002  0.000002  0.000003  0.000003      NaN      NaN    0.0   \n",
       "4  0.000002  0.000002  0.000002  0.000003  0.000003      NaN      NaN    0.0   \n",
       "\n",
       "   clw_i+1  clw_i+2  ...   rho_i+1   rho_i+2        zg_i-2        zg_i-1  \\\n",
       "0      0.0      0.0  ...  0.108811  0.144100  24305.364395  22500.869849   \n",
       "1      0.0      0.0  ...  0.108626  0.144374  24305.364395  22500.869849   \n",
       "2      0.0      0.0  ...  0.108894  0.144081  24305.364395  22500.869849   \n",
       "3      0.0      0.0  ...  0.108726  0.144078  24305.364395  22500.869849   \n",
       "4      0.0      0.0  ...  0.108142  0.144658  24305.364395  22500.869849   \n",
       "\n",
       "           zg_i        zg_i+1        zg_i+2  fr_lake  cl_prev   cl  \n",
       "0  20784.627061  19153.337334  17603.957868      0.0      0.0  0.0  \n",
       "1  20784.627061  19153.337334  17603.957868      0.0      0.0  0.0  \n",
       "2  20784.627061  19153.337334  17603.957868      0.0      0.0  0.0  \n",
       "3  20784.627061  19153.337334  17603.957868      0.0      0.0  0.0  \n",
       "4  20784.627061  19153.337334  17603.957868      0.0      0.0  0.0  \n",
       "\n",
       "[5 rows x 38 columns]"
      ]
     },
     "execution_count": 29,
     "metadata": {},
     "output_type": "execute_result"
    }
   ],
   "source": [
    "#Reshaping into 1D-arrays and converting dict into DataFrame-objects (the following is based on Aurelien Geron)\n",
    "for i in range(n_layers):\n",
    "    for key in dicts_selected_fields[i].keys():\n",
    "        dicts_selected_fields[i][key] = np.reshape(dicts_selected_fields[i][key], -1) \n",
    "\n",
    "dfs = []\n",
    "for i in range(n_layers):\n",
    "    dfs.append(pd.DataFrame.from_dict(dicts_selected_fields[i]))\n",
    "    \n",
    "dfs[0].head() "
   ]
  },
  {
   "cell_type": "markdown",
   "metadata": {},
   "source": [
    "Run 'Load Nov,20s', cells 5-10 ([load_data_stop](#load_data_stop) to [load_data_end](#load_data_end))"
   ]
  },
  {
   "cell_type": "markdown",
   "metadata": {},
   "source": [
    "Plotting:"
   ]
  },
  {
   "cell_type": "code",
   "execution_count": 27,
   "metadata": {},
   "outputs": [],
   "source": [
    "#Taken from the grid cell based model\n",
    "zg_mean = [20784.62706138, 19153.33733398, 17603.95786796, 16133.9890368 ,\n",
    "       14740.72817851, 13421.56030093, 12174.49640667, 10997.54366598,\n",
    "        9888.86828393,  8846.77905352,  7869.70937839,  6956.19812463,\n",
    "        6104.87029163,  5314.41907809,  4583.59136617,  3911.17886673,\n",
    "        3296.01709893,  2736.9940178 ,  2233.06954874,  1783.30740375,\n",
    "        1386.91651733,  1043.31024674,   752.18615016,   513.63653294,\n",
    "         328.34456911,   198.27747065,   127.38265241]"
   ]
  },
  {
   "cell_type": "code",
   "execution_count": 38,
   "metadata": {},
   "outputs": [
    {
     "data": {
      "image/png": "[encoded data removed]",
      "text/plain": [
       "<Figure size 612x360 with 1 Axes>"
      ]
     },
     "metadata": {
      "needs_background": "light"
     },
     "output_type": "display_data"
    }
   ],
   "source": [
    "fig = plt.figure(figsize=(8.5,5))\n",
    "# For model\n",
    "ax_1 = fig.add_subplot(111, title='Region-based NN cloud cover', xlim=[0, 35])\n",
    "ax_1.set_xlabel('Mean Cloud Cover [%]', fontsize = 12)\n",
    "ax_1.set_ylabel('Mean height of a vertical layer [m]', fontsize = 12)\n",
    "ax_1.plot(clc_pred_mean, zg_mean)\n",
    "ax_1.plot(clc_data_mean, zg_mean)\n",
    "# plt.gca().invert_yaxis()\n",
    "ax_1.legend(['Prediction', 'Truth'])\n",
    "fig.savefig('../figures/qubicc_offline_testing_mean_cloud_cover_NNs_%s_nov_20s.pdf'%region)"
   ]
  },
  {
   "cell_type": "code",
   "execution_count": 48,
   "metadata": {},
   "outputs": [
    {
     "name": "stdout",
     "output_type": "stream",
     "text": [
      "tropical_zone\n",
      "[4.2935238399908094e-08, 1.1914276476657218e-05, 0.0008939737262109005, 0.7020128221126258, 9.091525735700335, 20.81475938128697, 21.31802893532254, 16.313615893339033, 12.798702209599478, 11.932855701684524, 9.265571350409363, 4.883454743895594, 2.7087740136576133, 2.1619683160431524, 2.0852139383213335, 1.4427645848193897, 1.215819161241408, 1.3458153730998983, 1.6756870048216315, 2.1837602112881256, 2.801896101713993, 2.953559938933354, 1.880843743696284, 0.7451384378074163, 0.38252501357259794, 0.31945151917096953, 0.33999688301837905]\n",
      "[7.619988173246384e-05, 0.15881937742233276, 0.002941658322903258, 1.5151516676304313, 10.483777231035232, 22.525944991782275, 21.634003338133482, 16.346796475854067, 11.170464759780556, 7.993921173705163, 5.747103087295156, 6.43852628019322, 3.853038434502075, 2.5050370864618916, 2.5237031983164884, 1.3515963547327863, 1.0189016780760831, 1.059368684255583, 1.497673126053628, 1.8626313189573755, 2.4341497640965017, 3.514885723732522, 3.3612043119363726, 1.275637515984331, 0.558528026127346, 0.409308028028036, 0.4192563135954371]\n"
     ]
    }
   ],
   "source": [
    "clc_pred_mean_arr = np.zeros(len(clc_pred_mean))\n",
    "for i in range(len(clc_pred_mean)):\n",
    "    clc_pred_mean_arr[i] = clc_pred_mean[i][0]\n",
    "    \n",
    "print(region)\n",
    "print(clc_data_mean)\n",
    "print(list(clc_pred_mean_arr))"
   ]
  },
  {
   "cell_type": "markdown",
   "metadata": {},
   "source": [
    "Was for the NARVAL region:"
   ]
  },
  {
   "cell_type": "code",
   "execution_count": 41,
   "metadata": {},
   "outputs": [
    {
     "data": {
      "text/plain": [
       "array([0.00000000e+00, 3.30306970e-06, 9.46747280e-04, 2.64885616e+00,\n",
       "       1.83728487e+01, 3.18615986e+01, 3.00125018e+01, 2.27153213e+01,\n",
       "       1.89486957e+01, 1.89850742e+01, 1.44542253e+01, 6.99331287e+00,\n",
       "       3.69445919e+00, 3.08537445e+00, 2.76508943e+00, 1.57831191e+00,\n",
       "       1.28971722e+00, 1.34559671e+00, 1.69293853e+00, 2.38279372e+00,\n",
       "       3.14337315e+00, 3.30950159e+00, 2.27792721e+00, 7.35043574e-01,\n",
       "       3.01662618e-01, 4.91557466e-01, 7.28613527e-01])"
      ]
     },
     "execution_count": 41,
     "metadata": {},
     "output_type": "execute_result"
    }
   ],
   "source": [
    "np.array(clc_data_mean)"
   ]
  },
  {
   "cell_type": "code",
   "execution_count": 39,
   "metadata": {},
   "outputs": [
    {
     "data": {
      "text/plain": [
       "[array([7.619988e-05], dtype=float32),\n",
       " array([0.15881942], dtype=float32),\n",
       " array([0.00255885], dtype=float32),\n",
       " array([5.5808067], dtype=float32),\n",
       " array([20.747732], dtype=float32),\n",
       " array([34.05206], dtype=float32),\n",
       " array([30.26281], dtype=float32),\n",
       " array([23.295046], dtype=float32),\n",
       " array([17.434507], dtype=float32),\n",
       " array([12.614503], dtype=float32),\n",
       " array([8.586495], dtype=float32),\n",
       " array([8.6529255], dtype=float32),\n",
       " array([5.4503183], dtype=float32),\n",
       " array([3.855462], dtype=float32),\n",
       " array([3.7971802], dtype=float32),\n",
       " array([1.5509791], dtype=float32),\n",
       " array([1.0533612], dtype=float32),\n",
       " array([0.98050606], dtype=float32),\n",
       " array([1.5358433], dtype=float32),\n",
       " array([2.0092373], dtype=float32),\n",
       " array([2.7812295], dtype=float32),\n",
       " array([3.814342], dtype=float32),\n",
       " array([4.0018153], dtype=float32),\n",
       " array([1.4096664], dtype=float32),\n",
       " array([0.46410173], dtype=float32),\n",
       " array([0.9478781], dtype=float32),\n",
       " array([1.2404197], dtype=float32)]"
      ]
     },
     "execution_count": 39,
     "metadata": {},
     "output_type": "execute_result"
    }
   ],
   "source": [
    "clc_pred_mean"
   ]
  },
  {
   "cell_type": "code",
   "execution_count": null,
   "metadata": {},
   "outputs": [],
   "source": []
  }
 ],
 "metadata": {
  "kernelspec": {
   "display_name": "clouds113_kernel",
   "language": "python",
   "name": "clouds113_kernel"
  },
  "language_info": {
   "codemirror_mode": {
    "name": "ipython",
    "version": 3
   },
   "file_extension": ".py",
   "mimetype": "text/x-python",
   "name": "python",
   "nbconvert_exporter": "python",
   "pygments_lexer": "ipython3",
   "version": "3.7.10"
  }
 },
 "nbformat": 4,
 "nbformat_minor": 4
}
