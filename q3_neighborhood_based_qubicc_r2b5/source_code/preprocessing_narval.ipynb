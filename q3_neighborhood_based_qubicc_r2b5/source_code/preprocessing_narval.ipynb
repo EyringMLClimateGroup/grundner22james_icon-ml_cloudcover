{
 "cells": [
  {
   "cell_type": "markdown",
   "metadata": {},
   "source": [
    "## Preprocessing Narval\n",
    "\n",
    "**This data was not used to train the NNs**\n",
    "\n",
    "Converting the data into npy makes it possible for us to work with it efficiently; originally we require 500GB of RAM which is always difficult to guarantee. We preprocess QUBICC in another ipynb notebook precisely because of this issue.\n",
    "\n",
    "1) We read the data\n",
    "2) Reshape variables so that they have equal dimensionality\n",
    "3) Reshape into data samples fit for the NN and convert into a DataFrame\n",
    "4) Downsample the data: Remove data above 21kms, remove condensate-free clouds, combat class-imbalance\n",
    "5) Split into input and output\n",
    "6) Save as npy\n",
    "\n",
    "Note: We neither scale nor split the data into training/validation/test sets. <br>\n",
    "The reason is that i) in order to scale we need the entire dataset but this can only be done in conjunction with the Qubicc dataset. Also for cross-validation different scalings will be necessary based on different subsets of the data, ii) The split into subsets will be done by the cross-validation procedure or not at all when training the final model."
   ]
  },
  {
   "cell_type": "code",
   "execution_count": 1,
   "metadata": {
    "scrolled": true
   },
   "outputs": [],
   "source": [
    "import sys\n",
    "import xarray as xr\n",
    "import numpy as np\n",
    "import matplotlib.pyplot as plt\n",
    "import pandas as pd\n",
    "import time\n",
    "# import importlib\n",
    "# importlib.reload(my_classes)\n",
    "\n",
    "base_path = '/pf/b/b309170'\n",
    "output_path = base_path + '/my_work/icon-ml_data/cloud_cover_parameterization/region_based_one_nn_R02B05/based_on_var_interpolated_data'\n",
    "\n",
    "# Add path with my_classes to sys.path\n",
    "sys.path.insert(0, base_path + '/workspace_icon-ml/cloud_cover_parameterization/')\n",
    "\n",
    "# Which days to load\n",
    "days_narval = 'all'\n",
    "\n",
    "from my_classes import load_data\n",
    "\n",
    "VERT_LAYERS = 31\n",
    "\n",
    "#Set a numpy seed for the permutation later on!\n",
    "np.random.seed(10)\n",
    "\n",
    "# Set output_var to one of {'clc', 'cl_area'}\n",
    "output_var = 'cl_area'"
   ]
  },
  {
   "cell_type": "markdown",
   "metadata": {},
   "source": [
    "## 1) Reading the data\n",
    "### Input:\n",
    "- coriolis: Coriolis parameter\n",
    "- zg: Geometric height at full levels (3D)\n",
    "- qv: Specific water vapor content (3D)\n",
    "- qc: Specific cloud water content (3D)\n",
    "- qi: Specific cloud ice content (3D)\n",
    "- temp: Temperature (3D)\n",
    "- pres: Pressure (3D)\n",
    "- u: Zonal wind (3D)\n",
    "- v: Meridional wind (3D)\n",
    "\n",
    "$10$ input nodes\n",
    "\n",
    "### Output:\n",
    "- clc: Cloud Cover\n",
    "\n",
    "$1$ output nodes\n",
    "\n",
    "The data above 21km is capped."
   ]
  },
  {
   "cell_type": "code",
   "execution_count": null,
   "metadata": {},
   "outputs": [],
   "source": [
    "# For cl_area I only need the output as I already have the input\n",
    "# I still need 'qc', 'qi', 'clc' for condensate-free clouds\n",
    "# If I were to use 'cl_area' for condensate-free clouds I would get an estimate \n",
    "# which is slightly different due to coarse-graining\n",
    "\n",
    "order_of_vars_narval = ['qv', 'qc', 'qi', 'temp', 'pres', 'u', 'v', 'zg', 'coriolis', output_var]"
   ]
  },
  {
   "cell_type": "code",
   "execution_count": 2,
   "metadata": {},
   "outputs": [
    {
     "name": "stdout",
     "output_type": "stream",
     "text": [
      "qv\n",
      "qc\n",
      "qi\n",
      "temp\n",
      "pres\n",
      "u\n",
      "v\n"
     ]
    }
   ],
   "source": [
    "# Load NARVAL data\n",
    "data_dict = load_data(source='narval', days=days_narval, resolution='R02B05', \n",
    "                             order_of_vars=order_of_vars_narval)"
   ]
  },
  {
   "cell_type": "code",
   "execution_count": 3,
   "metadata": {},
   "outputs": [
    {
     "name": "stdout",
     "output_type": "stream",
     "text": [
      "qv (1721, 31, 4450)\n",
      "qc (1721, 31, 4450)\n",
      "qi (1721, 31, 4450)\n",
      "temp (1721, 31, 4450)\n",
      "pres (1721, 31, 4450)\n",
      "u (1721, 31, 4450)\n",
      "v (1721, 31, 4450)\n",
      "zg (31, 4450)\n",
      "coriolis (4450,)\n",
      "clc (1721, 31, 4450)\n"
     ]
    }
   ],
   "source": [
    "for key in data_dict.keys():\n",
    "    print(key, data_dict[key].shape)"
   ]
  },
  {
   "cell_type": "code",
   "execution_count": 4,
   "metadata": {},
   "outputs": [],
   "source": [
    "(TIME_STEPS, VERT_LAYERS, HORIZ_FIELDS) = data_dict[output_var].shape"
   ]
  },
  {
   "cell_type": "code",
   "execution_count": 5,
   "metadata": {},
   "outputs": [],
   "source": [
    "#Reshaping into nd-arrays of equaling shapes (don't reshape in the vertical)\n",
    "data_dict['zg'] = np.repeat(np.expand_dims(data_dict['zg'], 0), TIME_STEPS, axis=0)\n",
    "try:\n",
    "    data_dict['coriolis'] = np.repeat(np.expand_dims(data_dict['coriolis'], 0), TIME_STEPS, axis=0)\n",
    "    data_dict['coriolis'] = np.repeat(np.expand_dims(data_dict['coriolis'], 1), VERT_LAYERS, axis=1)\n",
    "except:\n",
    "    print('There is probably no coriolis in order_of_vars_narval')\n",
    "    pass"
   ]
  },
  {
   "cell_type": "code",
   "execution_count": 6,
   "metadata": {},
   "outputs": [],
   "source": [
    "try: \n",
    "    # Surface temperature (Try without?)\n",
    "    temp_sfc = np.repeat(np.expand_dims(data_dict['temp'][:, -1, :], axis=1), VERT_LAYERS, axis=1)\n",
    "except: \n",
    "    print('There is probably no temperature in order_of_vars_narval')\n",
    "    pass"
   ]
  },
  {
   "cell_type": "code",
   "execution_count": 7,
   "metadata": {},
   "outputs": [
    {
     "data": {
      "text/plain": [
       "(1721, 31, 4450)"
      ]
     },
     "execution_count": 7,
     "metadata": {},
     "output_type": "execute_result"
    }
   ],
   "source": [
    "# Carry along information about the vertical layer of a grid cell. int16 is sufficient for < 1000.\n",
    "vert_layers = np.int16(np.repeat(np.expand_dims(np.arange(1, VERT_LAYERS+1), 0), TIME_STEPS, axis=0))\n",
    "vert_layers = np.repeat(np.expand_dims(vert_layers, 2), HORIZ_FIELDS, axis=2)\n",
    "vert_layers.shape"
   ]
  },
  {
   "cell_type": "code",
   "execution_count": 8,
   "metadata": {},
   "outputs": [],
   "source": [
    "# Add variables below and above\n",
    "def add_above_and_below(var_array, key):\n",
    "    '''\n",
    "        var_array: 3D tensor\n",
    "    '''\n",
    "    if key == 'pres':\n",
    "        factor = 3/4\n",
    "    else:\n",
    "        factor = 1\n",
    "    above = (np.insert(var_array, obj=0, values=1000*np.ones((TIME_STEPS, HORIZ_FIELDS)), axis=1))[:, :-1, :]\n",
    "    # Replace by the entry from the same cell if the one above is nan.\n",
    "    # It is a bit suboptimal that the grid cells above can be nan in NARVAL. At least decrease pressure by 3/4.\n",
    "    nan_indices = np.where(np.isnan(above))\n",
    "    above[nan_indices] = factor*above[nan_indices[0], nan_indices[1]+1, nan_indices[2]]\n",
    "    \n",
    "    # Below is the same value as the grid cell for surface-closest layer\n",
    "    below = (np.append(var_array, values=var_array[:, -1:, :], axis=1))[:, 1:, :]\n",
    "    return above, below\n",
    "\n",
    "above = {}\n",
    "below = {}\n",
    "\n",
    "# 1000 is a value that cannot be attained physically and serves as our way of checking whether the grid cell is at the model top\n",
    "# It makes sense to insert 0 as the difference at the lowest levels. (Note that the values won't stay 0 after normalization) \n",
    "# The NN could get around these values that are not really physical by weighing the influence from below with a zg-factor.\n",
    "# Alternatively we would have to remove the variable from below altogether\n",
    "\n",
    "for key in order_of_vars_narval[:-2]:\n",
    "    above[key], below[key] = add_above_and_below(data_dict[key], key)"
   ]
  },
  {
   "cell_type": "code",
   "execution_count": 9,
   "metadata": {},
   "outputs": [
    {
     "data": {
      "text/html": [
       "<div>\n",
       "<style scoped>\n",
       "    .dataframe tbody tr th:only-of-type {\n",
       "        vertical-align: middle;\n",
       "    }\n",
       "\n",
       "    .dataframe tbody tr th {\n",
       "        vertical-align: top;\n",
       "    }\n",
       "\n",
       "    .dataframe thead th {\n",
       "        text-align: right;\n",
       "    }\n",
       "</style>\n",
       "<table border=\"1\" class=\"dataframe\">\n",
       "  <thead>\n",
       "    <tr style=\"text-align: right;\">\n",
       "      <th></th>\n",
       "      <th>qv</th>\n",
       "      <th>qc</th>\n",
       "      <th>qi</th>\n",
       "      <th>temp</th>\n",
       "      <th>pres</th>\n",
       "      <th>u</th>\n",
       "      <th>v</th>\n",
       "      <th>zg</th>\n",
       "      <th>coriolis</th>\n",
       "      <th>clc</th>\n",
       "      <th>...</th>\n",
       "      <th>temp_above</th>\n",
       "      <th>pres_below</th>\n",
       "      <th>pres_above</th>\n",
       "      <th>u_below</th>\n",
       "      <th>u_above</th>\n",
       "      <th>v_below</th>\n",
       "      <th>v_above</th>\n",
       "      <th>zg_below</th>\n",
       "      <th>zg_above</th>\n",
       "      <th>temp_sfc</th>\n",
       "    </tr>\n",
       "  </thead>\n",
       "  <tbody>\n",
       "    <tr>\n",
       "      <th>0</th>\n",
       "      <td>NaN</td>\n",
       "      <td>NaN</td>\n",
       "      <td>NaN</td>\n",
       "      <td>NaN</td>\n",
       "      <td>NaN</td>\n",
       "      <td>NaN</td>\n",
       "      <td>NaN</td>\n",
       "      <td>28193.783203</td>\n",
       "      <td>0.000021</td>\n",
       "      <td>NaN</td>\n",
       "      <td>...</td>\n",
       "      <td>1000.0</td>\n",
       "      <td>NaN</td>\n",
       "      <td>1000.0</td>\n",
       "      <td>NaN</td>\n",
       "      <td>1000.0</td>\n",
       "      <td>NaN</td>\n",
       "      <td>1000.0</td>\n",
       "      <td>26201.697266</td>\n",
       "      <td>1000.0</td>\n",
       "      <td>301.795624</td>\n",
       "    </tr>\n",
       "    <tr>\n",
       "      <th>1</th>\n",
       "      <td>NaN</td>\n",
       "      <td>NaN</td>\n",
       "      <td>NaN</td>\n",
       "      <td>NaN</td>\n",
       "      <td>NaN</td>\n",
       "      <td>NaN</td>\n",
       "      <td>NaN</td>\n",
       "      <td>28193.783203</td>\n",
       "      <td>0.000021</td>\n",
       "      <td>NaN</td>\n",
       "      <td>...</td>\n",
       "      <td>1000.0</td>\n",
       "      <td>NaN</td>\n",
       "      <td>1000.0</td>\n",
       "      <td>NaN</td>\n",
       "      <td>1000.0</td>\n",
       "      <td>NaN</td>\n",
       "      <td>1000.0</td>\n",
       "      <td>26201.697266</td>\n",
       "      <td>1000.0</td>\n",
       "      <td>299.384064</td>\n",
       "    </tr>\n",
       "    <tr>\n",
       "      <th>2</th>\n",
       "      <td>NaN</td>\n",
       "      <td>NaN</td>\n",
       "      <td>NaN</td>\n",
       "      <td>NaN</td>\n",
       "      <td>NaN</td>\n",
       "      <td>NaN</td>\n",
       "      <td>NaN</td>\n",
       "      <td>28193.783203</td>\n",
       "      <td>0.000026</td>\n",
       "      <td>NaN</td>\n",
       "      <td>...</td>\n",
       "      <td>1000.0</td>\n",
       "      <td>NaN</td>\n",
       "      <td>1000.0</td>\n",
       "      <td>NaN</td>\n",
       "      <td>1000.0</td>\n",
       "      <td>NaN</td>\n",
       "      <td>1000.0</td>\n",
       "      <td>26201.697266</td>\n",
       "      <td>1000.0</td>\n",
       "      <td>295.616211</td>\n",
       "    </tr>\n",
       "    <tr>\n",
       "      <th>3</th>\n",
       "      <td>NaN</td>\n",
       "      <td>NaN</td>\n",
       "      <td>NaN</td>\n",
       "      <td>NaN</td>\n",
       "      <td>NaN</td>\n",
       "      <td>NaN</td>\n",
       "      <td>NaN</td>\n",
       "      <td>28193.783203</td>\n",
       "      <td>0.000016</td>\n",
       "      <td>NaN</td>\n",
       "      <td>...</td>\n",
       "      <td>1000.0</td>\n",
       "      <td>NaN</td>\n",
       "      <td>1000.0</td>\n",
       "      <td>NaN</td>\n",
       "      <td>1000.0</td>\n",
       "      <td>NaN</td>\n",
       "      <td>1000.0</td>\n",
       "      <td>26201.697266</td>\n",
       "      <td>1000.0</td>\n",
       "      <td>300.337311</td>\n",
       "    </tr>\n",
       "    <tr>\n",
       "      <th>4</th>\n",
       "      <td>NaN</td>\n",
       "      <td>NaN</td>\n",
       "      <td>NaN</td>\n",
       "      <td>NaN</td>\n",
       "      <td>NaN</td>\n",
       "      <td>NaN</td>\n",
       "      <td>NaN</td>\n",
       "      <td>28193.783203</td>\n",
       "      <td>0.000014</td>\n",
       "      <td>NaN</td>\n",
       "      <td>...</td>\n",
       "      <td>1000.0</td>\n",
       "      <td>NaN</td>\n",
       "      <td>1000.0</td>\n",
       "      <td>NaN</td>\n",
       "      <td>1000.0</td>\n",
       "      <td>NaN</td>\n",
       "      <td>1000.0</td>\n",
       "      <td>26201.697266</td>\n",
       "      <td>1000.0</td>\n",
       "      <td>300.023560</td>\n",
       "    </tr>\n",
       "  </tbody>\n",
       "</table>\n",
       "<p>5 rows × 27 columns</p>\n",
       "</div>"
      ],
      "text/plain": [
       "   qv  qc  qi  temp  pres   u   v            zg  coriolis  clc  ...  \\\n",
       "0 NaN NaN NaN   NaN   NaN NaN NaN  28193.783203  0.000021  NaN  ...   \n",
       "1 NaN NaN NaN   NaN   NaN NaN NaN  28193.783203  0.000021  NaN  ...   \n",
       "2 NaN NaN NaN   NaN   NaN NaN NaN  28193.783203  0.000026  NaN  ...   \n",
       "3 NaN NaN NaN   NaN   NaN NaN NaN  28193.783203  0.000016  NaN  ...   \n",
       "4 NaN NaN NaN   NaN   NaN NaN NaN  28193.783203  0.000014  NaN  ...   \n",
       "\n",
       "   temp_above  pres_below  pres_above  u_below  u_above  v_below  v_above  \\\n",
       "0      1000.0         NaN      1000.0      NaN   1000.0      NaN   1000.0   \n",
       "1      1000.0         NaN      1000.0      NaN   1000.0      NaN   1000.0   \n",
       "2      1000.0         NaN      1000.0      NaN   1000.0      NaN   1000.0   \n",
       "3      1000.0         NaN      1000.0      NaN   1000.0      NaN   1000.0   \n",
       "4      1000.0         NaN      1000.0      NaN   1000.0      NaN   1000.0   \n",
       "\n",
       "       zg_below  zg_above    temp_sfc  \n",
       "0  26201.697266    1000.0  301.795624  \n",
       "1  26201.697266    1000.0  299.384064  \n",
       "2  26201.697266    1000.0  295.616211  \n",
       "3  26201.697266    1000.0  300.337311  \n",
       "4  26201.697266    1000.0  300.023560  \n",
       "\n",
       "[5 rows x 27 columns]"
      ]
     },
     "execution_count": 9,
     "metadata": {},
     "output_type": "execute_result"
    }
   ],
   "source": [
    "# Reshaping into 1D-arrays and converting dict into a DataFrame-object (the following is based on Aurelien Geron)\n",
    "for key in data_dict.keys():\n",
    "    data_dict[key] = np.reshape(data_dict[key], -1) \n",
    "    vert_layers = np.reshape(vert_layers, -1)\n",
    "    \n",
    "for key in order_of_vars_narval[:-2]:\n",
    "    data_dict['%s_below'%key] = np.reshape(below[key], -1)\n",
    "    data_dict['%s_above'%key] = np.reshape(above[key], -1)\n",
    "    \n",
    "try: \n",
    "    data_dict['temp_sfc'] = np.reshape(temp_sfc, -1)\n",
    "except: \n",
    "    print('There is probably no temperature in order_of_vars_narval')\n",
    "    pass\n",
    "\n",
    "df = pd.DataFrame.from_dict(data_dict)\n",
    "df.head()"
   ]
  },
  {
   "cell_type": "markdown",
   "metadata": {},
   "source": [
    "**Downsampling the data (minority class: clc = 0)**"
   ]
  },
  {
   "cell_type": "code",
   "execution_count": 10,
   "metadata": {},
   "outputs": [],
   "source": [
    "# Remove data above 21kms\n",
    "df = df.loc[df['zg'] < 21000]"
   ]
  },
  {
   "cell_type": "code",
   "execution_count": 11,
   "metadata": {},
   "outputs": [],
   "source": [
    "# There are no nans left\n",
    "assert np.all(np.isnan(df) == False) == True"
   ]
  },
  {
   "cell_type": "code",
   "execution_count": 12,
   "metadata": {},
   "outputs": [],
   "source": [
    "if output_var == 'clc':\n",
    "    #The upper levels have been cut off so there are no wrong values in the data anymore\n",
    "    assert df[df['temp_above']==1000].shape[0] == 0 \n",
    "    # Some quick sanity checks regarding the input data\n",
    "    assert np.all(df['temp'] > 150) and np.all(df['pres'] > 150)"
   ]
  },
  {
   "cell_type": "code",
   "execution_count": 14,
   "metadata": {},
   "outputs": [],
   "source": [
    "# Remove condensate-free clouds (7.3% of clouds)\n",
    "df = df.loc[~((df['clc'] > 0) & (df['qc'] == 0) & (df['qi'] == 0))]"
   ]
  },
  {
   "cell_type": "code",
   "execution_count": 15,
   "metadata": {},
   "outputs": [
    {
     "name": "stdout",
     "output_type": "stream",
     "text": [
      "138399774\n"
     ]
    }
   ],
   "source": [
    "# We ensure that clc != 0 is as large as clc = 0 (which then has 294 Mio samples) and keep the original order intact\n",
    "df_noclc = df.loc[df['clc']==0]\n",
    "print(len(df_noclc))\n",
    "\n",
    "# len(downsample_indices) will be the number of noclc samples that remain\n",
    "downsample_ratio = (len(df) - len(df_noclc))/len(df_noclc)\n",
    "shuffled_indices = np.random.permutation(df.loc[df['clc']==0].index)\n",
    "size_noclc = int(len(df_noclc)*downsample_ratio)\n",
    "downsample_indices = shuffled_indices[:size_noclc] \n",
    "\n",
    "# Concatenate df.loc[df['cl']!=0].index and downsample_indices\n",
    "final_indices = np.concatenate((downsample_indices, df.loc[df['clc']!=0].index))\n",
    "\n",
    "# Sort final_indices so that we can more or less recover the timesteps\n",
    "final_indices = np.sort(final_indices)\n",
    "\n",
    "# Label-based (loc) not positional-based\n",
    "df = df.loc[final_indices]"
   ]
  },
  {
   "cell_type": "code",
   "execution_count": 16,
   "metadata": {},
   "outputs": [
    {
     "data": {
      "text/plain": [
       "126853676"
      ]
     },
     "execution_count": 16,
     "metadata": {},
     "output_type": "execute_result"
    }
   ],
   "source": [
    "# Number of samples after downsampling\n",
    "len(df)"
   ]
  },
  {
   "cell_type": "code",
   "execution_count": 17,
   "metadata": {},
   "outputs": [],
   "source": [
    "#Modifies df as well\n",
    "def split_input_output(dataset):\n",
    "    output_df = dataset[output_var]\n",
    "    del dataset[output_var]\n",
    "    return output_df"
   ]
  },
  {
   "cell_type": "code",
   "execution_count": 18,
   "metadata": {},
   "outputs": [],
   "source": [
    "output_df = split_input_output(df)"
   ]
  },
  {
   "cell_type": "code",
   "execution_count": 19,
   "metadata": {},
   "outputs": [],
   "source": [
    "# Save the data\n",
    "if output_var == 'clc':\n",
    "    np.save(output_path + '/cloud_cover_input_narval.npy', np.float32(df))\n",
    "    np.save(output_path + '/cloud_cover_output_narval.npy', np.float32(output_df))\n",
    "elif output_var == 'cl_area':\n",
    "    np.save(output_path + '/cloud_area_output_narval.npy', np.float32(output_df))\n",
    "\n",
    "# Save the corresponding vertical layers (int16 is sufficient for layers < 1000)\n",
    "if output_var == 'clc':\n",
    "    np.save(output_path + '/samples_vertical_layers_narval.npy', vert_layers[df.index])"
   ]
  },
  {
   "cell_type": "code",
   "execution_count": null,
   "metadata": {},
   "outputs": [],
   "source": [
    "old_input = np.load(output_path + '/cloud_cover_input_narval.npy')\n",
    "# If this yields True then we're done\n",
    "print(np.all(old_input[:,2] == df['qi']))"
   ]
  },
  {
   "cell_type": "code",
   "execution_count": null,
   "metadata": {},
   "outputs": [],
   "source": [
    "clc_in_narv = np.save(output_path + '/cloud_cover_input_narval.npy', np.float32(df))"
   ]
  }
 ],
 "metadata": {
  "kernelspec": {
   "display_name": "clouds113_kernel",
   "language": "python",
   "name": "clouds113_kernel"
  },
  "language_info": {
   "codemirror_mode": {
    "name": "ipython",
    "version": 3
   },
   "file_extension": ".py",
   "mimetype": "text/x-python",
   "name": "python",
   "nbconvert_exporter": "python",
   "pygments_lexer": "ipython3",
   "version": "3.7.10"
  }
 },
 "nbformat": 4,
 "nbformat_minor": 4
}
