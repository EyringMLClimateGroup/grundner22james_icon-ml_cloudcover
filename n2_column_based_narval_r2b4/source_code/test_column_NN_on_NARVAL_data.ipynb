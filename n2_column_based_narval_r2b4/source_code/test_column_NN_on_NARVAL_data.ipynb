{
 "cells": [
  {
   "cell_type": "markdown",
   "metadata": {},
   "source": [
    "**NARVAL column-based model on NARVAL data**"
   ]
  },
  {
   "cell_type": "code",
   "execution_count": null,
   "metadata": {},
   "outputs": [],
   "source": [
    "import sys\n",
    "import os\n",
    "import numpy as np\n",
    "import pandas as pd\n",
    "import xarray as xr\n",
    "# import importlib\n",
    "# importlib.reload(my_classes)\n",
    "\n",
    "from tensorflow.keras.models import load_model\n",
    "import tensorflow as tf\n",
    "\n",
    "root_path = '/pf/b/b309170'\n",
    "# Add path with my_classes to sys.path\n",
    "sys.path.insert(0, root_path + '/workspace_icon-ml/cloud_cover_parameterization/')\n",
    "\n",
    "from my_classes import read_mean_and_std\n",
    "from my_classes import load_data\n",
    "\n",
    "import matplotlib.pyplot as plt\n",
    "\n",
    "%config Completer.use_jedi = False  #Speeds up autocomplete"
   ]
  },
  {
   "cell_type": "code",
   "execution_count": null,
   "metadata": {},
   "outputs": [],
   "source": [
    "# Prevents crashes of the code\n",
    "gpus = tf.config.list_physical_devices('GPU')\n",
    "tf.config.set_visible_devices(gpus[1], 'GPU')"
   ]
  },
  {
   "cell_type": "code",
   "execution_count": null,
   "metadata": {},
   "outputs": [],
   "source": [
    "data_path = os.path.join(root_path,\n",
    "                         'my_work/icon-ml_data/cloud_cover_parameterization/grid_column_based/based_on_var_interpolated_data')\n",
    "model_path = os.path.join(root_path,\n",
    "                          'workspace_icon-ml/cloud_cover_parameterization/grid_column_based/saved_models')"
   ]
  },
  {
   "cell_type": "markdown",
   "metadata": {},
   "source": [
    "*Load data*"
   ]
  },
  {
   "cell_type": "code",
   "execution_count": 3,
   "metadata": {},
   "outputs": [
    {
     "data": {
      "text/plain": [
       "['cloud_cover_input_test_2.npy',\n",
       " 'cloud_cover_output_train_2.npy',\n",
       " 'cloud_cover_output_test_1.npy',\n",
       " 'cloud_cover_output_test_2.npy',\n",
       " 'cloud_cover_output_valid_2.npy',\n",
       " 'cloud_cover_input_train_1.npy',\n",
       " 'cloud_cover_output_train_1.npy',\n",
       " 'cloud_cover_input_valid_2.npy',\n",
       " 'cloud_cover_output_valid_1.npy',\n",
       " 'cloud_cover_input_train_2.npy',\n",
       " 'cloud_cover_input_valid_1.npy',\n",
       " 'cloud_cover_input_test_1.npy']"
      ]
     },
     "execution_count": 3,
     "metadata": {},
     "output_type": "execute_result"
    }
   ],
   "source": [
    "# We can work with cloud_cover_all_days_input_test_1.npy and cloud_cover_all_days_output_test_1.npy \n",
    "# (as there's a test set available)\n",
    "# The corresponding model is model_clc_all_days_final_1.h5 (in model_path)\n",
    "os.listdir(data_path)"
   ]
  },
  {
   "cell_type": "code",
   "execution_count": 8,
   "metadata": {},
   "outputs": [],
   "source": [
    "# Load data\n",
    "input_train = np.load(os.path.join(data_path, 'cloud_cover_input_train_1.npy'))\n",
    "input_test = np.load(os.path.join(data_path, 'cloud_cover_input_test_1.npy'))\n",
    "output_train = np.load(os.path.join(data_path, 'cloud_cover_output_train_1.npy'))\n",
    "output_test = np.load(os.path.join(data_path, 'cloud_cover_output_test_1.npy'))\n",
    "\n",
    "input_valid = np.load(os.path.join(data_path, 'cloud_cover_input_valid_1.npy'))\n",
    "output_valid = np.load(os.path.join(data_path, 'cloud_cover_output_valid_1.npy'))"
   ]
  },
  {
   "cell_type": "code",
   "execution_count": 5,
   "metadata": {
    "scrolled": true
   },
   "outputs": [
    {
     "data": {
      "text/plain": [
       "True"
      ]
     },
     "execution_count": 5,
     "metadata": {},
     "output_type": "execute_result"
    }
   ],
   "source": [
    "# Checking standardization:\n",
    "thresh = 1e-7\n",
    "np.all([np.abs(np.mean(input_train[:, i]))<thresh and \n",
    " (np.abs(np.var(input_train[:, i])-1)<thresh or np.abs(np.var(input_train[:, i]))<thresh)  for i in range(186)])"
   ]
  },
  {
   "cell_type": "markdown",
   "metadata": {},
   "source": [
    "*Load model*"
   ]
  },
  {
   "cell_type": "code",
   "execution_count": 9,
   "metadata": {},
   "outputs": [],
   "source": [
    "model = load_model(os.path.join(model_path, 'model_grid_column_based_final_1.h5'))"
   ]
  },
  {
   "cell_type": "code",
   "execution_count": null,
   "metadata": {},
   "outputs": [],
   "source": [
    "# #Quick test\n",
    "# model_input = np.random.rand(186)\n",
    "# input_scaled = (model_input-mean_1[:186])/std_1[:186]\n",
    "# model.predict(np.array([input_scaled,]))"
   ]
  },
  {
   "cell_type": "markdown",
   "metadata": {},
   "source": [
    "**First visualization method** <br>\n",
    "Samples on x-axis and cloud cover on y-axis"
   ]
  },
  {
   "cell_type": "code",
   "execution_count": 16,
   "metadata": {},
   "outputs": [
    {
     "data": {
      "text/plain": [
       "<matplotlib.legend.Legend at 0x2aefe918f390>"
      ]
     },
     "execution_count": 16,
     "metadata": {},
     "output_type": "execute_result"
    },
    {
     "data": {
      "image/png": "[encoded data removed]",
      "text/plain": [
       "<Figure size 1080x288 with 1 Axes>"
      ]
     },
     "metadata": {
      "needs_background": "light"
     },
     "output_type": "display_data"
    }
   ],
   "source": [
    "no_samples = 50\n",
    "layer = 10\n",
    "clc_pred = model.predict(input_test[:no_samples])[:, layer]\n",
    "clc_true = output_test[:no_samples, layer]\n",
    "a = np.linspace(1, no_samples, no_samples)\n",
    "\n",
    "fig = plt.figure(figsize=(15,4))\n",
    "ax = fig.add_subplot(111, title='NNs predictions of %d-th layer cloud cover on random samples from the test set'%layer, \n",
    "                     xlabel='Sample', ylabel='Cloud Cover')\n",
    "ax.plot(a, clc_pred, 'ro')\n",
    "ax.plot(a, clc_true, 'bo')\n",
    "ax.legend(['Predictions', 'Truth'])"
   ]
  },
  {
   "cell_type": "markdown",
   "metadata": {},
   "source": [
    "Adding other NNs to compare, even though for those this test set was part of the learning set!!!"
   ]
  },
  {
   "cell_type": "code",
   "execution_count": 10,
   "metadata": {},
   "outputs": [],
   "source": [
    "model_2 = load_model(os.path.join(model_path, 'model_grid_column_based_final_2.h5'))"
   ]
  },
  {
   "cell_type": "code",
   "execution_count": 9,
   "metadata": {
    "deletable": false,
    "run_control": {
     "frozen": true
    }
   },
   "outputs": [
    {
     "data": {
      "image/png": "[encoded data removed]",
      "text/plain": [
       "<Figure size 1080x288 with 1 Axes>"
      ]
     },
     "metadata": {
      "needs_background": "light"
     },
     "output_type": "display_data"
    }
   ],
   "source": [
    "no_samples = 100\n",
    "layer = 20\n",
    "clc_pred = model.predict(input_test[:no_samples])[:,layer]\n",
    "clc_pred_2 = model_2.predict(input_test[:no_samples])[:,layer]\n",
    "clc_true = output_test[:no_samples, layer]\n",
    "a = np.linspace(1, no_samples, no_samples)\n",
    "\n",
    "fig = plt.figure(figsize=(15,4))\n",
    "# Careful with saying that it's the 20th layer. It's from the perspective of an ICON-A grid with model height at 21km.\n",
    "ax = fig.add_subplot(111, title='NNs predictions of %d-th layer cloud cover on random samples from the test set'%layer, \n",
    "                     xlabel='Sample', ylabel='Cloud Cover')\n",
    "ax.plot(a, clc_pred, 'ro')\n",
    "ax.plot(a, clc_pred_2, 'co')\n",
    "ax.plot(a, clc_true, 'bo')\n",
    "ax.legend(['Predictions', 'Predictions_2', 'Truth'])\n",
    "fig.savefig('../figures/offline_testing_predictions_random_samples.pdf')"
   ]
  },
  {
   "cell_type": "markdown",
   "metadata": {},
   "source": [
    "**Second visualization method** <br>\n",
    "Mean profile of Cloud Cover on x-axis with Vertical Layer on y-axis. This time I can use the test set."
   ]
  },
  {
   "cell_type": "code",
   "execution_count": 7,
   "metadata": {},
   "outputs": [],
   "source": [
    "input_test_2 = np.load(os.path.join(data_path, 'cloud_cover_input_test_2.npy'))\n",
    "output_test_2 = np.load(os.path.join(data_path, 'cloud_cover_output_test_2.npy'))"
   ]
  },
  {
   "cell_type": "code",
   "execution_count": 8,
   "metadata": {},
   "outputs": [],
   "source": [
    "# Vertical layers\n",
    "a = np.linspace(5, 31, 27)\n",
    "# Cloud cover means for first model\n",
    "clc_data_mean = []\n",
    "for i in range(27):\n",
    "    clc_data_mean.append(np.mean(output_test[:, i]))\n",
    "# Cloud cover means for second model\n",
    "clc_data_mean_2 = []\n",
    "for i in range(27):\n",
    "    clc_data_mean_2.append(np.mean(output_test_2[:, i]))\n",
    "# Predicted cloud cover means\n",
    "pred_adj = np.minimum(np.maximum(model.predict(input_test), 0), 100)\n",
    "clc_mean = np.mean(pred_adj, axis=0)\n",
    "pred_adj_2 = np.minimum(np.maximum(model_2.predict(input_test_2), 0), 100)\n",
    "clc_mean_2 = np.mean(pred_adj_2, axis=0)"
   ]
  },
  {
   "cell_type": "code",
   "execution_count": 9,
   "metadata": {
    "run_control": {
     "frozen": true
    }
   },
   "outputs": [
    {
     "data": {
      "image/png": "[encoded data removed]",
      "text/plain": [
       "<Figure size 1080x288 with 2 Axes>"
      ]
     },
     "metadata": {
      "needs_background": "light"
     },
     "output_type": "display_data"
    }
   ],
   "source": [
    "fig = plt.figure(figsize=(15,4))\n",
    "# For model\n",
    "ax_1 = fig.add_subplot(121, xlabel='Mean Cloud Cover', ylabel='Vertical layer', \n",
    "                       title='NN Cloud Cover parameterization (First trained model)')\n",
    "ax_1.plot(clc_mean, a)\n",
    "ax_1.plot(clc_data_mean, a)\n",
    "plt.gca().invert_yaxis()\n",
    "ax_1.legend(['Prediction', 'Truth'])\n",
    "# For model_2\n",
    "ax_2 = fig.add_subplot(122, xlabel='Mean Cloud Cover', ylabel='Vertical layer', \n",
    "                       title='NN Cloud Cover parameterization (Second trained model)')\n",
    "ax_2.plot(clc_mean_2, a)\n",
    "ax_2.plot(clc_data_mean_2, a)\n",
    "plt.gca().invert_yaxis()\n",
    "ax_2.legend(['Prediction', 'Truth'])\n",
    "# Very curiously these plots used to be better when qc_4 was still included  \n",
    "fig.savefig('../figures/offline_testing_mean_cloud_cover_NNs_2.pdf')"
   ]
  },
  {
   "cell_type": "code",
   "execution_count": null,
   "metadata": {
    "deletable": false,
    "run_control": {
     "frozen": true
    }
   },
   "outputs": [],
   "source": [
    "fig = plt.figure(figsize=(15,4))\n",
    "# For model\n",
    "ax_1 = fig.add_subplot(121, xlabel='Mean Cloud Cover', ylabel='Vertical layer', \n",
    "                       title='NN Cloud Cover parameterization (First trained model)')\n",
    "ax_1.plot(clc_mean, a)\n",
    "ax_1.plot(clc_data_mean, a)\n",
    "plt.gca().invert_yaxis()\n",
    "ax_1.legend(['Prediction', 'Truth'])\n",
    "# For model_2\n",
    "ax_2 = fig.add_subplot(122, xlabel='Mean Cloud Cover', ylabel='Vertical layer', \n",
    "                       title='NN Cloud Cover parameterization (Second trained model)')\n",
    "ax_2.plot(clc_mean_2, a)\n",
    "ax_2.plot(clc_data_mean_2, a)\n",
    "plt.gca().invert_yaxis()\n",
    "ax_2.legend(['Prediction', 'Truth'])\n",
    "# Very curiously these plots used to be better when qc_4 was still included  \n",
    "fig.savefig('../figures/offline_testing_mean_cloud_cover_NNs.pdf')"
   ]
  },
  {
   "cell_type": "markdown",
   "metadata": {},
   "source": [
    "On all NARVAL data"
   ]
  },
  {
   "cell_type": "code",
   "execution_count": 11,
   "metadata": {},
   "outputs": [],
   "source": [
    "# Load data\n",
    "input_train_2 = np.load(os.path.join(data_path, 'cloud_cover_input_train_2.npy'))\n",
    "input_test_2 = np.load(os.path.join(data_path, 'cloud_cover_input_test_2.npy'))\n",
    "output_train_2 = np.load(os.path.join(data_path, 'cloud_cover_output_train_2.npy'))\n",
    "output_test_2 = np.load(os.path.join(data_path, 'cloud_cover_output_test_2.npy'))\n",
    "\n",
    "input_valid_2 = np.load(os.path.join(data_path, 'cloud_cover_input_valid_2.npy'))\n",
    "output_valid_2 = np.load(os.path.join(data_path, 'cloud_cover_output_valid_2.npy'))"
   ]
  },
  {
   "cell_type": "code",
   "execution_count": 12,
   "metadata": {},
   "outputs": [],
   "source": [
    "input_data = np.concatenate((input_train, input_valid, input_test), axis=0)\n",
    "output_data = np.concatenate((output_train, output_valid, output_test), axis=0)\n",
    "\n",
    "input_data_2 = np.concatenate((input_train_2, input_valid_2, input_test_2), axis=0)\n",
    "output_data_2 = np.concatenate((output_train_2, output_valid_2, output_test_2), axis=0)"
   ]
  },
  {
   "cell_type": "code",
   "execution_count": 13,
   "metadata": {},
   "outputs": [],
   "source": [
    "# Vertical layers\n",
    "a = np.linspace(5, 31, 27)\n",
    "# Cloud cover means for first model\n",
    "clc_data_mean = []\n",
    "for i in range(27):\n",
    "    clc_data_mean.append(np.mean(output_data[:, i]))\n",
    "\n",
    "# Predicted cloud cover means\n",
    "pred_adj = np.minimum(np.maximum(model.predict(input_data), 0), 100)\n",
    "clc_mean = np.mean(pred_adj, axis=0)\n",
    "pred_adj_2 = np.minimum(np.maximum(model_2.predict(input_data_2), 0), 100)\n",
    "clc_mean_2 = np.mean(pred_adj_2, axis=0)"
   ]
  },
  {
   "cell_type": "code",
   "execution_count": 14,
   "metadata": {},
   "outputs": [
    {
     "data": {
      "text/plain": [
       "array([ 0.01957798,  0.05253388,  0.16547991,  1.5168297 ,  3.9382503 ,\n",
       "        6.32812   ,  6.4934864 ,  5.024541  ,  3.3790243 ,  2.5882218 ,\n",
       "        1.9968994 ,  1.7662972 ,  2.117203  ,  2.5311933 ,  2.2601795 ,\n",
       "        1.9334778 ,  2.0583446 ,  2.8288033 ,  4.2522674 ,  6.967667  ,\n",
       "       10.492099  , 13.341855  , 10.741383  ,  4.3720226 ,  1.0384021 ,\n",
       "        0.37790278,  0.17620933], dtype=float32)"
      ]
     },
     "execution_count": 14,
     "metadata": {},
     "output_type": "execute_result"
    }
   ],
   "source": [
    "clc_mean"
   ]
  },
  {
   "cell_type": "code",
   "execution_count": 15,
   "metadata": {},
   "outputs": [
    {
     "data": {
      "text/plain": [
       "array([ 0.12409367,  0.02842776,  0.20964526,  1.4896768 ,  3.7989736 ,\n",
       "        6.2836094 ,  6.8836665 ,  5.2357845 ,  3.530387  ,  2.7167659 ,\n",
       "        2.0113728 ,  1.7467263 ,  2.0471444 ,  2.563959  ,  2.265435  ,\n",
       "        1.640315  ,  1.9510975 ,  2.892033  ,  4.232141  ,  6.9207006 ,\n",
       "       10.687958  , 13.358834  , 11.182864  ,  4.4872637 ,  1.0891832 ,\n",
       "        0.3404389 ,  0.207943  ], dtype=float32)"
      ]
     },
     "execution_count": 15,
     "metadata": {},
     "output_type": "execute_result"
    }
   ],
   "source": [
    "clc_mean_2"
   ]
  },
  {
   "cell_type": "code",
   "execution_count": 16,
   "metadata": {},
   "outputs": [
    {
     "data": {
      "text/plain": [
       "[2.0478832779822219e-07,\n",
       " 0.00033776531641375735,\n",
       " 0.17631685094894642,\n",
       " 1.5021955939963532,\n",
       " 3.91492667002586,\n",
       " 6.374820047557965,\n",
       " 6.565577912452006,\n",
       " 5.038709451760132,\n",
       " 3.441732141836549,\n",
       " 2.5728790195282016,\n",
       " 1.9210425870789314,\n",
       " 1.662810838855783,\n",
       " 1.98459678258431,\n",
       " 2.4587458429692153,\n",
       " 2.213715613226061,\n",
       " 1.7527898613467492,\n",
       " 1.9661254388613016,\n",
       " 2.766782176097001,\n",
       " 4.177273559445905,\n",
       " 6.919768079581624,\n",
       " 10.806907746534359,\n",
       " 13.354901893589245,\n",
       " 10.814759942940318,\n",
       " 4.354794731258838,\n",
       " 0.9929281415331013,\n",
       " 0.340165015890495,\n",
       " 0.1563680778794108]"
      ]
     },
     "execution_count": 16,
     "metadata": {},
     "output_type": "execute_result"
    }
   ],
   "source": [
    "clc_data_mean"
   ]
  },
  {
   "cell_type": "code",
   "execution_count": 13,
   "metadata": {},
   "outputs": [
    {
     "data": {
      "text/plain": [
       "<matplotlib.legend.Legend at 0x2b5210372c10>"
      ]
     },
     "execution_count": 13,
     "metadata": {},
     "output_type": "execute_result"
    },
    {
     "data": {
      "image/png": "[encoded data removed]",
      "text/plain": [
       "<Figure size 1152x432 with 2 Axes>"
      ]
     },
     "metadata": {
      "needs_background": "light"
     },
     "output_type": "display_data"
    }
   ],
   "source": [
    "# Nando's suggestion: Panel showing the differences (absolute and/or normalised with the truth cloud cover)\n",
    "\n",
    "fig = plt.figure(figsize=(16,6))\n",
    "# For model\n",
    "ax_1 = fig.add_subplot(121, xlabel='Mean Cloud Cover difference', ylabel='Vertical layer', \n",
    "                       title='NN Cloud Cover parameterization absolute difference (First trained model)')\n",
    "ax_1.plot(clc_mean - clc_data_mean, a, 'bo')\n",
    "ax_1.plot(0*a, a, 'g--')\n",
    "plt.gca().invert_yaxis()\n",
    "ax_1.legend(['Prediction - Truth'])\n",
    "\n",
    "ax_2 = fig.add_subplot(122, xscale='log', xlabel='Mean Cloud Cover difference (log scale)', ylabel='Vertical layer', \n",
    "                       title='NN Cloud Cover parameterization normalized difference (First trained model)')\n",
    "ax_2.plot((clc_mean - clc_data_mean)/clc_data_mean, a, 'bo')\n",
    "# ax_2.plot(0*a, a, 'g--')\n",
    "plt.gca().invert_yaxis()\n",
    "ax_2.legend(['(Prediction - Truth)/Truth'])"
   ]
  },
  {
   "cell_type": "markdown",
   "metadata": {},
   "source": [
    "*Computing the standard error of regression per vertical layer* <br>\n",
    "The standard error of regression (ser) is defined as the square root of the variance of the residuals. Actually it's the same as the RMSE."
   ]
  },
  {
   "cell_type": "code",
   "execution_count": 14,
   "metadata": {},
   "outputs": [],
   "source": [
    "# Nando's suggestion: use a metric to test significance. SER is what comes closest, but significance is rather for classification problems\n",
    "# Sidenote: Don't use R2, it's only for linear regression. Actually, R2 might be better after all: https://peerj.com/articles/cs-623/\n",
    "# Caveats regarding R2: https://www.statology.org/standard-error-regression/\n",
    "# The SER/RMSE does not say much about the performance of the regression with respect to the distribution of the ground truth elements!\n",
    "\n",
    "ser = []\n",
    "ser_2 = []\n",
    "for i in range(27):\n",
    "    ser.append(np.sqrt(np.mean((pred_adj[:, i] - output_test[:, i])**2)))\n",
    "    ser_2.append(np.sqrt(np.mean((pred_adj_2[:, i] - output_test_2[:, i])**2)))\n",
    "\n",
    "ser_total = np.sqrt(np.var(pred_adj - output_test))\n",
    "ser_total_2 = np.sqrt(np.var(pred_adj_2 - output_test_2))"
   ]
  },
  {
   "cell_type": "code",
   "execution_count": 15,
   "metadata": {},
   "outputs": [
    {
     "data": {
      "text/plain": [
       "<matplotlib.legend.Legend at 0x2b52106c47d0>"
      ]
     },
     "execution_count": 15,
     "metadata": {},
     "output_type": "execute_result"
    },
    {
     "data": {
      "image/png": "[encoded data removed]",
      "text/plain": [
       "<Figure size 1152x432 with 2 Axes>"
      ]
     },
     "metadata": {
      "needs_background": "light"
     },
     "output_type": "display_data"
    }
   ],
   "source": [
    "fig = plt.figure(figsize=(16,6))\n",
    "# For model\n",
    "ax_1 = fig.add_subplot(121, xlabel='Test Set Standard Error of Regression/RMSE', ylabel='Vertical layer', \n",
    "                       title='Column-based NN test set SER/RMSE (First trained model)')\n",
    "ax_1.plot(ser, a)\n",
    "# ax_1.plot(np.mean(ser)*np.ones(len(a)), a, 'g--')\n",
    "plt.gca().invert_yaxis()\n",
    "# ax_1.legend(['Prediction - Truth'])\n",
    "\n",
    "ax_2 = fig.add_subplot(122, xlabel='Test Set Standard Error of Regression/RMSE', ylabel='Vertical layer', \n",
    "                       title='NN Cloud Cover parameterization (Second trained model)')\n",
    "ax_2.plot(ser_2, a)\n",
    "plt.gca().invert_yaxis()\n",
    "plt.savefig('../figures/test_set_rmse_ser.pdf')\n",
    "ax_2.legend(['Prediction', 'Truth'])"
   ]
  },
  {
   "cell_type": "markdown",
   "metadata": {},
   "source": [
    "The cloud cover estimates per vertical layer are on average up to 2.8% off. <br>\n",
    "The MSE was around 2 for both models while training, which would give us a RMSE of 1.41. This matches our total SER:"
   ]
  },
  {
   "cell_type": "code",
   "execution_count": 16,
   "metadata": {},
   "outputs": [
    {
     "name": "stdout",
     "output_type": "stream",
     "text": [
      "The total SER of the first model is 1.322\n",
      "The total SER of the second model is 1.284\n"
     ]
    }
   ],
   "source": [
    "print('{}{:.3f}'.format('The total SER of the first model is ', ser_total))\n",
    "print('{}{:.3f}'.format('The total SER of the second model is ', ser_total_2))"
   ]
  },
  {
   "cell_type": "markdown",
   "metadata": {},
   "source": [
    "**Third visualization method** <br>\n",
    "Hovmöller diagram (time on x-axis with vertical layers on y-axis and NN ensemble mean clc in color) <br>\n",
    "Looking at the first day here."
   ]
  },
  {
   "cell_type": "code",
   "execution_count": 6,
   "metadata": {
    "collapsed": true,
    "jupyter": {
     "outputs_hidden": true
    }
   },
   "outputs": [
    {
     "data": {
      "text/plain": [
       "['int_var_qv_R02B04_NARVALII_2016080100_fg_DOM01_0033.nc',\n",
       " 'int_var_qv_R02B04_NARVALII_2016082100_fg_DOM01_0028.nc',\n",
       " 'int_var_qv_R02B04_NARVALII_2016081600_fg_DOM01_0032.nc',\n",
       " 'int_var_qv_R02B04_NARVALII_2016080200_fg_DOM01_0021.nc',\n",
       " 'int_var_qv_R02B04_NARVALI_2013121200_fg_DOM01_0035.nc',\n",
       " 'int_var_qv_R02B04_NARVALI_2013120700_fg_DOM01_0027.nc',\n",
       " 'int_var_qv_R02B04_NARVALI_2013120800_fg_DOM01_0028.nc',\n",
       " 'int_var_qv_R02B04_NARVALII_2016080700_fg_DOM01_0023.nc',\n",
       " 'int_var_qv_R02B04_NARVALII_2016081200_fg_DOM01_0034.nc',\n",
       " 'int_var_qv_R02B04_NARVALI_2013120400_fg_DOM01_0032.nc',\n",
       " 'int_var_qv_R02B04_NARVALI_2013120600_fg_DOM01_0031.nc',\n",
       " 'int_var_qv_R02B04_NARVALII_2016080800_fg_DOM01_0028.nc',\n",
       " 'int_var_qv_R02B04_NARVALI_2013120400_fg_DOM01_0026.nc',\n",
       " 'int_var_qv_R02B04_NARVALI_2013120300_fg_DOM01_0026.nc',\n",
       " 'int_var_qv_R02B04_NARVALI_2013120500_fg_DOM01_0013.nc',\n",
       " 'int_var_qv_R02B04_NARVALI_2013120500_fg_DOM01_0025.nc',\n",
       " 'int_var_qv_R02B04_NARVALI_2013122300_fg_DOM01_0016.nc',\n",
       " 'int_var_qv_R02B04_NARVALII_2016082300_fg_DOM01_0033.nc',\n",
       " 'int_var_qv_R02B04_NARVALI_2013122000_fg_DOM01_0028.nc',\n",
       " 'int_var_qv_R02B04_NARVALII_2016082100_fg_DOM01_0033.nc',\n",
       " 'int_var_qv_R02B04_NARVALII_2016081300_fg_DOM01_0026.nc',\n",
       " 'int_var_qv_R02B04_NARVALI_2013122200_fg_DOM01_0013.nc',\n",
       " 'int_var_qv_R02B04_NARVALI_2013122300_fg_DOM01_0026.nc',\n",
       " 'int_var_qv_R02B04_NARVALI_2013121900_fg_DOM01_0018.nc',\n",
       " 'int_var_qv_R02B04_NARVALII_2016082600_fg_DOM01_0013.nc',\n",
       " 'int_var_qv_R02B04_NARVALII_2016082200_fg_DOM01_0016.nc',\n",
       " 'int_var_qv_R02B04_NARVALI_2013121100_fg_DOM01_0032.nc',\n",
       " 'int_var_qv_R02B04_NARVALI_2013123100_fg_DOM01_0033.nc',\n",
       " 'int_var_qv_R02B04_NARVALI_2013120600_fg_DOM01_0015.nc',\n",
       " 'int_var_qv_R02B04_NARVALII_2016083100_fg_DOM01_0027.nc',\n",
       " 'int_var_qv_R02B04_NARVALI_2013123100_fg_DOM01_0018.nc',\n",
       " 'int_var_qv_R02B04_NARVALII_2016081000_fg_DOM01_0025.nc',\n",
       " 'int_var_qv_R02B04_NARVALI_2013120700_fg_DOM01_0020.nc',\n",
       " 'int_var_qv_R02B04_NARVALI_2013121800_fg_DOM01_0035.nc',\n",
       " 'int_var_qv_R02B04_NARVALI_2013122600_fg_DOM01_0012.nc',\n",
       " 'int_var_qv_R02B04_NARVALII_2016080600_fg_DOM01_0017.nc',\n",
       " 'int_var_qv_R02B04_NARVALI_2013123100_fg_DOM01_0026.nc',\n",
       " 'int_var_qv_R02B04_NARVALI_2013121800_fg_DOM01_0023.nc',\n",
       " 'int_var_qv_R02B04_NARVALII_2016081500_fg_DOM01_0016.nc',\n",
       " 'int_var_qv_R02B04_NARVALII_2016081700_fg_DOM01_0016.nc',\n",
       " 'int_var_qv_R02B04_NARVALI_2013121100_fg_DOM01_0022.nc',\n",
       " 'int_var_qv_R02B04_NARVALI_2013120600_fg_DOM01_0016.nc',\n",
       " 'int_var_qv_R02B04_NARVALI_2013120400_fg_DOM01_0016.nc',\n",
       " 'int_var_qv_R02B04_NARVALI_2013122900_fg_DOM01_0021.nc',\n",
       " 'int_var_qv_R02B04_NARVALI_2013121100_fg_DOM01_0036.nc',\n",
       " 'int_var_qv_R02B04_NARVALII_2016082600_fg_DOM01_0032.nc',\n",
       " 'int_var_qv_R02B04_NARVALI_2013120300_fg_DOM01_0024.nc',\n",
       " 'int_var_qv_R02B04_NARVALII_2016082100_fg_DOM01_0021.nc',\n",
       " 'int_var_qv_R02B04_NARVALI_2013121300_fg_DOM01_0014.nc',\n",
       " 'int_var_qv_R02B04_Barbados_2015083000_fg_DOM01_0048.nc',\n",
       " 'int_var_qv_R02B04_NARVALII_2016080200_fg_DOM01_0017.nc',\n",
       " 'int_var_qv_R02B04_NARVALI_2013120100_fg_DOM01_0020.nc',\n",
       " 'int_var_qv_R02B04_NARVALII_2016081700_fg_DOM01_0030.nc',\n",
       " 'int_var_qv_R02B04_NARVALII_2016082200_fg_DOM01_0034.nc',\n",
       " 'int_var_qv_R02B04_NARVALI_2013122600_fg_DOM01_0023.nc',\n",
       " 'int_var_qv_R02B04_NARVALII_2016082200_fg_DOM01_0021.nc',\n",
       " 'int_var_qv_R02B04_NARVALII_2016082900_fg_DOM01_0031.nc',\n",
       " 'int_var_qv_R02B04_NARVALII_2016081000_fg_DOM01_0024.nc',\n",
       " 'int_var_qv_R02B04_NARVALI_2013120500_fg_DOM01_0034.nc',\n",
       " 'int_var_qv_R02B04_NARVALII_2016073000_fg_DOM01_0025.nc',\n",
       " 'int_var_qv_R02B04_NARVALI_2013122300_fg_DOM01_0013.nc',\n",
       " 'int_var_qv_R02B04_NARVALII_2016083000_fg_DOM01_0033.nc',\n",
       " 'int_var_qv_R02B04_NARVALII_2016072800_fg_DOM01_0026.nc',\n",
       " 'int_var_qv_R02B04_NARVALI_2013120400_fg_DOM01_0033.nc',\n",
       " 'int_var_qv_R02B04_NARVALII_2016080800_fg_DOM01_0019.nc',\n",
       " 'int_var_qv_R02B04_NARVALII_2016082000_fg_DOM01_0022.nc',\n",
       " 'int_var_qv_R02B04_NARVALI_2013122900_fg_DOM01_0031.nc',\n",
       " 'int_var_qv_R02B04_NARVALII_2016082700_fg_DOM01_0031.nc',\n",
       " 'int_var_qv_R02B04_NARVALI_2013122200_fg_DOM01_0032.nc',\n",
       " 'int_var_qv_R02B04_Barbados_2015083000_fg_DOM01_0014.nc',\n",
       " 'int_var_qv_R02B04_NARVALII_2016080600_fg_DOM01_0033.nc',\n",
       " 'int_var_qv_R02B04_NARVALI_2013123100_fg_DOM01_0027.nc',\n",
       " 'int_var_qv_R02B04_NARVALI_2013122300_fg_DOM01_0035.nc',\n",
       " 'int_var_qv_R02B04_NARVALII_2016080100_fg_DOM01_0028.nc',\n",
       " 'int_var_qv_R02B04_NARVALI_2013121000_fg_DOM01_0025.nc',\n",
       " 'int_var_qv_R02B04_NARVALI_2013122800_fg_DOM01_0031.nc',\n",
       " 'int_var_qv_R02B04_NARVALII_2016083100_fg_DOM01_0030.nc',\n",
       " 'int_var_qv_R02B04_NARVALI_2013122200_fg_DOM01_0034.nc',\n",
       " 'int_var_qv_R02B04_NARVALI_2013120100_fg_DOM01_0018.nc',\n",
       " 'int_var_qv_R02B04_NARVALI_2013121300_fg_DOM01_0034.nc',\n",
       " 'int_var_qv_R02B04_NARVALI_2013120800_fg_DOM01_0036.nc',\n",
       " 'int_var_qv_R02B04_Barbados_2015083000_fg_DOM01_0026.nc',\n",
       " 'int_var_qv_R02B04_NARVALI_2013122500_fg_DOM01_0026.nc',\n",
       " 'int_var_qv_R02B04_NARVALII_2016081100_fg_DOM01_0014.nc',\n",
       " 'int_var_qv_R02B04_NARVALII_2016081700_fg_DOM01_0035.nc',\n",
       " 'int_var_qv_R02B04_NARVALI_2013123000_fg_DOM01_0020.nc',\n",
       " 'int_var_qv_R02B04_NARVALI_2013121500_fg_DOM01_0036.nc',\n",
       " 'int_var_qv_R02B04_Barbados_2015083000_fg_DOM01_0042.nc',\n",
       " 'int_var_qv_R02B04_NARVALII_2016081500_fg_DOM01_0017.nc',\n",
       " 'int_var_qv_R02B04_NARVALI_2013120800_fg_DOM01_0014.nc',\n",
       " 'int_var_qv_R02B04_NARVALI_2013122500_fg_DOM01_0021.nc',\n",
       " 'int_var_qv_R02B04_NARVALII_2016073000_fg_DOM01_0022.nc',\n",
       " 'int_var_qv_R02B04_NARVALII_2016083100_fg_DOM01_0012.nc',\n",
       " 'int_var_qv_R02B04_NARVALII_2016080700_fg_DOM01_0018.nc',\n",
       " 'int_var_qv_R02B04_NARVALI_2013122500_fg_DOM01_0032.nc',\n",
       " 'int_var_qv_R02B04_NARVALII_2016072800_fg_DOM01_0032.nc',\n",
       " 'int_var_qv_R02B04_NARVALI_2013121700_fg_DOM01_0026.nc',\n",
       " 'int_var_qv_R02B04_NARVALII_2016082800_fg_DOM01_0016.nc',\n",
       " 'int_var_qv_R02B04_NARVALI_2013122000_fg_DOM01_0036.nc',\n",
       " 'int_var_qv_R02B04_NARVALI_2013122900_fg_DOM01_0018.nc',\n",
       " 'int_var_qv_R02B04_NARVALI_2013123100_fg_DOM01_0034.nc',\n",
       " 'int_var_qv_R02B04_NARVALI_2013122500_fg_DOM01_0012.nc',\n",
       " 'int_var_qv_R02B04_NARVALI_2013122800_fg_DOM01_0022.nc',\n",
       " 'int_var_qv_R02B04_NARVALI_2013120800_fg_DOM01_0024.nc',\n",
       " 'int_var_qv_R02B04_NARVALII_2016081600_fg_DOM01_0019.nc',\n",
       " 'int_var_qv_R02B04_NARVALI_2013122300_fg_DOM01_0019.nc',\n",
       " 'int_var_qv_R02B04_NARVALII_2016072800_fg_DOM01_0013.nc',\n",
       " 'int_var_qv_R02B04_NARVALI_2013122000_fg_DOM01_0033.nc',\n",
       " 'int_var_qv_R02B04_NARVALI_2013122600_fg_DOM01_0028.nc',\n",
       " 'int_var_qv_R02B04_NARVALII_2016082100_fg_DOM01_0035.nc',\n",
       " 'int_var_qv_R02B04_NARVALI_2013123000_fg_DOM01_0033.nc',\n",
       " 'int_var_qv_R02B04_NARVALII_2016080700_fg_DOM01_0024.nc',\n",
       " 'int_var_qv_R02B04_NARVALI_2013121200_fg_DOM01_0019.nc',\n",
       " 'int_var_qv_R02B04_NARVALI_2013120600_fg_DOM01_0033.nc',\n",
       " 'int_var_qv_R02B04_NARVALII_2016081600_fg_DOM01_0030.nc',\n",
       " 'int_var_qv_R02B04_NARVALII_2016081200_fg_DOM01_0028.nc',\n",
       " 'int_var_qv_R02B04_NARVALII_2016072800_fg_DOM01_0029.nc',\n",
       " 'int_var_qv_R02B04_NARVALII_2016073100_fg_DOM01_0016.nc',\n",
       " 'int_var_qv_R02B04_NARVALII_2016081400_fg_DOM01_0015.nc',\n",
       " 'int_var_qv_R02B04_NARVALII_2016082400_fg_DOM01_0020.nc',\n",
       " 'int_var_qv_R02B04_NARVALII_2016080800_fg_DOM01_0014.nc',\n",
       " 'int_var_qv_R02B04_NARVALII_2016080600_fg_DOM01_0030.nc',\n",
       " 'int_var_qv_R02B04_NARVALI_2013122000_fg_DOM01_0029.nc',\n",
       " 'int_var_qv_R02B04_NARVALII_2016082400_fg_DOM01_0029.nc',\n",
       " 'int_var_qv_R02B04_NARVALI_2013121500_fg_DOM01_0015.nc',\n",
       " 'int_var_qv_R02B04_NARVALI_2013120800_fg_DOM01_0035.nc',\n",
       " 'int_var_qv_R02B04_NARVALI_2013120200_fg_DOM01_0015.nc',\n",
       " 'int_var_qv_R02B04_NARVALII_2016081900_fg_DOM01_0033.nc',\n",
       " 'int_var_qv_R02B04_NARVALII_2016083000_fg_DOM01_0019.nc',\n",
       " 'int_var_qv_R02B04_NARVALII_2016081700_fg_DOM01_0036.nc',\n",
       " 'int_var_qv_R02B04_NARVALII_2016081100_fg_DOM01_0017.nc',\n",
       " 'int_var_qv_R02B04_NARVALI_2013120100_fg_DOM01_0031.nc',\n",
       " 'int_var_qv_R02B04_NARVALI_2013121700_fg_DOM01_0021.nc',\n",
       " 'int_var_qv_R02B04_NARVALI_2013120300_fg_DOM01_0034.nc',\n",
       " 'int_var_qv_R02B04_NARVALII_2016081300_fg_DOM01_0013.nc',\n",
       " 'int_var_qv_R02B04_NARVALI_2013121000_fg_DOM01_0019.nc',\n",
       " 'int_var_qv_R02B04_NARVALI_2013122000_fg_DOM01_0027.nc',\n",
       " 'int_var_qv_R02B04_Barbados_2015083000_fg_DOM01_0060.nc',\n",
       " 'int_var_qv_R02B04_NARVALII_2016082400_fg_DOM01_0018.nc',\n",
       " 'int_var_qv_R02B04_NARVALII_2016081400_fg_DOM01_0024.nc',\n",
       " 'int_var_qv_R02B04_NARVALI_2013121400_fg_DOM01_0032.nc',\n",
       " 'int_var_qv_R02B04_NARVALI_2013120100_fg_DOM01_0021.nc',\n",
       " 'int_var_qv_R02B04_NARVALII_2016081800_fg_DOM01_0026.nc',\n",
       " 'int_var_qv_R02B04_NARVALII_2016081900_fg_DOM01_0035.nc',\n",
       " 'int_var_qv_R02B04_NARVALI_2013121400_fg_DOM01_0036.nc',\n",
       " 'int_var_qv_R02B04_NARVALI_2013122900_fg_DOM01_0022.nc',\n",
       " 'int_var_qv_R02B04_NARVALII_2016083100_fg_DOM01_0033.nc',\n",
       " 'int_var_qv_R02B04_NARVALII_2016082100_fg_DOM01_0016.nc',\n",
       " 'int_var_qv_R02B04_NARVALI_2013121500_fg_DOM01_0035.nc',\n",
       " 'int_var_qv_R02B04_NARVALI_2013120200_fg_DOM01_0031.nc',\n",
       " 'int_var_qv_R02B04_NARVALII_2016073100_fg_DOM01_0022.nc',\n",
       " 'int_var_qv_R02B04_NARVALII_2016080400_fg_DOM01_0016.nc',\n",
       " 'int_var_qv_R02B04_NARVALII_2016072800_fg_DOM01_0015.nc',\n",
       " 'int_var_qv_R02B04_NARVALI_2013122000_fg_DOM01_0013.nc',\n",
       " 'int_var_qv_R02B04_NARVALII_2016080200_fg_DOM01_0016.nc',\n",
       " 'int_var_qv_R02B04_NARVALI_2013122300_fg_DOM01_0015.nc',\n",
       " 'int_var_qv_R02B04_NARVALII_2016073000_fg_DOM01_0035.nc',\n",
       " 'int_var_qv_R02B04_NARVALI_2013120600_fg_DOM01_0026.nc',\n",
       " 'int_var_qv_R02B04_NARVALII_2016080100_fg_DOM01_0017.nc',\n",
       " 'int_var_qv_R02B04_NARVALII_2016082700_fg_DOM01_0034.nc',\n",
       " 'int_var_qv_R02B04_NARVALI_2013122100_fg_DOM01_0035.nc',\n",
       " 'int_var_qv_R02B04_NARVALII_2016082300_fg_DOM01_0019.nc',\n",
       " 'int_var_qv_R02B04_NARVALII_2016082000_fg_DOM01_0036.nc',\n",
       " 'int_var_qv_R02B04_NARVALII_2016073100_fg_DOM01_0018.nc',\n",
       " 'int_var_qv_R02B04_NARVALI_2013120100_fg_DOM01_0034.nc',\n",
       " 'int_var_qv_R02B04_NARVALI_2013122800_fg_DOM01_0036.nc',\n",
       " 'int_var_qv_R02B04_NARVALI_2013121200_fg_DOM01_0033.nc',\n",
       " 'int_var_qv_R02B04_NARVALI_2013121200_fg_DOM01_0015.nc',\n",
       " 'int_var_qv_R02B04_NARVALII_2016081100_fg_DOM01_0018.nc',\n",
       " 'int_var_qv_R02B04_NARVALII_2016082200_fg_DOM01_0012.nc',\n",
       " 'int_var_qv_R02B04_NARVALII_2016080800_fg_DOM01_0018.nc',\n",
       " 'int_var_qv_R02B04_NARVALII_2016081000_fg_DOM01_0026.nc',\n",
       " 'int_var_qv_R02B04_NARVALII_2016081400_fg_DOM01_0020.nc',\n",
       " 'int_var_qv_R02B04_NARVALI_2013121100_fg_DOM01_0016.nc',\n",
       " 'int_var_qv_R02B04_NARVALII_2016082800_fg_DOM01_0025.nc',\n",
       " 'int_var_qv_R02B04_NARVALI_2013122300_fg_DOM01_0022.nc',\n",
       " 'int_var_qv_R02B04_NARVALI_2013120700_fg_DOM01_0023.nc',\n",
       " 'int_var_qv_R02B04_Barbados_2013122400_fg_DOM01_0022.nc',\n",
       " 'int_var_qv_R02B04_NARVALI_2013123100_fg_DOM01_0031.nc',\n",
       " 'int_var_qv_R02B04_NARVALI_2013122600_fg_DOM01_0029.nc',\n",
       " 'int_var_qv_R02B04_NARVALII_2016080600_fg_DOM01_0024.nc',\n",
       " 'int_var_qv_R02B04_NARVALII_2016080800_fg_DOM01_0021.nc',\n",
       " 'int_var_qv_R02B04_NARVALI_2013122900_fg_DOM01_0035.nc',\n",
       " 'int_var_qv_R02B04_NARVALII_2016082400_fg_DOM01_0022.nc',\n",
       " 'int_var_qv_R02B04_NARVALII_2016081500_fg_DOM01_0013.nc',\n",
       " 'int_var_qv_R02B04_NARVALII_2016072800_fg_DOM01_0014.nc',\n",
       " 'int_var_qv_R02B04_NARVALII_2016083000_fg_DOM01_0026.nc',\n",
       " 'int_var_qv_R02B04_NARVALII_2016082400_fg_DOM01_0028.nc',\n",
       " 'int_var_qv_R02B04_NARVALII_2016082500_fg_DOM01_0033.nc',\n",
       " 'int_var_qv_R02B04_NARVALII_2016073000_fg_DOM01_0015.nc',\n",
       " 'int_var_qv_R02B04_NARVALI_2013122600_fg_DOM01_0031.nc',\n",
       " 'int_var_qv_R02B04_NARVALII_2016082700_fg_DOM01_0014.nc',\n",
       " 'int_var_qv_R02B04_NARVALII_2016082300_fg_DOM01_0013.nc',\n",
       " 'int_var_qv_R02B04_NARVALII_2016081200_fg_DOM01_0019.nc',\n",
       " 'int_var_qv_R02B04_NARVALII_2016081700_fg_DOM01_0027.nc',\n",
       " 'int_var_qv_R02B04_NARVALII_2016082300_fg_DOM01_0018.nc',\n",
       " 'int_var_qv_R02B04_NARVALII_2016083100_fg_DOM01_0024.nc',\n",
       " 'int_var_qv_R02B04_NARVALI_2013123000_fg_DOM01_0015.nc',\n",
       " 'int_var_qv_R02B04_NARVALI_2013122500_fg_DOM01_0013.nc',\n",
       " 'int_var_qv_R02B04_NARVALII_2016081600_fg_DOM01_0015.nc',\n",
       " 'int_var_qv_R02B04_Barbados_2013122400_fg_DOM01_0016.nc',\n",
       " 'int_var_qv_R02B04_Barbados_2015083000_fg_DOM01_0046.nc',\n",
       " 'int_var_qv_R02B04_NARVALII_2016073100_fg_DOM01_0015.nc',\n",
       " 'int_var_qv_R02B04_NARVALI_2013122800_fg_DOM01_0027.nc',\n",
       " 'int_var_qv_R02B04_NARVALI_2013120800_fg_DOM01_0022.nc',\n",
       " 'int_var_qv_R02B04_NARVALII_2016080200_fg_DOM01_0032.nc',\n",
       " 'int_var_qv_R02B04_NARVALI_2013122500_fg_DOM01_0020.nc',\n",
       " 'int_var_qv_R02B04_NARVALII_2016082300_fg_DOM01_0014.nc',\n",
       " 'int_var_qv_R02B04_NARVALII_2016082100_fg_DOM01_0017.nc',\n",
       " 'int_var_qv_R02B04_NARVALII_2016082000_fg_DOM01_0016.nc',\n",
       " 'int_var_qv_R02B04_NARVALI_2013120200_fg_DOM01_0013.nc',\n",
       " 'int_var_qv_R02B04_NARVALI_2013122500_fg_DOM01_0033.nc',\n",
       " 'int_var_qv_R02B04_NARVALII_2016080500_fg_DOM01_0016.nc',\n",
       " 'int_var_qv_R02B04_NARVALI_2013120900_fg_DOM01_0012.nc',\n",
       " 'int_var_qv_R02B04_NARVALI_2013122300_fg_DOM01_0027.nc',\n",
       " 'int_var_qv_R02B04_Barbados_2015083000_fg_DOM01_0054.nc',\n",
       " 'int_var_qv_R02B04_NARVALII_2016082400_fg_DOM01_0014.nc',\n",
       " 'int_var_qv_R02B04_NARVALI_2013122300_fg_DOM01_0033.nc',\n",
       " 'int_var_qv_R02B04_NARVALII_2016081200_fg_DOM01_0026.nc',\n",
       " 'int_var_qv_R02B04_NARVALII_2016081000_fg_DOM01_0036.nc',\n",
       " 'int_var_qv_R02B04_NARVALI_2013121200_fg_DOM01_0036.nc',\n",
       " 'int_var_qv_R02B04_NARVALI_2013120500_fg_DOM01_0023.nc',\n",
       " 'int_var_qv_R02B04_NARVALII_2016081700_fg_DOM01_0019.nc',\n",
       " 'int_var_qv_R02B04_NARVALI_2013121000_fg_DOM01_0034.nc',\n",
       " 'int_var_qv_R02B04_NARVALI_2013121800_fg_DOM01_0032.nc',\n",
       " 'int_var_qv_R02B04_NARVALII_2016082900_fg_DOM01_0025.nc',\n",
       " 'int_var_qv_R02B04_Barbados_2015083000_fg_DOM01_0019.nc',\n",
       " 'int_var_qv_R02B04_NARVALI_2013122500_fg_DOM01_0015.nc',\n",
       " 'int_var_qv_R02B04_NARVALII_2016080300_fg_DOM01_0016.nc',\n",
       " 'int_var_qv_R02B04_NARVALII_2016081200_fg_DOM01_0014.nc',\n",
       " 'int_var_qv_R02B04_NARVALII_2016081000_fg_DOM01_0021.nc',\n",
       " 'int_var_qv_R02B04_NARVALI_2013121800_fg_DOM01_0031.nc',\n",
       " 'int_var_qv_R02B04_NARVALI_2013121700_fg_DOM01_0012.nc',\n",
       " 'int_var_qv_R02B04_NARVALII_2016081200_fg_DOM01_0030.nc',\n",
       " 'int_var_qv_R02B04_NARVALII_2016080600_fg_DOM01_0035.nc',\n",
       " 'int_var_qv_R02B04_NARVALI_2013122600_fg_DOM01_0030.nc',\n",
       " 'int_var_qv_R02B04_NARVALII_2016082300_fg_DOM01_0026.nc',\n",
       " 'int_var_qv_R02B04_NARVALII_2016082800_fg_DOM01_0033.nc',\n",
       " 'int_var_qv_R02B04_Barbados_2015083000_fg_DOM01_0016.nc',\n",
       " 'int_var_qv_R02B04_NARVALI_2013120100_fg_DOM01_0032.nc',\n",
       " 'int_var_qv_R02B04_NARVALI_2013122900_fg_DOM01_0015.nc',\n",
       " 'int_var_qv_R02B04_NARVALII_2016081800_fg_DOM01_0023.nc',\n",
       " 'int_var_qv_R02B04_NARVALII_2016082000_fg_DOM01_0012.nc',\n",
       " 'int_var_qv_R02B04_NARVALI_2013121200_fg_DOM01_0030.nc',\n",
       " 'int_var_qv_R02B04_NARVALI_2013122500_fg_DOM01_0034.nc',\n",
       " 'int_var_qv_R02B04_NARVALI_2013122100_fg_DOM01_0013.nc',\n",
       " 'int_var_qv_R02B04_NARVALII_2016082900_fg_DOM01_0017.nc',\n",
       " 'int_var_qv_R02B04_NARVALII_2016081900_fg_DOM01_0017.nc',\n",
       " 'int_var_qv_R02B04_NARVALI_2013121700_fg_DOM01_0033.nc',\n",
       " 'int_var_qv_R02B04_NARVALII_2016080200_fg_DOM01_0029.nc',\n",
       " 'int_var_qv_R02B04_NARVALII_2016082600_fg_DOM01_0018.nc',\n",
       " 'int_var_qv_R02B04_NARVALI_2013122900_fg_DOM01_0032.nc',\n",
       " 'int_var_qv_R02B04_NARVALII_2016080300_fg_DOM01_0017.nc',\n",
       " 'int_var_qv_R02B04_NARVALI_2013121200_fg_DOM01_0022.nc',\n",
       " 'int_var_qv_R02B04_NARVALI_2013121700_fg_DOM01_0019.nc',\n",
       " 'int_var_qv_R02B04_NARVALI_2013122700_fg_DOM01_0026.nc',\n",
       " 'int_var_qv_R02B04_NARVALII_2016080400_fg_DOM01_0014.nc',\n",
       " 'int_var_qv_R02B04_NARVALI_2013123000_fg_DOM01_0023.nc',\n",
       " 'int_var_qv_R02B04_NARVALII_2016081000_fg_DOM01_0022.nc',\n",
       " 'int_var_qv_R02B04_NARVALI_2013122200_fg_DOM01_0035.nc',\n",
       " 'int_var_qv_R02B04_NARVALII_2016080300_fg_DOM01_0026.nc',\n",
       " 'int_var_qv_R02B04_NARVALII_2016082300_fg_DOM01_0031.nc',\n",
       " 'int_var_qv_R02B04_NARVALII_2016072900_fg_DOM01_0014.nc',\n",
       " 'int_var_qv_R02B04_NARVALII_2016081100_fg_DOM01_0034.nc',\n",
       " 'int_var_qv_R02B04_NARVALI_2013122000_fg_DOM01_0023.nc',\n",
       " 'int_var_qv_R02B04_NARVALII_2016083100_fg_DOM01_0034.nc',\n",
       " 'int_var_qv_R02B04_NARVALI_2013120300_fg_DOM01_0023.nc',\n",
       " 'int_var_qv_R02B04_NARVALII_2016081500_fg_DOM01_0034.nc',\n",
       " 'int_var_qv_R02B04_NARVALI_2013120200_fg_DOM01_0027.nc',\n",
       " 'int_var_qv_R02B04_NARVALI_2013122900_fg_DOM01_0030.nc',\n",
       " 'int_var_qv_R02B04_NARVALII_2016080300_fg_DOM01_0013.nc',\n",
       " 'int_var_qv_R02B04_NARVALII_2016082700_fg_DOM01_0023.nc',\n",
       " 'int_var_qv_R02B04_NARVALI_2013121800_fg_DOM01_0014.nc',\n",
       " 'int_var_qv_R02B04_NARVALII_2016080700_fg_DOM01_0031.nc',\n",
       " 'int_var_qv_R02B04_NARVALII_2016081500_fg_DOM01_0021.nc',\n",
       " 'int_var_qv_R02B04_NARVALII_2016081100_fg_DOM01_0028.nc',\n",
       " 'int_var_qv_R02B04_NARVALI_2013122700_fg_DOM01_0029.nc',\n",
       " 'int_var_qv_R02B04_NARVALII_2016080700_fg_DOM01_0015.nc',\n",
       " 'int_var_qv_R02B04_NARVALI_2013120300_fg_DOM01_0021.nc',\n",
       " 'int_var_qv_R02B04_NARVALII_2016080800_fg_DOM01_0017.nc',\n",
       " 'int_var_qv_R02B04_NARVALII_2016081500_fg_DOM01_0036.nc',\n",
       " 'int_var_qv_R02B04_NARVALII_2016081000_fg_DOM01_0030.nc',\n",
       " 'int_var_qv_R02B04_NARVALI_2013120900_fg_DOM01_0021.nc',\n",
       " 'int_var_qv_R02B04_NARVALII_2016080200_fg_DOM01_0019.nc',\n",
       " 'int_var_qv_R02B04_NARVALI_2013122300_fg_DOM01_0028.nc',\n",
       " 'int_var_qv_R02B04_NARVALI_2013121100_fg_DOM01_0023.nc',\n",
       " 'int_var_qv_R02B04_NARVALI_2013120200_fg_DOM01_0029.nc',\n",
       " 'int_var_qv_R02B04_NARVALII_2016082700_fg_DOM01_0013.nc',\n",
       " 'int_var_qv_R02B04_NARVALII_2016080400_fg_DOM01_0018.nc',\n",
       " 'int_var_qv_R02B04_NARVALII_2016081800_fg_DOM01_0032.nc',\n",
       " 'int_var_qv_R02B04_NARVALI_2013122500_fg_DOM01_0035.nc',\n",
       " 'int_var_qv_R02B04_NARVALI_2013121400_fg_DOM01_0028.nc',\n",
       " 'int_var_qv_R02B04_NARVALI_2013120800_fg_DOM01_0034.nc',\n",
       " 'int_var_qv_R02B04_NARVALII_2016080300_fg_DOM01_0033.nc',\n",
       " 'int_var_qv_R02B04_NARVALII_2016080200_fg_DOM01_0026.nc',\n",
       " 'int_var_qv_R02B04_NARVALII_2016082400_fg_DOM01_0024.nc',\n",
       " 'int_var_qv_R02B04_NARVALI_2013121300_fg_DOM01_0017.nc',\n",
       " 'int_var_qv_R02B04_NARVALI_2013121400_fg_DOM01_0013.nc',\n",
       " 'int_var_qv_R02B04_NARVALI_2013121200_fg_DOM01_0029.nc',\n",
       " 'int_var_qv_R02B04_NARVALI_2013122000_fg_DOM01_0024.nc',\n",
       " 'int_var_qv_R02B04_NARVALII_2016072900_fg_DOM01_0020.nc',\n",
       " 'int_var_qv_R02B04_NARVALII_2016082900_fg_DOM01_0032.nc',\n",
       " 'int_var_qv_R02B04_NARVALII_2016080100_fg_DOM01_0020.nc',\n",
       " 'int_var_qv_R02B04_NARVALI_2013120900_fg_DOM01_0024.nc',\n",
       " 'int_var_qv_R02B04_NARVALI_2013121400_fg_DOM01_0017.nc',\n",
       " 'int_var_qv_R02B04_NARVALII_2016080800_fg_DOM01_0016.nc',\n",
       " 'int_var_qv_R02B04_NARVALII_2016081500_fg_DOM01_0029.nc',\n",
       " 'int_var_qv_R02B04_NARVALII_2016081500_fg_DOM01_0015.nc',\n",
       " 'int_var_qv_R02B04_NARVALII_2016081500_fg_DOM01_0018.nc',\n",
       " 'int_var_qv_R02B04_NARVALI_2013120300_fg_DOM01_0016.nc',\n",
       " 'int_var_qv_R02B04_NARVALII_2016081300_fg_DOM01_0029.nc',\n",
       " 'int_var_qv_R02B04_NARVALII_2016081100_fg_DOM01_0031.nc',\n",
       " 'int_var_qv_R02B04_NARVALII_2016082300_fg_DOM01_0027.nc',\n",
       " 'int_var_qv_R02B04_NARVALII_2016080900_fg_DOM01_0035.nc',\n",
       " 'int_var_qv_R02B04_NARVALI_2013122100_fg_DOM01_0019.nc',\n",
       " 'int_var_qv_R02B04_NARVALI_2013122200_fg_DOM01_0022.nc',\n",
       " 'int_var_qv_R02B04_Barbados_2015083000_fg_DOM01_0037.nc',\n",
       " 'int_var_qv_R02B04_NARVALII_2016081600_fg_DOM01_0024.nc',\n",
       " 'int_var_qv_R02B04_NARVALII_2016082500_fg_DOM01_0022.nc',\n",
       " 'int_var_qv_R02B04_NARVALI_2013121200_fg_DOM01_0034.nc',\n",
       " 'int_var_qv_R02B04_NARVALII_2016081900_fg_DOM01_0018.nc',\n",
       " 'int_var_qv_R02B04_NARVALII_2016080400_fg_DOM01_0017.nc',\n",
       " 'int_var_qv_R02B04_NARVALI_2013120700_fg_DOM01_0033.nc',\n",
       " 'int_var_qv_R02B04_NARVALII_2016080100_fg_DOM01_0015.nc',\n",
       " 'int_var_qv_R02B04_NARVALII_2016082200_fg_DOM01_0014.nc',\n",
       " 'int_var_qv_R02B04_NARVALI_2013120100_fg_DOM01_0030.nc',\n",
       " 'int_var_qv_R02B04_NARVALI_2013120400_fg_DOM01_0018.nc',\n",
       " 'int_var_qv_R02B04_NARVALII_2016081000_fg_DOM01_0023.nc',\n",
       " 'int_var_qv_R02B04_NARVALI_2013122200_fg_DOM01_0027.nc',\n",
       " 'int_var_qv_R02B04_NARVALI_2013120500_fg_DOM01_0016.nc',\n",
       " 'int_var_qv_R02B04_NARVALII_2016081500_fg_DOM01_0033.nc',\n",
       " 'int_var_qv_R02B04_NARVALI_2013122800_fg_DOM01_0032.nc',\n",
       " 'int_var_qv_R02B04_NARVALI_2013121600_fg_DOM01_0031.nc',\n",
       " 'int_var_qv_R02B04_NARVALII_2016073100_fg_DOM01_0031.nc',\n",
       " 'int_var_qv_R02B04_Barbados_2015083000_fg_DOM01_0055.nc',\n",
       " 'int_var_qv_R02B04_NARVALII_2016083100_fg_DOM01_0017.nc',\n",
       " 'int_var_qv_R02B04_NARVALII_2016082000_fg_DOM01_0033.nc',\n",
       " 'int_var_qv_R02B04_NARVALI_2013123100_fg_DOM01_0030.nc',\n",
       " 'int_var_qv_R02B04_NARVALII_2016072900_fg_DOM01_0033.nc',\n",
       " 'int_var_qv_R02B04_NARVALII_2016082600_fg_DOM01_0023.nc',\n",
       " 'int_var_qv_R02B04_NARVALII_2016081100_fg_DOM01_0033.nc',\n",
       " 'int_var_qv_R02B04_NARVALII_2016081800_fg_DOM01_0022.nc',\n",
       " 'int_var_qv_R02B04_NARVALII_2016080200_fg_DOM01_0030.nc',\n",
       " 'int_var_qv_R02B04_NARVALII_2016082400_fg_DOM01_0030.nc',\n",
       " 'int_var_qv_R02B04_NARVALII_2016073100_fg_DOM01_0019.nc',\n",
       " 'int_var_qv_R02B04_NARVALI_2013120400_fg_DOM01_0014.nc',\n",
       " 'int_var_qv_R02B04_NARVALII_2016080800_fg_DOM01_0030.nc',\n",
       " 'int_var_qv_R02B04_NARVALII_2016072800_fg_DOM01_0028.nc',\n",
       " 'int_var_qv_R02B04_NARVALII_2016080100_fg_DOM01_0036.nc',\n",
       " 'int_var_qv_R02B04_NARVALII_2016080800_fg_DOM01_0015.nc',\n",
       " 'int_var_qv_R02B04_NARVALI_2013122800_fg_DOM01_0029.nc',\n",
       " 'int_var_qv_R02B04_NARVALI_2013122500_fg_DOM01_0031.nc',\n",
       " 'int_var_qv_R02B04_NARVALII_2016082300_fg_DOM01_0017.nc',\n",
       " 'int_var_qv_R02B04_NARVALII_2016082600_fg_DOM01_0015.nc',\n",
       " 'int_var_qv_R02B04_NARVALI_2013122000_fg_DOM01_0022.nc',\n",
       " 'int_var_qv_R02B04_NARVALII_2016082100_fg_DOM01_0013.nc',\n",
       " 'int_var_qv_R02B04_NARVALII_2016080800_fg_DOM01_0025.nc',\n",
       " 'int_var_qv_R02B04_NARVALII_2016081000_fg_DOM01_0017.nc',\n",
       " 'int_var_qv_R02B04_NARVALII_2016080600_fg_DOM01_0032.nc',\n",
       " 'int_var_qv_R02B04_NARVALII_2016083000_fg_DOM01_0029.nc',\n",
       " 'int_var_qv_R02B04_NARVALII_2016081500_fg_DOM01_0035.nc',\n",
       " 'int_var_qv_R02B04_NARVALI_2013121400_fg_DOM01_0020.nc',\n",
       " 'int_var_qv_R02B04_NARVALII_2016081000_fg_DOM01_0027.nc',\n",
       " 'int_var_qv_R02B04_NARVALII_2016080100_fg_DOM01_0023.nc',\n",
       " 'int_var_qv_R02B04_NARVALII_2016073100_fg_DOM01_0029.nc',\n",
       " 'int_var_qv_R02B04_NARVALI_2013122800_fg_DOM01_0016.nc',\n",
       " 'int_var_qv_R02B04_NARVALI_2013121400_fg_DOM01_0016.nc',\n",
       " 'int_var_qv_R02B04_NARVALI_2013121800_fg_DOM01_0029.nc',\n",
       " 'int_var_qv_R02B04_NARVALI_2013122200_fg_DOM01_0029.nc',\n",
       " 'int_var_qv_R02B04_NARVALII_2016073000_fg_DOM01_0017.nc',\n",
       " 'int_var_qv_R02B04_NARVALI_2013120800_fg_DOM01_0018.nc',\n",
       " 'int_var_qv_R02B04_Barbados_2015083000_fg_DOM01_0033.nc',\n",
       " 'int_var_qv_R02B04_NARVALI_2013123100_fg_DOM01_0035.nc',\n",
       " 'int_var_qv_R02B04_NARVALI_2013121000_fg_DOM01_0028.nc',\n",
       " 'int_var_qv_R02B04_NARVALII_2016081300_fg_DOM01_0028.nc',\n",
       " 'int_var_qv_R02B04_NARVALII_2016082200_fg_DOM01_0015.nc',\n",
       " 'int_var_qv_R02B04_NARVALI_2013120200_fg_DOM01_0036.nc',\n",
       " 'int_var_qv_R02B04_NARVALI_2013121100_fg_DOM01_0013.nc',\n",
       " 'int_var_qv_R02B04_NARVALII_2016081500_fg_DOM01_0031.nc',\n",
       " 'int_var_qv_R02B04_NARVALII_2016082900_fg_DOM01_0020.nc',\n",
       " 'int_var_qv_R02B04_NARVALII_2016082000_fg_DOM01_0021.nc',\n",
       " 'int_var_qv_R02B04_NARVALII_2016080300_fg_DOM01_0024.nc',\n",
       " 'int_var_qv_R02B04_NARVALII_2016082800_fg_DOM01_0024.nc',\n",
       " 'int_var_qv_R02B04_NARVALII_2016081700_fg_DOM01_0032.nc',\n",
       " 'int_var_qv_R02B04_NARVALII_2016081000_fg_DOM01_0014.nc',\n",
       " 'int_var_qv_R02B04_NARVALII_2016072900_fg_DOM01_0022.nc',\n",
       " 'int_var_qv_R02B04_NARVALII_2016082100_fg_DOM01_0025.nc',\n",
       " 'int_var_qv_R02B04_NARVALI_2013121200_fg_DOM01_0027.nc',\n",
       " 'int_var_qv_R02B04_NARVALI_2013121100_fg_DOM01_0035.nc',\n",
       " 'int_var_qv_R02B04_NARVALII_2016083000_fg_DOM01_0018.nc',\n",
       " 'int_var_qv_R02B04_NARVALI_2013121000_fg_DOM01_0021.nc',\n",
       " 'int_var_qv_R02B04_NARVALII_2016081300_fg_DOM01_0036.nc',\n",
       " 'int_var_qv_R02B04_NARVALI_2013120900_fg_DOM01_0019.nc',\n",
       " 'int_var_qv_R02B04_NARVALII_2016080300_fg_DOM01_0025.nc',\n",
       " 'int_var_qv_R02B04_NARVALII_2016081800_fg_DOM01_0031.nc',\n",
       " 'int_var_qv_R02B04_NARVALII_2016080600_fg_DOM01_0026.nc',\n",
       " 'int_var_qv_R02B04_NARVALII_2016081200_fg_DOM01_0018.nc',\n",
       " 'int_var_qv_R02B04_NARVALI_2013121700_fg_DOM01_0031.nc',\n",
       " 'int_var_qv_R02B04_NARVALII_2016081500_fg_DOM01_0026.nc',\n",
       " 'int_var_qv_R02B04_NARVALI_2013122700_fg_DOM01_0035.nc',\n",
       " 'int_var_qv_R02B04_NARVALI_2013122200_fg_DOM01_0014.nc',\n",
       " 'int_var_qv_R02B04_NARVALI_2013120100_fg_DOM01_0017.nc',\n",
       " 'int_var_qv_R02B04_NARVALI_2013121500_fg_DOM01_0033.nc',\n",
       " 'int_var_qv_R02B04_Barbados_2015083000_fg_DOM01_0045.nc',\n",
       " 'int_var_qv_R02B04_NARVALI_2013121300_fg_DOM01_0033.nc',\n",
       " 'int_var_qv_R02B04_NARVALI_2013121900_fg_DOM01_0033.nc',\n",
       " 'int_var_qv_R02B04_NARVALI_2013120600_fg_DOM01_0024.nc',\n",
       " 'int_var_qv_R02B04_NARVALII_2016080500_fg_DOM01_0012.nc',\n",
       " 'int_var_qv_R02B04_NARVALII_2016081000_fg_DOM01_0031.nc',\n",
       " 'int_var_qv_R02B04_NARVALII_2016082900_fg_DOM01_0027.nc',\n",
       " 'int_var_qv_R02B04_NARVALII_2016072800_fg_DOM01_0034.nc',\n",
       " 'int_var_qv_R02B04_NARVALII_2016080500_fg_DOM01_0014.nc',\n",
       " 'int_var_qv_R02B04_NARVALII_2016082000_fg_DOM01_0014.nc',\n",
       " 'int_var_qv_R02B04_NARVALII_2016083100_fg_DOM01_0018.nc',\n",
       " 'int_var_qv_R02B04_Barbados_2015083000_fg_DOM01_0036.nc',\n",
       " 'int_var_qv_R02B04_NARVALII_2016073000_fg_DOM01_0013.nc',\n",
       " 'int_var_qv_R02B04_NARVALII_2016080700_fg_DOM01_0034.nc',\n",
       " 'int_var_qv_R02B04_NARVALI_2013120700_fg_DOM01_0017.nc',\n",
       " 'int_var_qv_R02B04_NARVALI_2013121700_fg_DOM01_0034.nc',\n",
       " 'int_var_qv_R02B04_NARVALI_2013121000_fg_DOM01_0016.nc',\n",
       " 'int_var_qv_R02B04_NARVALII_2016080800_fg_DOM01_0035.nc',\n",
       " 'int_var_qv_R02B04_NARVALII_2016081600_fg_DOM01_0014.nc',\n",
       " 'int_var_qv_R02B04_NARVALII_2016072800_fg_DOM01_0036.nc',\n",
       " 'int_var_qv_R02B04_NARVALI_2013121500_fg_DOM01_0027.nc',\n",
       " 'int_var_qv_R02B04_NARVALII_2016081300_fg_DOM01_0019.nc',\n",
       " 'int_var_qv_R02B04_NARVALII_2016080700_fg_DOM01_0020.nc',\n",
       " 'int_var_qv_R02B04_NARVALII_2016082600_fg_DOM01_0027.nc',\n",
       " 'int_var_qv_R02B04_Barbados_2015083000_fg_DOM01_0013.nc',\n",
       " 'int_var_qv_R02B04_NARVALI_2013121200_fg_DOM01_0016.nc',\n",
       " 'int_var_qv_R02B04_NARVALII_2016080400_fg_DOM01_0012.nc',\n",
       " 'int_var_qv_R02B04_NARVALII_2016080800_fg_DOM01_0031.nc',\n",
       " 'int_var_qv_R02B04_NARVALI_2013122700_fg_DOM01_0024.nc',\n",
       " 'int_var_qv_R02B04_NARVALII_2016080200_fg_DOM01_0023.nc',\n",
       " 'int_var_qv_R02B04_NARVALI_2013122700_fg_DOM01_0017.nc',\n",
       " 'int_var_qv_R02B04_NARVALI_2013122100_fg_DOM01_0026.nc',\n",
       " 'int_var_qv_R02B04_NARVALII_2016080800_fg_DOM01_0012.nc',\n",
       " 'int_var_qv_R02B04_NARVALI_2013121100_fg_DOM01_0034.nc',\n",
       " 'int_var_qv_R02B04_NARVALII_2016082100_fg_DOM01_0030.nc',\n",
       " 'int_var_qv_R02B04_NARVALII_2016081800_fg_DOM01_0017.nc',\n",
       " 'int_var_qv_R02B04_NARVALI_2013121600_fg_DOM01_0015.nc',\n",
       " 'int_var_qv_R02B04_NARVALI_2013120500_fg_DOM01_0022.nc',\n",
       " 'int_var_qv_R02B04_NARVALII_2016080100_fg_DOM01_0014.nc',\n",
       " 'int_var_qv_R02B04_NARVALI_2013120800_fg_DOM01_0033.nc',\n",
       " 'int_var_qv_R02B04_NARVALII_2016082200_fg_DOM01_0013.nc',\n",
       " 'int_var_qv_R02B04_NARVALI_2013122000_fg_DOM01_0035.nc',\n",
       " 'int_var_qv_R02B04_NARVALII_2016081300_fg_DOM01_0035.nc',\n",
       " 'int_var_qv_R02B04_NARVALI_2013120600_fg_DOM01_0023.nc',\n",
       " 'int_var_qv_R02B04_NARVALII_2016081200_fg_DOM01_0025.nc',\n",
       " 'int_var_qv_R02B04_NARVALI_2013120700_fg_DOM01_0034.nc',\n",
       " 'int_var_qv_R02B04_NARVALII_2016072900_fg_DOM01_0018.nc',\n",
       " 'int_var_qv_R02B04_NARVALI_2013121200_fg_DOM01_0032.nc',\n",
       " 'int_var_qv_R02B04_NARVALII_2016080300_fg_DOM01_0035.nc',\n",
       " 'int_var_qv_R02B04_NARVALI_2013122700_fg_DOM01_0031.nc',\n",
       " 'int_var_qv_R02B04_NARVALI_2013122900_fg_DOM01_0027.nc',\n",
       " 'int_var_qv_R02B04_NARVALII_2016082700_fg_DOM01_0012.nc',\n",
       " 'int_var_qv_R02B04_Barbados_2015083000_fg_DOM01_0038.nc',\n",
       " 'int_var_qv_R02B04_NARVALII_2016073000_fg_DOM01_0021.nc',\n",
       " 'int_var_qv_R02B04_NARVALII_2016080600_fg_DOM01_0023.nc',\n",
       " 'int_var_qv_R02B04_NARVALII_2016082700_fg_DOM01_0015.nc',\n",
       " 'int_var_qv_R02B04_Barbados_2015083000_fg_DOM01_0056.nc',\n",
       " 'int_var_qv_R02B04_NARVALI_2013120200_fg_DOM01_0033.nc',\n",
       " 'int_var_qv_R02B04_NARVALI_2013120700_fg_DOM01_0026.nc',\n",
       " 'int_var_qv_R02B04_NARVALI_2013122300_fg_DOM01_0032.nc',\n",
       " 'int_var_qv_R02B04_NARVALII_2016080200_fg_DOM01_0020.nc',\n",
       " 'int_var_qv_R02B04_NARVALII_2016082900_fg_DOM01_0035.nc',\n",
       " 'int_var_qv_R02B04_NARVALII_2016073000_fg_DOM01_0026.nc',\n",
       " 'int_var_qv_R02B04_NARVALI_2013121500_fg_DOM01_0018.nc',\n",
       " 'int_var_qv_R02B04_NARVALII_2016081100_fg_DOM01_0020.nc',\n",
       " 'int_var_qv_R02B04_NARVALI_2013122100_fg_DOM01_0033.nc',\n",
       " 'int_var_qv_R02B04_NARVALI_2013122700_fg_DOM01_0015.nc',\n",
       " 'int_var_qv_R02B04_NARVALI_2013122100_fg_DOM01_0034.nc',\n",
       " 'int_var_qv_R02B04_NARVALII_2016080500_fg_DOM01_0013.nc',\n",
       " 'int_var_qv_R02B04_NARVALI_2013120100_fg_DOM01_0029.nc',\n",
       " 'int_var_qv_R02B04_NARVALI_2013121600_fg_DOM01_0012.nc',\n",
       " 'int_var_qv_R02B04_NARVALI_2013123000_fg_DOM01_0029.nc',\n",
       " 'int_var_qv_R02B04_NARVALI_2013120100_fg_DOM01_0023.nc',\n",
       " 'int_var_qv_R02B04_NARVALII_2016080800_fg_DOM01_0033.nc',\n",
       " 'int_var_qv_R02B04_NARVALII_2016081400_fg_DOM01_0021.nc',\n",
       " 'int_var_qv_R02B04_NARVALII_2016082400_fg_DOM01_0015.nc',\n",
       " 'int_var_qv_R02B04_NARVALII_2016082700_fg_DOM01_0027.nc',\n",
       " 'int_var_qv_R02B04_NARVALII_2016080500_fg_DOM01_0031.nc',\n",
       " 'int_var_qv_R02B04_NARVALII_2016073000_fg_DOM01_0027.nc',\n",
       " 'int_var_qv_R02B04_NARVALI_2013120200_fg_DOM01_0020.nc',\n",
       " 'int_var_qv_R02B04_NARVALI_2013122900_fg_DOM01_0017.nc',\n",
       " 'int_var_qv_R02B04_NARVALII_2016082600_fg_DOM01_0022.nc',\n",
       " 'int_var_qv_R02B04_NARVALII_2016082800_fg_DOM01_0036.nc',\n",
       " 'int_var_qv_R02B04_Barbados_2013122400_fg_DOM01_0034.nc',\n",
       " 'int_var_qv_R02B04_NARVALII_2016080900_fg_DOM01_0025.nc',\n",
       " 'int_var_qv_R02B04_NARVALII_2016080300_fg_DOM01_0030.nc',\n",
       " 'int_var_qv_R02B04_NARVALI_2013121500_fg_DOM01_0021.nc',\n",
       " 'int_var_qv_R02B04_NARVALII_2016080700_fg_DOM01_0016.nc',\n",
       " 'int_var_qv_R02B04_NARVALII_2016080500_fg_DOM01_0034.nc',\n",
       " 'int_var_qv_R02B04_NARVALII_2016082700_fg_DOM01_0020.nc',\n",
       " 'int_var_qv_R02B04_NARVALII_2016082000_fg_DOM01_0025.nc',\n",
       " 'int_var_qv_R02B04_NARVALII_2016080100_fg_DOM01_0018.nc',\n",
       " 'int_var_qv_R02B04_NARVALII_2016081800_fg_DOM01_0035.nc',\n",
       " 'int_var_qv_R02B04_NARVALII_2016082900_fg_DOM01_0014.nc',\n",
       " 'int_var_qv_R02B04_NARVALI_2013121300_fg_DOM01_0012.nc',\n",
       " 'int_var_qv_R02B04_NARVALI_2013122500_fg_DOM01_0018.nc',\n",
       " 'int_var_qv_R02B04_NARVALII_2016072800_fg_DOM01_0030.nc',\n",
       " 'int_var_qv_R02B04_NARVALI_2013122200_fg_DOM01_0031.nc',\n",
       " 'int_var_qv_R02B04_NARVALII_2016080600_fg_DOM01_0027.nc',\n",
       " 'int_var_qv_R02B04_NARVALII_2016081500_fg_DOM01_0028.nc',\n",
       " 'int_var_qv_R02B04_NARVALI_2013122900_fg_DOM01_0029.nc',\n",
       " 'int_var_qv_R02B04_Barbados_2013122400_fg_DOM01_0014.nc',\n",
       " 'int_var_qv_R02B04_NARVALII_2016080900_fg_DOM01_0021.nc',\n",
       " 'int_var_qv_R02B04_NARVALII_2016082600_fg_DOM01_0033.nc',\n",
       " 'int_var_qv_R02B04_NARVALII_2016081400_fg_DOM01_0025.nc',\n",
       " 'int_var_qv_R02B04_NARVALI_2013122100_fg_DOM01_0014.nc',\n",
       " 'int_var_qv_R02B04_NARVALI_2013122200_fg_DOM01_0025.nc',\n",
       " 'int_var_qv_R02B04_NARVALI_2013120700_fg_DOM01_0015.nc',\n",
       " 'int_var_qv_R02B04_NARVALII_2016082200_fg_DOM01_0029.nc',\n",
       " 'int_var_qv_R02B04_NARVALII_2016082000_fg_DOM01_0032.nc',\n",
       " 'int_var_qv_R02B04_NARVALII_2016082800_fg_DOM01_0012.nc',\n",
       " 'int_var_qv_R02B04_NARVALII_2016080800_fg_DOM01_0022.nc',\n",
       " 'int_var_qv_R02B04_NARVALII_2016081200_fg_DOM01_0013.nc',\n",
       " 'int_var_qv_R02B04_NARVALII_2016082900_fg_DOM01_0028.nc',\n",
       " 'int_var_qv_R02B04_NARVALII_2016081900_fg_DOM01_0016.nc',\n",
       " 'int_var_qv_R02B04_NARVALI_2013122800_fg_DOM01_0024.nc',\n",
       " 'int_var_qv_R02B04_NARVALI_2013120600_fg_DOM01_0032.nc',\n",
       " 'int_var_qv_R02B04_NARVALII_2016081600_fg_DOM01_0029.nc',\n",
       " 'int_var_qv_R02B04_NARVALII_2016080700_fg_DOM01_0032.nc',\n",
       " 'int_var_qv_R02B04_NARVALI_2013121000_fg_DOM01_0017.nc',\n",
       " 'int_var_qv_R02B04_NARVALII_2016081500_fg_DOM01_0025.nc',\n",
       " 'int_var_qv_R02B04_NARVALI_2013121300_fg_DOM01_0027.nc',\n",
       " 'int_var_qv_R02B04_NARVALI_2013121300_fg_DOM01_0035.nc',\n",
       " 'int_var_qv_R02B04_NARVALI_2013122000_fg_DOM01_0025.nc',\n",
       " 'int_var_qv_R02B04_NARVALII_2016082000_fg_DOM01_0015.nc',\n",
       " 'int_var_qv_R02B04_NARVALII_2016083000_fg_DOM01_0023.nc',\n",
       " 'int_var_qv_R02B04_NARVALI_2013120300_fg_DOM01_0022.nc',\n",
       " 'int_var_qv_R02B04_NARVALI_2013121700_fg_DOM01_0013.nc',\n",
       " 'int_var_qv_R02B04_NARVALII_2016081200_fg_DOM01_0020.nc',\n",
       " 'int_var_qv_R02B04_NARVALII_2016083100_fg_DOM01_0016.nc',\n",
       " 'int_var_qv_R02B04_NARVALII_2016082400_fg_DOM01_0036.nc',\n",
       " 'int_var_qv_R02B04_NARVALI_2013120800_fg_DOM01_0021.nc',\n",
       " 'int_var_qv_R02B04_NARVALI_2013122000_fg_DOM01_0031.nc',\n",
       " 'int_var_qv_R02B04_NARVALI_2013123100_fg_DOM01_0014.nc',\n",
       " 'int_var_qv_R02B04_NARVALII_2016083000_fg_DOM01_0027.nc',\n",
       " 'int_var_qv_R02B04_NARVALI_2013120200_fg_DOM01_0014.nc',\n",
       " 'int_var_qv_R02B04_NARVALI_2013122600_fg_DOM01_0035.nc',\n",
       " 'int_var_qv_R02B04_NARVALI_2013120500_fg_DOM01_0024.nc',\n",
       " 'int_var_qv_R02B04_NARVALII_2016081800_fg_DOM01_0027.nc',\n",
       " 'int_var_qv_R02B04_NARVALII_2016080700_fg_DOM01_0027.nc',\n",
       " 'int_var_qv_R02B04_NARVALII_2016082900_fg_DOM01_0016.nc',\n",
       " 'int_var_qv_R02B04_NARVALI_2013120100_fg_DOM01_0033.nc',\n",
       " 'int_var_qv_R02B04_NARVALI_2013121700_fg_DOM01_0015.nc',\n",
       " 'int_var_qv_R02B04_NARVALII_2016083000_fg_DOM01_0030.nc',\n",
       " 'int_var_qv_R02B04_NARVALII_2016082100_fg_DOM01_0026.nc',\n",
       " 'int_var_qv_R02B04_NARVALI_2013121000_fg_DOM01_0032.nc',\n",
       " 'int_var_qv_R02B04_NARVALII_2016082700_fg_DOM01_0022.nc',\n",
       " 'int_var_qv_R02B04_NARVALI_2013122000_fg_DOM01_0032.nc',\n",
       " 'int_var_qv_R02B04_NARVALI_2013121500_fg_DOM01_0025.nc',\n",
       " 'int_var_qv_R02B04_NARVALII_2016080100_fg_DOM01_0030.nc',\n",
       " 'int_var_qv_R02B04_NARVALI_2013120100_fg_DOM01_0026.nc',\n",
       " 'int_var_qv_R02B04_NARVALII_2016083000_fg_DOM01_0032.nc',\n",
       " 'int_var_qv_R02B04_Barbados_2015083000_fg_DOM01_0043.nc',\n",
       " 'int_var_qv_R02B04_NARVALI_2013123000_fg_DOM01_0031.nc',\n",
       " 'int_var_qv_R02B04_NARVALI_2013122700_fg_DOM01_0028.nc',\n",
       " 'int_var_qv_R02B04_NARVALII_2016081000_fg_DOM01_0013.nc',\n",
       " 'int_var_qv_R02B04_NARVALII_2016081800_fg_DOM01_0013.nc',\n",
       " 'int_var_qv_R02B04_NARVALI_2013120900_fg_DOM01_0014.nc',\n",
       " 'int_var_qv_R02B04_NARVALI_2013120300_fg_DOM01_0031.nc',\n",
       " 'int_var_qv_R02B04_NARVALII_2016080200_fg_DOM01_0012.nc',\n",
       " 'int_var_qv_R02B04_NARVALII_2016082500_fg_DOM01_0013.nc',\n",
       " 'int_var_qv_R02B04_NARVALI_2013120700_fg_DOM01_0016.nc',\n",
       " 'int_var_qv_R02B04_NARVALII_2016080300_fg_DOM01_0028.nc',\n",
       " 'int_var_qv_R02B04_NARVALI_2013121900_fg_DOM01_0029.nc',\n",
       " 'int_var_qv_R02B04_NARVALI_2013120800_fg_DOM01_0012.nc',\n",
       " 'int_var_qv_R02B04_Barbados_2015083000_fg_DOM01_0031.nc',\n",
       " 'int_var_qv_R02B04_NARVALII_2016080500_fg_DOM01_0036.nc',\n",
       " 'int_var_qv_R02B04_NARVALI_2013123000_fg_DOM01_0028.nc',\n",
       " 'int_var_qv_R02B04_NARVALI_2013122700_fg_DOM01_0018.nc',\n",
       " 'int_var_qv_R02B04_NARVALII_2016080900_fg_DOM01_0030.nc',\n",
       " 'int_var_qv_R02B04_NARVALII_2016082200_fg_DOM01_0019.nc',\n",
       " 'int_var_qv_R02B04_NARVALII_2016080700_fg_DOM01_0012.nc',\n",
       " 'int_var_qv_R02B04_NARVALI_2013122000_fg_DOM01_0017.nc',\n",
       " 'int_var_qv_R02B04_NARVALI_2013120500_fg_DOM01_0017.nc',\n",
       " 'int_var_qv_R02B04_NARVALII_2016082300_fg_DOM01_0024.nc',\n",
       " 'int_var_qv_R02B04_NARVALII_2016080500_fg_DOM01_0032.nc',\n",
       " 'int_var_qv_R02B04_NARVALI_2013120300_fg_DOM01_0014.nc',\n",
       " 'int_var_qv_R02B04_NARVALI_2013123000_fg_DOM01_0022.nc',\n",
       " 'int_var_qv_R02B04_NARVALII_2016081100_fg_DOM01_0024.nc',\n",
       " 'int_var_qv_R02B04_NARVALII_2016081900_fg_DOM01_0032.nc',\n",
       " 'int_var_qv_R02B04_NARVALI_2013121600_fg_DOM01_0027.nc',\n",
       " 'int_var_qv_R02B04_NARVALI_2013121000_fg_DOM01_0035.nc',\n",
       " 'int_var_qv_R02B04_NARVALI_2013120900_fg_DOM01_0031.nc',\n",
       " 'int_var_qv_R02B04_NARVALI_2013122200_fg_DOM01_0020.nc',\n",
       " 'int_var_qv_R02B04_NARVALII_2016080900_fg_DOM01_0015.nc',\n",
       " 'int_var_qv_R02B04_NARVALI_2013122500_fg_DOM01_0025.nc',\n",
       " 'int_var_qv_R02B04_NARVALII_2016082300_fg_DOM01_0036.nc',\n",
       " 'int_var_qv_R02B04_NARVALI_2013120300_fg_DOM01_0036.nc',\n",
       " 'int_var_qv_R02B04_NARVALII_2016081200_fg_DOM01_0029.nc',\n",
       " 'int_var_qv_R02B04_NARVALI_2013122500_fg_DOM01_0016.nc',\n",
       " 'int_var_qv_R02B04_NARVALI_2013121000_fg_DOM01_0027.nc',\n",
       " 'int_var_qv_R02B04_NARVALI_2013123100_fg_DOM01_0020.nc',\n",
       " 'int_var_qv_R02B04_NARVALII_2016081600_fg_DOM01_0022.nc',\n",
       " 'int_var_qv_R02B04_Barbados_2013122400_fg_DOM01_0021.nc',\n",
       " 'int_var_qv_R02B04_NARVALI_2013122100_fg_DOM01_0017.nc',\n",
       " 'int_var_qv_R02B04_NARVALII_2016080300_fg_DOM01_0031.nc',\n",
       " 'int_var_qv_R02B04_NARVALI_2013120900_fg_DOM01_0018.nc',\n",
       " 'int_var_qv_R02B04_NARVALII_2016081000_fg_DOM01_0033.nc',\n",
       " 'int_var_qv_R02B04_NARVALII_2016082700_fg_DOM01_0024.nc',\n",
       " 'int_var_qv_R02B04_NARVALI_2013120700_fg_DOM01_0032.nc',\n",
       " 'int_var_qv_R02B04_NARVALI_2013120500_fg_DOM01_0030.nc',\n",
       " 'int_var_qv_R02B04_NARVALII_2016082300_fg_DOM01_0025.nc',\n",
       " 'int_var_qv_R02B04_NARVALI_2013120400_fg_DOM01_0019.nc',\n",
       " 'int_var_qv_R02B04_NARVALI_2013120100_fg_DOM01_0013.nc',\n",
       " 'int_var_qv_R02B04_NARVALI_2013122700_fg_DOM01_0021.nc',\n",
       " 'int_var_qv_R02B04_NARVALII_2016080400_fg_DOM01_0028.nc',\n",
       " 'int_var_qv_R02B04_NARVALI_2013120900_fg_DOM01_0035.nc',\n",
       " 'int_var_qv_R02B04_NARVALI_2013120200_fg_DOM01_0019.nc',\n",
       " 'int_var_qv_R02B04_NARVALI_2013122600_fg_DOM01_0019.nc',\n",
       " 'int_var_qv_R02B04_NARVALII_2016082700_fg_DOM01_0032.nc',\n",
       " 'int_var_qv_R02B04_NARVALII_2016080600_fg_DOM01_0022.nc',\n",
       " 'int_var_qv_R02B04_Barbados_2015083000_fg_DOM01_0025.nc',\n",
       " 'int_var_qv_R02B04_NARVALI_2013122100_fg_DOM01_0023.nc',\n",
       " 'int_var_qv_R02B04_NARVALII_2016080900_fg_DOM01_0027.nc',\n",
       " 'int_var_qv_R02B04_NARVALII_2016081100_fg_DOM01_0023.nc',\n",
       " 'int_var_qv_R02B04_NARVALII_2016083000_fg_DOM01_0014.nc',\n",
       " 'int_var_qv_R02B04_NARVALI_2013120400_fg_DOM01_0013.nc',\n",
       " 'int_var_qv_R02B04_NARVALI_2013121800_fg_DOM01_0030.nc',\n",
       " 'int_var_qv_R02B04_NARVALI_2013122700_fg_DOM01_0013.nc',\n",
       " 'int_var_qv_R02B04_Barbados_2015083000_fg_DOM01_0022.nc',\n",
       " 'int_var_qv_R02B04_NARVALII_2016080900_fg_DOM01_0013.nc',\n",
       " 'int_var_qv_R02B04_NARVALI_2013122900_fg_DOM01_0024.nc',\n",
       " 'int_var_qv_R02B04_NARVALII_2016080500_fg_DOM01_0035.nc',\n",
       " 'int_var_qv_R02B04_NARVALII_2016081600_fg_DOM01_0025.nc',\n",
       " 'int_var_qv_R02B04_NARVALII_2016081600_fg_DOM01_0036.nc',\n",
       " 'int_var_qv_R02B04_NARVALI_2013120500_fg_DOM01_0027.nc',\n",
       " 'int_var_qv_R02B04_NARVALII_2016082600_fg_DOM01_0029.nc',\n",
       " 'int_var_qv_R02B04_NARVALII_2016082500_fg_DOM01_0020.nc',\n",
       " 'int_var_qv_R02B04_NARVALI_2013122100_fg_DOM01_0016.nc',\n",
       " 'int_var_qv_R02B04_NARVALI_2013122800_fg_DOM01_0021.nc',\n",
       " 'int_var_qv_R02B04_NARVALII_2016083000_fg_DOM01_0013.nc',\n",
       " 'int_var_qv_R02B04_NARVALII_2016080900_fg_DOM01_0033.nc',\n",
       " 'int_var_qv_R02B04_NARVALI_2013120300_fg_DOM01_0032.nc',\n",
       " 'int_var_qv_R02B04_NARVALII_2016080500_fg_DOM01_0020.nc',\n",
       " 'int_var_qv_R02B04_NARVALI_2013121900_fg_DOM01_0032.nc',\n",
       " 'int_var_qv_R02B04_NARVALII_2016081800_fg_DOM01_0034.nc',\n",
       " 'int_var_qv_R02B04_NARVALII_2016080400_fg_DOM01_0030.nc',\n",
       " 'int_var_qv_R02B04_NARVALII_2016082800_fg_DOM01_0022.nc',\n",
       " 'int_var_qv_R02B04_NARVALI_2013121900_fg_DOM01_0017.nc',\n",
       " 'int_var_qv_R02B04_NARVALI_2013122000_fg_DOM01_0034.nc',\n",
       " 'int_var_qv_R02B04_NARVALII_2016083100_fg_DOM01_0025.nc',\n",
       " 'int_var_qv_R02B04_NARVALII_2016082000_fg_DOM01_0024.nc',\n",
       " 'int_var_qv_R02B04_NARVALII_2016082600_fg_DOM01_0014.nc',\n",
       " 'int_var_qv_R02B04_NARVALI_2013121600_fg_DOM01_0030.nc',\n",
       " 'int_var_qv_R02B04_NARVALII_2016083000_fg_DOM01_0016.nc',\n",
       " 'int_var_qv_R02B04_NARVALII_2016080400_fg_DOM01_0034.nc',\n",
       " 'int_var_qv_R02B04_NARVALI_2013122300_fg_DOM01_0012.nc',\n",
       " 'int_var_qv_R02B04_NARVALII_2016081400_fg_DOM01_0036.nc',\n",
       " 'int_var_qv_R02B04_NARVALI_2013121100_fg_DOM01_0025.nc',\n",
       " 'int_var_qv_R02B04_Barbados_2015083000_fg_DOM01_0012.nc',\n",
       " 'int_var_qv_R02B04_NARVALI_2013120800_fg_DOM01_0015.nc',\n",
       " 'int_var_qv_R02B04_NARVALII_2016081700_fg_DOM01_0013.nc',\n",
       " 'int_var_qv_R02B04_NARVALII_2016080500_fg_DOM01_0017.nc',\n",
       " 'int_var_qv_R02B04_NARVALII_2016081600_fg_DOM01_0020.nc',\n",
       " 'int_var_qv_R02B04_NARVALII_2016080800_fg_DOM01_0032.nc',\n",
       " 'int_var_qv_R02B04_NARVALII_2016081600_fg_DOM01_0034.nc',\n",
       " 'int_var_qv_R02B04_Barbados_2013122400_fg_DOM01_0025.nc',\n",
       " 'int_var_qv_R02B04_NARVALI_2013120700_fg_DOM01_0035.nc',\n",
       " 'int_var_qv_R02B04_NARVALII_2016082200_fg_DOM01_0033.nc',\n",
       " 'int_var_qv_R02B04_NARVALI_2013122300_fg_DOM01_0020.nc',\n",
       " 'int_var_qv_R02B04_NARVALII_2016081900_fg_DOM01_0015.nc',\n",
       " 'int_var_qv_R02B04_NARVALII_2016080800_fg_DOM01_0036.nc',\n",
       " 'int_var_qv_R02B04_NARVALII_2016082400_fg_DOM01_0017.nc',\n",
       " 'int_var_qv_R02B04_NARVALI_2013122800_fg_DOM01_0034.nc',\n",
       " 'int_var_qv_R02B04_NARVALII_2016080600_fg_DOM01_0019.nc',\n",
       " 'int_var_qv_R02B04_NARVALII_2016081600_fg_DOM01_0018.nc',\n",
       " 'int_var_qv_R02B04_NARVALI_2013121500_fg_DOM01_0032.nc',\n",
       " 'int_var_qv_R02B04_NARVALI_2013121900_fg_DOM01_0019.nc',\n",
       " 'int_var_qv_R02B04_NARVALII_2016081000_fg_DOM01_0018.nc',\n",
       " 'int_var_qv_R02B04_NARVALI_2013120100_fg_DOM01_0035.nc',\n",
       " 'int_var_qv_R02B04_Barbados_2013122400_fg_DOM01_0018.nc',\n",
       " 'int_var_qv_R02B04_NARVALII_2016081200_fg_DOM01_0021.nc',\n",
       " 'int_var_qv_R02B04_NARVALI_2013120900_fg_DOM01_0036.nc',\n",
       " 'int_var_qv_R02B04_NARVALI_2013122800_fg_DOM01_0013.nc',\n",
       " 'int_var_qv_R02B04_NARVALI_2013121300_fg_DOM01_0029.nc',\n",
       " 'int_var_qv_R02B04_NARVALI_2013121600_fg_DOM01_0023.nc',\n",
       " 'int_var_qv_R02B04_NARVALI_2013120800_fg_DOM01_0023.nc',\n",
       " 'int_var_qv_R02B04_NARVALII_2016081700_fg_DOM01_0026.nc',\n",
       " 'int_var_qv_R02B04_NARVALII_2016082300_fg_DOM01_0030.nc',\n",
       " 'int_var_qv_R02B04_NARVALI_2013120900_fg_DOM01_0015.nc',\n",
       " 'int_var_qv_R02B04_NARVALII_2016080300_fg_DOM01_0018.nc',\n",
       " 'int_var_qv_R02B04_NARVALII_2016080500_fg_DOM01_0026.nc',\n",
       " 'int_var_qv_R02B04_NARVALII_2016082000_fg_DOM01_0034.nc',\n",
       " 'int_var_qv_R02B04_NARVALII_2016073000_fg_DOM01_0020.nc',\n",
       " 'int_var_qv_R02B04_NARVALI_2013121800_fg_DOM01_0018.nc',\n",
       " 'int_var_qv_R02B04_NARVALI_2013120200_fg_DOM01_0028.nc',\n",
       " 'int_var_qv_R02B04_NARVALI_2013120800_fg_DOM01_0026.nc',\n",
       " 'int_var_qv_R02B04_NARVALI_2013122800_fg_DOM01_0017.nc',\n",
       " 'int_var_qv_R02B04_Barbados_2015083000_fg_DOM01_0034.nc',\n",
       " 'int_var_qv_R02B04_NARVALII_2016080400_fg_DOM01_0029.nc',\n",
       " 'int_var_qv_R02B04_NARVALII_2016081400_fg_DOM01_0022.nc',\n",
       " 'int_var_qv_R02B04_NARVALI_2013122900_fg_DOM01_0036.nc',\n",
       " 'int_var_qv_R02B04_NARVALII_2016082700_fg_DOM01_0036.nc',\n",
       " 'int_var_qv_R02B04_NARVALII_2016081900_fg_DOM01_0029.nc',\n",
       " 'int_var_qv_R02B04_Barbados_2015083000_fg_DOM01_0020.nc',\n",
       " 'int_var_qv_R02B04_NARVALI_2013123100_fg_DOM01_0025.nc',\n",
       " 'int_var_qv_R02B04_NARVALII_2016080900_fg_DOM01_0028.nc',\n",
       " 'int_var_qv_R02B04_NARVALII_2016073000_fg_DOM01_0031.nc',\n",
       " 'int_var_qv_R02B04_NARVALII_2016080900_fg_DOM01_0023.nc',\n",
       " 'int_var_qv_R02B04_NARVALI_2013122700_fg_DOM01_0030.nc',\n",
       " 'int_var_qv_R02B04_NARVALI_2013121100_fg_DOM01_0027.nc',\n",
       " 'int_var_qv_R02B04_NARVALII_2016080700_fg_DOM01_0014.nc',\n",
       " 'int_var_qv_R02B04_NARVALII_2016081400_fg_DOM01_0023.nc',\n",
       " 'int_var_qv_R02B04_NARVALII_2016072800_fg_DOM01_0023.nc',\n",
       " 'int_var_qv_R02B04_NARVALI_2013121100_fg_DOM01_0018.nc',\n",
       " 'int_var_qv_R02B04_NARVALII_2016082800_fg_DOM01_0026.nc',\n",
       " 'int_var_qv_R02B04_NARVALI_2013122600_fg_DOM01_0016.nc',\n",
       " 'int_var_qv_R02B04_NARVALI_2013121400_fg_DOM01_0030.nc',\n",
       " 'int_var_qv_R02B04_NARVALI_2013121600_fg_DOM01_0024.nc',\n",
       " 'int_var_qv_R02B04_NARVALI_2013122100_fg_DOM01_0012.nc',\n",
       " 'int_var_qv_R02B04_NARVALI_2013121900_fg_DOM01_0034.nc',\n",
       " 'int_var_qv_R02B04_NARVALII_2016082900_fg_DOM01_0036.nc',\n",
       " 'int_var_qv_R02B04_NARVALII_2016082400_fg_DOM01_0012.nc',\n",
       " 'int_var_qv_R02B04_NARVALII_2016080100_fg_DOM01_0024.nc',\n",
       " 'int_var_qv_R02B04_NARVALII_2016080900_fg_DOM01_0018.nc',\n",
       " 'int_var_qv_R02B04_NARVALI_2013122200_fg_DOM01_0023.nc',\n",
       " 'int_var_qv_R02B04_NARVALII_2016083100_fg_DOM01_0014.nc',\n",
       " 'int_var_qv_R02B04_NARVALI_2013122900_fg_DOM01_0019.nc',\n",
       " 'int_var_qv_R02B04_NARVALI_2013121800_fg_DOM01_0027.nc',\n",
       " 'int_var_qv_R02B04_NARVALI_2013120100_fg_DOM01_0025.nc',\n",
       " 'int_var_qv_R02B04_NARVALII_2016081900_fg_DOM01_0019.nc',\n",
       " 'int_var_qv_R02B04_NARVALII_2016083000_fg_DOM01_0035.nc',\n",
       " 'int_var_qv_R02B04_NARVALI_2013122600_fg_DOM01_0018.nc',\n",
       " 'int_var_qv_R02B04_NARVALII_2016081800_fg_DOM01_0028.nc',\n",
       " 'int_var_qv_R02B04_NARVALI_2013120900_fg_DOM01_0028.nc',\n",
       " 'int_var_qv_R02B04_NARVALI_2013120400_fg_DOM01_0028.nc',\n",
       " 'int_var_qv_R02B04_NARVALII_2016072900_fg_DOM01_0016.nc',\n",
       " 'int_var_qv_R02B04_NARVALI_2013122800_fg_DOM01_0026.nc',\n",
       " 'int_var_qv_R02B04_NARVALII_2016082200_fg_DOM01_0024.nc',\n",
       " 'int_var_qv_R02B04_NARVALII_2016081300_fg_DOM01_0018.nc',\n",
       " 'int_var_qv_R02B04_NARVALI_2013120100_fg_DOM01_0036.nc',\n",
       " 'int_var_qv_R02B04_NARVALII_2016080400_fg_DOM01_0026.nc',\n",
       " 'int_var_qv_R02B04_NARVALII_2016081000_fg_DOM01_0034.nc',\n",
       " 'int_var_qv_R02B04_NARVALI_2013120900_fg_DOM01_0023.nc',\n",
       " 'int_var_qv_R02B04_NARVALI_2013122200_fg_DOM01_0019.nc',\n",
       " 'int_var_qv_R02B04_NARVALI_2013121500_fg_DOM01_0034.nc',\n",
       " 'int_var_qv_R02B04_NARVALII_2016081800_fg_DOM01_0033.nc',\n",
       " 'int_var_qv_R02B04_NARVALI_2013123000_fg_DOM01_0035.nc',\n",
       " 'int_var_qv_R02B04_NARVALII_2016080700_fg_DOM01_0035.nc',\n",
       " 'int_var_qv_R02B04_NARVALII_2016072800_fg_DOM01_0027.nc',\n",
       " 'int_var_qv_R02B04_NARVALII_2016080400_fg_DOM01_0035.nc',\n",
       " 'int_var_qv_R02B04_NARVALI_2013123100_fg_DOM01_0015.nc',\n",
       " 'int_var_qv_R02B04_Barbados_2013122400_fg_DOM01_0026.nc',\n",
       " 'int_var_qv_R02B04_NARVALII_2016081400_fg_DOM01_0027.nc',\n",
       " 'int_var_qv_R02B04_NARVALI_2013121700_fg_DOM01_0030.nc',\n",
       " 'int_var_qv_R02B04_NARVALI_2013121000_fg_DOM01_0015.nc',\n",
       " 'int_var_qv_R02B04_NARVALI_2013122600_fg_DOM01_0026.nc',\n",
       " 'int_var_qv_R02B04_NARVALII_2016080500_fg_DOM01_0025.nc',\n",
       " 'int_var_qv_R02B04_NARVALII_2016082300_fg_DOM01_0032.nc',\n",
       " 'int_var_qv_R02B04_NARVALI_2013123000_fg_DOM01_0019.nc',\n",
       " 'int_var_qv_R02B04_NARVALII_2016082500_fg_DOM01_0030.nc',\n",
       " 'int_var_qv_R02B04_NARVALI_2013120200_fg_DOM01_0021.nc',\n",
       " 'int_var_qv_R02B04_NARVALII_2016080300_fg_DOM01_0021.nc',\n",
       " 'int_var_qv_R02B04_NARVALI_2013120600_fg_DOM01_0022.nc',\n",
       " 'int_var_qv_R02B04_NARVALI_2013120100_fg_DOM01_0016.nc',\n",
       " 'int_var_qv_R02B04_NARVALI_2013122600_fg_DOM01_0022.nc',\n",
       " 'int_var_qv_R02B04_NARVALII_2016082600_fg_DOM01_0012.nc',\n",
       " 'int_var_qv_R02B04_NARVALII_2016081500_fg_DOM01_0023.nc',\n",
       " 'int_var_qv_R02B04_NARVALI_2013121600_fg_DOM01_0019.nc',\n",
       " 'int_var_qv_R02B04_NARVALII_2016081900_fg_DOM01_0012.nc',\n",
       " 'int_var_qv_R02B04_NARVALII_2016072900_fg_DOM01_0026.nc',\n",
       " 'int_var_qv_R02B04_NARVALII_2016080500_fg_DOM01_0023.nc',\n",
       " 'int_var_qv_R02B04_NARVALI_2013123000_fg_DOM01_0017.nc',\n",
       " 'int_var_qv_R02B04_NARVALII_2016081300_fg_DOM01_0031.nc',\n",
       " 'int_var_qv_R02B04_NARVALII_2016081800_fg_DOM01_0019.nc',\n",
       " 'int_var_qv_R02B04_NARVALI_2013123000_fg_DOM01_0032.nc',\n",
       " 'int_var_qv_R02B04_NARVALII_2016080400_fg_DOM01_0036.nc',\n",
       " 'int_var_qv_R02B04_NARVALI_2013121400_fg_DOM01_0012.nc',\n",
       " 'int_var_qv_R02B04_NARVALII_2016081700_fg_DOM01_0029.nc',\n",
       " 'int_var_qv_R02B04_NARVALI_2013123000_fg_DOM01_0024.nc',\n",
       " 'int_var_qv_R02B04_NARVALII_2016081400_fg_DOM01_0017.nc',\n",
       " 'int_var_qv_R02B04_NARVALII_2016081300_fg_DOM01_0015.nc',\n",
       " 'int_var_qv_R02B04_NARVALI_2013121400_fg_DOM01_0014.nc',\n",
       " 'int_var_qv_R02B04_NARVALII_2016082200_fg_DOM01_0026.nc',\n",
       " 'int_var_qv_R02B04_NARVALII_2016083000_fg_DOM01_0017.nc',\n",
       " 'int_var_qv_R02B04_NARVALII_2016082200_fg_DOM01_0030.nc',\n",
       " 'int_var_qv_R02B04_NARVALI_2013120800_fg_DOM01_0017.nc',\n",
       " 'int_var_qv_R02B04_NARVALII_2016082000_fg_DOM01_0020.nc',\n",
       " 'int_var_qv_R02B04_NARVALII_2016073000_fg_DOM01_0029.nc',\n",
       " 'int_var_qv_R02B04_NARVALII_2016082500_fg_DOM01_0018.nc',\n",
       " 'int_var_qv_R02B04_NARVALII_2016082100_fg_DOM01_0022.nc',\n",
       " 'int_var_qv_R02B04_NARVALII_2016080500_fg_DOM01_0015.nc',\n",
       " 'int_var_qv_R02B04_NARVALI_2013120600_fg_DOM01_0030.nc',\n",
       " 'int_var_qv_R02B04_NARVALI_2013122200_fg_DOM01_0028.nc',\n",
       " 'int_var_qv_R02B04_NARVALI_2013121800_fg_DOM01_0026.nc',\n",
       " 'int_var_qv_R02B04_NARVALII_2016081200_fg_DOM01_0012.nc',\n",
       " 'int_var_qv_R02B04_NARVALII_2016073100_fg_DOM01_0032.nc',\n",
       " 'int_var_qv_R02B04_NARVALII_2016081900_fg_DOM01_0027.nc',\n",
       " 'int_var_qv_R02B04_NARVALI_2013121500_fg_DOM01_0017.nc',\n",
       " 'int_var_qv_R02B04_NARVALII_2016082100_fg_DOM01_0014.nc',\n",
       " 'int_var_qv_R02B04_NARVALII_2016080100_fg_DOM01_0021.nc',\n",
       " 'int_var_qv_R02B04_NARVALI_2013121300_fg_DOM01_0016.nc',\n",
       " 'int_var_qv_R02B04_Barbados_2013122400_fg_DOM01_0035.nc',\n",
       " 'int_var_qv_R02B04_NARVALII_2016081800_fg_DOM01_0030.nc',\n",
       " 'int_var_qv_R02B04_NARVALI_2013120100_fg_DOM01_0012.nc',\n",
       " 'int_var_qv_R02B04_NARVALII_2016080900_fg_DOM01_0036.nc',\n",
       " 'int_var_qv_R02B04_NARVALII_2016081200_fg_DOM01_0032.nc',\n",
       " 'int_var_qv_R02B04_NARVALI_2013120700_fg_DOM01_0022.nc',\n",
       " 'int_var_qv_R02B04_NARVALII_2016082800_fg_DOM01_0019.nc',\n",
       " 'int_var_qv_R02B04_NARVALII_2016081400_fg_DOM01_0012.nc',\n",
       " 'int_var_qv_R02B04_NARVALII_2016082100_fg_DOM01_0019.nc',\n",
       " 'int_var_qv_R02B04_NARVALII_2016081700_fg_DOM01_0031.nc',\n",
       " 'int_var_qv_R02B04_NARVALII_2016082200_fg_DOM01_0027.nc',\n",
       " 'int_var_qv_R02B04_NARVALI_2013120400_fg_DOM01_0015.nc',\n",
       " 'int_var_qv_R02B04_NARVALI_2013122500_fg_DOM01_0036.nc',\n",
       " 'int_var_qv_R02B04_NARVALII_2016073100_fg_DOM01_0028.nc',\n",
       " 'int_var_qv_R02B04_NARVALII_2016082400_fg_DOM01_0032.nc',\n",
       " 'int_var_qv_R02B04_NARVALI_2013122500_fg_DOM01_0030.nc',\n",
       " 'int_var_qv_R02B04_NARVALI_2013121600_fg_DOM01_0017.nc',\n",
       " 'int_var_qv_R02B04_NARVALII_2016082700_fg_DOM01_0029.nc',\n",
       " 'int_var_qv_R02B04_NARVALI_2013121200_fg_DOM01_0023.nc',\n",
       " 'int_var_qv_R02B04_NARVALII_2016081900_fg_DOM01_0013.nc',\n",
       " 'int_var_qv_R02B04_NARVALI_2013121300_fg_DOM01_0026.nc',\n",
       " 'int_var_qv_R02B04_NARVALI_2013120700_fg_DOM01_0019.nc',\n",
       " 'int_var_qv_R02B04_NARVALI_2013120300_fg_DOM01_0028.nc',\n",
       " 'int_var_qv_R02B04_NARVALI_2013122900_fg_DOM01_0028.nc',\n",
       " 'int_var_qv_R02B04_NARVALI_2013121500_fg_DOM01_0024.nc',\n",
       " 'int_var_qv_R02B04_NARVALII_2016082500_fg_DOM01_0023.nc',\n",
       " 'int_var_qv_R02B04_NARVALII_2016081400_fg_DOM01_0026.nc',\n",
       " 'int_var_qv_R02B04_NARVALII_2016081700_fg_DOM01_0024.nc',\n",
       " 'int_var_qv_R02B04_NARVALI_2013122500_fg_DOM01_0028.nc',\n",
       " 'int_var_qv_R02B04_NARVALII_2016082000_fg_DOM01_0031.nc',\n",
       " 'int_var_qv_R02B04_NARVALII_2016082600_fg_DOM01_0036.nc',\n",
       " 'int_var_qv_R02B04_NARVALII_2016080200_fg_DOM01_0018.nc',\n",
       " 'int_var_qv_R02B04_NARVALII_2016082200_fg_DOM01_0028.nc',\n",
       " 'int_var_qv_R02B04_NARVALII_2016082000_fg_DOM01_0030.nc',\n",
       " 'int_var_qv_R02B04_NARVALII_2016081200_fg_DOM01_0022.nc',\n",
       " 'int_var_qv_R02B04_NARVALII_2016080100_fg_DOM01_0031.nc',\n",
       " 'int_var_qv_R02B04_NARVALI_2013121000_fg_DOM01_0022.nc',\n",
       " 'int_var_qv_R02B04_NARVALI_2013120600_fg_DOM01_0025.nc',\n",
       " 'int_var_qv_R02B04_NARVALI_2013120800_fg_DOM01_0025.nc',\n",
       " 'int_var_qv_R02B04_NARVALI_2013120800_fg_DOM01_0029.nc',\n",
       " 'int_var_qv_R02B04_NARVALII_2016083000_fg_DOM01_0024.nc',\n",
       " 'int_var_qv_R02B04_NARVALII_2016080500_fg_DOM01_0022.nc',\n",
       " 'int_var_qv_R02B04_NARVALII_2016080700_fg_DOM01_0028.nc',\n",
       " 'int_var_qv_R02B04_NARVALI_2013122800_fg_DOM01_0035.nc',\n",
       " 'int_var_qv_R02B04_NARVALI_2013121800_fg_DOM01_0036.nc',\n",
       " 'int_var_qv_R02B04_NARVALI_2013122000_fg_DOM01_0014.nc',\n",
       " 'int_var_qv_R02B04_NARVALI_2013122500_fg_DOM01_0027.nc',\n",
       " 'int_var_qv_R02B04_Barbados_2013122400_fg_DOM01_0024.nc',\n",
       " 'int_var_qv_R02B04_NARVALI_2013121100_fg_DOM01_0030.nc',\n",
       " 'int_var_qv_R02B04_NARVALI_2013122100_fg_DOM01_0018.nc',\n",
       " 'int_var_qv_R02B04_NARVALI_2013122300_fg_DOM01_0029.nc',\n",
       " 'int_var_qv_R02B04_Barbados_2013122400_fg_DOM01_0029.nc',\n",
       " 'int_var_qv_R02B04_NARVALII_2016082300_fg_DOM01_0022.nc',\n",
       " 'int_var_qv_R02B04_NARVALI_2013123000_fg_DOM01_0030.nc',\n",
       " 'int_var_qv_R02B04_NARVALI_2013121000_fg_DOM01_0030.nc',\n",
       " 'int_var_qv_R02B04_NARVALII_2016082700_fg_DOM01_0028.nc',\n",
       " 'int_var_qv_R02B04_NARVALI_2013120400_fg_DOM01_0030.nc',\n",
       " 'int_var_qv_R02B04_NARVALI_2013122800_fg_DOM01_0025.nc',\n",
       " 'int_var_qv_R02B04_NARVALII_2016082200_fg_DOM01_0022.nc',\n",
       " 'int_var_qv_R02B04_NARVALII_2016081200_fg_DOM01_0015.nc',\n",
       " 'int_var_qv_R02B04_NARVALI_2013121900_fg_DOM01_0014.nc',\n",
       " 'int_var_qv_R02B04_NARVALII_2016082200_fg_DOM01_0018.nc',\n",
       " 'int_var_qv_R02B04_NARVALII_2016081100_fg_DOM01_0032.nc',\n",
       " 'int_var_qv_R02B04_NARVALII_2016082200_fg_DOM01_0036.nc',\n",
       " 'int_var_qv_R02B04_NARVALI_2013120800_fg_DOM01_0027.nc',\n",
       " 'int_var_qv_R02B04_Barbados_2015083000_fg_DOM01_0029.nc',\n",
       " 'int_var_qv_R02B04_NARVALI_2013120900_fg_DOM01_0013.nc',\n",
       " 'int_var_qv_R02B04_NARVALII_2016072900_fg_DOM01_0013.nc',\n",
       " 'int_var_qv_R02B04_NARVALII_2016082400_fg_DOM01_0031.nc',\n",
       " 'int_var_qv_R02B04_NARVALI_2013122900_fg_DOM01_0023.nc',\n",
       " 'int_var_qv_R02B04_NARVALI_2013122200_fg_DOM01_0030.nc',\n",
       " 'int_var_qv_R02B04_NARVALII_2016081700_fg_DOM01_0023.nc',\n",
       " 'int_var_qv_R02B04_NARVALI_2013121300_fg_DOM01_0025.nc',\n",
       " 'int_var_qv_R02B04_NARVALII_2016080900_fg_DOM01_0034.nc',\n",
       " 'int_var_qv_R02B04_NARVALII_2016082900_fg_DOM01_0023.nc',\n",
       " 'int_var_qv_R02B04_NARVALI_2013121300_fg_DOM01_0023.nc',\n",
       " 'int_var_qv_R02B04_Barbados_2013122400_fg_DOM01_0033.nc',\n",
       " 'int_var_qv_R02B04_NARVALII_2016080800_fg_DOM01_0026.nc',\n",
       " 'int_var_qv_R02B04_NARVALII_2016083100_fg_DOM01_0032.nc',\n",
       " 'int_var_qv_R02B04_NARVALI_2013122600_fg_DOM01_0027.nc',\n",
       " 'int_var_qv_R02B04_NARVALII_2016080400_fg_DOM01_0020.nc',\n",
       " 'int_var_qv_R02B04_NARVALII_2016082100_fg_DOM01_0029.nc',\n",
       " 'int_var_qv_R02B04_NARVALI_2013121600_fg_DOM01_0025.nc',\n",
       " 'int_var_qv_R02B04_NARVALII_2016083000_fg_DOM01_0022.nc',\n",
       " 'int_var_qv_R02B04_Barbados_2015083000_fg_DOM01_0023.nc',\n",
       " 'int_var_qv_R02B04_NARVALI_2013123100_fg_DOM01_0024.nc',\n",
       " 'int_var_qv_R02B04_NARVALI_2013122100_fg_DOM01_0029.nc',\n",
       " 'int_var_qv_R02B04_NARVALI_2013120900_fg_DOM01_0032.nc',\n",
       " 'int_var_qv_R02B04_NARVALI_2013120700_fg_DOM01_0018.nc',\n",
       " 'int_var_qv_R02B04_NARVALI_2013120200_fg_DOM01_0035.nc',\n",
       " 'int_var_qv_R02B04_NARVALI_2013122000_fg_DOM01_0030.nc',\n",
       " 'int_var_qv_R02B04_NARVALI_2013120500_fg_DOM01_0031.nc',\n",
       " 'int_var_qv_R02B04_NARVALII_2016082900_fg_DOM01_0024.nc',\n",
       " 'int_var_qv_R02B04_NARVALII_2016082900_fg_DOM01_0021.nc',\n",
       " 'int_var_qv_R02B04_NARVALII_2016081600_fg_DOM01_0027.nc',\n",
       " 'int_var_qv_R02B04_NARVALII_2016080200_fg_DOM01_0031.nc',\n",
       " 'int_var_qv_R02B04_Barbados_2013122400_fg_DOM01_0032.nc',\n",
       " 'int_var_qv_R02B04_NARVALII_2016080700_fg_DOM01_0019.nc',\n",
       " 'int_var_qv_R02B04_NARVALII_2016082600_fg_DOM01_0026.nc',\n",
       " 'int_var_qv_R02B04_NARVALII_2016081300_fg_DOM01_0027.nc',\n",
       " 'int_var_qv_R02B04_NARVALI_2013122300_fg_DOM01_0014.nc',\n",
       " 'int_var_qv_R02B04_NARVALII_2016073100_fg_DOM01_0021.nc',\n",
       " 'int_var_qv_R02B04_NARVALI_2013120400_fg_DOM01_0035.nc',\n",
       " 'int_var_qv_R02B04_NARVALII_2016081000_fg_DOM01_0029.nc',\n",
       " 'int_var_qv_R02B04_NARVALI_2013121600_fg_DOM01_0013.nc',\n",
       " 'int_var_qv_R02B04_NARVALII_2016072900_fg_DOM01_0031.nc',\n",
       " 'int_var_qv_R02B04_NARVALII_2016080100_fg_DOM01_0034.nc',\n",
       " 'int_var_qv_R02B04_NARVALII_2016080200_fg_DOM01_0025.nc',\n",
       " 'int_var_qv_R02B04_NARVALII_2016081600_fg_DOM01_0021.nc',\n",
       " 'int_var_qv_R02B04_NARVALI_2013120100_fg_DOM01_0027.nc',\n",
       " 'int_var_qv_R02B04_NARVALII_2016081800_fg_DOM01_0029.nc',\n",
       " 'int_var_qv_R02B04_NARVALII_2016081600_fg_DOM01_0031.nc',\n",
       " 'int_var_qv_R02B04_NARVALI_2013121400_fg_DOM01_0023.nc',\n",
       " 'int_var_qv_R02B04_NARVALI_2013120400_fg_DOM01_0012.nc',\n",
       " 'int_var_qv_R02B04_NARVALI_2013121100_fg_DOM01_0015.nc',\n",
       " 'int_var_qv_R02B04_NARVALI_2013121100_fg_DOM01_0031.nc',\n",
       " 'int_var_qv_R02B04_NARVALII_2016081200_fg_DOM01_0031.nc',\n",
       " 'int_var_qv_R02B04_NARVALII_2016072800_fg_DOM01_0016.nc',\n",
       " 'int_var_qv_R02B04_NARVALI_2013121800_fg_DOM01_0022.nc',\n",
       " 'int_var_qv_R02B04_NARVALII_2016081100_fg_DOM01_0030.nc',\n",
       " 'int_var_qv_R02B04_NARVALII_2016081500_fg_DOM01_0030.nc',\n",
       " 'int_var_qv_R02B04_NARVALI_2013120600_fg_DOM01_0013.nc',\n",
       " 'int_var_qv_R02B04_NARVALII_2016081400_fg_DOM01_0013.nc',\n",
       " 'int_var_qv_R02B04_NARVALI_2013120700_fg_DOM01_0021.nc',\n",
       " 'int_var_qv_R02B04_NARVALI_2013123000_fg_DOM01_0018.nc',\n",
       " 'int_var_qv_R02B04_NARVALII_2016080800_fg_DOM01_0027.nc',\n",
       " 'int_var_qv_R02B04_NARVALII_2016072900_fg_DOM01_0019.nc',\n",
       " 'int_var_qv_R02B04_NARVALI_2013121600_fg_DOM01_0021.nc',\n",
       " 'int_var_qv_R02B04_NARVALI_2013121900_fg_DOM01_0022.nc',\n",
       " 'int_var_qv_R02B04_NARVALII_2016082500_fg_DOM01_0032.nc',\n",
       " 'int_var_qv_R02B04_NARVALII_2016082800_fg_DOM01_0029.nc',\n",
       " 'int_var_qv_R02B04_NARVALII_2016081300_fg_DOM01_0014.nc',\n",
       " 'int_var_qv_R02B04_Barbados_2015083000_fg_DOM01_0030.nc',\n",
       " 'int_var_qv_R02B04_NARVALI_2013120400_fg_DOM01_0020.nc',\n",
       " 'int_var_qv_R02B04_NARVALII_2016081300_fg_DOM01_0017.nc',\n",
       " 'int_var_qv_R02B04_NARVALI_2013121900_fg_DOM01_0028.nc',\n",
       " 'int_var_qv_R02B04_NARVALII_2016082500_fg_DOM01_0025.nc',\n",
       " 'int_var_qv_R02B04_NARVALI_2013123100_fg_DOM01_0028.nc',\n",
       " 'int_var_qv_R02B04_NARVALII_2016072800_fg_DOM01_0019.nc',\n",
       " 'int_var_qv_R02B04_NARVALII_2016080500_fg_DOM01_0028.nc',\n",
       " 'int_var_qv_R02B04_NARVALI_2013121900_fg_DOM01_0012.nc',\n",
       " 'int_var_qv_R02B04_NARVALI_2013121000_fg_DOM01_0026.nc',\n",
       " 'int_var_qv_R02B04_NARVALI_2013120300_fg_DOM01_0025.nc',\n",
       " 'int_var_qv_R02B04_NARVALII_2016073100_fg_DOM01_0034.nc',\n",
       " 'int_var_qv_R02B04_NARVALII_2016081000_fg_DOM01_0032.nc',\n",
       " 'int_var_qv_R02B04_NARVALI_2013121200_fg_DOM01_0028.nc',\n",
       " 'int_var_qv_R02B04_NARVALII_2016082100_fg_DOM01_0012.nc',\n",
       " 'int_var_qv_R02B04_NARVALI_2013121300_fg_DOM01_0019.nc',\n",
       " 'int_var_qv_R02B04_NARVALII_2016081400_fg_DOM01_0019.nc',\n",
       " 'int_var_qv_R02B04_NARVALII_2016073100_fg_DOM01_0036.nc',\n",
       " 'int_var_qv_R02B04_Barbados_2015083000_fg_DOM01_0051.nc',\n",
       " 'int_var_qv_R02B04_NARVALI_2013122200_fg_DOM01_0021.nc',\n",
       " 'int_var_qv_R02B04_NARVALI_2013120500_fg_DOM01_0021.nc',\n",
       " 'int_var_qv_R02B04_NARVALI_2013121500_fg_DOM01_0023.nc',\n",
       " 'int_var_qv_R02B04_Barbados_2015083000_fg_DOM01_0044.nc',\n",
       " 'int_var_qv_R02B04_NARVALII_2016073100_fg_DOM01_0017.nc',\n",
       " 'int_var_qv_R02B04_NARVALII_2016073100_fg_DOM01_0014.nc',\n",
       " 'int_var_qv_R02B04_Barbados_2015083000_fg_DOM01_0032.nc',\n",
       " 'int_var_qv_R02B04_NARVALII_2016082500_fg_DOM01_0014.nc',\n",
       " 'int_var_qv_R02B04_NARVALII_2016080300_fg_DOM01_0034.nc',\n",
       " 'int_var_qv_R02B04_NARVALII_2016081100_fg_DOM01_0012.nc',\n",
       " 'int_var_qv_R02B04_NARVALI_2013122200_fg_DOM01_0026.nc',\n",
       " 'int_var_qv_R02B04_NARVALII_2016080300_fg_DOM01_0019.nc',\n",
       " 'int_var_qv_R02B04_NARVALII_2016082500_fg_DOM01_0027.nc',\n",
       " 'int_var_qv_R02B04_NARVALI_2013121800_fg_DOM01_0019.nc',\n",
       " 'int_var_qv_R02B04_NARVALI_2013121800_fg_DOM01_0016.nc',\n",
       " 'int_var_qv_R02B04_NARVALII_2016080900_fg_DOM01_0016.nc',\n",
       " 'int_var_qv_R02B04_NARVALII_2016083000_fg_DOM01_0025.nc',\n",
       " 'int_var_qv_R02B04_NARVALII_2016082100_fg_DOM01_0027.nc',\n",
       " 'int_var_qv_R02B04_NARVALI_2013120300_fg_DOM01_0029.nc',\n",
       " 'int_var_qv_R02B04_NARVALI_2013120700_fg_DOM01_0012.nc',\n",
       " 'int_var_qv_R02B04_NARVALI_2013123000_fg_DOM01_0036.nc',\n",
       " 'int_var_qv_R02B04_NARVALI_2013122300_fg_DOM01_0030.nc',\n",
       " 'int_var_qv_R02B04_NARVALII_2016082300_fg_DOM01_0012.nc',\n",
       " 'int_var_qv_R02B04_NARVALI_2013120300_fg_DOM01_0019.nc',\n",
       " 'int_var_qv_R02B04_NARVALII_2016081200_fg_DOM01_0036.nc',\n",
       " 'int_var_qv_R02B04_NARVALII_2016080800_fg_DOM01_0023.nc',\n",
       " 'int_var_qv_R02B04_NARVALII_2016082500_fg_DOM01_0035.nc',\n",
       " 'int_var_qv_R02B04_NARVALII_2016081300_fg_DOM01_0034.nc',\n",
       " 'int_var_qv_R02B04_NARVALII_2016082200_fg_DOM01_0020.nc',\n",
       " 'int_var_qv_R02B04_NARVALI_2013121400_fg_DOM01_0033.nc',\n",
       " 'int_var_qv_R02B04_NARVALI_2013121700_fg_DOM01_0029.nc',\n",
       " 'int_var_qv_R02B04_NARVALI_2013121400_fg_DOM01_0035.nc',\n",
       " 'int_var_qv_R02B04_NARVALII_2016080400_fg_DOM01_0015.nc',\n",
       " 'int_var_qv_R02B04_NARVALII_2016081800_fg_DOM01_0036.nc',\n",
       " 'int_var_qv_R02B04_NARVALII_2016080900_fg_DOM01_0020.nc',\n",
       " 'int_var_qv_R02B04_NARVALII_2016080900_fg_DOM01_0026.nc',\n",
       " 'int_var_qv_R02B04_NARVALII_2016082700_fg_DOM01_0025.nc',\n",
       " 'int_var_qv_R02B04_NARVALI_2013120200_fg_DOM01_0032.nc',\n",
       " 'int_var_qv_R02B04_NARVALI_2013121600_fg_DOM01_0033.nc',\n",
       " 'int_var_qv_R02B04_NARVALII_2016082100_fg_DOM01_0036.nc',\n",
       " 'int_var_qv_R02B04_NARVALI_2013120500_fg_DOM01_0035.nc',\n",
       " 'int_var_qv_R02B04_NARVALII_2016081100_fg_DOM01_0022.nc',\n",
       " 'int_var_qv_R02B04_NARVALII_2016081900_fg_DOM01_0014.nc',\n",
       " 'int_var_qv_R02B04_NARVALII_2016082800_fg_DOM01_0014.nc',\n",
       " 'int_var_qv_R02B04_NARVALII_2016081100_fg_DOM01_0016.nc',\n",
       " 'int_var_qv_R02B04_NARVALII_2016081600_fg_DOM01_0033.nc',\n",
       " 'int_var_qv_R02B04_NARVALII_2016080200_fg_DOM01_0014.nc',\n",
       " 'int_var_qv_R02B04_NARVALI_2013123000_fg_DOM01_0012.nc',\n",
       " 'int_var_qv_R02B04_NARVALII_2016082900_fg_DOM01_0029.nc',\n",
       " 'int_var_qv_R02B04_NARVALI_2013122100_fg_DOM01_0032.nc',\n",
       " 'int_var_qv_R02B04_NARVALII_2016083100_fg_DOM01_0036.nc',\n",
       " 'int_var_qv_R02B04_NARVALII_2016081000_fg_DOM01_0019.nc',\n",
       " 'int_var_qv_R02B04_NARVALII_2016072900_fg_DOM01_0034.nc',\n",
       " 'int_var_qv_R02B04_NARVALI_2013121800_fg_DOM01_0025.nc',\n",
       " ...]"
      ]
     },
     "execution_count": 6,
     "metadata": {},
     "output_type": "execute_result"
    }
   ],
   "source": [
    "os.listdir(os.path.join(root_path, 'my_work/NARVAL/data_var_vertinterp/qv'))"
   ]
  },
  {
   "cell_type": "code",
   "execution_count": 4,
   "metadata": {},
   "outputs": [],
   "source": [
    "# Get not_nan quickly\n",
    "path = os.path.join(root_path, 'my_work/NARVAL/data_var_vertinterp/')\n",
    "vars = ['clc']\n",
    "for i in range(len(vars)):\n",
    "    DS = xr.open_mfdataset(path+vars[i]+'/int_var_'+vars[i]+'_R02B04_NARVALI_2013120100_cloud_DOM01_00*.nc', \n",
    "                           combine='by_coords')\n",
    "    da = getattr(DS, vars[i]).values\n",
    "    not_nan = ~np.isnan(da[0,30,:])"
   ]
  },
  {
   "cell_type": "markdown",
   "metadata": {},
   "source": [
    "*Loading the first day: 2013120100* \n",
    "\n",
    "Careful with the order of the variables!"
   ]
  },
  {
   "cell_type": "code",
   "execution_count": 4,
   "metadata": {},
   "outputs": [],
   "source": [
    "# Loads the NARVAL data into the data_dict dictionary\n",
    "order_of_vars = ['qv', 'qc', 'qi', 'temp', 'pres', 'rho', 'zg', 'fr_lake', 'clc']\n",
    "data_dict = load_data(source='narval', days='dec_1st', vert_interp=True, order_of_vars=order_of_vars)"
   ]
  },
  {
   "cell_type": "code",
   "execution_count": 5,
   "metadata": {},
   "outputs": [],
   "source": [
    "#Reshaping into nd-arrays of equaling shapes\n",
    "data_dict['zg'] = np.repeat(np.expand_dims(data_dict['zg'], 0), 25, axis=0)\n",
    "data_dict['fr_lake'] = np.repeat(np.expand_dims(data_dict['fr_lake'], 0), 25, axis=0)"
   ]
  },
  {
   "cell_type": "code",
   "execution_count": 6,
   "metadata": {},
   "outputs": [
    {
     "name": "stdout",
     "output_type": "stream",
     "text": [
      "qv: (25, 31, 1024)\n",
      "qc: (25, 31, 1024)\n",
      "qi: (25, 31, 1024)\n",
      "temp: (25, 31, 1024)\n",
      "pres: (25, 31, 1024)\n",
      "rho: (25, 31, 1024)\n",
      "zg: (25, 31, 1024)\n",
      "fr_lake: (25, 1024)\n",
      "clc: (25, 31, 1024)\n"
     ]
    }
   ],
   "source": [
    "[print(key + ': ' + str(data_dict[key].shape)) for key in data_dict.keys()];"
   ]
  },
  {
   "cell_type": "code",
   "execution_count": 11,
   "metadata": {},
   "outputs": [],
   "source": [
    "# One sample should contain a column of information\n",
    "VERT_LAYERS = 31\n",
    "\n",
    "data_dict_reshaped = {}\n",
    "for key in data_dict.keys():\n",
    "    if data_dict[key].shape[1] == VERT_LAYERS:  \n",
    "        for i in range(4, VERT_LAYERS):\n",
    "            new_key = '{}{}{:d}'.format(key,'_',i)\n",
    "            data_dict_reshaped[new_key] = np.reshape(data_dict[key][:,i,:], -1)\n",
    "    else:\n",
    "        data_dict_reshaped[key] = np.reshape(data_dict[key], -1)\n",
    "\n",
    "# Remove constant columns\n",
    "del data_dict_reshaped['zg_4']\n",
    "del data_dict_reshaped['zg_5']\n",
    "del data_dict_reshaped['zg_6']\n",
    "del data_dict_reshaped['qc_4']"
   ]
  },
  {
   "cell_type": "code",
   "execution_count": 12,
   "metadata": {},
   "outputs": [
    {
     "data": {
      "text/html": [
       "<div>\n",
       "<style scoped>\n",
       "    .dataframe tbody tr th:only-of-type {\n",
       "        vertical-align: middle;\n",
       "    }\n",
       "\n",
       "    .dataframe tbody tr th {\n",
       "        vertical-align: top;\n",
       "    }\n",
       "\n",
       "    .dataframe thead th {\n",
       "        text-align: right;\n",
       "    }\n",
       "</style>\n",
       "<table border=\"1\" class=\"dataframe\">\n",
       "  <thead>\n",
       "    <tr style=\"text-align: right;\">\n",
       "      <th></th>\n",
       "      <th>qv_4</th>\n",
       "      <th>qv_5</th>\n",
       "      <th>qv_6</th>\n",
       "      <th>qv_7</th>\n",
       "      <th>qv_8</th>\n",
       "      <th>qv_9</th>\n",
       "      <th>qv_10</th>\n",
       "      <th>qv_11</th>\n",
       "      <th>qv_12</th>\n",
       "      <th>qv_13</th>\n",
       "      <th>...</th>\n",
       "      <th>clc_21</th>\n",
       "      <th>clc_22</th>\n",
       "      <th>clc_23</th>\n",
       "      <th>clc_24</th>\n",
       "      <th>clc_25</th>\n",
       "      <th>clc_26</th>\n",
       "      <th>clc_27</th>\n",
       "      <th>clc_28</th>\n",
       "      <th>clc_29</th>\n",
       "      <th>clc_30</th>\n",
       "    </tr>\n",
       "  </thead>\n",
       "  <tbody>\n",
       "    <tr>\n",
       "      <th>0</th>\n",
       "      <td>0.000003</td>\n",
       "      <td>0.000003</td>\n",
       "      <td>0.000003</td>\n",
       "      <td>0.000003</td>\n",
       "      <td>0.000005</td>\n",
       "      <td>0.000010</td>\n",
       "      <td>0.000028</td>\n",
       "      <td>0.000086</td>\n",
       "      <td>0.000101</td>\n",
       "      <td>0.000112</td>\n",
       "      <td>...</td>\n",
       "      <td>0.0</td>\n",
       "      <td>0.0</td>\n",
       "      <td>0.0</td>\n",
       "      <td>0.0</td>\n",
       "      <td>0.0</td>\n",
       "      <td>0.0</td>\n",
       "      <td>0.0</td>\n",
       "      <td>0.0</td>\n",
       "      <td>0.0</td>\n",
       "      <td>0.0</td>\n",
       "    </tr>\n",
       "    <tr>\n",
       "      <th>1</th>\n",
       "      <td>0.000003</td>\n",
       "      <td>0.000003</td>\n",
       "      <td>0.000003</td>\n",
       "      <td>0.000003</td>\n",
       "      <td>0.000005</td>\n",
       "      <td>0.000010</td>\n",
       "      <td>0.000033</td>\n",
       "      <td>0.000110</td>\n",
       "      <td>0.000138</td>\n",
       "      <td>0.000232</td>\n",
       "      <td>...</td>\n",
       "      <td>0.0</td>\n",
       "      <td>0.0</td>\n",
       "      <td>0.0</td>\n",
       "      <td>0.0</td>\n",
       "      <td>0.0</td>\n",
       "      <td>0.0</td>\n",
       "      <td>0.0</td>\n",
       "      <td>0.0</td>\n",
       "      <td>0.0</td>\n",
       "      <td>0.0</td>\n",
       "    </tr>\n",
       "    <tr>\n",
       "      <th>2</th>\n",
       "      <td>0.000003</td>\n",
       "      <td>0.000003</td>\n",
       "      <td>0.000003</td>\n",
       "      <td>0.000003</td>\n",
       "      <td>0.000004</td>\n",
       "      <td>0.000011</td>\n",
       "      <td>0.000037</td>\n",
       "      <td>0.000093</td>\n",
       "      <td>0.000118</td>\n",
       "      <td>0.000195</td>\n",
       "      <td>...</td>\n",
       "      <td>0.0</td>\n",
       "      <td>0.0</td>\n",
       "      <td>0.0</td>\n",
       "      <td>0.0</td>\n",
       "      <td>0.0</td>\n",
       "      <td>0.0</td>\n",
       "      <td>0.0</td>\n",
       "      <td>0.0</td>\n",
       "      <td>0.0</td>\n",
       "      <td>0.0</td>\n",
       "    </tr>\n",
       "    <tr>\n",
       "      <th>3</th>\n",
       "      <td>0.000003</td>\n",
       "      <td>0.000003</td>\n",
       "      <td>0.000003</td>\n",
       "      <td>0.000003</td>\n",
       "      <td>0.000005</td>\n",
       "      <td>0.000009</td>\n",
       "      <td>0.000033</td>\n",
       "      <td>0.000131</td>\n",
       "      <td>0.000177</td>\n",
       "      <td>0.000299</td>\n",
       "      <td>...</td>\n",
       "      <td>0.0</td>\n",
       "      <td>0.0</td>\n",
       "      <td>0.0</td>\n",
       "      <td>0.0</td>\n",
       "      <td>0.0</td>\n",
       "      <td>0.0</td>\n",
       "      <td>0.0</td>\n",
       "      <td>0.0</td>\n",
       "      <td>0.0</td>\n",
       "      <td>0.0</td>\n",
       "    </tr>\n",
       "    <tr>\n",
       "      <th>4</th>\n",
       "      <td>0.000003</td>\n",
       "      <td>0.000003</td>\n",
       "      <td>0.000003</td>\n",
       "      <td>0.000003</td>\n",
       "      <td>0.000006</td>\n",
       "      <td>0.000011</td>\n",
       "      <td>0.000016</td>\n",
       "      <td>0.000056</td>\n",
       "      <td>0.000084</td>\n",
       "      <td>0.000090</td>\n",
       "      <td>...</td>\n",
       "      <td>0.0</td>\n",
       "      <td>0.0</td>\n",
       "      <td>0.0</td>\n",
       "      <td>0.0</td>\n",
       "      <td>0.0</td>\n",
       "      <td>0.0</td>\n",
       "      <td>0.0</td>\n",
       "      <td>0.0</td>\n",
       "      <td>0.0</td>\n",
       "      <td>0.0</td>\n",
       "    </tr>\n",
       "  </tbody>\n",
       "</table>\n",
       "<p>5 rows × 213 columns</p>\n",
       "</div>"
      ],
      "text/plain": [
       "       qv_4      qv_5      qv_6      qv_7      qv_8      qv_9     qv_10  \\\n",
       "0  0.000003  0.000003  0.000003  0.000003  0.000005  0.000010  0.000028   \n",
       "1  0.000003  0.000003  0.000003  0.000003  0.000005  0.000010  0.000033   \n",
       "2  0.000003  0.000003  0.000003  0.000003  0.000004  0.000011  0.000037   \n",
       "3  0.000003  0.000003  0.000003  0.000003  0.000005  0.000009  0.000033   \n",
       "4  0.000003  0.000003  0.000003  0.000003  0.000006  0.000011  0.000016   \n",
       "\n",
       "      qv_11     qv_12     qv_13  ...  clc_21  clc_22  clc_23  clc_24  clc_25  \\\n",
       "0  0.000086  0.000101  0.000112  ...     0.0     0.0     0.0     0.0     0.0   \n",
       "1  0.000110  0.000138  0.000232  ...     0.0     0.0     0.0     0.0     0.0   \n",
       "2  0.000093  0.000118  0.000195  ...     0.0     0.0     0.0     0.0     0.0   \n",
       "3  0.000131  0.000177  0.000299  ...     0.0     0.0     0.0     0.0     0.0   \n",
       "4  0.000056  0.000084  0.000090  ...     0.0     0.0     0.0     0.0     0.0   \n",
       "\n",
       "   clc_26  clc_27  clc_28  clc_29  clc_30  \n",
       "0     0.0     0.0     0.0     0.0     0.0  \n",
       "1     0.0     0.0     0.0     0.0     0.0  \n",
       "2     0.0     0.0     0.0     0.0     0.0  \n",
       "3     0.0     0.0     0.0     0.0     0.0  \n",
       "4     0.0     0.0     0.0     0.0     0.0  \n",
       "\n",
       "[5 rows x 213 columns]"
      ]
     },
     "execution_count": 12,
     "metadata": {},
     "output_type": "execute_result"
    }
   ],
   "source": [
    "#Converting dict into a DataFrame-object \n",
    "df = pd.DataFrame.from_dict(data_dict_reshaped)\n",
    "df.head()"
   ]
  },
  {
   "cell_type": "code",
   "execution_count": 13,
   "metadata": {},
   "outputs": [
    {
     "data": {
      "text/plain": [
       "Index(['qv_4', 'qv_5', 'qv_6', 'qv_7', 'qv_8', 'qv_9', 'qv_10', 'qv_11',\n",
       "       'qv_12', 'qv_13',\n",
       "       ...\n",
       "       'clc_21', 'clc_22', 'clc_23', 'clc_24', 'clc_25', 'clc_26', 'clc_27',\n",
       "       'clc_28', 'clc_29', 'clc_30'],\n",
       "      dtype='object', length=213)"
      ]
     },
     "execution_count": 13,
     "metadata": {},
     "output_type": "execute_result"
    }
   ],
   "source": [
    "df.columns"
   ]
  },
  {
   "cell_type": "markdown",
   "metadata": {},
   "source": [
    "mean_1, std_1 = read_mean_and_std(os.path.join(model_path, 'model_grid_column_based_final_1.txt'))\n",
    "mean_2, std_2 = read_mean_and_std(os.path.join(model_path, 'model_grid_column_based_final_2.txt'))\n",
    "\n",
    "mean_1 = np.concatenate((mean_1, np.zeros(27)))\n",
    "mean_2 = np.concatenate((mean_2, np.zeros(27)))\n",
    "std_1 = np.concatenate((std_1, np.ones(27)))\n",
    "std_2 = np.concatenate((std_2, np.ones(27)))*Scaling the data*"
   ]
  },
  {
   "cell_type": "code",
   "execution_count": 9,
   "metadata": {},
   "outputs": [],
   "source": [
    "mean_1, std_1 = read_mean_and_std(os.path.join(model_path, 'model_grid_column_based_final_1.txt'))\n",
    "mean_2, std_2 = read_mean_and_std(os.path.join(model_path, 'model_grid_column_based_final_2.txt'))\n",
    "\n",
    "mean_1 = np.concatenate((mean_1, np.zeros(27)))\n",
    "mean_2 = np.concatenate((mean_2, np.zeros(27)))\n",
    "std_1 = np.concatenate((std_1, np.ones(27)))\n",
    "std_2 = np.concatenate((std_2, np.ones(27)))"
   ]
  },
  {
   "cell_type": "code",
   "execution_count": 26,
   "metadata": {},
   "outputs": [],
   "source": [
    "# Note that after standardization the mean and variance are not 0 and 1 respectively \n",
    "# as the data values above 21km are still in the data\n",
    "df_1 = ((df - mean_1)/std_1).to_numpy()\n",
    "df_2 = ((df - mean_2)/std_2).to_numpy()"
   ]
  },
  {
   "cell_type": "markdown",
   "metadata": {},
   "source": [
    "*Drawing the diagram*"
   ]
  },
  {
   "cell_type": "code",
   "execution_count": 27,
   "metadata": {},
   "outputs": [
    {
     "data": {
      "text/plain": [
       "(25600, 213)"
      ]
     },
     "execution_count": 27,
     "metadata": {},
     "output_type": "execute_result"
    }
   ],
   "source": [
    "df_1.shape"
   ]
  },
  {
   "cell_type": "code",
   "execution_count": 28,
   "metadata": {},
   "outputs": [],
   "source": [
    "# Draw the diagram\n",
    "# All vertical layers from first time step\n",
    "pred_clc_mat = np.zeros((25, 27))\n",
    "for i in range(25):\n",
    "    # Mean prediction for a specific time step \n",
    "    pred_1 = model.predict(df_1[1024*i: 1024*(i+1), :-27]) # Maybe I have the indexing wrong after all\n",
    "    pred_adj_1 = np.mean(np.minimum(np.maximum(pred_1, 0), 100), axis=0)\n",
    "    pred_2 = model_2.predict(df_2[1024*i: 1024*(i+1), :-27]) \n",
    "    pred_adj_2 = np.mean(np.minimum(np.maximum(pred_2, 0), 100), axis=0)\n",
    "    pred_clc_mat[i,:] = 1/2*(pred_adj_1+pred_adj_2)       "
   ]
  },
  {
   "cell_type": "code",
   "execution_count": 29,
   "metadata": {},
   "outputs": [],
   "source": [
    "data_clc_mat = np.zeros((25, 27))\n",
    "for i in range(25):\n",
    "    # Mean cloud cover for a specific time step \n",
    "    data_clc_1 = np.mean(df_1[1024*i: 1024*(i+1), -27:], axis=0)\n",
    "    data_clc_2 = np.mean(df_2[1024*i: 1024*(i+1), -27:], axis=0)\n",
    "    data_clc_mat[i,:] = 1/2*(data_clc_1+data_clc_2)"
   ]
  },
  {
   "cell_type": "code",
   "execution_count": 30,
   "metadata": {},
   "outputs": [
    {
     "data": {
      "image/png": "[encoded data removed]",
      "text/plain": [
       "<Figure size 720x720 with 4 Axes>"
      ]
     },
     "metadata": {
      "needs_background": "light"
     },
     "output_type": "display_data"
    }
   ],
   "source": [
    "import matplotlib.cm as cm\n",
    "from mpl_toolkits.axes_grid1.inset_locator import inset_axes\n",
    "from mpl_toolkits.axes_grid1 import make_axes_locatable\n",
    "\n",
    "%matplotlib inline\n",
    "\n",
    "matrix = np.zeros((25, 32))\n",
    "matrix_data = np.zeros((25, 32))\n",
    "matrix[:, 5:] = pred_clc_mat\n",
    "matrix_data[:, 5:] = data_clc_mat\n",
    "# t = np.linspace(1, 25, 25)\n",
    "# v = np.linspace(9, 75)\n",
    "# T, V = np.meshgrid(t, v)\n",
    "fig = plt.figure(figsize=(10, 10))\n",
    "ax_2 = fig.add_subplot(122, xlabel='Hours', ylim=[31, 5], title='True mean cloud cover (One day)')\n",
    "ims_2 = ax_2.imshow(np.transpose(matrix_data))\n",
    "# Colorbar axes\n",
    "divider = make_axes_locatable(ax_2)\n",
    "cax_2 = divider.append_axes(\"right\", size=\"5%\", pad=0.05)\n",
    "cb_2 = fig.colorbar(ims_2, cax=cax_2)\n",
    "cb_2.ax.set_title('[%]')\n",
    "#fig.colorbar(ims_2)\n",
    "ax_1 = fig.add_subplot(121, xlabel='Hours', ylabel='Vertical layers', ylim=[31, 5], \n",
    "                       title='NNs\\' mean cloud cover (One day)')\n",
    "ims_1 = ax_1.imshow(np.transpose(matrix))\n",
    "# Colorbar axes\n",
    "divider = make_axes_locatable(ax_1)\n",
    "cax_1 = divider.append_axes(\"right\", size=\"5%\", pad=0.05)\n",
    "cb_1 = fig.colorbar(ims_1, cax=cax_1)\n",
    "#fig.colorbar(ims_1)\n",
    "cb_1.ax.set_title('[%]')\n",
    "fig.savefig('../figures/offline_testing_hovmoeller.pdf')"
   ]
  },
  {
   "cell_type": "code",
   "execution_count": 42,
   "metadata": {},
   "outputs": [
    {
     "name": "stderr",
     "output_type": "stream",
     "text": [
      "/pf/b/b309170/work/b309170/conda/envs/clouds113/lib/python3.7/site-packages/ipykernel_launcher.py:16: MatplotlibDeprecationWarning: \n",
      "The DivergingNorm class was deprecated in Matplotlib 3.2 and will be removed two minor releases later. Use TwoSlopeNorm instead.\n",
      "  app.launch_new_instance()\n"
     ]
    },
    {
     "data": {
      "image/png": "[encoded data removed]",
      "text/plain": [
       "<Figure size 720x720 with 2 Axes>"
      ]
     },
     "metadata": {
      "needs_background": "light"
     },
     "output_type": "display_data"
    }
   ],
   "source": [
    "from matplotlib.colors import DivergingNorm\n",
    "\n",
    "%matplotlib inline\n",
    "\n",
    "matrix = np.zeros((25, 32))\n",
    "matrix_data = np.zeros((25, 32))\n",
    "matrix[:, 5:] = pred_clc_mat\n",
    "matrix_data[:, 5:] = data_clc_mat\n",
    "# t = np.linspace(1, 25, 25)\n",
    "# v = np.linspace(9, 75)\n",
    "# T, V = np.meshgrid(t, v)\n",
    "fig = plt.figure(figsize=(10, 10))\n",
    "\n",
    "ax_1 = fig.add_subplot(111, xlabel='Hours', ylim=[31, 5], ylabel='Vertical layers', \n",
    "                       title='Deviation of column-based NN ensemble mean cloud cover (One day)')\n",
    "ims_1 = ax_1.imshow(np.transpose(matrix) - np.transpose(matrix_data), norm=DivergingNorm(0), cmap='bwr_r')\n",
    "# Colorbar axes\n",
    "divider = make_axes_locatable(ax_1)\n",
    "cax_1 = divider.append_axes(\"right\", size=\"5%\", pad=0.05)\n",
    "cb_1 = fig.colorbar(ims_1, cax=cax_1)\n",
    "cb_1.ax.set_title('[%]')\n",
    "fig.savefig('../figures/offline_testing_column-based_hovmoeller_diff.pdf')"
   ]
  },
  {
   "cell_type": "markdown",
   "metadata": {},
   "source": [
    "**Plot the timeseries for one specific grid column** <br>\n",
    "*Gunnar's idea.* I can do it for August, 2016 (December, 2013 has some tricky days and I need a continuous stretch of days)"
   ]
  },
  {
   "cell_type": "code",
   "execution_count": null,
   "metadata": {},
   "outputs": [],
   "source": [
    "# Loads the NARVAL data into the data_dict dictionary\n",
    "order_of_vars = ['qv', 'qc', 'qi', 'temp', 'pres', 'rho', 'zg', 'fr_lake', 'clc']\n",
    "data_dict = load_data(source='narval', days='august', vert_interp=True, order_of_vars=order_of_vars)"
   ]
  },
  {
   "cell_type": "code",
   "execution_count": 5,
   "metadata": {},
   "outputs": [],
   "source": [
    "#Reshaping into nd-arrays of equaling shapes (745 = 24*31+1)\n",
    "data_dict['zg'] = np.repeat(np.expand_dims(data_dict['zg'], 0), 745, axis=0)\n",
    "data_dict['fr_lake'] = np.repeat(np.expand_dims(data_dict['fr_lake'], 0), 745, axis=0)"
   ]
  },
  {
   "cell_type": "code",
   "execution_count": 6,
   "metadata": {},
   "outputs": [],
   "source": [
    "# One sample should contain a column of information\n",
    "VERT_LAYERS = 31\n",
    "\n",
    "data_dict_reshaped = {}\n",
    "for key in data_dict.keys():\n",
    "    if data_dict[key].shape[1] == VERT_LAYERS:  \n",
    "        for i in range(4, VERT_LAYERS):\n",
    "            new_key = '{}{}{:d}'.format(key,'_',i)\n",
    "            data_dict_reshaped[new_key] = np.reshape(data_dict[key][:,i,:], -1)\n",
    "    else:\n",
    "        data_dict_reshaped[key] = np.reshape(data_dict[key], -1)\n",
    "\n",
    "# Remove constant fields\n",
    "del data_dict_reshaped['zg_4']\n",
    "del data_dict_reshaped['zg_5']\n",
    "del data_dict_reshaped['zg_6']\n",
    "del data_dict_reshaped['qc_4']"
   ]
  },
  {
   "cell_type": "code",
   "execution_count": 7,
   "metadata": {},
   "outputs": [
    {
     "data": {
      "text/html": [
       "<div>\n",
       "<style scoped>\n",
       "    .dataframe tbody tr th:only-of-type {\n",
       "        vertical-align: middle;\n",
       "    }\n",
       "\n",
       "    .dataframe tbody tr th {\n",
       "        vertical-align: top;\n",
       "    }\n",
       "\n",
       "    .dataframe thead th {\n",
       "        text-align: right;\n",
       "    }\n",
       "</style>\n",
       "<table border=\"1\" class=\"dataframe\">\n",
       "  <thead>\n",
       "    <tr style=\"text-align: right;\">\n",
       "      <th></th>\n",
       "      <th>qv_4</th>\n",
       "      <th>qv_5</th>\n",
       "      <th>qv_6</th>\n",
       "      <th>qv_7</th>\n",
       "      <th>qv_8</th>\n",
       "      <th>qv_9</th>\n",
       "      <th>qv_10</th>\n",
       "      <th>qv_11</th>\n",
       "      <th>qv_12</th>\n",
       "      <th>qv_13</th>\n",
       "      <th>...</th>\n",
       "      <th>clc_21</th>\n",
       "      <th>clc_22</th>\n",
       "      <th>clc_23</th>\n",
       "      <th>clc_24</th>\n",
       "      <th>clc_25</th>\n",
       "      <th>clc_26</th>\n",
       "      <th>clc_27</th>\n",
       "      <th>clc_28</th>\n",
       "      <th>clc_29</th>\n",
       "      <th>clc_30</th>\n",
       "    </tr>\n",
       "  </thead>\n",
       "  <tbody>\n",
       "    <tr>\n",
       "      <th>0</th>\n",
       "      <td>0.000003</td>\n",
       "      <td>0.000003</td>\n",
       "      <td>0.000003</td>\n",
       "      <td>0.000004</td>\n",
       "      <td>0.000009</td>\n",
       "      <td>0.000020</td>\n",
       "      <td>0.000068</td>\n",
       "      <td>0.000128</td>\n",
       "      <td>0.000136</td>\n",
       "      <td>0.000160</td>\n",
       "      <td>...</td>\n",
       "      <td>0.0</td>\n",
       "      <td>0.0</td>\n",
       "      <td>0.0</td>\n",
       "      <td>0.0</td>\n",
       "      <td>0.0</td>\n",
       "      <td>0.0</td>\n",
       "      <td>0.0</td>\n",
       "      <td>0.0</td>\n",
       "      <td>0.0</td>\n",
       "      <td>0.0</td>\n",
       "    </tr>\n",
       "    <tr>\n",
       "      <th>1</th>\n",
       "      <td>0.000003</td>\n",
       "      <td>0.000003</td>\n",
       "      <td>0.000003</td>\n",
       "      <td>0.000005</td>\n",
       "      <td>0.000006</td>\n",
       "      <td>0.000019</td>\n",
       "      <td>0.000074</td>\n",
       "      <td>0.000120</td>\n",
       "      <td>0.000122</td>\n",
       "      <td>0.000163</td>\n",
       "      <td>...</td>\n",
       "      <td>0.0</td>\n",
       "      <td>0.0</td>\n",
       "      <td>0.0</td>\n",
       "      <td>0.0</td>\n",
       "      <td>0.0</td>\n",
       "      <td>0.0</td>\n",
       "      <td>0.0</td>\n",
       "      <td>0.0</td>\n",
       "      <td>0.0</td>\n",
       "      <td>0.0</td>\n",
       "    </tr>\n",
       "    <tr>\n",
       "      <th>2</th>\n",
       "      <td>0.000003</td>\n",
       "      <td>0.000003</td>\n",
       "      <td>0.000003</td>\n",
       "      <td>0.000004</td>\n",
       "      <td>0.000007</td>\n",
       "      <td>0.000017</td>\n",
       "      <td>0.000067</td>\n",
       "      <td>0.000114</td>\n",
       "      <td>0.000110</td>\n",
       "      <td>0.000159</td>\n",
       "      <td>...</td>\n",
       "      <td>0.0</td>\n",
       "      <td>0.0</td>\n",
       "      <td>0.0</td>\n",
       "      <td>0.0</td>\n",
       "      <td>0.0</td>\n",
       "      <td>0.0</td>\n",
       "      <td>0.0</td>\n",
       "      <td>0.0</td>\n",
       "      <td>0.0</td>\n",
       "      <td>0.0</td>\n",
       "    </tr>\n",
       "    <tr>\n",
       "      <th>3</th>\n",
       "      <td>0.000003</td>\n",
       "      <td>0.000003</td>\n",
       "      <td>0.000003</td>\n",
       "      <td>0.000005</td>\n",
       "      <td>0.000007</td>\n",
       "      <td>0.000023</td>\n",
       "      <td>0.000069</td>\n",
       "      <td>0.000094</td>\n",
       "      <td>0.000111</td>\n",
       "      <td>0.000218</td>\n",
       "      <td>...</td>\n",
       "      <td>0.0</td>\n",
       "      <td>0.0</td>\n",
       "      <td>0.0</td>\n",
       "      <td>0.0</td>\n",
       "      <td>0.0</td>\n",
       "      <td>0.0</td>\n",
       "      <td>0.0</td>\n",
       "      <td>0.0</td>\n",
       "      <td>0.0</td>\n",
       "      <td>0.0</td>\n",
       "    </tr>\n",
       "    <tr>\n",
       "      <th>4</th>\n",
       "      <td>0.000003</td>\n",
       "      <td>0.000003</td>\n",
       "      <td>0.000003</td>\n",
       "      <td>0.000003</td>\n",
       "      <td>0.000006</td>\n",
       "      <td>0.000021</td>\n",
       "      <td>0.000080</td>\n",
       "      <td>0.000147</td>\n",
       "      <td>0.000188</td>\n",
       "      <td>0.000319</td>\n",
       "      <td>...</td>\n",
       "      <td>0.0</td>\n",
       "      <td>0.0</td>\n",
       "      <td>0.0</td>\n",
       "      <td>0.0</td>\n",
       "      <td>0.0</td>\n",
       "      <td>0.0</td>\n",
       "      <td>0.0</td>\n",
       "      <td>0.0</td>\n",
       "      <td>0.0</td>\n",
       "      <td>0.0</td>\n",
       "    </tr>\n",
       "  </tbody>\n",
       "</table>\n",
       "<p>5 rows × 213 columns</p>\n",
       "</div>"
      ],
      "text/plain": [
       "       qv_4      qv_5      qv_6      qv_7      qv_8      qv_9     qv_10  \\\n",
       "0  0.000003  0.000003  0.000003  0.000004  0.000009  0.000020  0.000068   \n",
       "1  0.000003  0.000003  0.000003  0.000005  0.000006  0.000019  0.000074   \n",
       "2  0.000003  0.000003  0.000003  0.000004  0.000007  0.000017  0.000067   \n",
       "3  0.000003  0.000003  0.000003  0.000005  0.000007  0.000023  0.000069   \n",
       "4  0.000003  0.000003  0.000003  0.000003  0.000006  0.000021  0.000080   \n",
       "\n",
       "      qv_11     qv_12     qv_13  ...  clc_21  clc_22  clc_23  clc_24  clc_25  \\\n",
       "0  0.000128  0.000136  0.000160  ...     0.0     0.0     0.0     0.0     0.0   \n",
       "1  0.000120  0.000122  0.000163  ...     0.0     0.0     0.0     0.0     0.0   \n",
       "2  0.000114  0.000110  0.000159  ...     0.0     0.0     0.0     0.0     0.0   \n",
       "3  0.000094  0.000111  0.000218  ...     0.0     0.0     0.0     0.0     0.0   \n",
       "4  0.000147  0.000188  0.000319  ...     0.0     0.0     0.0     0.0     0.0   \n",
       "\n",
       "   clc_26  clc_27  clc_28  clc_29  clc_30  \n",
       "0     0.0     0.0     0.0     0.0     0.0  \n",
       "1     0.0     0.0     0.0     0.0     0.0  \n",
       "2     0.0     0.0     0.0     0.0     0.0  \n",
       "3     0.0     0.0     0.0     0.0     0.0  \n",
       "4     0.0     0.0     0.0     0.0     0.0  \n",
       "\n",
       "[5 rows x 213 columns]"
      ]
     },
     "execution_count": 7,
     "metadata": {},
     "output_type": "execute_result"
    }
   ],
   "source": [
    "#Converting dict into a DataFrame-object \n",
    "df = pd.DataFrame.from_dict(data_dict_reshaped)\n",
    "df.head()"
   ]
  },
  {
   "cell_type": "code",
   "execution_count": 10,
   "metadata": {},
   "outputs": [],
   "source": [
    "# Scale the data\n",
    "df_scaled = ((df - mean_1)/std_1).to_numpy()"
   ]
  },
  {
   "cell_type": "code",
   "execution_count": 23,
   "metadata": {},
   "outputs": [],
   "source": [
    "# Take a random horizontal field\n",
    "m = 842\n",
    "\n",
    "indices = [] \n",
    "for i in range(745):\n",
    "    indices.append(m+i*1024)\n",
    "\n",
    "timesteps = np.arange(745)\n",
    "true_clc = data_dict['clc'][:,:,m] #time x vert x hor\n",
    "pred_clc = np.maximum(np.minimum(model.predict(df_scaled[indices, :-27]),100),0)  #Have to reconstruct the mth field"
   ]
  },
  {
   "cell_type": "code",
   "execution_count": 14,
   "metadata": {},
   "outputs": [
    {
     "data": {
      "text/plain": [
       "(745, 31)"
      ]
     },
     "execution_count": 14,
     "metadata": {},
     "output_type": "execute_result"
    }
   ],
   "source": [
    "true_clc.shape"
   ]
  },
  {
   "cell_type": "code",
   "execution_count": 36,
   "metadata": {},
   "outputs": [
    {
     "data": {
      "text/plain": [
       "(96, 32)"
      ]
     },
     "execution_count": 36,
     "metadata": {},
     "output_type": "execute_result"
    }
   ],
   "source": [
    "matrix_data.shape"
   ]
  },
  {
   "cell_type": "code",
   "execution_count": 47,
   "metadata": {},
   "outputs": [
    {
     "data": {
      "image/png": "[encoded data removed]",
      "text/plain": [
       "<Figure size 1440x720 with 3 Axes>"
      ]
     },
     "metadata": {
      "needs_background": "light"
     },
     "output_type": "display_data"
    }
   ],
   "source": [
    "import matplotlib.cm as cm\n",
    "from mpl_toolkits.axes_grid1.inset_locator import inset_axes\n",
    "from mpl_toolkits.axes_grid1 import make_axes_locatable\n",
    "\n",
    "# With a huge font for the presentation\n",
    "fontsize = 25\n",
    "plt.rc('font', size=fontsize) #controls default text size\n",
    "plt.rc('axes', titlesize=fontsize) #fontsize of the title\n",
    "plt.rc('axes', labelsize=fontsize) #fontsize of the x and y labels\n",
    "plt.rc('xtick', labelsize=fontsize) #fontsize of the x tick labels\n",
    "plt.rc('ytick', labelsize=fontsize) #fontsize of the y tick labels\n",
    "plt.rc('legend', fontsize=fontsize) #fontsize of the legend\n",
    "\n",
    "matrix = np.zeros((96, 32)) #np.zeros((745, 31))\n",
    "matrix_data = np.zeros((96, 32))\n",
    "matrix[:, 5:] = pred_clc[:96]\n",
    "matrix_data[:, 5:] = true_clc[:96, 4:]\n",
    "# Crucial so that the colorbar will actually match both plots\n",
    "vmax = np.maximum(np.max(matrix), np.max(matrix_data))\n",
    "vmin = np.minimum(np.min(matrix), np.min(matrix_data))\n",
    "# t = np.linspace(1, 25, 25)\n",
    "# v = np.linspace(9, 75)\n",
    "# T, V = np.meshgrid(t, v)\n",
    "fig = plt.figure(figsize=(20,10))\n",
    "ax_2 = fig.add_subplot(212, xlabel='Hours', ylabel='Vertical layers', ylim=[31, 5], \n",
    "                       title='True cloud cover (First four days in August, 2016)')\n",
    "im = ax_2.imshow(np.transpose(matrix_data),vmin=vmin, vmax=vmax)\n",
    "# # Colorbar axes\n",
    "# divider = make_axes_locatable(ax_2)\n",
    "# cax_2 = divider.append_axes(\"right\", size=\"5%\", pad=0.05)\n",
    "# fig.colorbar(ims_2, cax=cax_2)\n",
    "#fig.colorbar(ims_2)\n",
    "ax_1 = fig.add_subplot(211, ylabel='Vertical layers', ylim=[31, 5], xticks=[],\n",
    "                       title='NN cloud cover (First four days in August, 2016)')\n",
    "im = ax_1.imshow(np.transpose(matrix),vmin=vmin, vmax=vmax)\n",
    "# # Colorbar axes\n",
    "cbar_ax = fig.add_axes([0.85, 0.15, 0.02, 0.7])\n",
    "\n",
    "#([0.85, 0.15, 0.05, 0.7])\n",
    "# divider = make_axes_locatable(cbar_ax)\n",
    "# cax_1 = divider.append_axes(\"right\", size=\"5%\", pad=0.05)\n",
    "cb = fig.colorbar(im, cax=cbar_ax)\n",
    "cb.ax.set_title('[%]')\n",
    "# fig.colorbar(ims_1)\n",
    "# fig.savefig('../figures/offline_testing_column_in_beginning_of_august.pdf')"
   ]
  },
  {
   "cell_type": "code",
   "execution_count": 28,
   "metadata": {},
   "outputs": [],
   "source": [
    "np.save('/pf/b/b309170/workspace_icon-ml/iconml_clc/additional_content/plots_offline_paper/auxiliary/offline_testing_column_in_beginning_of_august_data.npy', np.transpose(matrix_data))\n",
    "np.save('/pf/b/b309170/workspace_icon-ml/iconml_clc/additional_content/plots_offline_paper/auxiliary/offline_testing_column_in_beginning_of_august_pred.npy', np.transpose(matrix))"
   ]
  },
  {
   "cell_type": "markdown",
   "metadata": {},
   "source": [
    "**Forth visualization method** <br>\n",
    "R2-value on x-axis with vertical layers on y-axis <br>\n",
    "\n",
    "R2 = 1-SS_res/SS_tot, <br>\n",
    "SS_res = total sum of squares (prop. to variance in the data) <br>\n",
    "SS_tot = residual sum of squares\n",
    "\n",
    "So R2 = 1 - MSE/Variance(Data), isn't it?\n",
    "\n",
    "Best case: R2 = 1 <br>\n",
    "If R2 < 0, then a constant output model would be better than the ML model."
   ]
  },
  {
   "cell_type": "code",
   "execution_count": 11,
   "metadata": {},
   "outputs": [],
   "source": [
    "input_data = np.concatenate((input_train, input_test), axis=0)\n",
    "output_data = np.concatenate((output_train, output_test), axis=0)"
   ]
  },
  {
   "cell_type": "code",
   "execution_count": 12,
   "metadata": {},
   "outputs": [],
   "source": [
    "(no_of_samples, no_features) = input_data.shape"
   ]
  },
  {
   "cell_type": "code",
   "execution_count": 13,
   "metadata": {},
   "outputs": [
    {
     "data": {
      "text/plain": [
       "(1540301, 27)"
      ]
     },
     "execution_count": 13,
     "metadata": {},
     "output_type": "execute_result"
    }
   ],
   "source": [
    "output_data.shape"
   ]
  },
  {
   "cell_type": "code",
   "execution_count": 17,
   "metadata": {},
   "outputs": [],
   "source": [
    "# MSE per layer\n",
    "\n",
    "from tensorflow.keras import backend as K\n",
    "import gc\n",
    "\n",
    "# Predicting is much faster with predict_on_batch\n",
    "batch_size = no_of_samples//100\n",
    "for i in range(1 + no_of_samples//batch_size):\n",
    "    if i == 0:\n",
    "        pred = model.predict_on_batch(input_data[i*batch_size:(i+1)*batch_size])\n",
    "    else:\n",
    "        pred = np.concatenate((pred, model.predict_on_batch(input_data[i*batch_size:(i+1)*batch_size])), axis=0)\n",
    "    K.clear_session()\n",
    "    gc.collect()\n",
    "\n",
    "pred_adj = np.minimum(np.maximum(pred, 0), 100)  #Cloud Cover is enforced between 0 and 100. \n",
    "                                                 #This should also be done in practice\n",
    "    \n",
    "clc_mse = np.mean((pred_adj - output_data)**2, axis=0, dtype=np.float64)"
   ]
  },
  {
   "cell_type": "code",
   "execution_count": 18,
   "metadata": {},
   "outputs": [],
   "source": [
    "# Variance of the data\n",
    "\n",
    "clc_data_var = np.var(output_data, axis=0)\n",
    "assert(len(clc_data_var) == len(clc_mse) == 27)"
   ]
  },
  {
   "cell_type": "code",
   "execution_count": 19,
   "metadata": {},
   "outputs": [],
   "source": [
    "r2 = []\n",
    "assert len(clc_mse) == len(clc_data_var) == 27\n",
    "for i in range(27):\n",
    "    r2.append(1 - clc_mse[i]/clc_data_var[i])"
   ]
  },
  {
   "cell_type": "code",
   "execution_count": 20,
   "metadata": {},
   "outputs": [
    {
     "data": {
      "text/plain": [
       "[-720361.4375716654, -13.46696667620228]"
      ]
     },
     "execution_count": 20,
     "metadata": {},
     "output_type": "execute_result"
    }
   ],
   "source": [
    "# The R2-values on the two uppermost layers are really bad\n",
    "r2[:2]"
   ]
  },
  {
   "cell_type": "code",
   "execution_count": 22,
   "metadata": {},
   "outputs": [
    {
     "data": {
      "text/plain": [
       "array([5.73488791e-09, 5.90998435e-04])"
      ]
     },
     "execution_count": 22,
     "metadata": {},
     "output_type": "execute_result"
    }
   ],
   "source": [
    "# Well, with such a low variance\n",
    "clc_data_var[:2]"
   ]
  },
  {
   "cell_type": "code",
   "execution_count": 26,
   "metadata": {},
   "outputs": [
    {
     "data": {
      "image/png": "[encoded data removed]",
      "text/plain": [
       "<Figure size 432x288 with 1 Axes>"
      ]
     },
     "metadata": {
      "needs_background": "light"
     },
     "output_type": "display_data"
    }
   ],
   "source": [
    "a = np.linspace(6, 30, 25)\n",
    "fig = plt.figure()\n",
    "\n",
    "ax = fig.add_subplot(111, xlim=(0, 1), title='R2-values of the column-based model excluding the two upper-most layers',\n",
    "                     xlabel='R2-value', ylabel='Vertical layer')\n",
    "ax.plot(r2[2:], a, 'bo')\n",
    "plt.gca().invert_yaxis()\n",
    "fig.savefig('../figures/column_based_r2-values.pdf')"
   ]
  },
  {
   "cell_type": "code",
   "execution_count": 23,
   "metadata": {},
   "outputs": [
    {
     "data": {
      "text/plain": [
       "[-720361.4375716654,\n",
       " -13.46696667620228,\n",
       " 0.8385921147746853,\n",
       " 0.9532664857642843,\n",
       " 0.9720653749076086,\n",
       " 0.9742194217759714,\n",
       " 0.9747798946868595,\n",
       " 0.9769401140222785,\n",
       " 0.9799722297191754,\n",
       " 0.9788840637139712,\n",
       " 0.9720775253716636,\n",
       " 0.9698965616759012,\n",
       " 0.9716782236325857,\n",
       " 0.975023001538734,\n",
       " 0.9789519124215493,\n",
       " 0.9745725365015382,\n",
       " 0.9788270528067893,\n",
       " 0.9825510640733438,\n",
       " 0.9837219613550517,\n",
       " 0.985948548211242,\n",
       " 0.9877470727713877,\n",
       " 0.9903804562007693,\n",
       " 0.9906706118552346,\n",
       " 0.986886762085533,\n",
       " 0.97453770971961,\n",
       " 0.9537738471453958,\n",
       " 0.9179424146309695]"
      ]
     },
     "execution_count": 23,
     "metadata": {},
     "output_type": "execute_result"
    }
   ],
   "source": [
    "r2"
   ]
  }
 ],
 "metadata": {
  "kernelspec": {
   "display_name": "clouds113_kernel",
   "language": "python",
   "name": "clouds113_kernel"
  },
  "language_info": {
   "codemirror_mode": {
    "name": "ipython",
    "version": 3
   },
   "file_extension": ".py",
   "mimetype": "text/x-python",
   "name": "python",
   "nbconvert_exporter": "python",
   "pygments_lexer": "ipython3",
   "version": "3.7.10"
  }
 },
 "nbformat": 4,
 "nbformat_minor": 4
}
