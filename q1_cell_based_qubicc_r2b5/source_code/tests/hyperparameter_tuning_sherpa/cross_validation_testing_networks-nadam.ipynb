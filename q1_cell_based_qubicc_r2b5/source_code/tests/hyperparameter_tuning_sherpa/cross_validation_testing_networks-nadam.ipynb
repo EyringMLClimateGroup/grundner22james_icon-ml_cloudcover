{
 "cells": [
  {
   "cell_type": "markdown",
   "metadata": {},
   "source": [
    "## Hyperparameter Tuning: First phase\n",
    "\n",
    "Run **SHERPA**. Fix batchsize = 1024. Fix Adam. Do not shuffle the input data as that takes a lot of time. <br>\n",
    "*First phase:* Start with 3 epochs each. Here we can already discard some models. <br>\n",
    "*Second phase:* Run 3 epochs with a parameter space confined to the four best models from phase 1. Add a learning rate scheduler a la Stephan Rasp (Divide learning rate by 20 every two epochs). <br>\n",
    "*Third phase:* Run 6 epochs with the two best models from phase 2. With Sherpa, vary only the learning rate scheduler. Use cross-validation here to truly get a good estimate of generalization error!. <br>\n",
    "\n",
    "To vary: \n",
    "- Learning rate (Learning rate scheduler)\n",
    "- Model layers (only max 1-4 hidden layers)\n",
    "- Regularization methods\n",
    "- Hidden Units\n",
    "- Activation Functions (not the last)"
   ]
  },
  {
   "cell_type": "code",
   "execution_count": 1,
   "metadata": {},
   "outputs": [
    {
     "name": "stdout",
     "output_type": "stream",
     "text": [
      "181398\n",
      "SGD\n"
     ]
    }
   ],
   "source": [
    "# Ran with 800GB (750GB should also be fine)\n",
    "\n",
    "import sys\n",
    "import numpy as np\n",
    "import time\n",
    "import pandas as pd\n",
    "import matplotlib.pyplot as plt\n",
    "import os\n",
    "import copy\n",
    "import gc\n",
    "\n",
    "#Import sklearn before tensorflow (static Thread-local storage)\n",
    "from sklearn.preprocessing import StandardScaler\n",
    "\n",
    "import tensorflow as tf\n",
    "from tensorflow.keras.models import load_model\n",
    "from tensorflow.keras.optimizers import Nadam\n",
    "from tensorflow.keras.models import Sequential\n",
    "from tensorflow.keras.layers import Dense, Dropout, BatchNormalization\n",
    "from tensorflow.keras.regularizers import l1_l2\n",
    "\n",
    "from tensorflow.keras import backend as K\n",
    "from tensorflow.keras.layers import Activation\n",
    "\n",
    "random_num = np.random.randint(500000)\n",
    "print(random_num)\n",
    "\n",
    "t0 = time.time()\n",
    "path = '/pf/b/b309170'\n",
    "path_data = path + '/my_work/icon-ml_data/cloud_cover_parameterization/grid_cell_based_QUBICC_R02B05/based_on_var_interpolated_data'    \n",
    "\n",
    "#Adapt these parameters\n",
    "OPTIMIZER = 'nadam'\n",
    "qubicc_only = False\n",
    "print(OPTIMIZER)\n",
    "\n",
    "if qubicc_only:\n",
    "    path_figures = path + '/workspace_icon-ml/cloud_cover_parameterization/grid_cell_based_QUBICC_R02B05/qubicc_only/figures'\n",
    "    path_model = path + '/workspace_icon-ml/cloud_cover_parameterization/grid_cell_based_QUBICC_R02B05/qubicc_only/saved_models'\n",
    "else:\n",
    "    path_figures = path + '/workspace_icon-ml/cloud_cover_parameterization/grid_cell_based_QUBICC_R02B05/figures'\n",
    "    path_model = path + '/workspace_icon-ml/cloud_cover_parameterization/grid_cell_based_QUBICC_R02B05/saved_models'\n",
    "\n",
    "# Add path with my_classes to sys.path\n",
    "sys.path.insert(0, path + '/workspace_icon-ml/cloud_cover_parameterization/')\n",
    "# Add sherpa\n",
    "sys.path.insert(0, path + '/my_work/sherpa')\n",
    "\n",
    "import sherpa\n",
    "import sherpa.algorithms.bayesian_optimization as bayesian_optimization\n",
    "\n",
    "# Reloading custom file to incorporate changes dynamically\n",
    "import importlib\n",
    "import my_classes\n",
    "importlib.reload(my_classes)\n",
    "\n",
    "from my_classes import read_mean_and_std\n",
    "from my_classes import TimeOut\n",
    "\n",
    "import datetime\n",
    "\n",
    "# Minutes per fold\n",
    "timeout = 2120 \n",
    "\n",
    "# For logging purposes\n",
    "days = 'all_days'\n",
    "\n",
    "# Maximum amount of epochs for each model\n",
    "epochs = 3\n",
    "\n",
    "# Set seed for reproducibility\n",
    "seed = 10\n",
    "tf.random.set_seed(seed)\n",
    "\n",
    "# For store_mean_model_biases\n",
    "VERT_LAYERS = 31\n",
    "\n",
    "gpus = tf.config.experimental.list_physical_devices('GPU')\n",
    "# tf.config.experimental.set_visible_devices(gpus[3], 'GPU')"
   ]
  },
  {
   "cell_type": "code",
   "execution_count": 2,
   "metadata": {},
   "outputs": [],
   "source": [
    "# Won't run on a CPU node\n",
    "try:\n",
    "    # Prevents crashes of the code\n",
    "    physical_devices = tf.config.list_physical_devices('GPU')\n",
    "    tf.config.set_visible_devices(physical_devices[0], 'GPU')\n",
    "    # Allow the growth of memory Tensorflow allocates (limits memory usage overall)\n",
    "    for gpu in gpus:\n",
    "        tf.config.experimental.set_memory_growth(gpu, True)\n",
    "except:\n",
    "    pass"
   ]
  },
  {
   "cell_type": "code",
   "execution_count": 3,
   "metadata": {},
   "outputs": [],
   "source": [
    "scaler = StandardScaler()"
   ]
  },
  {
   "cell_type": "markdown",
   "metadata": {},
   "source": [
    "### Load the data"
   ]
  },
  {
   "cell_type": "code",
   "execution_count": 4,
   "metadata": {},
   "outputs": [],
   "source": [
    "# input_narval = np.load(path_data + '/cloud_cover_input_narval.npy')\n",
    "# input_qubicc = np.load(path_data + '/cloud_cover_input_qubicc.npy')\n",
    "# output_narval = np.load(path_data + '/cloud_cover_output_narval.npy')\n",
    "# output_qubicc = np.load(path_data + '/cloud_cover_output_qubicc.npy')"
   ]
  },
  {
   "cell_type": "code",
   "execution_count": null,
   "metadata": {},
   "outputs": [],
   "source": [
    "input_data = np.concatenate((np.load(path_data + '/cloud_cover_input_narval.npy'), \n",
    "                             np.load(path_data + '/cloud_cover_input_qubicc.npy')), axis=0)\n",
    "output_data = np.concatenate((np.load(path_data + '/cloud_cover_output_narval.npy'), \n",
    "                              np.load(path_data + '/cloud_cover_output_qubicc.npy')), axis=0)"
   ]
  },
  {
   "cell_type": "code",
   "execution_count": 9,
   "metadata": {},
   "outputs": [],
   "source": [
    "samples_narval = np.load(path_data + '/cloud_cover_output_narval.npy').shape[0]"
   ]
  },
  {
   "cell_type": "code",
   "execution_count": null,
   "metadata": {},
   "outputs": [],
   "source": [
    "if qubicc_only:\n",
    "    input_data = input_data[samples_narval:]\n",
    "    output_data = output_data[samples_narval:]"
   ]
  },
  {
   "cell_type": "code",
   "execution_count": 10,
   "metadata": {},
   "outputs": [
    {
     "data": {
      "text/plain": [
       "(1008913906, 10)"
      ]
     },
     "execution_count": 10,
     "metadata": {},
     "output_type": "execute_result"
    }
   ],
   "source": [
    "(samples_total, no_of_features) = input_data.shape\n",
    "(samples_total, no_of_features)"
   ]
  },
  {
   "cell_type": "markdown",
   "metadata": {},
   "source": [
    "*Temporal cross-validation*\n",
    "\n",
    "Split into 2-weeks increments (when working with 3 months of data). It's 25 day increments with 5 months of data. <br>\n",
    "1.: Validate on increments 1 and 4 <br>\n",
    "2.: Validate on increments 2 and 5 <br>\n",
    "3.: Validate on increments 3 and 6\n",
    "\n",
    "--> 2/3 training data, 1/3 validation data"
   ]
  },
  {
   "cell_type": "code",
   "execution_count": 11,
   "metadata": {},
   "outputs": [],
   "source": [
    "training_folds = []\n",
    "validation_folds = []\n",
    "two_week_incr = samples_total//6\n",
    "\n",
    "for i in range(3):\n",
    "    # Note that this is a temporal split since time was the first dimension in the original tensor\n",
    "    first_incr = np.arange(samples_total//6*i, samples_total//6*(i+1))\n",
    "    second_incr = np.arange(samples_total//6*(i+3), samples_total//6*(i+4))\n",
    "\n",
    "    validation_folds.append(np.append(first_incr, second_incr))\n",
    "    training_folds.append(np.arange(samples_total))\n",
    "    training_folds[i] = np.delete(training_folds[i], validation_folds[i])"
   ]
  },
  {
   "cell_type": "markdown",
   "metadata": {},
   "source": [
    "### Define the model"
   ]
  },
  {
   "cell_type": "markdown",
   "metadata": {},
   "source": [
    "Activation function for the last layer"
   ]
  },
  {
   "cell_type": "code",
   "execution_count": 12,
   "metadata": {},
   "outputs": [],
   "source": [
    "# Activation function for the last layer\n",
    "def my_act_fct(x):\n",
    "    return K.minimum(K.maximum(x, 0), 100)"
   ]
  },
  {
   "cell_type": "markdown",
   "metadata": {
    "jupyter": {
     "outputs_hidden": true
    }
   },
   "source": [
    "### 3-fold cross-validation\n",
    "\n",
    "Actually only set i=1 here"
   ]
  },
  {
   "cell_type": "code",
   "execution_count": 14,
   "metadata": {},
   "outputs": [],
   "source": [
    "# By decreasing timeout we make sure every fold gets the same amount of time\n",
    "# After all, data-loading took some time (Have 3 folds, 60 seconds/minute)\n",
    "# timeout = timeout - 1/3*1/60*(time.time() - t0)\n",
    "timeout = timeout - 1/60*(time.time() - t0)\n",
    "t0 = time.time()\n",
    "\n",
    "#We loop through the folds\n",
    "for i in range(1,2):\n",
    "    \n",
    "    filename = 'cross_validation_cell_based_fold_%d'%(i+1)\n",
    "    \n",
    "    #Standardize according to the fold\n",
    "    scaler.fit(input_data[training_folds[i]])\n",
    "\n",
    "    #Load the data for the respective fold and convert it to tf data\n",
    "    #The scaled data lies in [-15, 89]\n",
    "    input_train = scaler.transform(input_data[training_folds[i]])\n",
    "    input_valid = scaler.transform(input_data[validation_folds[i]]) \n",
    "    \n",
    "    del input_data\n",
    "    gc.collect()\n",
    "    \n",
    "    # The output lies in [0, 100]\n",
    "    output_train = output_data[training_folds[i]]\n",
    "    output_valid = output_data[validation_folds[i]]\n",
    "    \n",
    "    # Clear memory (Reduces memory requirement to 151 GB)\n",
    "    del output_data, first_incr, second_incr, validation_folds, training_folds\n",
    "    gc.collect()\n",
    "    \n",
    "    # Column-based: batchsize of 128\n",
    "    # Possibly better to use .apply(tf.data.experimental.copy_to_device(\"/gpu:0\")) before prefetch\n",
    "    # I'm not shuffling for hyperparameter tuning\n",
    "    train_ds = tf.data.Dataset.zip((tf.data.Dataset.from_tensor_slices(input_train), \n",
    "                                tf.data.Dataset.from_tensor_slices(output_train))) \\\n",
    "                .shuffle(10**5, seed=seed) \\\n",
    "                .batch(batch_size=1024, drop_remainder=True) \\\n",
    "                .prefetch(1)\n",
    "    \n",
    "    # Clear memory\n",
    "    del input_train, output_train\n",
    "    gc.collect()\n",
    "    \n",
    "    # No need to add prefetch.\n",
    "    # tf data with batch_size=10**5 makes the validation evaluation 10 times faster\n",
    "    valid_ds = tf.data.Dataset.zip((tf.data.Dataset.from_tensor_slices(input_valid), \n",
    "                                tf.data.Dataset.from_tensor_slices(output_valid))) \\\n",
    "                .batch(batch_size=10**5, drop_remainder=True)\n",
    "    \n",
    "    # Clear memory (Reduces memory requirement to 151 GB)\n",
    "    del input_valid, output_valid\n",
    "    gc.collect()\n",
    "    \n",
    "#     #Feed the model\n",
    "#     model.compile(\n",
    "#         optimizer=tf.keras.optimizers.Adam(learning_rate=0.002),\n",
    "#         loss=tf.keras.losses.MeanSquaredError()\n",
    "#     )\n",
    "    \n",
    "#     #Train the model\n",
    "# #     time_callback = TimeOut(t0, timeout*(i+1))\n",
    "#     time_callback = TimeOut(t0, timeout)\n",
    "#     history = model.fit(train_ds, epochs=epochs, verbose=2, validation_data=valid_ds, \n",
    "#                         callbacks=[time_callback])\n",
    "# #     history = model.fit(train_ds, epochs=epochs, validation_data=valid_ds, callbacks=[time_callback])\n",
    "\n",
    "#     #Save the model     \n",
    "#     #Serialize model to YAML\n",
    "#     model_yaml = model.to_yaml()\n",
    "#     with open(os.path.join(path_model, filename+\".yaml\"), \"w\") as yaml_file:\n",
    "#         yaml_file.write(model_yaml)\n",
    "#     #Serialize model and weights to a single HDF5-file\n",
    "#     model.save(os.path.join(path_model, filename+'.h5'), \"w\")\n",
    "#     print('Saved model to disk')\n",
    "    \n",
    "#     #Plot the training history\n",
    "#     if len(history.history['loss']) > len(history.history['val_loss']):\n",
    "#         del history.history['loss'][-1]\n",
    "#     pd.DataFrame(history.history).plot(figsize=(8,5))\n",
    "#     plt.grid(True)\n",
    "#     plt.ylabel('Mean Squared Error')\n",
    "#     plt.xlabel('Number of epochs')\n",
    "#     plt.savefig(os.path.join(path_figures, filename+'.pdf'))\n",
    "    \n",
    "#     with open(os.path.join(path_model, filename+'.txt'), 'a') as file:\n",
    "#         file.write('Results from the %d-th fold\\n'%(i+1))\n",
    "#         file.write('Training epochs: %d\\n'%(len(history.history['val_loss'])))\n",
    "#         file.write('Weights restored from epoch: %d\\n\\n'%(1+np.argmin(history.history['val_loss'])))"
   ]
  },
  {
   "cell_type": "code",
   "execution_count": 15,
   "metadata": {},
   "outputs": [
    {
     "name": "stdout",
     "output_type": "stream",
     "text": [
      "239986\n"
     ]
    }
   ],
   "source": [
    "def save_model(study, today, optimizer):\n",
    "    out_path = '/pf/b/b309170/workspace_icon-ml/cloud_cover_parameterization/grid_cell_based_QUBICC_R02B05/sherpa_results/'+\\\n",
    "            today+'_'+optimizer+'_'+str(random_num)\n",
    "    \n",
    "    study.results = study.results[study.results['Status']=='COMPLETED'] #To specify results\n",
    "    study.results.index = study.results['Trial-ID']  #Trial-ID serves as a better index\n",
    "    # Remove those hyperparameters that actually do not appear in the model\n",
    "    for i in range(1, max(study.results['Trial-ID']) + 1):\n",
    "        depth = study.results.at[i, 'model_depth']\n",
    "        for j in range(depth, 5): #Or up to 8\n",
    "            study.results.at[i, 'activation_%d'%j] = None\n",
    "            study.results.at[i, 'bn_%d'%j] = None\n",
    "    # Create the directory and save the SHERPA-output in it\n",
    "    try:\n",
    "        os.mkdir(out_path)\n",
    "    except OSError:\n",
    "        print('Creation of the directory %s failed' % out_path)\n",
    "    else: \n",
    "        print('Successfully created the directory %s' % out_path)\n",
    "    study.save(out_path)"
   ]
  },
  {
   "cell_type": "code",
   "execution_count": 16,
   "metadata": {},
   "outputs": [],
   "source": [
    "# Good Reference: https://arxiv.org/pdf/1206.5533.pdf (Bengio), https://arxiv.org/pdf/2004.10652.pdf (Ott)\n",
    "# lrelu = lambda x: relu(x, alpha=0.01)\n",
    "\n",
    "# For Leaky_ReLU:\n",
    "from tensorflow import nn \n",
    "\n",
    "def lrelu(x):\n",
    "    return nn.leaky_relu(x, alpha=0.01)\n",
    "\n",
    "parameters = [sherpa.Ordinal('num_units', [16, 32, 64, 128, 256, 512]), #No need to vary these per layer. Should add 512.\n",
    "             sherpa.Discrete('model_depth', [2, 5]), #Originally [2,8] although 8 was never truly tested\n",
    "             sherpa.Choice('activation_1', ['relu', 'elu', 'tanh', nn.leaky_relu, lrelu]), #Adding SeLU is trickier\n",
    "             sherpa.Choice('activation_2', ['relu', 'elu', 'tanh', nn.leaky_relu, lrelu]), \n",
    "             sherpa.Choice('activation_3', ['relu', 'elu', 'tanh', nn.leaky_relu, lrelu]),\n",
    "             sherpa.Choice('activation_4', ['relu', 'elu', 'tanh', nn.leaky_relu, lrelu]),\n",
    "             sherpa.Continuous('lrinit', [1e-4, 1e-0], 'log'),\n",
    "             sherpa.Ordinal('epsilon', [1e-8, 1e-7, 0.1, 1]), #Momentum parameter in SGD\n",
    "             sherpa.Continuous('dropout', [0., 0.5]),\n",
    "             sherpa.Continuous('l1_reg', [0, 0.01]),\n",
    "             sherpa.Continuous('l2_reg', [0, 0.01]),\n",
    "             sherpa.Ordinal('bn_1', [0, 1]),\n",
    "             sherpa.Ordinal('bn_2', [0, 1]),\n",
    "             sherpa.Ordinal('bn_3', [0, 1]),\n",
    "             sherpa.Ordinal('bn_4', [0, 1])]"
   ]
  },
  {
   "cell_type": "code",
   "execution_count": 17,
   "metadata": {},
   "outputs": [
    {
     "name": "stderr",
     "output_type": "stream",
     "text": [
      "INFO:sherpa.core:\n",
      "-------------------------------------------------------\n",
      "SHERPA Dashboard running. Access via\n",
      "http://10.50.25.127:8880 if on a cluster or\n",
      "http://localhost:8880 if running locally.\n",
      "-------------------------------------------------------\n"
     ]
    },
    {
     "name": "stdout",
     "output_type": "stream",
     "text": [
      " * Serving Flask app \"sherpa.app.app\" (lazy loading)\n",
      " * Environment: production\n",
      "\u001b[31m   WARNING: This is a development server. Do not use it in a production deployment.\u001b[0m\n",
      "\u001b[2m   Use a production WSGI server instead.\u001b[0m\n",
      " * Debug mode: on\n"
     ]
    }
   ],
   "source": [
    "# max_num_trials is left unspecified, so the optimization will run until the end of the job-runtime\n",
    "\n",
    "good_hyperparams = pd.DataFrame({'num_units': [128], 'model_depth': [4], 'activation_1': [nn.leaky_relu], 'activation_2':['tanh'],\n",
    "                   'activation_3':[lrelu], 'activation_4':['relu'], 'lrinit':[0.008803597915634025], 'epsilon':[0.1], 'dropout':[0.20986926417416246], \n",
    "                                 'l1_reg':[0.008453317517197032], 'l2_reg':[0.004270929117841127], 'bn_1':[0], 'bn_2':[1], 'bn_3':[0], 'bn_4':[0]})\n",
    "\n",
    "alg = bayesian_optimization.GPyOpt(initial_data_points=good_hyperparams)\n",
    "\n",
    "# alg = bayesian_optimization.GPyOpt() \n",
    "study = sherpa.Study(parameters=parameters, algorithm=alg, lower_is_better=True)"
   ]
  },
  {
   "cell_type": "code",
   "execution_count": null,
   "metadata": {},
   "outputs": [
    {
     "name": "stdout",
     "output_type": "stream",
     "text": [
      "Epoch 1/3\n",
      "656844/656844 - 1789s - loss: 375.9283 - val_loss: 428.4196\n",
      "Epoch 2/3\n",
      "656844/656844 - 1804s - loss: 375.6307 - val_loss: 428.4466\n",
      "Epoch 3/3\n",
      "656844/656844 - 1837s - loss: 367.2004 - val_loss: 418.5102\n",
      "Successfully created the directory /pf/b/b309170/workspace_icon-ml/cloud_cover_parameterization/grid_cell_based_QUBICC_R02B05/sherpa_results/2021-05_adam_239986\n",
      "Epoch 1/3\n",
      "656844/656844 - 2620s - loss: 193.4993 - val_loss: 137.9323\n",
      "Epoch 2/3\n",
      "656844/656844 - 2757s - loss: 564.4405 - val_loss: 659.0098\n",
      "Epoch 3/3\n"
     ]
    }
   ],
   "source": [
    "# Usually setting patience=8\n",
    "today = str(datetime.date.today())[:7] # YYYY-MM\n",
    "\n",
    "for trial in study:\n",
    "\n",
    "    # Create the model\n",
    "    model = Sequential()\n",
    "    par = trial.parameters\n",
    "    \n",
    "    # Input layer\n",
    "    model.add(Dense(units=par['num_units'], activation=par['activation_1'], input_dim=no_of_features,\n",
    "                   kernel_regularizer=l1_l2(l1=par['l1_reg'], l2=par['l2_reg'])))\n",
    "    if (par['bn_1']==1):\n",
    "        model.add(BatchNormalization()) #There's some debate on whether to use it before or after the activation fct\n",
    "    \n",
    "    # Hidden layers    \n",
    "    for j in range(2, par['model_depth']):\n",
    "        model.add(Dense(units=par['num_units'], activation=par['activation_'+str(j)], \n",
    "                        kernel_regularizer=l1_l2(l1=par['l1_reg'], l2=par['l2_reg'])))\n",
    "        model.add(Dropout(par['dropout'])) #After every hidden layer we (potentially) add a dropout layer\n",
    "        if (par['bn_'+str(j)]==1):\n",
    "            model.add(BatchNormalization())\n",
    "    \n",
    "    # Output layer\n",
    "    model.add(Dense(1, activation='linear', \n",
    "                    kernel_regularizer=l1_l2(l1=par['l1_reg'], l2=par['l2_reg'])))\n",
    "    \n",
    "    optimizer = Nadam(lr=par['lrinit'], epsilon=par['epsilon']) \n",
    "        \n",
    "    model.compile(loss='mse', optimizer=optimizer)\n",
    "    \n",
    "    # Train the model\n",
    "    model.fit(train_ds, epochs=epochs, verbose=2, validation_data=valid_ds,\n",
    "              callbacks=[study.keras_callback(trial, objective_name='val_loss')]) ## 3 epochs\n",
    "    \n",
    "    \n",
    "    study.finalize(trial)\n",
    "    save_model(study, today, OPTIMIZER)"
   ]
  }
 ],
 "metadata": {
  "kernelspec": {
   "display_name": "Python 3 (based on the module python3/2022.01)",
   "language": "python",
   "name": "python3_2022_01"
  },
  "language_info": {
   "codemirror_mode": {
    "name": "ipython",
    "version": 3
   },
   "file_extension": ".py",
   "mimetype": "text/x-python",
   "name": "python",
   "nbconvert_exporter": "python",
   "pygments_lexer": "ipython3",
   "version": "3.9.9"
  }
 },
 "nbformat": 4,
 "nbformat_minor": 4
}
