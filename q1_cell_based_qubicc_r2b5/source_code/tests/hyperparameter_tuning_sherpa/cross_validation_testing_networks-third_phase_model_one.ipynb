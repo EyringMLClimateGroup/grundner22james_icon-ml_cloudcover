{
 "cells": [
  {
   "cell_type": "markdown",
   "metadata": {},
   "source": [
    "## Hyperparameter Tuning: Third phase, first model\n",
    "\n",
    "Run **SHERPA**. Fix batchsize = 1024. Do not shuffle the input data as that takes a lot of time. <br>\n",
    "*First phase:* Start with 3 epochs each. Here we can already discard some models. <br>\n",
    "*Second phase:* Run 3 epochs with a parameter space confined to the four best models from phase 1. Add a learning rate scheduler a la Stephan Rasp (Divide learning rate by 20 every two epochs). <br>\n",
    "*Third phase:* Run 6 epochs with the two best models from phase 2. With Sherpa, vary the learning rate schedule. Usually one uses cross-validation here to truly get a good estimate of generalization error!. \n",
    "To vary: \n",
    "- Learning rate scheduler"
   ]
  },
  {
   "cell_type": "code",
   "execution_count": 1,
   "metadata": {},
   "outputs": [],
   "source": [
    "# Best results from Phase No. 2:\n",
    "\n",
    "# Optimizer                                 Adadelta\n",
    "# activation_1                                  tanh\n",
    "# activation_2    <function leaky_relu at 0x2accec7a4ef0>\n",
    "# activation_3                                  tanh\n",
    "# bn_0                                             0\n",
    "# bn_1                                             1      \n",
    "# bn_2                                             0\n",
    "# dropout                                      0.221\n",
    "# epsilon                                        0.1\n",
    "# l1_reg                                    0.004749\n",
    "# l2_reg                                    0.008732\n",
    "# lrinit                                    0.000433\n",
    "# model_depth                                      4\n",
    "# num_units                                       64\n",
    "# Objective                                    37.45\n",
    "# Name: 0, dtype: object\n",
    "\n",
    "# Actually only the 4th best, but the second and third model weren't really satisfactory in their training progress:\n",
    "# Optimizer                                         Nadam\n",
    "# activation_1    <function leaky_relu at 0x2baa40732ef0>\n",
    "# activation_2                                       tanh\n",
    "# activation_3         <function lrelu at 0x2baa4950f710>\n",
    "# bn_0                                             0\n",
    "# bn_1                                             1      \n",
    "# bn_2                                             0\n",
    "# dropout                                    0.20987\n",
    "# epsilon                                        0.1\n",
    "# l1_reg                                    0.008453\n",
    "# l2_reg                                    0.004271\n",
    "# lrinit                                    0.008804\n",
    "# model_depth                                      4\n",
    "# num_units                                      128\n",
    "# Objective                                    45.94\n",
    "# Name: 1, dtype: object"
   ]
  },
  {
   "cell_type": "code",
   "execution_count": 2,
   "metadata": {},
   "outputs": [],
   "source": [
    "#Starting only with a few epochs\n",
    "epochs = 6"
   ]
  },
  {
   "cell_type": "code",
   "execution_count": 3,
   "metadata": {},
   "outputs": [],
   "source": [
    "# Ran with 800GB (750GB should also be fine)\n",
    "\n",
    "import sys\n",
    "import numpy as np\n",
    "import time\n",
    "import pandas as pd\n",
    "import matplotlib.pyplot as plt\n",
    "import os\n",
    "import copy\n",
    "import gc\n",
    "\n",
    "#Import sklearn before tensorflow (static Thread-local storage)\n",
    "from sklearn.preprocessing import StandardScaler\n",
    "\n",
    "import tensorflow as tf\n",
    "from tensorflow.keras.models import load_model\n",
    "from tensorflow.keras.optimizers import Adadelta\n",
    "from tensorflow.keras.models import Sequential\n",
    "from tensorflow.keras.layers import Dense, Dropout, BatchNormalization\n",
    "from tensorflow.keras.regularizers import l1_l2\n",
    "\n",
    "from tensorflow.keras import backend as K\n",
    "from tensorflow.keras.layers import Activation\n",
    "\n",
    "t0 = time.time()\n",
    "path = '/pf/b/b309170'\n",
    "path_figures = path + '/workspace_icon-ml/cloud_cover_parameterization/grid_cell_based_QUBICC_R02B05/figures'\n",
    "path_model = path + '/workspace_icon-ml/cloud_cover_parameterization/grid_cell_based_QUBICC_R02B05/saved_models'\n",
    "path_data = path + '/my_work/icon-ml_data/cloud_cover_parameterization/grid_cell_based_QUBICC_R02B05/based_on_var_interpolated_data'\n",
    "\n",
    "# Add path with my_classes to sys.path\n",
    "sys.path.insert(0, path + '/workspace_icon-ml/cloud_cover_parameterization/')\n",
    "# Add sherpa\n",
    "sys.path.insert(0, path + '/my_work/sherpa')\n",
    "\n",
    "#import sherpa\n",
    "#import sherpa.algorithms.bayesian_optimization as bayesian_optimization\n",
    "\n",
    "# Reloading custom file to incorporate changes dynamically\n",
    "import importlib\n",
    "import my_classes\n",
    "importlib.reload(my_classes)\n",
    "\n",
    "from my_classes import read_mean_and_std\n",
    "from my_classes import TimeOut\n",
    "\n",
    "import datetime\n",
    "\n",
    "# Set seed for reproducibility\n",
    "seed = 10\n",
    "tf.random.set_seed(seed)\n",
    "\n",
    "gpus = tf.config.experimental.list_physical_devices('GPU')\n",
    "# tf.config.experimental.set_visible_devices(gpus[3], 'GPU')"
   ]
  },
  {
   "cell_type": "code",
   "execution_count": 4,
   "metadata": {},
   "outputs": [],
   "source": [
    "# Won't run on a CPU node\n",
    "try:\n",
    "    # Prevents crashes of the code\n",
    "    physical_devices = tf.config.list_physical_devices('GPU')\n",
    "    tf.config.set_visible_devices(physical_devices[0], 'GPU')\n",
    "    # Allow the growth of memory Tensorflow allocates (limits memory usage overall)\n",
    "    for gpu in gpus:\n",
    "        tf.config.experimental.set_memory_growth(gpu, True)\n",
    "except:\n",
    "    pass"
   ]
  },
  {
   "cell_type": "code",
   "execution_count": 5,
   "metadata": {},
   "outputs": [],
   "source": [
    "scaler = StandardScaler()"
   ]
  },
  {
   "cell_type": "markdown",
   "metadata": {},
   "source": [
    "### Load the data"
   ]
  },
  {
   "cell_type": "code",
   "execution_count": 6,
   "metadata": {},
   "outputs": [],
   "source": [
    "# input_narval = np.load(path_data + '/cloud_cover_input_narval.npy')\n",
    "# input_qubicc = np.load(path_data + '/cloud_cover_input_qubicc.npy')\n",
    "# output_narval = np.load(path_data + '/cloud_cover_output_narval.npy')\n",
    "# output_qubicc = np.load(path_data + '/cloud_cover_output_qubicc.npy')"
   ]
  },
  {
   "cell_type": "code",
   "execution_count": 7,
   "metadata": {},
   "outputs": [],
   "source": [
    "input_data = np.concatenate((np.load(path_data + '/cloud_cover_input_narval.npy'), \n",
    "                             np.load(path_data + '/cloud_cover_input_qubicc.npy')), axis=0)\n",
    "output_data = np.concatenate((np.load(path_data + '/cloud_cover_output_narval.npy'), \n",
    "                              np.load(path_data + '/cloud_cover_output_qubicc.npy')), axis=0)"
   ]
  },
  {
   "cell_type": "code",
   "execution_count": 8,
   "metadata": {},
   "outputs": [],
   "source": [
    "samples_narval = np.load(path_data + '/cloud_cover_output_narval.npy').shape[0]"
   ]
  },
  {
   "cell_type": "code",
   "execution_count": 9,
   "metadata": {},
   "outputs": [
    {
     "data": {
      "text/plain": [
       "(1008901640, 10)"
      ]
     },
     "execution_count": 9,
     "metadata": {},
     "output_type": "execute_result"
    }
   ],
   "source": [
    "(samples_total, no_of_features) = input_data.shape\n",
    "(samples_total, no_of_features)"
   ]
  },
  {
   "cell_type": "markdown",
   "metadata": {},
   "source": [
    "*Temporal cross-validation*\n",
    "\n",
    "Split into 2-weeks increments (when working with 3 months of data). It's 25 day increments with 5 months of data. <br>\n",
    "1.: Validate on increments 1 and 4 <br>\n",
    "2.: Validate on increments 2 and 5 <br>\n",
    "3.: Validate on increments 3 and 6\n",
    "\n",
    "--> 2/3 training data, 1/3 validation data"
   ]
  },
  {
   "cell_type": "code",
   "execution_count": 10,
   "metadata": {},
   "outputs": [],
   "source": [
    "training_folds = []\n",
    "validation_folds = []\n",
    "two_week_incr = samples_total//6\n",
    "\n",
    "for i in range(3):\n",
    "    # Note that this is a temporal split since time was the first dimension in the original tensor\n",
    "    first_incr = np.arange(samples_total//6*i, samples_total//6*(i+1))\n",
    "    second_incr = np.arange(samples_total//6*(i+3), samples_total//6*(i+4))\n",
    "\n",
    "    validation_folds.append(np.append(first_incr, second_incr))\n",
    "    training_folds.append(np.arange(samples_total))\n",
    "    training_folds[i] = np.delete(training_folds[i], validation_folds[i])"
   ]
  },
  {
   "cell_type": "markdown",
   "metadata": {
    "jupyter": {
     "outputs_hidden": true
    }
   },
   "source": [
    "### 3-fold cross-validation"
   ]
  },
  {
   "cell_type": "code",
   "execution_count": 11,
   "metadata": {},
   "outputs": [],
   "source": [
    "#We loop through the folds\n",
    "def run_cross_validation(i):\n",
    "    \n",
    "    filename = 'cross_validation_cell_based_fold_%d'%(i+1)\n",
    "    \n",
    "    #Standardize according to the fold\n",
    "    scaler.fit(input_data[training_folds[i]])\n",
    "\n",
    "    #Load the data for the respective fold and convert it to tf data\n",
    "    input_train = scaler.transform(input_data[training_folds[i]])\n",
    "    input_valid = scaler.transform(input_data[validation_folds[i]])\n",
    "    output_train = output_data[training_folds[i]]\n",
    "    output_valid = output_data[validation_folds[i]]\n",
    "    \n",
    "    # Column-based: batchsize of 128\n",
    "    # Possibly better to use .apply(tf.data.experimental.copy_to_device(\"/gpu:0\")) before prefetch\n",
    "    # I'm not shuffling for hyperparameter tuning\n",
    "    train_ds = tf.data.Dataset.zip((tf.data.Dataset.from_tensor_slices(input_train), \n",
    "                                tf.data.Dataset.from_tensor_slices(output_train))) \\\n",
    "                .shuffle(10**5, seed=seed) \\\n",
    "                .batch(batch_size=1024, drop_remainder=True) \\\n",
    "                .prefetch(1)\n",
    "    \n",
    "    # No need to add prefetch.\n",
    "    # tf data with batch_size=10**5 makes the validation evaluation 10 times faster\n",
    "    valid_ds = tf.data.Dataset.zip((tf.data.Dataset.from_tensor_slices(input_valid), \n",
    "                                tf.data.Dataset.from_tensor_slices(output_valid))) \\\n",
    "                .batch(batch_size=10**5, drop_remainder=False)\n",
    "    \n",
    "    return train_ds, valid_ds"
   ]
  },
  {
   "cell_type": "code",
   "execution_count": 12,
   "metadata": {},
   "outputs": [
    {
     "name": "stdout",
     "output_type": "stream",
     "text": [
      "225259\n"
     ]
    }
   ],
   "source": [
    "#Should be a pretty unique number\n",
    "random_num = np.random.randint(500000)\n",
    "print(random_num)\n",
    "\n",
    "def save_model(study, today, optimizer):\n",
    "    out_path = '/pf/b/b309170/workspace_icon-ml/cloud_cover_parameterization/grid_cell_based_QUBICC_R02B05/sherpa_results/phase_three_'+\\\n",
    "            today+'_'+optimizer+'_'+str(random_num)\n",
    "    \n",
    "    study.results = study.results[study.results['Status']=='COMPLETED'] #To specify results\n",
    "    study.results.index = study.results['Trial-ID']  #Trial-ID serves as a better index\n",
    "    # Create the directory and save the SHERPA-output in it\n",
    "    try:\n",
    "        os.mkdir(out_path)\n",
    "    except OSError:\n",
    "        print('Creation of the directory %s failed' % out_path)\n",
    "    else: \n",
    "        print('Successfully created the directory %s' % out_path)\n",
    "    study.save(out_path)"
   ]
  },
  {
   "cell_type": "code",
   "execution_count": 13,
   "metadata": {},
   "outputs": [],
   "source": [
    "# The only practical way to reset the model is to re-initialize it\n",
    "def initialize_model(par):\n",
    "    model = Sequential()\n",
    "    \n",
    "    # Input layer\n",
    "    model.add(Dense(units=par['num_units'], activation='tanh', input_dim=no_of_features,\n",
    "                   kernel_regularizer=l1_l2(l1=par['l1_reg'], l2=par['l2_reg'])))\n",
    "\n",
    "    # Hidden layers    \n",
    "    model.add(Dense(units=par['num_units'], activation=nn.leaky_relu, \n",
    "                    kernel_regularizer=l1_l2(l1=par['l1_reg'], l2=par['l2_reg'])))\n",
    "    model.add(Dropout(par['dropout'])) #After every hidden layer we (potentially) add a dropout layer\n",
    "    model.add(BatchNormalization())\n",
    "\n",
    "    model.add(Dense(units=par['num_units'], activation='tanh', \n",
    "                    kernel_regularizer=l1_l2(l1=par['l1_reg'], l2=par['l2_reg'])))\n",
    "    model.add(Dropout(par['dropout'])) #After every hidden layer we (potentially) add a dropout layer\n",
    "    \n",
    "    # Output layer\n",
    "    model.add(Dense(1, activation='linear', \n",
    "                    kernel_regularizer=l1_l2(l1=par['l1_reg'], l2=par['l2_reg'])))\n",
    "    \n",
    "    optimizer = Adadelta(lr=par['lrinit'], epsilon=par['epsilon']) \n",
    "        \n",
    "    model.compile(loss='mse', optimizer=optimizer)\n",
    "    return model"
   ]
  },
  {
   "cell_type": "code",
   "execution_count": 14,
   "metadata": {},
   "outputs": [],
   "source": [
    "# Reduce lr every two epochs, starting at the second epoch\n",
    "def scheduler_stephan(epoch, lr):\n",
    "    if epoch > 0 and epoch%2==0:\n",
    "        return lr/20\n",
    "    else:\n",
    "        return lr\n",
    "    \n",
    "def scheduler_fast(epoch, lr):\n",
    "    if epoch > 0:\n",
    "        return lr/20\n",
    "    else:\n",
    "        return lr\n",
    "    \n",
    "def scheduler_slow(epoch, lr):\n",
    "    return lr*np.exp(-0.1)\n",
    "    \n",
    "callback_stephan = tf.keras.callbacks.LearningRateScheduler(scheduler_stephan, verbose=1)\n",
    "callback_fast = tf.keras.callbacks.LearningRateScheduler(scheduler_fast, verbose=1)\n",
    "callback_slow = tf.keras.callbacks.LearningRateScheduler(scheduler_slow, verbose=1)\n",
    "\n",
    "callback_choices = [callback_stephan, callback_fast, callback_slow]"
   ]
  },
  {
   "cell_type": "code",
   "execution_count": 15,
   "metadata": {},
   "outputs": [],
   "source": [
    "# For Leaky_ReLU:\n",
    "from tensorflow import nn \n",
    "\n",
    "def lrelu(x):\n",
    "    return nn.leaky_relu(x, alpha=0.01)\n",
    "\n",
    "OPTIMIZER = 'adadelta'\n",
    "parameters = [sherpa.Ordinal('num_units', [64]), #No need to vary these per layer. Could add 512.\n",
    "             sherpa.Ordinal('model_depth', [4]), #Originally [2,8] although 8 was never truly tested\n",
    "             sherpa.Ordinal('lrinit', [0.000433]),\n",
    "             sherpa.Ordinal('epsilon', [0.1]),\n",
    "             sherpa.Ordinal('dropout', [0.221]),\n",
    "             sherpa.Ordinal('l1_reg', [0.004749]),\n",
    "             sherpa.Ordinal('l2_reg', [0.008732])]"
   ]
  },
  {
   "cell_type": "code",
   "execution_count": 16,
   "metadata": {},
   "outputs": [
    {
     "name": "stderr",
     "output_type": "stream",
     "text": [
      "INFO:sherpa.core:\n",
      "-------------------------------------------------------\n",
      "SHERPA Dashboard running. Access via\n",
      "http://10.50.13.250:8880 if on a cluster or\n",
      "http://localhost:8880 if running locally.\n",
      "-------------------------------------------------------\n"
     ]
    },
    {
     "name": "stdout",
     "output_type": "stream",
     "text": [
      " * Serving Flask app \"sherpa.app.app\" (lazy loading)\n",
      " * Environment: production\n",
      "\u001b[31m   WARNING: This is a development server. Do not use it in a production deployment.\u001b[0m\n",
      "\u001b[2m   Use a production WSGI server instead.\u001b[0m\n",
      " * Debug mode: on\n"
     ]
    }
   ],
   "source": [
    "# max_num_trials is left unspecified, so the optimization will run until the end of the job-runtime\n",
    "\n",
    "# alg = bayesian_optimization.GPyOpt(initial_data_points=good_hyperparams)\n",
    "\n",
    "alg = bayesian_optimization.GPyOpt() \n",
    "study = sherpa.Study(parameters=parameters, algorithm=alg, lower_is_better=True)"
   ]
  },
  {
   "cell_type": "code",
   "execution_count": null,
   "metadata": {},
   "outputs": [
    {
     "name": "stdout",
     "output_type": "stream",
     "text": [
      "Epoch 1/6\n",
      "\n",
      "Epoch 00001: LearningRateScheduler reducing learning rate to 0.0004330000083427876.\n",
      "656837/656837 - 2935s - loss: 49.5686 - val_loss: 53.9367\n",
      "Epoch 2/6\n",
      "\n",
      "Epoch 00002: LearningRateScheduler reducing learning rate to 2.165000041713938e-05.\n",
      "656837/656837 - 2852s - loss: 46.3698 - val_loss: 47.1870\n",
      "Epoch 3/6\n",
      "\n",
      "Epoch 00003: LearningRateScheduler reducing learning rate to 1.082500057236757e-06.\n",
      "656837/656837 - 2838s - loss: 54.8163 - val_loss: 46.6972\n",
      "Epoch 4/6\n",
      "\n",
      "Epoch 00004: LearningRateScheduler reducing learning rate to 5.412500172496948e-08.\n",
      "656837/656837 - 2883s - loss: 84.2991 - val_loss: 46.7774\n",
      "Epoch 5/6\n",
      "\n",
      "Epoch 00005: LearningRateScheduler reducing learning rate to 2.7062501573027474e-09.\n"
     ]
    }
   ],
   "source": [
    "# Usually setting patience=8\n",
    "today = str(datetime.date.today())[:7] # YYYY-MM\n",
    "\n",
    "for trial in study:\n",
    "    \n",
    "    val_loss = []\n",
    "    \n",
    "    # Which callback to choose\n",
    "    cb = np.random.randint(3)\n",
    "\n",
    "    # Cross-validate\n",
    "    # Not using the keras_callback here as then the objective of a given trial is fixed after only one run of model fit\n",
    "    for i in range(3):\n",
    "        train_ds, valid_ds = run_cross_validation(i)\n",
    "        \n",
    "        # Initialize the model\n",
    "        model = initialize_model(trial.parameters)\n",
    "        history = model.fit(train_ds, epochs=epochs, verbose=2, validation_data=valid_ds, \n",
    "                            callbacks=[callback_choices[cb]]) \n",
    "        val_loss.append(np.min(history.history['val_loss']))\n",
    "    \n",
    "    # Using add_observation instead of keras_callback. \n",
    "    study.add_observation(trial, objective=np.mean(val_loss), context={'Val-loss First Fold': val_loss[0], \n",
    "                                                                 'Val-loss Second Fold': val_loss[1], \n",
    "                                                                 'Val-loss Third Fold': val_loss[2]})\n",
    "    \n",
    "#     study.add_observation(trial, objective=np.mean(val_loss))\n",
    "    \n",
    "    study.finalize(trial)\n",
    "    save_model(study, today, OPTIMIZER)"
   ]
  }
 ],
 "metadata": {
  "kernelspec": {
   "display_name": "clouds113_kernel",
   "language": "python",
   "name": "clouds113_kernel"
  },
  "language_info": {
   "codemirror_mode": {
    "name": "ipython",
    "version": 3
   },
   "file_extension": ".py",
   "mimetype": "text/x-python",
   "name": "python",
   "nbconvert_exporter": "python",
   "pygments_lexer": "ipython3",
   "version": "3.7.10"
  }
 },
 "nbformat": 4,
 "nbformat_minor": 4
}
