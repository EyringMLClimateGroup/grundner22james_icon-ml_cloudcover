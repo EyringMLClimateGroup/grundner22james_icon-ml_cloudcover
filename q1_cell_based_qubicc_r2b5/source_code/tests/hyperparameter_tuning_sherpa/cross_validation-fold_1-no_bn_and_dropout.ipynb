{
 "cells": [
  {
   "cell_type": "markdown",
   "metadata": {},
   "source": [
    "## Cross-Validation\n",
    "\n",
    "1. We read the data from the npy files\n",
    "2. We combine the QUBICC and NARVAL data\n",
    "4. Set up cross validation\n",
    "\n",
    "During cross-validation:\n",
    "\n",
    "1. We scale the data, convert to tf data\n",
    "2. Plot training progress, model biases \n",
    "3. Write losses and epochs into file"
   ]
  },
  {
   "cell_type": "code",
   "execution_count": 1,
   "metadata": {},
   "outputs": [],
   "source": [
    "# Ran with 800GB (750GB should also be fine)\n",
    "\n",
    "import sys\n",
    "import numpy as np\n",
    "import time\n",
    "import pandas as pd\n",
    "import matplotlib.pyplot as plt\n",
    "import os\n",
    "import copy\n",
    "import gc\n",
    "\n",
    "#Import sklearn before tensorflow (static Thread-local storage)\n",
    "from sklearn.preprocessing import StandardScaler\n",
    "\n",
    "import tensorflow as tf\n",
    "from tensorflow.keras.models import load_model\n",
    "from tensorflow.keras.optimizers import Adam\n",
    "from tensorflow.keras.models import Sequential\n",
    "from tensorflow.keras.layers import Dense, Dropout, BatchNormalization\n",
    "from tensorflow.keras.regularizers import l1_l2\n",
    "\n",
    "from tensorflow.keras import backend as K\n",
    "from tensorflow.keras.layers import Activation\n",
    "\n",
    "# For Leaky_ReLU:\n",
    "from tensorflow import nn \n",
    "\n",
    "t0 = time.time()\n",
    "path = '/pf/b/b309170'\n",
    "\n",
    "qubicc_only = False\n",
    "if qubicc_only:\n",
    "    path_figures = path + '/workspace_icon-ml/cloud_cover_parameterization/grid_cell_based_QUBICC_R02B05/qubicc_only/figures'\n",
    "    path_model = path + '/workspace_icon-ml/cloud_cover_parameterization/grid_cell_based_QUBICC_R02B05/qubicc_only/saved_models'\n",
    "else:\n",
    "    path_figures = path + '/workspace_icon-ml/cloud_cover_parameterization/grid_cell_based_QUBICC_R02B05/figures'\n",
    "    path_model = path + '/workspace_icon-ml/cloud_cover_parameterization/grid_cell_based_QUBICC_R02B05/saved_models'\n",
    "\n",
    "path_data = path + '/my_work/icon-ml_data/cloud_cover_parameterization/grid_cell_based_QUBICC_R02B05/based_on_var_interpolated_data'\n",
    "\n",
    "# Add path with my_classes to sys.path\n",
    "sys.path.insert(0, path + '/workspace_icon-ml/cloud_cover_parameterization/')\n",
    "\n",
    "# Reloading custom file to incorporate changes dynamically\n",
    "import importlib\n",
    "import my_classes\n",
    "importlib.reload(my_classes)\n",
    "\n",
    "from my_classes import read_mean_and_std\n",
    "from my_classes import TimeOut\n",
    "\n",
    "# Minutes per fold\n",
    "timeout = 2120 \n",
    "\n",
    "# For logging purposes\n",
    "days = 'all_days'\n",
    "\n",
    "# Maximum amount of epochs for each model\n",
    "# epochs = 30 ##\n",
    "epochs = 100 ## Just for this qubicc_only run\n",
    "\n",
    "# Set seed for reproducibility\n",
    "seed = 10\n",
    "tf.random.set_seed(seed)\n",
    "\n",
    "# For store_mean_model_biases\n",
    "VERT_LAYERS = 31\n",
    "\n",
    "gpus = tf.config.experimental.list_physical_devices('GPU')\n",
    "# tf.config.experimental.set_visible_devices(gpus[3], 'GPU')"
   ]
  },
  {
   "cell_type": "code",
   "execution_count": 2,
   "metadata": {},
   "outputs": [],
   "source": [
    "# Won't run on a CPU node\n",
    "try:\n",
    "    # Prevents crashes of the code\n",
    "    physical_devices = tf.config.list_physical_devices('GPU')\n",
    "    tf.config.set_visible_devices(physical_devices[0], 'GPU')\n",
    "    # Allow the growth of memory Tensorflow allocates (limits memory usage overall)\n",
    "    for gpu in gpus:\n",
    "        tf.config.experimental.set_memory_growth(gpu, True)\n",
    "except:\n",
    "    pass"
   ]
  },
  {
   "cell_type": "code",
   "execution_count": 5,
   "metadata": {},
   "outputs": [],
   "source": [
    "scaler = StandardScaler()"
   ]
  },
  {
   "cell_type": "markdown",
   "metadata": {},
   "source": [
    "### Load the data"
   ]
  },
  {
   "cell_type": "code",
   "execution_count": 6,
   "metadata": {},
   "outputs": [],
   "source": [
    "# input_narval = np.load(path_data + '/cloud_cover_input_narval.npy')\n",
    "# input_qubicc = np.load(path_data + '/cloud_cover_input_qubicc.npy')\n",
    "# output_narval = np.load(path_data + '/cloud_cover_output_narval.npy')\n",
    "# output_qubicc = np.load(path_data + '/cloud_cover_output_qubicc.npy')"
   ]
  },
  {
   "cell_type": "code",
   "execution_count": 7,
   "metadata": {},
   "outputs": [],
   "source": [
    "input_data = np.concatenate((np.load(path_data + '/cloud_cover_input_narval.npy'), \n",
    "                             np.load(path_data + '/cloud_cover_input_qubicc.npy')), axis=0)\n",
    "output_data = np.concatenate((np.load(path_data + '/cloud_cover_output_narval.npy'), \n",
    "                              np.load(path_data + '/cloud_cover_output_qubicc.npy')), axis=0)"
   ]
  },
  {
   "cell_type": "code",
   "execution_count": 8,
   "metadata": {},
   "outputs": [],
   "source": [
    "samples_narval = np.load(path_data + '/cloud_cover_output_narval.npy').shape[0]"
   ]
  },
  {
   "cell_type": "code",
   "execution_count": 9,
   "metadata": {},
   "outputs": [],
   "source": [
    "if qubicc_only:\n",
    "    input_data = input_data[samples_narval:]\n",
    "    output_data = output_data[samples_narval:]"
   ]
  },
  {
   "cell_type": "code",
   "execution_count": 10,
   "metadata": {},
   "outputs": [
    {
     "data": {
      "text/plain": [
       "(882047964, 10)"
      ]
     },
     "execution_count": 10,
     "metadata": {},
     "output_type": "execute_result"
    }
   ],
   "source": [
    "(samples_total, no_of_features) = input_data.shape\n",
    "(samples_total, no_of_features)"
   ]
  },
  {
   "cell_type": "code",
   "execution_count": null,
   "metadata": {},
   "outputs": [],
   "source": [
    "# Pick random subset of data to make testing 800 times faster\n",
    "np.random.seed(10)\n",
    "ind = np.random.randint(samples_total, size=(10**6))"
   ]
  },
  {
   "cell_type": "code",
   "execution_count": null,
   "metadata": {},
   "outputs": [],
   "source": [
    "input_data = input_data[ind]\n",
    "output_data = output_data[ind]"
   ]
  },
  {
   "cell_type": "code",
   "execution_count": null,
   "metadata": {},
   "outputs": [],
   "source": [
    "(samples_total, no_of_features) = input_data.shape\n",
    "(samples_total, no_of_features)"
   ]
  },
  {
   "cell_type": "markdown",
   "metadata": {},
   "source": [
    "*Temporal cross-validation*\n",
    "\n",
    "Split into 2-weeks increments (when working with 3 months of data). It's 25 day increments with 5 months of data. <br>\n",
    "1.: Validate on increments 1 and 4 <br>\n",
    "2.: Validate on increments 2 and 5 <br>\n",
    "3.: Validate on increments 3 and 6\n",
    "\n",
    "--> 2/3 training data, 1/3 validation data"
   ]
  },
  {
   "cell_type": "code",
   "execution_count": 11,
   "metadata": {},
   "outputs": [],
   "source": [
    "training_folds = []\n",
    "validation_folds = []\n",
    "two_week_incr = samples_total//6\n",
    "\n",
    "for i in range(3):\n",
    "    # Note that this is a temporal split since time was the first dimension in the original tensor\n",
    "    first_incr = np.arange(samples_total//6*i, samples_total//6*(i+1))\n",
    "    second_incr = np.arange(samples_total//6*(i+3), samples_total//6*(i+4))\n",
    "\n",
    "    validation_folds.append(np.append(first_incr, second_incr))\n",
    "    training_folds.append(np.arange(samples_total))\n",
    "    training_folds[i] = np.delete(training_folds[i], validation_folds[i])"
   ]
  },
  {
   "cell_type": "markdown",
   "metadata": {},
   "source": [
    "### Define the model"
   ]
  },
  {
   "cell_type": "markdown",
   "metadata": {},
   "source": [
    "Activation function for the last layer"
   ]
  },
  {
   "cell_type": "code",
   "execution_count": 13,
   "metadata": {},
   "outputs": [],
   "source": [
    "# Create the model\n",
    "model = Sequential()\n",
    "\n",
    "# First hidden layer\n",
    "model.add(Dense(units=64, activation='tanh', input_dim=no_of_features, \n",
    "                kernel_regularizer=l1_l2(l1=0.004749, l2=0.008732)))\n",
    "\n",
    "# Second hidden layer\n",
    "model.add(Dense(units=64, activation=nn.leaky_relu, kernel_regularizer=l1_l2(l1=0.004749, l2=0.008732)))\n",
    "# model.add(Dropout(0.221)) # We drop 18% of the hidden nodes\n",
    "# model.add(BatchNormalization())\n",
    "\n",
    "# Third hidden layer\n",
    "model.add(Dense(units=64, activation='tanh', kernel_regularizer=l1_l2(l1=0.004749, l2=0.008732)))\n",
    "# model.add(Dropout(0.221)) # We drop 18% of the hidden nodes\n",
    "\n",
    "# Output layer\n",
    "model.add(Dense(1, activation='linear', kernel_regularizer=l1_l2(l1=0.004749, l2=0.008732)))"
   ]
  },
  {
   "cell_type": "code",
   "execution_count": 14,
   "metadata": {},
   "outputs": [],
   "source": [
    "# Reduce lr every two epochs, starting at the second epoch\n",
    "def scheduler_stephan(epoch, lr):\n",
    "    if epoch > 0 and epoch%2==0:\n",
    "        return lr/20\n",
    "    else:\n",
    "        return lr\n",
    "    \n",
    "callback_stephan = tf.keras.callbacks.LearningRateScheduler(scheduler_stephan, verbose=1)"
   ]
  },
  {
   "cell_type": "markdown",
   "metadata": {},
   "source": [
    "Preliminary baselines"
   ]
  },
  {
   "cell_type": "code",
   "execution_count": 15,
   "metadata": {},
   "outputs": [],
   "source": [
    "# # This would be the loss of a NN which outputs zeros everywhere\n",
    "# np.mean(np.array(output_data)**2)"
   ]
  },
  {
   "cell_type": "code",
   "execution_count": 16,
   "metadata": {},
   "outputs": [],
   "source": [
    "# # This would be the loss of a NN which outputs the best constant value everywhere\n",
    "# constant_mean = np.mean(np.array(output_data))\n",
    "# np.mean((np.array(output_data) - constant_mean)**2)"
   ]
  },
  {
   "cell_type": "code",
   "execution_count": 17,
   "metadata": {},
   "outputs": [],
   "source": [
    "# # Freeing up memory (~46 GB). Memory usage after this cell: 251 GB\n",
    "# del input_narval, input_qubicc, output_narval, output_qubicc\n",
    "\n",
    "# gc.collect()"
   ]
  },
  {
   "cell_type": "markdown",
   "metadata": {
    "jupyter": {
     "outputs_hidden": true
    }
   },
   "source": [
    "### 3-fold cross-validation\n",
    "\n",
    "When the training is lost in a local minimum, often a re-run helps with a different initialization of the model weights.\n",
    "Or possibly a different shuffling seed."
   ]
  },
  {
   "cell_type": "code",
   "execution_count": null,
   "metadata": {},
   "outputs": [
    {
     "name": "stdout",
     "output_type": "stream",
     "text": [
      "Starting training\n",
      "Epoch 1/8\n",
      "\n",
      "Epoch 00001: LearningRateScheduler reducing learning rate to 0.008725999854505062.\n",
      "572015/572015 - 4671s - loss: 53.0787 - val_loss: 46.8869\n",
      "Epoch 2/8\n",
      "\n",
      "Epoch 00002: LearningRateScheduler reducing learning rate to 0.008725999854505062.\n",
      "572015/572015 - 4713s - loss: 54.4373 - val_loss: 44.9378\n",
      "Epoch 3/8\n",
      "\n",
      "Epoch 00003: LearningRateScheduler reducing learning rate to 0.0004362999927252531.\n",
      "572015/572015 - 4625s - loss: 102.6980 - val_loss: 66.9743\n",
      "Epoch 4/8\n",
      "\n",
      "Epoch 00004: LearningRateScheduler reducing learning rate to 0.0004363000043667853.\n",
      "572015/572015 - 4675s - loss: 112.1046 - val_loss: 11504.2842\n",
      "Epoch 5/8\n",
      "\n",
      "Epoch 00005: LearningRateScheduler reducing learning rate to 2.1815000218339263e-05.\n",
      "572015/572015 - 4686s - loss: 121.5355 - val_loss: 7668.2300\n",
      "Epoch 6/8\n",
      "\n",
      "Epoch 00006: LearningRateScheduler reducing learning rate to 2.1814999854541384e-05.\n"
     ]
    }
   ],
   "source": [
    "# By decreasing timeout we make sure every fold gets the same amount of time\n",
    "# After all, data-loading took some time (Have 3 folds, 60 seconds/minute)\n",
    "# timeout = timeout - 1/3*1/60*(time.time() - t0)\n",
    "timeout = timeout - 1/60*(time.time() - t0)\n",
    "t0 = time.time()\n",
    "\n",
    "#We loop through the folds\n",
    "for i in range(0,1):\n",
    "    \n",
    "    filename = 'cross_validation_cell_based_fold_%d_no_bn_and_no_dropout'%(i+1)\n",
    "    \n",
    "    #Standardize according to the fold\n",
    "    scaler.fit(input_data[training_folds[i]])\n",
    "\n",
    "    #Load the data for the respective fold and convert it to tf data\n",
    "    input_train = scaler.transform(input_data[training_folds[i]])\n",
    "    input_valid = scaler.transform(input_data[validation_folds[i]]) \n",
    "    output_train = output_data[training_folds[i]]\n",
    "    output_valid = output_data[validation_folds[i]]\n",
    "    \n",
    "    # Clear memory (Reduces memory requirement to 151 GB)\n",
    "    del input_data, output_data, first_incr, second_incr, validation_folds, training_folds\n",
    "    gc.collect()\n",
    "    \n",
    "    # Column-based: batchsize of 128\n",
    "    # Cell-based: batchsize of at least 512\n",
    "    # Shuffle is actually very important because we start off with the uppermost layers with clc=0 basically throughout\n",
    "    # This can push us into a local minimum, preferrably yielding clc=0.\n",
    "    # The size of the shuffle buffer significantly impacts RAM requirements! Do not increase to above 10000.\n",
    "    # Possibly better to use .apply(tf.data.experimental.copy_to_device(\"/gpu:0\")) before prefetch\n",
    "    # We might want to cache before shuffling, however it seems to slow down training\n",
    "    # We do not repeat after shuffle, because the validation set should be evaluated after each epoch\n",
    "    train_ds = tf.data.Dataset.zip((tf.data.Dataset.from_tensor_slices(input_train), \n",
    "                                tf.data.Dataset.from_tensor_slices(output_train))) \\\n",
    "                .shuffle(10**5, seed=seed) \\\n",
    "                .batch(batch_size=1028, drop_remainder=True) \\\n",
    "                .prefetch(1)\n",
    "    \n",
    "    # Clear memory\n",
    "    del input_train, output_train\n",
    "    gc.collect()\n",
    "    \n",
    "    # No need to add prefetch.\n",
    "    # tf data with batch_size=10**5 makes the validation evaluation 10 times faster\n",
    "    valid_ds = tf.data.Dataset.zip((tf.data.Dataset.from_tensor_slices(input_valid), \n",
    "                                tf.data.Dataset.from_tensor_slices(output_valid))) \\\n",
    "                .batch(batch_size=10**5, drop_remainder=True)\n",
    "    \n",
    "    # Clear memory (Reduces memory requirement to 151 GB)\n",
    "    del input_valid, output_valid\n",
    "    gc.collect()\n",
    "    \n",
    "    #Feed the model. Increase the learning rate by a factor of 2 when increasing the batch size by a factor of 4\n",
    "    model.compile(\n",
    "        optimizer=tf.keras.optimizers.Adadelta(learning_rate=0.000433, epsilon=0.1),\n",
    "        loss=tf.keras.losses.MeanSquaredError()\n",
    "    )\n",
    "    \n",
    "    #Train the model\n",
    "#     time_callback = TimeOut(t0, timeout*(i+1))\n",
    "    time_callback = TimeOut(t0, timeout)\n",
    "    history = model.fit(train_ds, validation_data=valid_ds, epochs=epochs, verbose=2)\n",
    "#     history = model.fit(train_ds, epochs=epochs, validation_data=valid_ds, callbacks=[time_callback])\n",
    "\n",
    "    #Save the model     \n",
    "    #Serialize model to YAML\n",
    "    model_yaml = model.to_yaml()\n",
    "    with open(os.path.join(path_model, filename+\".yaml\"), \"w\") as yaml_file:\n",
    "        yaml_file.write(model_yaml)\n",
    "    #Serialize model and weights to a single HDF5-file\n",
    "    model.save(os.path.join(path_model, filename+'.h5'), \"w\")\n",
    "    print('Saved model to disk')\n",
    "    \n",
    "    #Plot the training history\n",
    "    if len(history.history['loss']) > len(history.history['val_loss']):\n",
    "        del history.history['loss'][-1]\n",
    "    pd.DataFrame(history.history).plot(figsize=(8,5))\n",
    "    plt.grid(True)\n",
    "    plt.ylabel('Mean Squared Error')\n",
    "    plt.xlabel('Number of epochs')\n",
    "    plt.savefig(os.path.join(path_figures, filename+'.pdf'))\n",
    "    \n",
    "    with open(os.path.join(path_model, filename+'.txt'), 'a') as file:\n",
    "        file.write('Results from the %d-th fold\\n'%(i+1))\n",
    "        file.write('Training epochs: %d\\n'%(len(history.history['val_loss'])))\n",
    "        file.write('Weights restored from epoch: %d\\n\\n'%(1+np.argmin(history.history['val_loss'])))"
   ]
  },
  {
   "cell_type": "code",
   "execution_count": null,
   "metadata": {},
   "outputs": [],
   "source": []
  }
 ],
 "metadata": {
  "kernelspec": {
   "display_name": "clouds113_kernel",
   "language": "python",
   "name": "clouds113_kernel"
  },
  "language_info": {
   "codemirror_mode": {
    "name": "ipython",
    "version": 3
   },
   "file_extension": ".py",
   "mimetype": "text/x-python",
   "name": "python",
   "nbconvert_exporter": "python",
   "pygments_lexer": "ipython3",
   "version": "3.7.10"
  }
 },
 "nbformat": 4,
 "nbformat_minor": 4
}
