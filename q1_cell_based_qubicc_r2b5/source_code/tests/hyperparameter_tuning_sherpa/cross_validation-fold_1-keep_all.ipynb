{
 "cells": [
  {
   "cell_type": "markdown",
   "metadata": {},
   "source": [
    "## Cross-Validation\n",
    "\n",
    "1. We read the data from the npy files\n",
    "2. We combine the QUBICC and NARVAL data\n",
    "4. Set up cross validation\n",
    "\n",
    "During cross-validation:\n",
    "\n",
    "1. We scale the data, convert to tf data\n",
    "2. Plot training progress, model biases \n",
    "3. Write losses and epochs into file"
   ]
  },
  {
   "cell_type": "code",
   "execution_count": 1,
   "metadata": {},
   "outputs": [],
   "source": [
    "# Ran with 800GB (750GB should also be fine)\n",
    "\n",
    "import sys\n",
    "import numpy as np\n",
    "import time\n",
    "import pandas as pd\n",
    "import matplotlib.pyplot as plt\n",
    "import os\n",
    "import copy\n",
    "import gc\n",
    "\n",
    "#Import sklearn before tensorflow (static Thread-local storage)\n",
    "from sklearn.preprocessing import StandardScaler\n",
    "\n",
    "import tensorflow as tf\n",
    "from tensorflow.keras.models import load_model\n",
    "from tensorflow.keras.optimizers import Adam\n",
    "from tensorflow.keras.models import Sequential\n",
    "from tensorflow.keras.layers import Dense, Dropout, BatchNormalization\n",
    "from tensorflow.keras.regularizers import l1_l2\n",
    "\n",
    "from tensorflow.keras import backend as K\n",
    "from tensorflow.keras.layers import Activation\n",
    "\n",
    "# For Leaky_ReLU:\n",
    "from tensorflow import nn \n",
    "\n",
    "t0 = time.time()\n",
    "path = '/pf/b/b309170'\n",
    "\n",
    "qubicc_only = False\n",
    "if qubicc_only:\n",
    "    path_figures = path + '/workspace_icon-ml/cloud_cover_parameterization/grid_cell_based_QUBICC_R02B05/qubicc_only/figures'\n",
    "    path_model = path + '/workspace_icon-ml/cloud_cover_parameterization/grid_cell_based_QUBICC_R02B05/qubicc_only/saved_models'\n",
    "else:\n",
    "    path_figures = path + '/workspace_icon-ml/cloud_cover_parameterization/grid_cell_based_QUBICC_R02B05/figures'\n",
    "    path_model = path + '/workspace_icon-ml/cloud_cover_parameterization/grid_cell_based_QUBICC_R02B05/saved_models'\n",
    "\n",
    "path_data = path + '/my_work/icon-ml_data/cloud_cover_parameterization/grid_cell_based_QUBICC_R02B05/based_on_var_interpolated_data'\n",
    "\n",
    "# Add path with my_classes to sys.path\n",
    "sys.path.insert(0, path + '/workspace_icon-ml/cloud_cover_parameterization/')\n",
    "\n",
    "# Reloading custom file to incorporate changes dynamically\n",
    "import importlib\n",
    "import my_classes\n",
    "importlib.reload(my_classes)\n",
    "\n",
    "from my_classes import read_mean_and_std\n",
    "from my_classes import TimeOut\n",
    "\n",
    "# Minutes per fold\n",
    "timeout = 2120 \n",
    "\n",
    "# For logging purposes\n",
    "days = 'all_days'\n",
    "\n",
    "# Maximum amount of epochs for each model\n",
    "# epochs = 30 ##\n",
    "epochs = 100 ## Just for this qubicc_only run\n",
    "\n",
    "# Set seed for reproducibility\n",
    "seed = 10\n",
    "tf.random.set_seed(seed)\n",
    "\n",
    "# For store_mean_model_biases\n",
    "VERT_LAYERS = 31\n",
    "\n",
    "gpus = tf.config.experimental.list_physical_devices('GPU')\n",
    "# tf.config.experimental.set_visible_devices(gpus[3], 'GPU')"
   ]
  },
  {
   "cell_type": "code",
   "execution_count": 2,
   "metadata": {},
   "outputs": [],
   "source": [
    "# Won't run on a CPU node\n",
    "try:\n",
    "    # Prevents crashes of the code\n",
    "    physical_devices = tf.config.list_physical_devices('GPU')\n",
    "    tf.config.set_visible_devices(physical_devices[0], 'GPU')\n",
    "    # Allow the growth of memory Tensorflow allocates (limits memory usage overall)\n",
    "    for gpu in gpus:\n",
    "        tf.config.experimental.set_memory_growth(gpu, True)\n",
    "except:\n",
    "    pass"
   ]
  },
  {
   "cell_type": "code",
   "execution_count": 3,
   "metadata": {},
   "outputs": [],
   "source": [
    "scaler = StandardScaler()"
   ]
  },
  {
   "cell_type": "markdown",
   "metadata": {},
   "source": [
    "### Load the data"
   ]
  },
  {
   "cell_type": "code",
   "execution_count": 4,
   "metadata": {},
   "outputs": [],
   "source": [
    "# input_narval = np.load(path_data + '/cloud_cover_input_narval.npy')\n",
    "# input_qubicc = np.load(path_data + '/cloud_cover_input_qubicc.npy')\n",
    "# output_narval = np.load(path_data + '/cloud_cover_output_narval.npy')\n",
    "# output_qubicc = np.load(path_data + '/cloud_cover_output_qubicc.npy')"
   ]
  },
  {
   "cell_type": "code",
   "execution_count": 5,
   "metadata": {},
   "outputs": [],
   "source": [
    "input_data = np.concatenate((np.load(path_data + '/cloud_cover_input_narval.npy'), \n",
    "                             np.load(path_data + '/cloud_cover_input_qubicc.npy')), axis=0)\n",
    "output_data = np.concatenate((np.load(path_data + '/cloud_cover_output_narval.npy'), \n",
    "                              np.load(path_data + '/cloud_cover_output_qubicc.npy')), axis=0)"
   ]
  },
  {
   "cell_type": "code",
   "execution_count": 6,
   "metadata": {},
   "outputs": [],
   "source": [
    "samples_narval = np.load(path_data + '/cloud_cover_output_narval.npy').shape[0]"
   ]
  },
  {
   "cell_type": "code",
   "execution_count": 7,
   "metadata": {},
   "outputs": [],
   "source": [
    "if qubicc_only:\n",
    "    input_data = input_data[samples_narval:]\n",
    "    output_data = output_data[samples_narval:]"
   ]
  },
  {
   "cell_type": "code",
   "execution_count": 8,
   "metadata": {},
   "outputs": [
    {
     "data": {
      "text/plain": [
       "(1008901640, 10)"
      ]
     },
     "execution_count": 8,
     "metadata": {},
     "output_type": "execute_result"
    }
   ],
   "source": [
    "(samples_total, no_of_features) = input_data.shape\n",
    "(samples_total, no_of_features)"
   ]
  },
  {
   "cell_type": "code",
   "execution_count": 9,
   "metadata": {},
   "outputs": [],
   "source": [
    "# Pick random subset of data to make testing 800 times faster\n",
    "np.random.seed(10)\n",
    "ind = np.random.randint(samples_total, size=(10**7)) ## Was 10**6"
   ]
  },
  {
   "cell_type": "code",
   "execution_count": 10,
   "metadata": {},
   "outputs": [],
   "source": [
    "input_data = input_data[ind]\n",
    "output_data = output_data[ind]"
   ]
  },
  {
   "cell_type": "code",
   "execution_count": 11,
   "metadata": {},
   "outputs": [
    {
     "data": {
      "text/plain": [
       "(10000000, 10)"
      ]
     },
     "execution_count": 11,
     "metadata": {},
     "output_type": "execute_result"
    }
   ],
   "source": [
    "(samples_total, no_of_features) = input_data.shape\n",
    "(samples_total, no_of_features)"
   ]
  },
  {
   "cell_type": "markdown",
   "metadata": {},
   "source": [
    "*Temporal cross-validation*\n",
    "\n",
    "Split into 2-weeks increments (when working with 3 months of data). It's 25 day increments with 5 months of data. <br>\n",
    "1.: Validate on increments 1 and 4 <br>\n",
    "2.: Validate on increments 2 and 5 <br>\n",
    "3.: Validate on increments 3 and 6\n",
    "\n",
    "--> 2/3 training data, 1/3 validation data"
   ]
  },
  {
   "cell_type": "code",
   "execution_count": 12,
   "metadata": {},
   "outputs": [],
   "source": [
    "training_folds = []\n",
    "validation_folds = []\n",
    "two_week_incr = samples_total//6\n",
    "\n",
    "for i in range(3):\n",
    "    # Note that this is a temporal split since time was the first dimension in the original tensor\n",
    "    first_incr = np.arange(samples_total//6*i, samples_total//6*(i+1))\n",
    "    second_incr = np.arange(samples_total//6*(i+3), samples_total//6*(i+4))\n",
    "\n",
    "    validation_folds.append(np.append(first_incr, second_incr))\n",
    "    training_folds.append(np.arange(samples_total))\n",
    "    training_folds[i] = np.delete(training_folds[i], validation_folds[i])"
   ]
  },
  {
   "cell_type": "markdown",
   "metadata": {},
   "source": [
    "### Define the model"
   ]
  },
  {
   "cell_type": "markdown",
   "metadata": {},
   "source": [
    "Activation function for the last layer"
   ]
  },
  {
   "cell_type": "code",
   "execution_count": 13,
   "metadata": {},
   "outputs": [],
   "source": [
    "# Create the model\n",
    "model = Sequential()\n",
    "\n",
    "# First hidden layer\n",
    "model.add(Dense(units=64, activation='tanh', input_dim=no_of_features, \n",
    "                kernel_regularizer=l1_l2(l1=0.004749, l2=0.008732)))\n",
    "\n",
    "# Second hidden layer\n",
    "model.add(Dense(units=64, activation=nn.leaky_relu, kernel_regularizer=l1_l2(l1=0.004749, l2=0.008732)))\n",
    "model.add(Dropout(0.221)) # We drop 18% of the hidden nodes\n",
    "model.add(BatchNormalization())\n",
    "\n",
    "# Third hidden layer\n",
    "model.add(Dense(units=64, activation='tanh', kernel_regularizer=l1_l2(l1=0.004749, l2=0.008732)))\n",
    "model.add(Dropout(0.221)) # We drop 18% of the hidden nodes\n",
    "\n",
    "# Output layer\n",
    "model.add(Dense(1, activation='linear', kernel_regularizer=l1_l2(l1=0.004749, l2=0.008732)))"
   ]
  },
  {
   "cell_type": "code",
   "execution_count": 14,
   "metadata": {},
   "outputs": [],
   "source": [
    "# Reduce lr every two epochs, starting at the second epoch\n",
    "def scheduler_stephan(epoch, lr):\n",
    "    if epoch > 0 and epoch%2==0:\n",
    "        return lr/20\n",
    "    else:\n",
    "        return lr\n",
    "    \n",
    "callback_stephan = tf.keras.callbacks.LearningRateScheduler(scheduler_stephan, verbose=1)"
   ]
  },
  {
   "cell_type": "markdown",
   "metadata": {},
   "source": [
    "Preliminary baselines"
   ]
  },
  {
   "cell_type": "code",
   "execution_count": 15,
   "metadata": {},
   "outputs": [],
   "source": [
    "# # This would be the loss of a NN which outputs zeros everywhere\n",
    "# np.mean(np.array(output_data)**2)"
   ]
  },
  {
   "cell_type": "code",
   "execution_count": 16,
   "metadata": {},
   "outputs": [],
   "source": [
    "# # This would be the loss of a NN which outputs the best constant value everywhere\n",
    "# constant_mean = np.mean(np.array(output_data))\n",
    "# np.mean((np.array(output_data) - constant_mean)**2)"
   ]
  },
  {
   "cell_type": "code",
   "execution_count": 17,
   "metadata": {},
   "outputs": [],
   "source": [
    "# # Freeing up memory (~46 GB). Memory usage after this cell: 251 GB\n",
    "# del input_narval, input_qubicc, output_narval, output_qubicc\n",
    "\n",
    "# gc.collect()"
   ]
  },
  {
   "cell_type": "markdown",
   "metadata": {
    "jupyter": {
     "outputs_hidden": true
    }
   },
   "source": [
    "### 3-fold cross-validation\n",
    "\n",
    "When the training is lost in a local minimum, often a re-run helps with a different initialization of the model weights.\n",
    "Or possibly a different shuffling seed."
   ]
  },
  {
   "cell_type": "code",
   "execution_count": null,
   "metadata": {},
   "outputs": [
    {
     "name": "stdout",
     "output_type": "stream",
     "text": [
      "Epoch 1/100\n",
      "6485/6485 - 34s - loss: 127.4970 - val_loss: 68.1432\n",
      "Epoch 2/100\n",
      "6485/6485 - 32s - loss: 79.2703 - val_loss: 60.3406\n",
      "Epoch 3/100\n",
      "6485/6485 - 32s - loss: 72.5117 - val_loss: 58.5928\n",
      "Epoch 4/100\n",
      "6485/6485 - 32s - loss: 68.8718 - val_loss: 59.4022\n",
      "Epoch 5/100\n",
      "6485/6485 - 33s - loss: 66.4896 - val_loss: 54.6045\n",
      "Epoch 6/100\n",
      "6485/6485 - 32s - loss: 64.8776 - val_loss: 54.3437\n",
      "Epoch 7/100\n",
      "6485/6485 - 32s - loss: 63.6683 - val_loss: 52.0460\n",
      "Epoch 8/100\n",
      "6485/6485 - 32s - loss: 62.7323 - val_loss: 51.3956\n",
      "Epoch 9/100\n",
      "6485/6485 - 33s - loss: 61.9214 - val_loss: 51.1541\n",
      "Epoch 10/100\n",
      "6485/6485 - 33s - loss: 61.1881 - val_loss: 50.8984\n",
      "Epoch 11/100\n",
      "6485/6485 - 33s - loss: 60.5501 - val_loss: 52.1552\n",
      "Epoch 12/100\n",
      "6485/6485 - 33s - loss: 60.0216 - val_loss: 49.4949\n",
      "Epoch 13/100\n",
      "6485/6485 - 33s - loss: 59.4614 - val_loss: 51.3306\n",
      "Epoch 14/100\n",
      "6485/6485 - 32s - loss: 58.9332 - val_loss: 49.7721\n",
      "Epoch 15/100\n",
      "6485/6485 - 33s - loss: 58.4757 - val_loss: 48.7421\n",
      "Epoch 16/100\n",
      "6485/6485 - 33s - loss: 58.0467 - val_loss: 47.9609\n",
      "Epoch 17/100\n",
      "6485/6485 - 34s - loss: 57.5829 - val_loss: 50.1192\n",
      "Epoch 18/100\n",
      "6485/6485 - 32s - loss: 57.1878 - val_loss: 50.0535\n",
      "Epoch 19/100\n",
      "6485/6485 - 32s - loss: 56.6524 - val_loss: 47.2465\n",
      "Epoch 20/100\n",
      "6485/6485 - 32s - loss: 56.2619 - val_loss: 47.7990\n",
      "Epoch 21/100\n",
      "6485/6485 - 33s - loss: 55.9916 - val_loss: 46.1525\n",
      "Epoch 22/100\n",
      "6485/6485 - 31s - loss: 55.4963 - val_loss: 44.8787\n",
      "Epoch 23/100\n",
      "6485/6485 - 33s - loss: 55.2192 - val_loss: 45.9351\n",
      "Epoch 24/100\n",
      "6485/6485 - 33s - loss: 54.9922 - val_loss: 44.3273\n",
      "Epoch 25/100\n",
      "6485/6485 - 33s - loss: 54.6598 - val_loss: 45.2078\n",
      "Epoch 26/100\n",
      "6485/6485 - 32s - loss: 54.3603 - val_loss: 43.5587\n",
      "Epoch 27/100\n",
      "6485/6485 - 33s - loss: 54.1129 - val_loss: 44.3116\n",
      "Epoch 28/100\n",
      "6485/6485 - 32s - loss: 53.8412 - val_loss: 51.0983\n",
      "Epoch 29/100\n",
      "6485/6485 - 33s - loss: 53.6095 - val_loss: 46.7236\n",
      "Epoch 30/100\n",
      "6485/6485 - 33s - loss: 53.4668 - val_loss: 44.3321\n",
      "Epoch 31/100\n",
      "6485/6485 - 33s - loss: 53.3248 - val_loss: 44.1235\n",
      "Epoch 32/100\n",
      "6485/6485 - 32s - loss: 53.1366 - val_loss: 45.4173\n",
      "Epoch 33/100\n",
      "6485/6485 - 33s - loss: 52.9803 - val_loss: 42.9464\n",
      "Epoch 34/100\n",
      "6485/6485 - 33s - loss: 52.8658 - val_loss: 42.9172\n",
      "Epoch 35/100\n",
      "6485/6485 - 32s - loss: 52.7251 - val_loss: 49.8375\n",
      "Epoch 36/100\n",
      "6485/6485 - 32s - loss: 52.5909 - val_loss: 44.1983\n",
      "Epoch 37/100\n",
      "6485/6485 - 33s - loss: 52.5373 - val_loss: 43.2982\n",
      "Epoch 38/100\n",
      "6485/6485 - 32s - loss: 52.3248 - val_loss: 43.1995\n",
      "Epoch 39/100\n",
      "6485/6485 - 33s - loss: 52.1952 - val_loss: 43.2816\n",
      "Epoch 40/100\n",
      "6485/6485 - 33s - loss: 52.1117 - val_loss: 44.5263\n",
      "Epoch 41/100\n",
      "6485/6485 - 33s - loss: 52.0951 - val_loss: 43.6438\n",
      "Epoch 42/100\n",
      "6485/6485 - 32s - loss: 51.9209 - val_loss: 42.6343\n",
      "Epoch 43/100\n",
      "6485/6485 - 32s - loss: 51.8284 - val_loss: 46.6443\n",
      "Epoch 44/100\n",
      "6485/6485 - 32s - loss: 51.7983 - val_loss: 43.1455\n",
      "Epoch 45/100\n",
      "6485/6485 - 33s - loss: 51.5997 - val_loss: 42.8839\n",
      "Epoch 46/100\n",
      "6485/6485 - 33s - loss: 51.5969 - val_loss: 43.2902\n",
      "Epoch 47/100\n",
      "6485/6485 - 33s - loss: 51.4113 - val_loss: 41.2219\n",
      "Epoch 48/100\n",
      "6485/6485 - 34s - loss: 51.3371 - val_loss: 44.1557\n",
      "Epoch 49/100\n",
      "6485/6485 - 32s - loss: 51.2836 - val_loss: 43.6106\n",
      "Epoch 50/100\n",
      "6485/6485 - 33s - loss: 51.1571 - val_loss: 43.6057\n",
      "Epoch 51/100\n",
      "6485/6485 - 32s - loss: 51.0244 - val_loss: 41.8500\n",
      "Epoch 52/100\n",
      "6485/6485 - 32s - loss: 51.0527 - val_loss: 42.1599\n",
      "Epoch 53/100\n",
      "6485/6485 - 32s - loss: 50.8947 - val_loss: 42.1897\n",
      "Epoch 54/100\n",
      "6485/6485 - 32s - loss: 50.9139 - val_loss: 43.1447\n",
      "Epoch 55/100\n",
      "6485/6485 - 32s - loss: 50.8929 - val_loss: 45.5984\n",
      "Epoch 56/100\n",
      "6485/6485 - 32s - loss: 50.7736 - val_loss: 41.8233\n",
      "Epoch 57/100\n",
      "6485/6485 - 32s - loss: 50.7324 - val_loss: 40.9193\n",
      "Epoch 58/100\n",
      "6485/6485 - 33s - loss: 50.6477 - val_loss: 44.2555\n",
      "Epoch 59/100\n",
      "6485/6485 - 32s - loss: 50.5181 - val_loss: 41.2701\n",
      "Epoch 60/100\n",
      "6485/6485 - 32s - loss: 50.5045 - val_loss: 41.1576\n",
      "Epoch 61/100\n",
      "6485/6485 - 32s - loss: 50.3663 - val_loss: 43.9740\n",
      "Epoch 62/100\n",
      "6485/6485 - 32s - loss: 50.3736 - val_loss: 43.2591\n",
      "Epoch 63/100\n",
      "6485/6485 - 33s - loss: 50.2591 - val_loss: 40.7858\n",
      "Epoch 64/100\n",
      "6485/6485 - 32s - loss: 50.2519 - val_loss: 40.9492\n",
      "Epoch 65/100\n",
      "6485/6485 - 33s - loss: 50.1753 - val_loss: 40.9407\n",
      "Epoch 66/100\n",
      "6485/6485 - 32s - loss: 50.0427 - val_loss: 46.2164\n",
      "Epoch 67/100\n",
      "6485/6485 - 33s - loss: 50.0708 - val_loss: 42.8013\n",
      "Epoch 68/100\n",
      "6485/6485 - 32s - loss: 49.9831 - val_loss: 42.2775\n",
      "Epoch 69/100\n",
      "6485/6485 - 33s - loss: 49.9972 - val_loss: 51.4389\n",
      "Epoch 70/100\n",
      "6485/6485 - 32s - loss: 50.0147 - val_loss: 42.5840\n",
      "Epoch 71/100\n",
      "6485/6485 - 32s - loss: 49.8169 - val_loss: 41.9884\n",
      "Epoch 72/100\n",
      "6485/6485 - 33s - loss: 49.8392 - val_loss: 42.7764\n",
      "Epoch 73/100\n",
      "6485/6485 - 33s - loss: 49.7851 - val_loss: 43.1439\n",
      "Epoch 74/100\n"
     ]
    }
   ],
   "source": [
    "# By decreasing timeout we make sure every fold gets the same amount of time\n",
    "# After all, data-loading took some time (Have 3 folds, 60 seconds/minute)\n",
    "# timeout = timeout - 1/3*1/60*(time.time() - t0)\n",
    "timeout = timeout - 1/60*(time.time() - t0)\n",
    "t0 = time.time()\n",
    "\n",
    "#We loop through the folds\n",
    "for i in range(0,1):\n",
    "    \n",
    "    filename = 'cross_validation_cell_based_fold_%d_keep_all'%(i+1)\n",
    "    \n",
    "    #Standardize according to the fold\n",
    "    scaler.fit(input_data[training_folds[i]])\n",
    "\n",
    "    #Load the data for the respective fold and convert it to tf data\n",
    "    input_train = scaler.transform(input_data[training_folds[i]])\n",
    "    input_valid = scaler.transform(input_data[validation_folds[i]]) \n",
    "    output_train = output_data[training_folds[i]]\n",
    "    output_valid = output_data[validation_folds[i]]\n",
    "    \n",
    "    # Clear memory (Reduces memory requirement to 151 GB)\n",
    "    del input_data, output_data, first_incr, second_incr, validation_folds, training_folds\n",
    "    gc.collect()\n",
    "    \n",
    "    # Column-based: batchsize of 128\n",
    "    # Cell-based: batchsize of at least 512\n",
    "    # Shuffle is actually very important because we start off with the uppermost layers with clc=0 basically throughout\n",
    "    # This can push us into a local minimum, preferrably yielding clc=0.\n",
    "    # The size of the shuffle buffer significantly impacts RAM requirements! Do not increase to above 10000.\n",
    "    # Possibly better to use .apply(tf.data.experimental.copy_to_device(\"/gpu:0\")) before prefetch\n",
    "    # We might want to cache before shuffling, however it seems to slow down training\n",
    "    # We do not repeat after shuffle, because the validation set should be evaluated after each epoch\n",
    "    train_ds = tf.data.Dataset.zip((tf.data.Dataset.from_tensor_slices(input_train), \n",
    "                                tf.data.Dataset.from_tensor_slices(output_train))) \\\n",
    "                .shuffle(10**5, seed=seed) \\\n",
    "                .batch(batch_size=1028, drop_remainder=True) \\\n",
    "                .prefetch(1)\n",
    "    \n",
    "    # Clear memory\n",
    "    del input_train, output_train\n",
    "    gc.collect()\n",
    "    \n",
    "    # No need to add prefetch.\n",
    "    # tf data with batch_size=10**5 makes the validation evaluation 10 times faster\n",
    "    valid_ds = tf.data.Dataset.zip((tf.data.Dataset.from_tensor_slices(input_valid), \n",
    "                                tf.data.Dataset.from_tensor_slices(output_valid))) \\\n",
    "                .batch(batch_size=10**5, drop_remainder=True)\n",
    "    \n",
    "    # Clear memory (Reduces memory requirement to 151 GB)\n",
    "    del input_valid, output_valid\n",
    "    gc.collect()\n",
    "    \n",
    "    #Feed the model. Increase the learning rate by a factor of 2 when increasing the batch size by a factor of 4\n",
    "    model.compile(\n",
    "        optimizer=tf.keras.optimizers.Adadelta(learning_rate=0.000433, epsilon=0.1),\n",
    "        loss=tf.keras.losses.MeanSquaredError()\n",
    "    )\n",
    "    \n",
    "    #Train the model\n",
    "#     time_callback = TimeOut(t0, timeout*(i+1))\n",
    "    time_callback = TimeOut(t0, timeout)\n",
    "    history = model.fit(train_ds, validation_data=valid_ds, epochs=epochs, verbose=2)\n",
    "#     history = model.fit(train_ds, epochs=epochs, validation_data=valid_ds, callbacks=[time_callback])\n",
    "\n",
    "    #Save the model     \n",
    "    #Serialize model to YAML\n",
    "    model_yaml = model.to_yaml()\n",
    "    with open(os.path.join(path_model, filename+\".yaml\"), \"w\") as yaml_file:\n",
    "        yaml_file.write(model_yaml)\n",
    "    #Serialize model and weights to a single HDF5-file\n",
    "    model.save(os.path.join(path_model, filename+'.h5'), \"w\")\n",
    "    print('Saved model to disk')\n",
    "    \n",
    "    #Plot the training history\n",
    "    if len(history.history['loss']) > len(history.history['val_loss']):\n",
    "        del history.history['loss'][-1]\n",
    "    pd.DataFrame(history.history).plot(figsize=(8,5))\n",
    "    plt.grid(True)\n",
    "    plt.ylabel('Mean Squared Error')\n",
    "    plt.xlabel('Number of epochs')\n",
    "    plt.savefig(os.path.join(path_figures, filename+'.pdf'))\n",
    "    \n",
    "    with open(os.path.join(path_model, filename+'.txt'), 'a') as file:\n",
    "        file.write('Results from the %d-th fold\\n'%(i+1))\n",
    "        file.write('Training epochs: %d\\n'%(len(history.history['val_loss'])))\n",
    "        file.write('Weights restored from epoch: %d\\n\\n'%(1+np.argmin(history.history['val_loss'])))"
   ]
  },
  {
   "cell_type": "code",
   "execution_count": null,
   "metadata": {},
   "outputs": [],
   "source": []
  }
 ],
 "metadata": {
  "kernelspec": {
   "display_name": "clouds113_kernel",
   "language": "python",
   "name": "clouds113_kernel"
  },
  "language_info": {
   "codemirror_mode": {
    "name": "ipython",
    "version": 3
   },
   "file_extension": ".py",
   "mimetype": "text/x-python",
   "name": "python",
   "nbconvert_exporter": "python",
   "pygments_lexer": "ipython3",
   "version": "3.7.10"
  }
 },
 "nbformat": 4,
 "nbformat_minor": 4
}
